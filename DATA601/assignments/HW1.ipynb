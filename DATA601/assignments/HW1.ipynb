{
 "cells": [
  {
   "cell_type": "code",
   "execution_count": 1,
   "id": "23875979",
   "metadata": {
    "deletable": false,
    "editable": false
   },
   "outputs": [],
   "source": [
    "# Initialize Otter\n",
    "import otter\n",
    "grader = otter.Notebook(\"HW1_Fall2022.ipynb\")"
   ]
  },
  {
   "cell_type": "markdown",
   "id": "5a65f45f",
   "metadata": {},
   "source": [
    "# DATA 601\n",
    "\n",
    "## HW1\n",
    "\n",
    "\n",
    "**Learning Objectives**\n",
    "\n",
    "- Explore built-in data types in Python.\n",
    "- Review fundamental programming and problem solving concepts with Python.\n",
    "- Implement functions based on mathematical concepts and definitions.\n",
    "- Gain experience working with the Jupyter notebook environment.\n",
    "\n",
    "_This is an individual homework assignment._ \n",
    "\n",
    "Please complete this homework assignment within the Jupypter notebook environment.  \n",
    "\n",
    "#### Submission \n",
    "\n",
    "In order to ensure that everything goes smoothly, and is easy to grade please follow these instructions:\n",
    "\n",
    "- Please provide your solutions where asked; please do not alter any other parts of this notebook.\n"
   ]
  },
  {
   "cell_type": "markdown",
   "id": "a3b07731",
   "metadata": {},
   "source": [
    "#### <font color='red'> Note: Passing the provided test-cases doesn't guarantee points. We check your code with other test-cases for grading.</font> "
   ]
  },
  {
   "cell_type": "code",
   "execution_count": 2,
   "id": "f4a124a1",
   "metadata": {},
   "outputs": [],
   "source": [
    "# Check that we are using a recent version of Jupyter.\n",
    "import IPython\n",
    "assert IPython.version_info[0] >= 3, \"Your version of IPython is too old, please update it.\"\n",
    "import otter\n",
    "grader = otter.Notebook()"
   ]
  },
  {
   "cell_type": "markdown",
   "id": "40b8d3ad",
   "metadata": {},
   "source": [
    "## Part A\n",
    "\n",
    "This part focuses on scalar types. You should be able to complete the following questions without using any collection types."
   ]
  },
  {
   "cell_type": "markdown",
   "id": "25044189",
   "metadata": {},
   "source": [
    "### Question 1\n",
    "\n",
    "The central bionomial coefficients form a vertical row down the middle of Pascal's triangle. They can be calculated via the following formula:\n",
    "\n",
    "$$\n",
    "{2n\\choose n} = \\frac{(2n)!}{(n!)^2} = \\prod_{k=1}^{n} \\frac{n+k}{k}  \n",
    "$$\n",
    "\n",
    "Write a function that calculates the nth central bionomial coefficient. You may use in-built functions to calculate the factorials.\n",
    "\n",
    "(3 points)"
   ]
  },
  {
   "cell_type": "code",
   "execution_count": 3,
   "id": "533455c8",
   "metadata": {
    "tags": []
   },
   "outputs": [],
   "source": [
    "def cent_binomial_coef(n):\n",
    "    '''Returns the n-th binomial coefficient for an input\n",
    "    integer n.\n",
    "    '''\n",
    "    if n == 0:\n",
    "        return 1\n",
    "\n",
    "    k = denom = numer = 1\n",
    "    while k <= n:\n",
    "        denom *= n + k\n",
    "        numer *= n\n",
    "        k += 1\n",
    "    coef = denom // numer\n",
    "    return coef"
   ]
  },
  {
   "cell_type": "code",
   "execution_count": 4,
   "id": "57b6e467",
   "metadata": {
    "deletable": false,
    "editable": false
   },
   "outputs": [
    {
     "data": {
      "text/html": [
       "<p><strong><pre style='display: inline;'>q1_a</pre></strong> passed!</p>"
      ],
      "text/plain": [
       "q1_a results: All test cases passed!"
      ]
     },
     "execution_count": 4,
     "metadata": {},
     "output_type": "execute_result"
    }
   ],
   "source": [
    "grader.check(\"q1_a\")"
   ]
  },
  {
   "cell_type": "markdown",
   "id": "97daab33-9cf1-415b-8989-a9735356f5e5",
   "metadata": {},
   "source": [
    "**Citation:**\n",
    "From the _drop in_ session with TA, one of the takeaways was that division (which is part of this formula) can lead to a small error due to the computer's truncation method because the storage is finite. \n",
    "\n",
    "**How I used this:**\n",
    "To minimize this error, I decided to do the division operation at the end of the function, not in the loop. If the input number is significant, these minor errors can accumulate and lead to a wrong result. \n",
    "\n",
    "**Related content:** round-off errors, floating point"
   ]
  },
  {
   "cell_type": "markdown",
   "id": "062527f4",
   "metadata": {},
   "source": [
    "### Question 2\n",
    "\n",
    "Write a function that determines whether an integer is prime. You may not use built-in functions to determine this directly.\n",
    "\n",
    "(8 points)"
   ]
  },
  {
   "cell_type": "code",
   "execution_count": 5,
   "id": "465becd4",
   "metadata": {
    "tags": []
   },
   "outputs": [],
   "source": [
    "import math\n",
    "def is_prime(n):\n",
    "    '''For a positive integer n, returns True if n is a\n",
    "    prime number, False otherwise.\n",
    "    '''\n",
    "    if n <= 1:\n",
    "        return False\n",
    "    elif n == 2:\n",
    "        return True\n",
    "    elif (n > 2) and (n % 2 == 0):  # all even numbers can not be prime\n",
    "        return False \n",
    "    else:\n",
    "        for div in range(3, math.floor(math.sqrt(n)) + 1, 2): # skip even numbers\n",
    "            if n % div == 0:\n",
    "                return False\n",
    "            else:\n",
    "                div += 1\n",
    "    return True"
   ]
  },
  {
   "cell_type": "code",
   "execution_count": 6,
   "id": "f75d6110",
   "metadata": {
    "deletable": false,
    "editable": false,
    "tags": []
   },
   "outputs": [
    {
     "data": {
      "text/html": [
       "<p><strong><pre style='display: inline;'>q2_a</pre></strong> passed!</p>"
      ],
      "text/plain": [
       "q2_a results: All test cases passed!"
      ]
     },
     "execution_count": 6,
     "metadata": {},
     "output_type": "execute_result"
    }
   ],
   "source": [
    "grader.check(\"q2_a\")"
   ]
  },
  {
   "cell_type": "markdown",
   "id": "d97f2f90-a270-4bf8-921a-e80e854beaf4",
   "metadata": {},
   "source": [
    "**Citation:**\n",
    "From _drop in_ session with TA I recalled why to use `sqrt(n)` in upper limit. If `n` has divisors it means `n = a * b` and `a > sqrt(n)` it means that `b` should be less than `sqrt(n)` - and we already checked for that. \n",
    "\n",
    "**How I used this:**\n",
    "I put `sqrt(n)` as upper limit variable in the loop, which makes the algorithm much more efficient than checking to `n` including.   \n",
    "\n",
    "**Related content:** loops, prime numbers"
   ]
  },
  {
   "cell_type": "markdown",
   "id": "edd9070f",
   "metadata": {},
   "source": [
    "##### Question 3\n",
    "\n",
    "(5 points)\n",
    "\n",
    "Many things in nature can be modeled by the exponential growth function: \n",
    "$$\n",
    "P(t) = \\alpha \\beta^{\\frac{t}{\\tau}},\n",
    "$$\n",
    "where $\\alpha$ is the initial population, $\\beta$ is the growth rate factor, t is the time passed, and $\\tau$ is the time constant. \n",
    "\n",
    "Imagine that you are an entomologist on the plant Zergo. There is a small insect of interest to you on this planet which has an exponential growth rate. From experimentation you determine that: \n",
    "$\\beta= \\sqrt\\frac{5}{4}$,  and $\\tau= 2^{\\frac{1}{3}}$.\n",
    "\n",
    "Starting with a population $\\alpha$ of 10, use this formula to compute $P(t)$ in the function `population(t)` below. \n",
    "\n",
    "<!--\n",
    "BEGIN QUESTION\n",
    "name: A3\n",
    "manual: true\n",
    "points: 2\n",
    "-->"
   ]
  },
  {
   "cell_type": "code",
   "execution_count": 7,
   "id": "9978da02",
   "metadata": {
    "tags": []
   },
   "outputs": [],
   "source": [
    "import math\n",
    "def population(t):\n",
    "    '''Computes the population at time t, where t is a positive float, \n",
    "    and returns the population as an integer (floor value). \n",
    "    It is assumed that time is in minutes and that all parameters\n",
    "    are correct for this assumption.\n",
    "    '''\n",
    "    alpha = 10\n",
    "    beta = math.sqrt(5/4)\n",
    "    tau = 2**(1/3)\n",
    "    population = alpha * beta ** (t/tau)\n",
    "    \n",
    "    return math.floor(population)"
   ]
  },
  {
   "cell_type": "code",
   "execution_count": 8,
   "id": "d3bf5308",
   "metadata": {
    "deletable": false,
    "editable": false
   },
   "outputs": [
    {
     "data": {
      "text/html": [
       "<p><strong><pre style='display: inline;'>q3_a</pre></strong> passed!</p>"
      ],
      "text/plain": [
       "q3_a results: All test cases passed!"
      ]
     },
     "execution_count": 8,
     "metadata": {},
     "output_type": "execute_result"
    }
   ],
   "source": [
    "grader.check(\"q3_a\")"
   ]
  },
  {
   "cell_type": "markdown",
   "id": "bb99f433",
   "metadata": {},
   "source": [
    "## Part B\n",
    "\n",
    "Questions in this part rely on strings, lists, and tuples."
   ]
  },
  {
   "cell_type": "markdown",
   "id": "71641aa9",
   "metadata": {},
   "source": [
    "### Question 1\n",
    "\n",
    "Consider the lists $a=[2,1,2,5,3,1]$ and $b=[2,1,7,1]$. The intersection of these lists, $a \\cap b$, is $[1,1,2]$. Write a function that returns the intersection of two arbitrary lists. You may not use built-in set operations, and should pay attention to duplicates.\n",
    "\n",
    "(5 points)\n"
   ]
  },
  {
   "cell_type": "code",
   "execution_count": 9,
   "id": "100455c0",
   "metadata": {
    "tags": []
   },
   "outputs": [],
   "source": [
    "def intersection_list(a, b):\n",
    "    '''\n",
    "    Returns the intersection of two lists a and b. \n",
    "\n",
    "    '''\n",
    "    result = []\n",
    "    for e in a:\n",
    "        if e in b:\n",
    "            b.pop(b.index(e)) # The index() method only returns the first occurrence of the matching element\n",
    "            result.append(e)\n",
    "\n",
    "    return result"
   ]
  },
  {
   "cell_type": "code",
   "execution_count": 10,
   "id": "897c4fa0",
   "metadata": {
    "deletable": false,
    "editable": false
   },
   "outputs": [
    {
     "data": {
      "text/html": [
       "<p><strong><pre style='display: inline;'>q1_b</pre></strong> passed!</p>"
      ],
      "text/plain": [
       "q1_b results: All test cases passed!"
      ]
     },
     "execution_count": 10,
     "metadata": {},
     "output_type": "execute_result"
    }
   ],
   "source": [
    "grader.check(\"q1_b\")"
   ]
  },
  {
   "cell_type": "markdown",
   "id": "29928b2a-ba7a-48ee-8007-36eff1d88fb6",
   "metadata": {},
   "source": [
    "**Citation:**\n",
    "Web tutorial on [list.index()](https://www.programiz.com/python-programming/methods/list/index) method\n",
    "\n",
    "**How I used this:**\n",
    "The index() method only returns the _first occurrence_ of the matching element - precisely what is needed to count for duplicates - not to pop away all the same elements.    \n",
    "**Related content:** list, search"
   ]
  },
  {
   "cell_type": "markdown",
   "id": "0ed1a0b4",
   "metadata": {},
   "source": [
    "### Question 2\n",
    "(8 points)\n",
    "\n",
    "The scalar triple product of three vectors is defined as:\n",
    "\n",
    "$$\n",
    "a.(b \\times c)\n",
    "$$\n",
    "\n",
    "Write a function that calculates the scalar triple product of three vectors, a, b, and c."
   ]
  },
  {
   "cell_type": "code",
   "execution_count": 11,
   "id": "53bf87a5",
   "metadata": {
    "tags": []
   },
   "outputs": [],
   "source": [
    "def striple_prod(a,b,c):\n",
    "    '''Returns the scalar triple product of three vectors A, B, and C. \n",
    "    '''\n",
    "    # cross = [b[1]*c[2] - b[2]*c[1], \n",
    "    #          b[2]*c[0] - b[0]*c[2], \n",
    "    #          b[0]*c[1] - b[1]*c[0]] \n",
    "    # result = a[0]*cross[0] + a[1]*cross[1] + a[2]*cross[2]\n",
    "    \n",
    "    # Matrix\n",
    "    m = [a, b, c]\n",
    "    nrows = len(m)\n",
    "    ncols = len(m[0])\n",
    "    \n",
    "    minors = [[0] * ncols for n in range(nrows)] # create list of lists the right way - citation below\n",
    "    # Populate matrix of cofactors - matrix of minors with the signs changed\n",
    "    for i in range(nrows):\n",
    "        for j in range(ncols):\n",
    "            rows = list(range(nrows))\n",
    "            rows.pop((rows.index(i))) # delete the row of the element I'm trying to find the minor for \n",
    "            cols = list(range(ncols)) \n",
    "            cols.pop((cols.index(j))) # delete the column of the element I'm trying to find the minor for \n",
    "            # cofactor for any element is either the minor or the opposite of the minor\n",
    "            cofactor = 1 if (i + j) % 2 == 0 else -1\n",
    "            # minor is the determinant that remains\n",
    "            minors[i][j] = (m[min(rows)][min(cols)] * m[max(rows)][max(cols)] -\n",
    "                            m[min(rows)][max(cols)] * m[max(rows)][min(cols)]) * cofactor\n",
    "\n",
    "    # Take first row/list to calc determinant\n",
    "    determinant = a[0]*minors[0][0] + a[1]*minors[0][1] + a[2]*minors[0][2] \n",
    "\n",
    "    return determinant"
   ]
  },
  {
   "cell_type": "code",
   "execution_count": 12,
   "id": "80923743",
   "metadata": {
    "deletable": false,
    "editable": false
   },
   "outputs": [
    {
     "data": {
      "text/html": [
       "<p><strong><pre style='display: inline;'>q2_b</pre></strong> passed!</p>"
      ],
      "text/plain": [
       "q2_b results: All test cases passed!"
      ]
     },
     "execution_count": 12,
     "metadata": {},
     "output_type": "execute_result"
    }
   ],
   "source": [
    "grader.check(\"q2_b\")"
   ]
  },
  {
   "cell_type": "markdown",
   "id": "ea3fc897-15c0-4153-ad01-cc07b9e2ec51",
   "metadata": {},
   "source": [
    "**Citations**:\n",
    "1) [Scalar triple product](https://www.cuemath.com/algebra/scalar-triple-product/) from my Linear Algebra course \n",
    "2) Method of calculating the [determinant of square nxn matrix](https://people.richland.edu/james/lecture/m116/matrices/determinant.html)\n",
    "3) [Create list of lists the right way](https://stackoverflow.com/questions/240178/list-of-lists-changes-reflected-across-sublists-unexpectedly)\n",
    "\n",
    "**How I used it:**\n",
    "From 1) and 2) sources, I recalled what a scalar triple product is. After, I hard-coded the formulas for cross and dot product. But was not satisfied with the solution. As hard code usually is _not scalable_ and _fragile_. Even though the input is _three_ lists, meaning `3x3` matrix, I decided to expand to `nxn` matrix, which is easy to adjust - just expand the number of lists with proper length and change the first line of code inside of the function (where the matrix is created).  \n",
    "\n",
    "From 3) I copied the line of code on how to create lists of lists correctly. Initially, I was doing this like `[[0]*ncols]*nrows`. But there was an issue when I tried to populate that matrix using indexes. When I changed one element, the whole sublist changed. I recalled that everything in Python is an object and I was creating a list of elements all pointing to the same object (cpoies of the same list). With alternative aproach create different lists by re-evaluating expression.      \n",
    "\n",
    "**Related content**: references, cross product, dot product, determinant"
   ]
  },
  {
   "cell_type": "markdown",
   "id": "14ee8c87",
   "metadata": {},
   "source": [
    "### Question 3\n",
    "(10 points)\n",
    "\n",
    "Write a function that, given a piece of text, calculates the most frequently occuring letter.\n"
   ]
  },
  {
   "cell_type": "code",
   "execution_count": 22,
   "id": "89928b6e",
   "metadata": {
    "tags": []
   },
   "outputs": [],
   "source": [
    "def freq_letters(text):\n",
    "    '''\n",
    "    For textual input, returns the most frequently occuring letter\n",
    "    (your function should be case-insensitive)\n",
    "    '''\n",
    "    alphabet_lowercase = \"abcdefghijklmnopqrstuvwxyz\"\n",
    "    alphabet_uppercase = alphabet_lowercase.upper()\n",
    "    alphabet = alphabet_lowercase + alphabet_uppercase\n",
    "    l = list(text)\n",
    "    most_freq_l = None\n",
    "    count = 0\n",
    "    for e in l:\n",
    "        if e in alphabet:\n",
    "            most_freq_l = e if l.count(e) > count else count\n",
    "    return most_freq_l"
   ]
  },
  {
   "cell_type": "code",
   "execution_count": 19,
   "id": "f1c255ab",
   "metadata": {
    "deletable": false,
    "editable": false
   },
   "outputs": [
    {
     "data": {
      "text/html": [
       "<p><strong><pre style='display: inline;'>q3_b_1</pre></strong> passed!</p><p><strong><pre style='display: inline;'>q3_b_1 - 1</pre> message:</strong> Good job!</p>"
      ],
      "text/plain": [
       "q3_b_1 results: All test cases passed!\n",
       "q3_b_1 - 1 message: Good job!"
      ]
     },
     "execution_count": 19,
     "metadata": {},
     "output_type": "execute_result"
    }
   ],
   "source": [
    "grader.check(\"q3_b_1\")"
   ]
  },
  {
   "cell_type": "markdown",
   "id": "275c24ff",
   "metadata": {},
   "source": [
    "Write a second function that returns the number of vowels and consonants in the text."
   ]
  },
  {
   "cell_type": "code",
   "execution_count": 20,
   "id": "40bb89e7",
   "metadata": {
    "tags": []
   },
   "outputs": [],
   "source": [
    "def vowels(text):\n",
    "    '''\n",
    "    For textual input, returns the number of vowels and consonants.\n",
    "    Return a tuple with number of vowels as the first element and consonants\n",
    "    as the second element, i.e (num_vowels, num_consonant)\n",
    "    '''\n",
    "    vowels = list('aeiou')\n",
    "    alphabet_lowercase = list('abcdefghijklmnopqrstuvwxyz')\n",
    "    text_lowercase = list(text.lower())\n",
    "\n",
    "    num_letters = 0\n",
    "    num_vowels = 0\n",
    "    # Count letters in text\n",
    "    for l in text_lowercase:\n",
    "        if l in alphabet_lowercase:\n",
    "            num_letters += 1\n",
    "    # Count vowels in text\n",
    "    for v in vowels:\n",
    "        num_vowels += text_lowercase.count(v)\n",
    "    # Count consonants as not vowels\n",
    "    num_consonants = num_letters - num_vowels\n",
    "\n",
    "    return (num_vowels, num_consonants)"
   ]
  },
  {
   "cell_type": "code",
   "execution_count": 21,
   "id": "e50a732c",
   "metadata": {
    "deletable": false,
    "editable": false
   },
   "outputs": [
    {
     "data": {
      "text/html": [
       "<p><strong><pre style='display: inline;'>q3_b_2</pre></strong> passed!</p>"
      ],
      "text/plain": [
       "q3_b_2 results: All test cases passed!"
      ]
     },
     "execution_count": 21,
     "metadata": {},
     "output_type": "execute_result"
    }
   ],
   "source": [
    "grader.check(\"q3_b_2\")"
   ]
  },
  {
   "cell_type": "markdown",
   "id": "2f9c1b9a",
   "metadata": {},
   "source": [
    "## Part C\n",
    "\n",
    "The question in this part of the assignment is intended to:\n",
    "\n",
    "  1) Illuminate how what you already know is useful in this context.\n",
    "  \n",
    "  2) Provide an exercise in writing about coding concepts and ideas and using the relevant language and terminology. \n",
    "  \n",
    "  3) Demonstrate your understanding of the assignment material in a different format.\n"
   ]
  },
  {
   "cell_type": "markdown",
   "id": "08705d99",
   "metadata": {},
   "source": [
    "<!-- BEGIN QUESTION -->\n",
    "\n",
    "### Question 1 \n",
    "(3 points) \n",
    "\n",
    "In 100 to 250 words identify a concept you have found difficult or confusing from this assignment. Reflect on how your previous learning or experience helped you to understand this concept. Provide your reflection using markdown in the cell below. "
   ]
  },
  {
   "cell_type": "markdown",
   "id": "d449867a",
   "metadata": {},
   "source": [
    "There are plenty of tools that I can use to organize and store my data - _data types_. And when the problem is simple, it is obvious what tool you need to take out of the box to solve it. But when it becomes more complex, the number of ways you can solve it grows exponentially, and only a few are efficient and scalable.\n",
    "\n",
    "When I arrived in Canada just a few weeks ago, I brought all my belongings with me. And when I moved-in into a new house, the challenge was \"how should I organize everything ?\". In the beginning, it was like a _set_ - a _collection of unordered_ things in the middle of an unfurnished unit. Then I created one broad category - clothes with multiple _sublists_ - summer, fall and winter. Eventually, I populated my _collections_ with _ordered_ items, and now I can easily _retrieve_ suitable, _indexed_ clothes depending on the weather. As the winter is coming, I had to buy new warm boots and a jacket which I can easily _add_ to my collections. But first, I will have to free up _space_ in my dresser as the storage is limited, so that I will _remove_ T-shirts to my set of stuff in the basement. Probably, I will _rearrange_ things as time pass by.\n",
    "\n",
    "So, when I think about this problem, how to arrange things in my place or how to organize data, it really comes to \"what is my final goal ?\". Do I want to save space because in the future I will have to buy more clothes or maybe I don't have to think about the future and solve the current problem, which will save time for me? During this assignment, I bumped into these dilemmas a couple of times, for example, solving a triple product problem. \n",
    "\n",
    "Other findings from this assignment were: 1) be careful with the division, which leads to the floating point error due to restricted memory space (Part A, Problem 1) and 2) everything is an object in Python and has its place, so be careful when creating copies. "
   ]
  },
  {
   "cell_type": "markdown",
   "id": "0332fa23",
   "metadata": {},
   "source": [
    "<!-- END QUESTION -->\n",
    "\n",
    "## Submission\n",
    "\n",
    "Make sure you have run all cells in your notebook and that your code works as expected. Save your notebook and upload it to <a href=https://www.gradescope.ca >Gradescope</a>\n",
    "**Please save (ctrl+s) before uploading!**"
   ]
  },
  {
   "cell_type": "code",
   "execution_count": null,
   "id": "74f7321d",
   "metadata": {},
   "outputs": [],
   "source": []
  }
 ],
 "metadata": {
  "kernelspec": {
   "display_name": "Python 3 (ipykernel)",
   "language": "python",
   "name": "python3"
  },
  "language_info": {
   "codemirror_mode": {
    "name": "ipython",
    "version": 3
   },
   "file_extension": ".py",
   "mimetype": "text/x-python",
   "name": "python",
   "nbconvert_exporter": "python",
   "pygments_lexer": "ipython3",
   "version": "3.10.5"
  },
  "otter": {
   "OK_FORMAT": true,
   "tests": {
    "q1_a": {
     "name": "q1_a",
     "points": 3,
     "suites": [
      {
       "cases": [
        {
         "code": ">>> cent_binomial_coef(0) == 1\nTrue",
         "failure_message": "Don't forget (0)! is 1.",
         "hidden": false,
         "locked": false,
         "points": 0
        },
        {
         "code": ">>> cent_binomial_coef(1) == 2\nTrue",
         "hidden": false,
         "locked": false,
         "points": 0
        }
       ],
       "scored": true,
       "setup": "",
       "teardown": "",
       "type": "doctest"
      }
     ]
    },
    "q1_b": {
     "name": "q1_b",
     "points": 5,
     "suites": [
      {
       "cases": [
        {
         "code": ">>> def testcase1(intersection_list):\n...     temp = intersection_list([2,1,2,5,3,1], [2,1,7,1])\n...     length = len(temp)\n...     ones = temp.count(1)\n...     twos = temp.count(2)\n...     assert (length, ones, twos) == (3, 2, 1)\n>>> testcase1(intersection_list)\n",
         "hidden": false,
         "locked": false,
         "points": 0
        }
       ],
       "scored": true,
       "setup": "",
       "teardown": "",
       "type": "doctest"
      }
     ]
    },
    "q2_a": {
     "name": "q2_a",
     "points": 8,
     "suites": [
      {
       "cases": [
        {
         "code": ">>> is_prime(2) == True\nTrue",
         "hidden": false,
         "locked": false,
         "points": 0
        },
        {
         "code": ">>> is_prime(3) == True\nTrue",
         "hidden": false,
         "locked": false,
         "points": 0
        },
        {
         "code": ">>> is_prime(4) == False\nTrue",
         "hidden": false,
         "locked": false,
         "points": 0
        }
       ],
       "scored": true,
       "setup": "",
       "teardown": "",
       "type": "doctest"
      }
     ]
    },
    "q2_b": {
     "name": "q2_b",
     "points": 8,
     "suites": [
      {
       "cases": [
        {
         "code": ">>> striple_prod([5, 1, 2], [-1]*3, [2, 1, 0]) == 5\nTrue",
         "hidden": false,
         "locked": false,
         "points": 0
        }
       ],
       "scored": true,
       "setup": "",
       "teardown": "",
       "type": "doctest"
      }
     ]
    },
    "q3_a": {
     "name": "q3_a",
     "points": 5,
     "suites": [
      {
       "cases": [
        {
         "code": ">>> population(5.7) == 16\nTrue",
         "hidden": false,
         "locked": false,
         "points": 0
        },
        {
         "code": ">>> population(2.9) == 12\nTrue",
         "hidden": false,
         "locked": false,
         "points": 0
        }
       ],
       "scored": true,
       "setup": "",
       "teardown": "",
       "type": "doctest"
      }
     ]
    },
    "q3_b_1": {
     "name": "q3_b_1",
     "points": 5,
     "suites": [
      {
       "cases": [
        {
         "code": ">>> freq_letters('a!!!!!').lower() == 'a'\nTrue",
         "failure_message": "You should only count letters a-z and not numbers, punctuation, spaces, etc.",
         "hidden": false,
         "locked": false,
         "points": 0,
         "success_message": "Good job!"
        }
       ],
       "scored": true,
       "setup": "",
       "teardown": "",
       "type": "doctest"
      }
     ]
    },
    "q3_b_2": {
     "name": "q3_b_2",
     "points": 5,
     "suites": [
      {
       "cases": [
        {
         "code": ">>> vowels('I like banana!!') == (6, 5)\nTrue",
         "hidden": false,
         "locked": false,
         "points": 0
        }
       ],
       "scored": true,
       "setup": "",
       "teardown": "",
       "type": "doctest"
      }
     ]
    }
   }
  }
 },
 "nbformat": 4,
 "nbformat_minor": 5
}
