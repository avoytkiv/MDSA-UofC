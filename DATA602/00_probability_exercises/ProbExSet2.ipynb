{
 "cells": [
  {
   "cell_type": "code",
   "execution_count": 3,
   "id": "dd99a38b-56d1-45e0-a870-d699fa59c190",
   "metadata": {},
   "outputs": [],
   "source": [
    "from math import comb, factorial"
   ]
  },
  {
   "cell_type": "markdown",
   "id": "c1e0f688-78a2-43de-8815-cbfdd004a52b",
   "metadata": {},
   "source": [
    "### Problem 1"
   ]
  },
  {
   "cell_type": "code",
   "execution_count": 21,
   "id": "f1aa635a-46ff-4636-a89a-397f701315b5",
   "metadata": {},
   "outputs": [
    {
     "name": "stdout",
     "output_type": "stream",
     "text": [
      "0.292 0.108 0.162 0.546\n"
     ]
    }
   ],
   "source": [
    "p_A = 0.4\n",
    "p_B = 0.73\n",
    "# A\n",
    "p_A_AND_B = p_A * p_B\n",
    "# B\n",
    "p_A_AND_not_B = p_A * (1 - p_B)\n",
    "# C\n",
    "p_not_A_AND_not_B = (1 - p_A) * (1 - p_B)\n",
    "# D\n",
    "p_not_A_AND_B = (1 - p_A) * p_B\n",
    "p_A_OR_B = p_A_AND_not_B + p_not_A_AND_B\n",
    "\n",
    "print(round(p_A_AND_B, 4), round(p_A_AND_not_B, 4), round(p_not_A_AND_not_B, 4), round(p_A_OR_B, 4)) "
   ]
  },
  {
   "cell_type": "markdown",
   "id": "53a07aff-f7ab-4c92-8d7d-c3f6dd8ebdc4",
   "metadata": {},
   "source": [
    "### Problem 6"
   ]
  },
  {
   "cell_type": "code",
   "execution_count": 5,
   "id": "d4158df5-b99c-4bdd-a52d-24c78d5d64c5",
   "metadata": {},
   "outputs": [
    {
     "name": "stdout",
     "output_type": "stream",
     "text": [
      "0.6724 0.0324 0.9145\n"
     ]
    }
   ],
   "source": [
    "p = 0.82\n",
    "q = 1 - p\n",
    "A = p**2\n",
    "B = q**2\n",
    "C = 1 - q**3 - 3*(q**2)*p\n",
    "print(round(A, 4), round(B, 4), round(C, 4))"
   ]
  },
  {
   "cell_type": "code",
   "execution_count": 1,
   "id": "e6c65322-02fe-4f62-bb6e-b8d01127fb07",
   "metadata": {},
   "outputs": [
    {
     "name": "stdout",
     "output_type": "stream",
     "text": [
      "2\n",
      "0.9676\n"
     ]
    }
   ],
   "source": [
    "n = 2\n",
    "p = 0.82\n",
    "q = 1 - p\n",
    "p_result = 0\n",
    "while p_result <= 0.96:\n",
    "    print(n)\n",
    "    # p_result = 1 - q**n - n*(q**(n-1))*p\n",
    "    p_result = 1 - q**n\n",
    "    n += 1\n",
    "    print(p_result)\n"
   ]
  },
  {
   "cell_type": "markdown",
   "id": "83180b06-592b-461e-98be-b00ce64e46e7",
   "metadata": {},
   "source": [
    "### Problem 7"
   ]
  },
  {
   "cell_type": "code",
   "execution_count": 22,
   "id": "9c0c2e7a-20d1-4fe0-bb73-363a582c2594",
   "metadata": {},
   "outputs": [
    {
     "name": "stdout",
     "output_type": "stream",
     "text": [
      "0.2642 0.5318021201413428\n"
     ]
    }
   ],
   "source": [
    "A = 0.22 * 0.5 + 0.35 * 0.33 + 0.43 * 0.09\n",
    "B = 0.91 * 0.43 / (0.22 * (1 - 0.5) + 0.35 * (1 - 0.33) + 0.43 * (1 - 0.09))\n",
    "print(A, B)"
   ]
  },
  {
   "cell_type": "markdown",
   "id": "7b240a88-09be-4c42-b30a-91ebdc092bde",
   "metadata": {},
   "source": [
    "### Problem 8"
   ]
  },
  {
   "cell_type": "code",
   "execution_count": 23,
   "id": "c1244d0d-6b49-4770-9599-8b961dbf1dbc",
   "metadata": {},
   "outputs": [
    {
     "name": "stdout",
     "output_type": "stream",
     "text": [
      "0.23154026060808552\n"
     ]
    }
   ],
   "source": [
    "A = 0.77 * 0.09 / (0.23 * 1 + 0.77 * 0.09)\n",
    "print(A)"
   ]
  },
  {
   "cell_type": "markdown",
   "id": "b96020d6-cf86-462c-99bb-9a5f9be29628",
   "metadata": {},
   "source": [
    "### Problem 9"
   ]
  },
  {
   "cell_type": "code",
   "execution_count": 26,
   "id": "4f108879-7217-4b63-9cf9-1bd4171a8cc3",
   "metadata": {},
   "outputs": [
    {
     "name": "stdout",
     "output_type": "stream",
     "text": [
      "0.7142857142857143\n"
     ]
    }
   ],
   "source": [
    "A = (1/2 * 5/6) / (1/2 * 5/6 + 1/6) \n",
    "print(A)"
   ]
  },
  {
   "cell_type": "markdown",
   "id": "de7e1f02-3713-43c1-8516-2360a7157843",
   "metadata": {},
   "source": [
    "### Problem 10"
   ]
  },
  {
   "cell_type": "code",
   "execution_count": 32,
   "id": "7a500aaa-c0f4-43a3-92d3-174ab7e64edf",
   "metadata": {},
   "outputs": [
    {
     "name": "stdout",
     "output_type": "stream",
     "text": [
      "0.9298 0.4273504273504271\n"
     ]
    }
   ],
   "source": [
    "A = 0.25 * 0.88 + 0.48 * 0.95 + 0.27 * 0.94\n",
    "B = 0.12 * 0.25 / (0.25 * (1 - 0.88) + 0.48 * (1 - 0.95) + 0.27 * (1 - 0.94))\n",
    "print(A, B)"
   ]
  }
 ],
 "metadata": {
  "kernelspec": {
   "display_name": "Python 3 (ipykernel)",
   "language": "python",
   "name": "python3"
  },
  "language_info": {
   "codemirror_mode": {
    "name": "ipython",
    "version": 3
   },
   "file_extension": ".py",
   "mimetype": "text/x-python",
   "name": "python",
   "nbconvert_exporter": "python",
   "pygments_lexer": "ipython3",
   "version": "3.10.5"
  }
 },
 "nbformat": 4,
 "nbformat_minor": 5
}
