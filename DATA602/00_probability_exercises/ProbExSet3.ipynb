{
 "cells": [
  {
   "cell_type": "markdown",
   "id": "e20feecd-e73f-4ce6-a7ab-fd707ecb2feb",
   "metadata": {},
   "source": [
    "### Problem 1"
   ]
  },
  {
   "cell_type": "code",
   "execution_count": 1,
   "id": "c1d4f5f2-4494-4d33-98ed-bca15f9f583a",
   "metadata": {},
   "outputs": [
    {
     "name": "stdout",
     "output_type": "stream",
     "text": [
      "[1] 2.6398\n",
      "[1] 0.9475526\n"
     ]
    }
   ],
   "source": [
    "x = c(0, 1, 2, 3, 4)\n",
    "px = c(0.0134, 0.1038, 0.3021, 0.391, 0.1897)\n",
    "\n",
    "# compute expectancy\n",
    "ex = sum(x*px)\n",
    "\n",
    "# compute standart deviation\n",
    "moment2 = sum(x^{2}*px)\n",
    "var = moment2 - ex^{2}\n",
    "std = sqrt(var)\n",
    "\n",
    "print(ex)\n",
    "print(std)"
   ]
  },
  {
   "cell_type": "markdown",
   "id": "3a36523c-d62f-4346-996d-6956082dca70",
   "metadata": {},
   "source": [
    "### Problem 2"
   ]
  },
  {
   "cell_type": "code",
   "execution_count": 37,
   "id": "0731f248-156d-4394-8087-ebeabc377c0f",
   "metadata": {},
   "outputs": [
    {
     "name": "stdout",
     "output_type": "stream",
     "text": [
      "[1] 0.61\n",
      "[1] -0.97\n",
      "[1] 1.445372\n"
     ]
    }
   ],
   "source": [
    "A = 1 - (0.28 + 0.08 + 0.03)\n",
    "print(A)\n",
    "\n",
    "x = c(-2, 0, 2, 3)\n",
    "px = c(0.61, 0.28, 0.08, 0.03)\n",
    "\n",
    "# compute expectancy\n",
    "ex = sum(x*px)\n",
    "print(ex)\n",
    "\n",
    "# compute standart deviation\n",
    "moment2 = sum(x^{2}*px)\n",
    "var = moment2 - ex^{2}\n",
    "std = sqrt(var)\n",
    "print(std)\n",
    "\n",
    "# plot distribution\n",
    "# plot(x, px, type=\"h\", col=\"blue\")"
   ]
  },
  {
   "cell_type": "markdown",
   "id": "f40c6872-6f79-4508-8cfe-ff6980f2c599",
   "metadata": {},
   "source": [
    "### Problem 3"
   ]
  },
  {
   "cell_type": "markdown",
   "id": "ed583f06-a351-4290-b1a9-ca3314d7440b",
   "metadata": {},
   "source": [
    "Wrong answers:\n",
    "\n",
    "A: P(3) = 0.0571, 0.0519 (increased by means + not *)"
   ]
  },
  {
   "cell_type": "code",
   "execution_count": 17,
   "id": "184c706d-69ec-48ba-ad2b-8bdc957050b5",
   "metadata": {},
   "outputs": [
    {
     "name": "stdout",
     "output_type": "stream",
     "text": [
      "[1] 0.4144 0.3039 0.1951 0.0866\n",
      "[1] 0.954\n",
      "[1] 0.98\n"
     ]
    }
   ],
   "source": [
    "p = 0.35\n",
    "q = 1 - p\n",
    "change = 0.1\n",
    "x = c(0, 1, 2, 3)\n",
    "px = numeric(length(x))\n",
    "\n",
    "# scored all 3\n",
    "px[4] = p * (p + cahnge) * (p + 2 * cahnge) \n",
    "# scored 2 shots\n",
    "px[3] = p * (p + cahnge) * (q - 2 * cahnge) + \n",
    "        p * (q - cahnge) * p +\n",
    "        q * (p - change) * p\n",
    "# scored 1 shot\n",
    "px[2] = p * (q - change) * q + \n",
    "        q * (p - change) * q +\n",
    "        q * (q + change) * (p - 2 * change)\n",
    "# zero shots\n",
    "px[1] = q * (q + change) * (q + 2 * change)\n",
    "# print\n",
    "print(round(px, 4))\n",
    "# compute expectancy\n",
    "ex = sum(x*px)\n",
    "print(ex)\n",
    "# compute standart deviation\n",
    "moment2 = sum(x^{2}*px)\n",
    "var = moment2 - ex^{2}\n",
    "std = sqrt(var)\n",
    "print(round(std, 2))"
   ]
  },
  {
   "cell_type": "markdown",
   "id": "a71ffac9-8498-48ee-90bf-03d8e01656e8",
   "metadata": {},
   "source": [
    "### Problem 4"
   ]
  },
  {
   "cell_type": "code",
   "execution_count": 36,
   "id": "3079b4ad-191f-4a73-981e-9db71c2cb8a3",
   "metadata": {},
   "outputs": [
    {
     "name": "stdout",
     "output_type": "stream",
     "text": [
      "[1] 0.1478 0.3623 0.3330 0.1361 0.0209\n",
      "[1] 1\n",
      "[1] 1.52\n",
      "[1] 0.97\n"
     ]
    }
   ],
   "source": [
    "n = 4\n",
    "p = 0.38\n",
    "x = c(0:n)\n",
    "px = dbinom(x, n, p)\n",
    "print(round(px, 4))\n",
    "# test\n",
    "print(sum(px))\n",
    "ex = n*p\n",
    "std = sqrt(n*p*(1-p))\n",
    "print(ex)\n",
    "print(round(std,2))"
   ]
  },
  {
   "cell_type": "markdown",
   "id": "b268e005-08bd-4efe-913f-3e66752227e5",
   "metadata": {},
   "source": [
    "### Problem 5"
   ]
  },
  {
   "cell_type": "markdown",
   "id": "49a9b88a-8747-44a9-8113-83ecd1785e8d",
   "metadata": {},
   "source": [
    "Wrong answers:\n",
    "\n",
    "#### D:\n",
    "m = 11\n",
    "x2 = c(0:m)\n",
    "px2 = dbinom(x2, m, p)\n",
    "p_D = px2[7]\n",
    "**0.1533** \n",
    "\n",
    "p_D = sum(px2[0:7])\n",
    "**0.2563**\n",
    "\n",
    "p_D = choose(11, 7)*p^{7}*(1-p)^{4}\n",
    "**0.2326**"
   ]
  },
  {
   "cell_type": "code",
   "execution_count": 1,
   "id": "d38b7536-d51c-4e2d-a28d-08dfd96348f6",
   "metadata": {},
   "outputs": [
    {
     "name": "stdout",
     "output_type": "stream",
     "text": [
      "[1] 1\n",
      "[1] 0.0998\n",
      "[1] 0.2101\n",
      "[1] 16.32\n",
      "[1] 2.29\n",
      "[1] 0.148\n"
     ]
    }
   ],
   "source": [
    "p = 0.68\n",
    "n = 24\n",
    "x = c(0:n)\n",
    "px = dbinom(x, n, p)\n",
    "# test\n",
    "print(sum(px))\n",
    "# A\n",
    "px_A = dbinom(14, n, p)\n",
    "print(round(px_A, 4))\n",
    "# B\n",
    "px_B = pbinom(14, n, p) - pbinom(7, n, p)\n",
    "print(round(px_B, 4))\n",
    "# C\n",
    "ex = n*p\n",
    "std = sqrt(n*p*(1-p))\n",
    "print(round(ex, 2))\n",
    "print(round(std,2))\n",
    "# D\n",
    "p_D = choose(10, 6)*p^{6}*(1-p)^{4} * p \n",
    "m = 11\n",
    "x2 = c(0:m)\n",
    "px2 = dbinom(x2, m, p)\n",
    "# p_D = sum(px2[0:7])\n",
    "print(round(p_D, 4))"
   ]
  },
  {
   "cell_type": "markdown",
   "id": "ef9ec775-347d-4af6-bdd1-8e88d1b5e10a",
   "metadata": {},
   "source": [
    "### Problem 6"
   ]
  },
  {
   "cell_type": "markdown",
   "id": "ca01cddd-75b9-47c2-a1e7-eda260278d62",
   "metadata": {},
   "source": [
    "Wrong answers:\n",
    "\n",
    "#### A:\n",
    "170/0.9\n",
    "\n",
    "**189**, **188**, **187**, **188.8889**, **3.8395** (std), **3.9115**\n",
    "\n",
    "182 * 0.9\n",
    "**164** \n",
    "\n",
    "170 * 0.9\n",
    "**153**\n",
    "\n",
    "#### C:\n",
    "x = c(0:seats_available)\n",
    "px = dbinom(x, seats_available, p)\n",
    "px_B = 1 - sum(px[0:165])\n",
    "**0.0004**"
   ]
  },
  {
   "cell_type": "code",
   "execution_count": 5,
   "id": "77ab112c-ee0b-4daa-9dba-0806e3695da9",
   "metadata": {},
   "outputs": [
    {
     "name": "stdout",
     "output_type": "stream",
     "text": [
      "[1] 163.8\n",
      "[1] 4.047221\n",
      "[1] 0.0967\n",
      "[1] 0.042\n"
     ]
    }
   ],
   "source": [
    "p = 0.9\n",
    "q = 1 - p\n",
    "seats_available = 170\n",
    "seats_booked = 182 \n",
    "\n",
    "# A\n",
    "n = seats_booked * p \n",
    "print(n)\n",
    "std = sqrt(seats_booked*p*(1-p))\n",
    "print(std)\n",
    "# B\n",
    "px_B =  choose(182, 165) * 0.9^165 * 0.1^(182-165)\n",
    "print(round(px_B, 4))\n",
    "# D\n",
    "p_D = pbinom(182, 182, p) - pbinom(170, 182, p) #choose(182, 171) * 0.9^171 * 0.1^(182-171) \n",
    "print(round(p_D,4))"
   ]
  },
  {
   "cell_type": "markdown",
   "id": "a9ada28c-6ca7-4c58-b2e1-3ff44dcb8658",
   "metadata": {},
   "source": [
    "### Problem 7"
   ]
  },
  {
   "cell_type": "code",
   "execution_count": 96,
   "id": "cb5d87bf-18fa-4d9f-bcec-029987404440",
   "metadata": {},
   "outputs": [
    {
     "name": "stdout",
     "output_type": "stream",
     "text": [
      "[1] 0.2791 0.3907 0.2344 0.0781 0.0156 0.0019 0.0001 0.0000\n",
      "[1] 1.17\n",
      "[1] 0.99\n",
      "[1] 0.0001286008\n"
     ]
    }
   ],
   "source": [
    "n = 7\n",
    "p = 1/6\n",
    "x = c(0, 1, 2, 3, 4, 5, 6, 7)\n",
    "# A\n",
    "px = dbinom(x, n, p)\n",
    "print(round(px, 4))\n",
    "# B\n",
    "ex = n*p\n",
    "std = sqrt(n*p*(1-p))\n",
    "print(round(ex, 2))\n",
    "print(round(std,2))\n",
    "# C\n",
    "p_C = sum(px[7:8])\n",
    "print(p_C)"
   ]
  },
  {
   "cell_type": "markdown",
   "id": "d43a460a-2872-4600-a23c-923f28810c95",
   "metadata": {},
   "source": [
    "### Problem 8"
   ]
  },
  {
   "cell_type": "code",
   "execution_count": 131,
   "id": "1b112ffd-ce2b-4e52-88f5-23df36f8dece",
   "metadata": {},
   "outputs": [
    {
     "name": "stdout",
     "output_type": "stream",
     "text": [
      "[1] 0.1517\n",
      "[1] 0.9271\n",
      "[1] 0.2092\n",
      "[1] 28.8\n",
      "[1] 5.37\n"
     ]
    }
   ],
   "source": [
    "x = 0:20\n",
    "lambda = 4.8 # per 10 min\n",
    "px = dpois(x, lambda)\n",
    "cpx = ppois(x, lambda)\n",
    "\n",
    "# A\n",
    "p_A = px[4]\n",
    "print(round(p_A, 4))\n",
    "# B\n",
    "p_B = sum(px[3:10])\n",
    "print(round(p_B, 4))\n",
    "# C\n",
    "p_C = 1-cpx[7] \n",
    "print(round(p_C, 4))\n",
    "# D\n",
    "e = lambda * 6\n",
    "std = sqrt(e)\n",
    "print(round(e, 2))\n",
    "print(round(std, 2))"
   ]
  },
  {
   "cell_type": "markdown",
   "id": "ed559494-643a-4b5e-9685-4f5925219a01",
   "metadata": {},
   "source": [
    "### Problem 9"
   ]
  },
  {
   "cell_type": "code",
   "execution_count": 26,
   "id": "069573d4-2c78-49e9-98aa-fe3cd1d0cd53",
   "metadata": {},
   "outputs": [
    {
     "name": "stdout",
     "output_type": "stream",
     "text": [
      "[1] 0.1271\n",
      "[1] 0.7543\n",
      "[1] 0.5943\n",
      "[1] 2.932576\n",
      "[1] 0.782\n"
     ]
    },
    {
     "data": {
      "application/pdf": "[encoded data removed]",
      "image/jpeg": "[encoded data removed]",
      "image/png": "[encoded data removed]",
      "image/svg+xml": [
       "<?xml version=\"1.0\" encoding=\"UTF-8\"?>\n",
       "<svg xmlns=\"http://www.w3.org/2000/svg\" xmlns:xlink=\"http://www.w3.org/1999/xlink\" width=\"504pt\" height=\"504pt\" viewBox=\"0 0 504 504\" version=\"1.1\">\n",
       "<defs>\n",
       "<g>\n",
       "<symbol overflow=\"visible\" id=\"glyph0-0\">\n",
       "<path style=\"stroke:none;\" d=\"M 0.40625 0 L 0.40625 -8 L 3.59375 -8 L 3.59375 0 Z M 0.796875 -0.40625 L 3.1875 -0.40625 L 3.1875 -7.59375 L 0.796875 -7.59375 Z M 0.796875 -0.40625 \"/>\n",
       "</symbol>\n",
       "<symbol overflow=\"visible\" id=\"glyph0-1\">\n",
       "<path style=\"stroke:none;\" d=\"M 6.203125 -4.125 C 6.203125 -3.332031 6.125 -2.664062 5.96875 -2.125 C 5.820312 -1.582031 5.617188 -1.144531 5.359375 -0.8125 C 5.097656 -0.476562 4.789062 -0.238281 4.4375 -0.09375 C 4.09375 0.0507812 3.722656 0.125 3.328125 0.125 C 2.921875 0.125 2.539062 0.0507812 2.1875 -0.09375 C 1.84375 -0.238281 1.539062 -0.476562 1.28125 -0.8125 C 1.03125 -1.144531 0.832031 -1.582031 0.6875 -2.125 C 0.539062 -2.664062 0.46875 -3.332031 0.46875 -4.125 C 0.46875 -4.957031 0.539062 -5.644531 0.6875 -6.1875 C 0.832031 -6.738281 1.035156 -7.175781 1.296875 -7.5 C 1.554688 -7.820312 1.859375 -8.046875 2.203125 -8.171875 C 2.554688 -8.304688 2.941406 -8.375 3.359375 -8.375 C 3.753906 -8.375 4.125 -8.304688 4.46875 -8.171875 C 4.8125 -8.046875 5.113281 -7.820312 5.375 -7.5 C 5.632812 -7.175781 5.835938 -6.738281 5.984375 -6.1875 C 6.128906 -5.644531 6.203125 -4.957031 6.203125 -4.125 Z M 5.140625 -4.125 C 5.140625 -4.78125 5.097656 -5.328125 5.015625 -5.765625 C 4.941406 -6.203125 4.828125 -6.550781 4.671875 -6.8125 C 4.515625 -7.070312 4.328125 -7.253906 4.109375 -7.359375 C 3.890625 -7.472656 3.640625 -7.53125 3.359375 -7.53125 C 3.054688 -7.53125 2.789062 -7.472656 2.5625 -7.359375 C 2.34375 -7.253906 2.15625 -7.070312 2 -6.8125 C 1.84375 -6.550781 1.722656 -6.203125 1.640625 -5.765625 C 1.566406 -5.328125 1.53125 -4.78125 1.53125 -4.125 C 1.53125 -3.5 1.570312 -2.96875 1.65625 -2.53125 C 1.738281 -2.09375 1.851562 -1.742188 2 -1.484375 C 2.15625 -1.222656 2.34375 -1.035156 2.5625 -0.921875 C 2.789062 -0.804688 3.046875 -0.75 3.328125 -0.75 C 3.609375 -0.75 3.859375 -0.804688 4.078125 -0.921875 C 4.304688 -1.035156 4.492188 -1.222656 4.640625 -1.484375 C 4.796875 -1.742188 4.914062 -2.09375 5 -2.53125 C 5.09375 -2.96875 5.140625 -3.5 5.140625 -4.125 Z M 5.140625 -4.125 \"/>\n",
       "</symbol>\n",
       "<symbol overflow=\"visible\" id=\"glyph0-2\">\n",
       "<path style=\"stroke:none;\" d=\"M 6.171875 -2.6875 C 6.171875 -2.269531 6.109375 -1.890625 5.984375 -1.546875 C 5.859375 -1.203125 5.671875 -0.90625 5.421875 -0.65625 C 5.179688 -0.414062 4.878906 -0.222656 4.515625 -0.078125 C 4.148438 0.0546875 3.722656 0.125 3.234375 0.125 C 2.804688 0.125 2.429688 0.0703125 2.109375 -0.03125 C 1.785156 -0.132812 1.507812 -0.273438 1.28125 -0.453125 C 1.0625 -0.628906 0.882812 -0.835938 0.75 -1.078125 C 0.625 -1.316406 0.535156 -1.570312 0.484375 -1.84375 L 1.546875 -1.96875 C 1.585938 -1.8125 1.644531 -1.660156 1.71875 -1.515625 C 1.800781 -1.367188 1.910156 -1.238281 2.046875 -1.125 C 2.179688 -1.007812 2.347656 -0.914062 2.546875 -0.84375 C 2.742188 -0.78125 2.984375 -0.75 3.265625 -0.75 C 3.535156 -0.75 3.78125 -0.789062 4 -0.875 C 4.226562 -0.957031 4.421875 -1.078125 4.578125 -1.234375 C 4.734375 -1.398438 4.851562 -1.601562 4.9375 -1.84375 C 5.03125 -2.082031 5.078125 -2.359375 5.078125 -2.671875 C 5.078125 -2.921875 5.035156 -3.148438 4.953125 -3.359375 C 4.867188 -3.578125 4.75 -3.765625 4.59375 -3.921875 C 4.445312 -4.078125 4.257812 -4.195312 4.03125 -4.28125 C 3.8125 -4.363281 3.5625 -4.40625 3.28125 -4.40625 C 3.113281 -4.40625 2.953125 -4.390625 2.796875 -4.359375 C 2.648438 -4.328125 2.515625 -4.285156 2.390625 -4.234375 C 2.265625 -4.179688 2.148438 -4.117188 2.046875 -4.046875 C 1.941406 -3.972656 1.84375 -3.894531 1.75 -3.8125 L 0.71875 -3.8125 L 1 -8.25 L 5.6875 -8.25 L 5.6875 -7.359375 L 1.953125 -7.359375 L 1.796875 -4.734375 C 1.984375 -4.878906 2.21875 -5.003906 2.5 -5.109375 C 2.78125 -5.210938 3.113281 -5.265625 3.5 -5.265625 C 3.914062 -5.265625 4.285156 -5.203125 4.609375 -5.078125 C 4.941406 -4.953125 5.222656 -4.773438 5.453125 -4.546875 C 5.679688 -4.316406 5.859375 -4.046875 5.984375 -3.734375 C 6.109375 -3.421875 6.171875 -3.070312 6.171875 -2.6875 Z M 6.171875 -2.6875 \"/>\n",
       "</symbol>\n",
       "<symbol overflow=\"visible\" id=\"glyph0-3\">\n",
       "<path style=\"stroke:none;\" d=\"M 0.921875 0 L 0.921875 -0.890625 L 3.015625 -0.890625 L 3.015625 -7.25 L 1.15625 -5.921875 L 1.15625 -6.921875 L 3.109375 -8.25 L 4.078125 -8.25 L 4.078125 -0.890625 L 6.09375 -0.890625 L 6.09375 0 Z M 0.921875 0 \"/>\n",
       "</symbol>\n",
       "<symbol overflow=\"visible\" id=\"glyph0-4\">\n",
       "<path style=\"stroke:none;\" d=\"M 0.609375 0 L 0.609375 -0.75 C 0.804688 -1.207031 1.046875 -1.609375 1.328125 -1.953125 C 1.617188 -2.304688 1.921875 -2.625 2.234375 -2.90625 C 2.554688 -3.1875 2.867188 -3.445312 3.171875 -3.6875 C 3.484375 -3.9375 3.765625 -4.179688 4.015625 -4.421875 C 4.265625 -4.660156 4.46875 -4.910156 4.625 -5.171875 C 4.78125 -5.441406 4.859375 -5.742188 4.859375 -6.078125 C 4.859375 -6.316406 4.820312 -6.523438 4.75 -6.703125 C 4.675781 -6.878906 4.570312 -7.023438 4.4375 -7.140625 C 4.3125 -7.265625 4.15625 -7.359375 3.96875 -7.421875 C 3.78125 -7.484375 3.578125 -7.515625 3.359375 -7.515625 C 3.140625 -7.515625 2.9375 -7.484375 2.75 -7.421875 C 2.570312 -7.367188 2.410156 -7.28125 2.265625 -7.15625 C 2.117188 -7.039062 2 -6.894531 1.90625 -6.71875 C 1.8125 -6.550781 1.753906 -6.351562 1.734375 -6.125 L 0.65625 -6.21875 C 0.6875 -6.507812 0.765625 -6.785156 0.890625 -7.046875 C 1.023438 -7.316406 1.203125 -7.550781 1.421875 -7.75 C 1.648438 -7.945312 1.921875 -8.097656 2.234375 -8.203125 C 2.554688 -8.316406 2.929688 -8.375 3.359375 -8.375 C 3.765625 -8.375 4.125 -8.328125 4.4375 -8.234375 C 4.757812 -8.140625 5.03125 -7.992188 5.25 -7.796875 C 5.476562 -7.609375 5.648438 -7.375 5.765625 -7.09375 C 5.878906 -6.8125 5.9375 -6.488281 5.9375 -6.125 C 5.9375 -5.84375 5.882812 -5.578125 5.78125 -5.328125 C 5.6875 -5.078125 5.554688 -4.835938 5.390625 -4.609375 C 5.222656 -4.378906 5.03125 -4.160156 4.8125 -3.953125 C 4.59375 -3.742188 4.363281 -3.535156 4.125 -3.328125 C 3.894531 -3.128906 3.65625 -2.929688 3.40625 -2.734375 C 3.164062 -2.535156 2.9375 -2.335938 2.71875 -2.140625 C 2.507812 -1.941406 2.320312 -1.738281 2.15625 -1.53125 C 1.988281 -1.332031 1.859375 -1.117188 1.765625 -0.890625 L 6.078125 -0.890625 L 6.078125 0 Z M 0.609375 0 \"/>\n",
       "</symbol>\n",
       "<symbol overflow=\"visible\" id=\"glyph0-5\">\n",
       "<path style=\"stroke:none;\" d=\"M 6.140625 -2.28125 C 6.140625 -1.90625 6.078125 -1.566406 5.953125 -1.265625 C 5.835938 -0.972656 5.660156 -0.722656 5.421875 -0.515625 C 5.179688 -0.304688 4.882812 -0.144531 4.53125 -0.03125 C 4.1875 0.0703125 3.789062 0.125 3.34375 0.125 C 2.832031 0.125 2.398438 0.0625 2.046875 -0.0625 C 1.703125 -0.195312 1.414062 -0.367188 1.1875 -0.578125 C 0.957031 -0.785156 0.785156 -1.019531 0.671875 -1.28125 C 0.566406 -1.550781 0.492188 -1.832031 0.453125 -2.125 L 1.546875 -2.21875 C 1.578125 -2 1.632812 -1.800781 1.71875 -1.625 C 1.800781 -1.445312 1.914062 -1.289062 2.0625 -1.15625 C 2.207031 -1.03125 2.382812 -0.929688 2.59375 -0.859375 C 2.800781 -0.785156 3.050781 -0.75 3.34375 -0.75 C 3.875 -0.75 4.289062 -0.878906 4.59375 -1.140625 C 4.894531 -1.410156 5.046875 -1.800781 5.046875 -2.3125 C 5.046875 -2.613281 4.976562 -2.859375 4.84375 -3.046875 C 4.707031 -3.234375 4.539062 -3.378906 4.34375 -3.484375 C 4.144531 -3.585938 3.925781 -3.65625 3.6875 -3.6875 C 3.445312 -3.726562 3.226562 -3.75 3.03125 -3.75 L 2.4375 -3.75 L 2.4375 -4.65625 L 3.015625 -4.65625 C 3.210938 -4.65625 3.414062 -4.675781 3.625 -4.71875 C 3.84375 -4.757812 4.039062 -4.832031 4.21875 -4.9375 C 4.394531 -5.050781 4.539062 -5.195312 4.65625 -5.375 C 4.769531 -5.5625 4.828125 -5.796875 4.828125 -6.078125 C 4.828125 -6.523438 4.695312 -6.875 4.4375 -7.125 C 4.1875 -7.382812 3.800781 -7.515625 3.28125 -7.515625 C 2.820312 -7.515625 2.445312 -7.394531 2.15625 -7.15625 C 1.875 -6.914062 1.707031 -6.578125 1.65625 -6.140625 L 0.59375 -6.234375 C 0.632812 -6.597656 0.734375 -6.910156 0.890625 -7.171875 C 1.046875 -7.441406 1.242188 -7.664062 1.484375 -7.84375 C 1.734375 -8.019531 2.007812 -8.148438 2.3125 -8.234375 C 2.625 -8.328125 2.953125 -8.375 3.296875 -8.375 C 3.753906 -8.375 4.148438 -8.316406 4.484375 -8.203125 C 4.816406 -8.085938 5.085938 -7.929688 5.296875 -7.734375 C 5.515625 -7.535156 5.671875 -7.300781 5.765625 -7.03125 C 5.867188 -6.769531 5.921875 -6.488281 5.921875 -6.1875 C 5.921875 -5.945312 5.882812 -5.722656 5.8125 -5.515625 C 5.75 -5.304688 5.644531 -5.113281 5.5 -4.9375 C 5.363281 -4.769531 5.1875 -4.625 4.96875 -4.5 C 4.75 -4.382812 4.488281 -4.296875 4.1875 -4.234375 L 4.1875 -4.21875 C 4.519531 -4.175781 4.804688 -4.097656 5.046875 -3.984375 C 5.296875 -3.867188 5.5 -3.722656 5.65625 -3.546875 C 5.820312 -3.378906 5.941406 -3.1875 6.015625 -2.96875 C 6.097656 -2.75 6.140625 -2.519531 6.140625 -2.28125 Z M 6.140625 -2.28125 \"/>\n",
       "</symbol>\n",
       "<symbol overflow=\"visible\" id=\"glyph0-6\">\n",
       "<path style=\"stroke:none;\" d=\"M 4.6875 0 L 2.984375 -2.609375 L 1.265625 0 L 0.140625 0 L 2.390625 -3.265625 L 0.234375 -6.34375 L 1.40625 -6.34375 L 2.984375 -3.875 L 4.5625 -6.34375 L 5.734375 -6.34375 L 3.59375 -3.265625 L 5.875 0 Z M 4.6875 0 \"/>\n",
       "</symbol>\n",
       "<symbol overflow=\"visible\" id=\"glyph1-0\">\n",
       "<path style=\"stroke:none;\" d=\"M 0 -0.40625 L -8 -0.40625 L -8 -3.59375 L 0 -3.59375 Z M -0.40625 -0.796875 L -0.40625 -3.1875 L -7.59375 -3.1875 L -7.59375 -0.796875 Z M -0.40625 -0.796875 \"/>\n",
       "</symbol>\n",
       "<symbol overflow=\"visible\" id=\"glyph1-1\">\n",
       "<path style=\"stroke:none;\" d=\"M -4.125 -6.203125 C -3.332031 -6.203125 -2.664062 -6.125 -2.125 -5.96875 C -1.582031 -5.820312 -1.144531 -5.617188 -0.8125 -5.359375 C -0.476562 -5.097656 -0.238281 -4.789062 -0.09375 -4.4375 C 0.0507812 -4.09375 0.125 -3.722656 0.125 -3.328125 C 0.125 -2.921875 0.0507812 -2.539062 -0.09375 -2.1875 C -0.238281 -1.84375 -0.476562 -1.539062 -0.8125 -1.28125 C -1.144531 -1.03125 -1.582031 -0.832031 -2.125 -0.6875 C -2.664062 -0.539062 -3.332031 -0.46875 -4.125 -0.46875 C -4.957031 -0.46875 -5.644531 -0.539062 -6.1875 -0.6875 C -6.738281 -0.832031 -7.175781 -1.035156 -7.5 -1.296875 C -7.820312 -1.554688 -8.046875 -1.859375 -8.171875 -2.203125 C -8.304688 -2.554688 -8.375 -2.941406 -8.375 -3.359375 C -8.375 -3.753906 -8.304688 -4.125 -8.171875 -4.46875 C -8.046875 -4.8125 -7.820312 -5.113281 -7.5 -5.375 C -7.175781 -5.632812 -6.738281 -5.835938 -6.1875 -5.984375 C -5.644531 -6.128906 -4.957031 -6.203125 -4.125 -6.203125 Z M -4.125 -5.140625 C -4.78125 -5.140625 -5.328125 -5.097656 -5.765625 -5.015625 C -6.203125 -4.941406 -6.550781 -4.828125 -6.8125 -4.671875 C -7.070312 -4.515625 -7.253906 -4.328125 -7.359375 -4.109375 C -7.472656 -3.890625 -7.53125 -3.640625 -7.53125 -3.359375 C -7.53125 -3.054688 -7.472656 -2.789062 -7.359375 -2.5625 C -7.253906 -2.34375 -7.070312 -2.15625 -6.8125 -2 C -6.550781 -1.84375 -6.203125 -1.722656 -5.765625 -1.640625 C -5.328125 -1.566406 -4.78125 -1.53125 -4.125 -1.53125 C -3.5 -1.53125 -2.96875 -1.570312 -2.53125 -1.65625 C -2.09375 -1.738281 -1.742188 -1.851562 -1.484375 -2 C -1.222656 -2.15625 -1.035156 -2.34375 -0.921875 -2.5625 C -0.804688 -2.789062 -0.75 -3.046875 -0.75 -3.328125 C -0.75 -3.609375 -0.804688 -3.859375 -0.921875 -4.078125 C -1.035156 -4.304688 -1.222656 -4.492188 -1.484375 -4.640625 C -1.742188 -4.796875 -2.09375 -4.914062 -2.53125 -5 C -2.96875 -5.09375 -3.5 -5.140625 -4.125 -5.140625 Z M -4.125 -5.140625 \"/>\n",
       "</symbol>\n",
       "<symbol overflow=\"visible\" id=\"glyph1-2\">\n",
       "<path style=\"stroke:none;\" d=\"M 0 -1.09375 L -1.28125 -1.09375 L -1.28125 -2.234375 L 0 -2.234375 Z M 0 -1.09375 \"/>\n",
       "</symbol>\n",
       "<symbol overflow=\"visible\" id=\"glyph1-3\">\n",
       "<path style=\"stroke:none;\" d=\"M 0 -0.609375 L -0.75 -0.609375 C -1.207031 -0.804688 -1.609375 -1.046875 -1.953125 -1.328125 C -2.304688 -1.617188 -2.625 -1.921875 -2.90625 -2.234375 C -3.1875 -2.554688 -3.445312 -2.867188 -3.6875 -3.171875 C -3.9375 -3.484375 -4.179688 -3.765625 -4.421875 -4.015625 C -4.660156 -4.265625 -4.910156 -4.46875 -5.171875 -4.625 C -5.441406 -4.78125 -5.742188 -4.859375 -6.078125 -4.859375 C -6.316406 -4.859375 -6.523438 -4.820312 -6.703125 -4.75 C -6.878906 -4.675781 -7.023438 -4.570312 -7.140625 -4.4375 C -7.265625 -4.3125 -7.359375 -4.15625 -7.421875 -3.96875 C -7.484375 -3.78125 -7.515625 -3.578125 -7.515625 -3.359375 C -7.515625 -3.140625 -7.484375 -2.9375 -7.421875 -2.75 C -7.367188 -2.570312 -7.28125 -2.410156 -7.15625 -2.265625 C -7.039062 -2.117188 -6.894531 -2 -6.71875 -1.90625 C -6.550781 -1.8125 -6.351562 -1.753906 -6.125 -1.734375 L -6.21875 -0.65625 C -6.507812 -0.6875 -6.785156 -0.765625 -7.046875 -0.890625 C -7.316406 -1.023438 -7.550781 -1.203125 -7.75 -1.421875 C -7.945312 -1.648438 -8.097656 -1.921875 -8.203125 -2.234375 C -8.316406 -2.554688 -8.375 -2.929688 -8.375 -3.359375 C -8.375 -3.765625 -8.328125 -4.125 -8.234375 -4.4375 C -8.140625 -4.757812 -7.992188 -5.03125 -7.796875 -5.25 C -7.609375 -5.476562 -7.375 -5.648438 -7.09375 -5.765625 C -6.8125 -5.878906 -6.488281 -5.9375 -6.125 -5.9375 C -5.84375 -5.9375 -5.578125 -5.882812 -5.328125 -5.78125 C -5.078125 -5.6875 -4.835938 -5.554688 -4.609375 -5.390625 C -4.378906 -5.222656 -4.160156 -5.03125 -3.953125 -4.8125 C -3.742188 -4.59375 -3.535156 -4.363281 -3.328125 -4.125 C -3.128906 -3.894531 -2.929688 -3.65625 -2.734375 -3.40625 C -2.535156 -3.164062 -2.335938 -2.9375 -2.140625 -2.71875 C -1.941406 -2.507812 -1.738281 -2.320312 -1.53125 -2.15625 C -1.332031 -1.988281 -1.117188 -1.859375 -0.890625 -1.765625 L -0.890625 -6.078125 L 0 -6.078125 Z M 0 -0.609375 \"/>\n",
       "</symbol>\n",
       "<symbol overflow=\"visible\" id=\"glyph1-4\">\n",
       "<path style=\"stroke:none;\" d=\"M -1.875 -5.15625 L 0 -5.15625 L 0 -4.171875 L -1.875 -4.171875 L -1.875 -0.28125 L -2.6875 -0.28125 L -8.25 -4.0625 L -8.25 -5.15625 L -2.703125 -5.15625 L -2.703125 -6.328125 L -1.875 -6.328125 Z M -7.0625 -4.171875 C -7.039062 -4.160156 -7.003906 -4.140625 -6.953125 -4.109375 C -6.898438 -4.078125 -6.835938 -4.039062 -6.765625 -4 C -6.691406 -3.957031 -6.617188 -3.914062 -6.546875 -3.875 C -6.472656 -3.84375 -6.414062 -3.8125 -6.375 -3.78125 L -3.25 -1.65625 C -3.21875 -1.632812 -3.175781 -1.601562 -3.125 -1.5625 C -3.070312 -1.53125 -3.019531 -1.492188 -2.96875 -1.453125 C -2.914062 -1.421875 -2.863281 -1.382812 -2.8125 -1.34375 C -2.769531 -1.300781 -2.734375 -1.269531 -2.703125 -1.25 L -2.703125 -4.171875 Z M -7.0625 -4.171875 \"/>\n",
       "</symbol>\n",
       "<symbol overflow=\"visible\" id=\"glyph1-5\">\n",
       "<path style=\"stroke:none;\" d=\"M -2.703125 -6.140625 C -2.285156 -6.140625 -1.90625 -6.082031 -1.5625 -5.96875 C -1.21875 -5.851562 -0.921875 -5.679688 -0.671875 -5.453125 C -0.421875 -5.234375 -0.222656 -4.957031 -0.078125 -4.625 C 0.0546875 -4.289062 0.125 -3.910156 0.125 -3.484375 C 0.125 -3.003906 0.03125 -2.582031 -0.15625 -2.21875 C -0.34375 -1.863281 -0.609375 -1.566406 -0.953125 -1.328125 C -1.296875 -1.085938 -1.71875 -0.90625 -2.21875 -0.78125 C -2.726562 -0.664062 -3.300781 -0.609375 -3.9375 -0.609375 C -4.675781 -0.609375 -5.320312 -0.675781 -5.875 -0.8125 C -6.425781 -0.945312 -6.882812 -1.140625 -7.25 -1.390625 C -7.625 -1.648438 -7.90625 -1.960938 -8.09375 -2.328125 C -8.28125 -2.691406 -8.375 -3.101562 -8.375 -3.5625 C -8.375 -3.84375 -8.34375 -4.101562 -8.28125 -4.34375 C -8.226562 -4.59375 -8.132812 -4.816406 -8 -5.015625 C -7.875 -5.222656 -7.703125 -5.398438 -7.484375 -5.546875 C -7.273438 -5.703125 -7.015625 -5.828125 -6.703125 -5.921875 L -6.515625 -4.90625 C -6.867188 -4.800781 -7.125 -4.628906 -7.28125 -4.390625 C -7.445312 -4.148438 -7.53125 -3.867188 -7.53125 -3.546875 C -7.53125 -3.265625 -7.457031 -3.003906 -7.3125 -2.765625 C -7.175781 -2.535156 -6.972656 -2.335938 -6.703125 -2.171875 C -6.429688 -2.003906 -6.085938 -1.875 -5.671875 -1.78125 C -5.265625 -1.695312 -4.789062 -1.65625 -4.25 -1.65625 C -4.601562 -1.851562 -4.875 -2.125 -5.0625 -2.46875 C -5.25 -2.8125 -5.34375 -3.207031 -5.34375 -3.65625 C -5.34375 -4.03125 -5.28125 -4.367188 -5.15625 -4.671875 C -5.03125 -4.984375 -4.851562 -5.25 -4.625 -5.46875 C -4.40625 -5.6875 -4.128906 -5.851562 -3.796875 -5.96875 C -3.472656 -6.082031 -3.109375 -6.140625 -2.703125 -6.140625 Z M -2.65625 -5.078125 C -2.9375 -5.078125 -3.191406 -5.039062 -3.421875 -4.96875 C -3.660156 -4.894531 -3.859375 -4.785156 -4.015625 -4.640625 C -4.179688 -4.503906 -4.304688 -4.332031 -4.390625 -4.125 C -4.484375 -3.925781 -4.53125 -3.6875 -4.53125 -3.40625 C -4.53125 -3.21875 -4.5 -3.023438 -4.4375 -2.828125 C -4.382812 -2.628906 -4.289062 -2.453125 -4.15625 -2.296875 C -4.03125 -2.140625 -3.863281 -2.007812 -3.65625 -1.90625 C -3.457031 -1.8125 -3.207031 -1.765625 -2.90625 -1.765625 C -2.601562 -1.765625 -2.316406 -1.800781 -2.046875 -1.875 C -1.785156 -1.957031 -1.554688 -2.070312 -1.359375 -2.21875 C -1.171875 -2.363281 -1.019531 -2.539062 -0.90625 -2.75 C -0.789062 -2.957031 -0.734375 -3.191406 -0.734375 -3.453125 C -0.734375 -3.703125 -0.773438 -3.925781 -0.859375 -4.125 C -0.953125 -4.332031 -1.082031 -4.503906 -1.25 -4.640625 C -1.414062 -4.785156 -1.613281 -4.894531 -1.84375 -4.96875 C -2.082031 -5.039062 -2.351562 -5.078125 -2.65625 -5.078125 Z M -2.65625 -5.078125 \"/>\n",
       "</symbol>\n",
       "<symbol overflow=\"visible\" id=\"glyph1-6\">\n",
       "<path style=\"stroke:none;\" d=\"M -2.296875 -6.15625 C -1.953125 -6.15625 -1.628906 -6.097656 -1.328125 -5.984375 C -1.035156 -5.867188 -0.78125 -5.695312 -0.5625 -5.46875 C -0.351562 -5.25 -0.1875 -4.957031 -0.0625 -4.59375 C 0.0625 -4.238281 0.125 -3.820312 0.125 -3.34375 C 0.125 -2.851562 0.0625 -2.429688 -0.0625 -2.078125 C -0.1875 -1.722656 -0.351562 -1.429688 -0.5625 -1.203125 C -0.78125 -0.972656 -1.035156 -0.800781 -1.328125 -0.6875 C -1.617188 -0.570312 -1.941406 -0.515625 -2.296875 -0.515625 C -2.597656 -0.515625 -2.863281 -0.5625 -3.09375 -0.65625 C -3.332031 -0.75 -3.535156 -0.875 -3.703125 -1.03125 C -3.867188 -1.1875 -4.003906 -1.363281 -4.109375 -1.5625 C -4.210938 -1.757812 -4.28125 -1.960938 -4.3125 -2.171875 L -4.34375 -2.171875 C -4.394531 -1.941406 -4.476562 -1.734375 -4.59375 -1.546875 C -4.71875 -1.367188 -4.863281 -1.21875 -5.03125 -1.09375 C -5.207031 -0.96875 -5.398438 -0.875 -5.609375 -0.8125 C -5.816406 -0.75 -6.035156 -0.71875 -6.265625 -0.71875 C -6.554688 -0.71875 -6.828125 -0.769531 -7.078125 -0.875 C -7.335938 -0.988281 -7.5625 -1.15625 -7.75 -1.375 C -7.945312 -1.59375 -8.097656 -1.863281 -8.203125 -2.1875 C -8.316406 -2.507812 -8.375 -2.882812 -8.375 -3.3125 C -8.375 -3.757812 -8.316406 -4.148438 -8.203125 -4.484375 C -8.097656 -4.816406 -7.945312 -5.085938 -7.75 -5.296875 C -7.550781 -5.515625 -7.320312 -5.675781 -7.0625 -5.78125 C -6.8125 -5.894531 -6.539062 -5.953125 -6.25 -5.953125 C -6.019531 -5.953125 -5.800781 -5.914062 -5.59375 -5.84375 C -5.394531 -5.78125 -5.207031 -5.6875 -5.03125 -5.5625 C -4.863281 -5.445312 -4.71875 -5.296875 -4.59375 -5.109375 C -4.476562 -4.929688 -4.398438 -4.722656 -4.359375 -4.484375 L -4.328125 -4.484375 C -4.285156 -4.722656 -4.210938 -4.941406 -4.109375 -5.140625 C -4.015625 -5.347656 -3.878906 -5.523438 -3.703125 -5.671875 C -3.535156 -5.816406 -3.332031 -5.929688 -3.09375 -6.015625 C -2.863281 -6.109375 -2.597656 -6.15625 -2.296875 -6.15625 Z M -6.1875 -4.859375 C -6.394531 -4.859375 -6.582031 -4.828125 -6.75 -4.765625 C -6.925781 -4.710938 -7.078125 -4.625 -7.203125 -4.5 C -7.328125 -4.382812 -7.421875 -4.226562 -7.484375 -4.03125 C -7.554688 -3.84375 -7.59375 -3.601562 -7.59375 -3.3125 C -7.59375 -3.039062 -7.554688 -2.804688 -7.484375 -2.609375 C -7.421875 -2.421875 -7.328125 -2.265625 -7.203125 -2.140625 C -7.078125 -2.015625 -6.925781 -1.925781 -6.75 -1.875 C -6.582031 -1.820312 -6.394531 -1.796875 -6.1875 -1.796875 C -6.03125 -1.796875 -5.863281 -1.816406 -5.6875 -1.859375 C -5.519531 -1.898438 -5.363281 -1.976562 -5.21875 -2.09375 C -5.082031 -2.207031 -4.96875 -2.363281 -4.875 -2.5625 C -4.78125 -2.757812 -4.734375 -3.015625 -4.734375 -3.328125 C -4.734375 -3.660156 -4.78125 -3.925781 -4.875 -4.125 C -4.96875 -4.332031 -5.082031 -4.488281 -5.21875 -4.59375 C -5.363281 -4.695312 -5.519531 -4.765625 -5.6875 -4.796875 C -5.863281 -4.835938 -6.03125 -4.859375 -6.1875 -4.859375 Z M -2.40625 -5.0625 C -2.601562 -5.0625 -2.796875 -5.03125 -2.984375 -4.96875 C -3.171875 -4.914062 -3.332031 -4.820312 -3.46875 -4.6875 C -3.613281 -4.5625 -3.726562 -4.382812 -3.8125 -4.15625 C -3.90625 -3.9375 -3.953125 -3.65625 -3.953125 -3.3125 C -3.953125 -3.007812 -3.90625 -2.75 -3.8125 -2.53125 C -3.726562 -2.3125 -3.613281 -2.132812 -3.46875 -2 C -3.320312 -1.863281 -3.15625 -1.765625 -2.96875 -1.703125 C -2.78125 -1.640625 -2.582031 -1.609375 -2.375 -1.609375 C -2.125 -1.609375 -1.894531 -1.640625 -1.6875 -1.703125 C -1.476562 -1.765625 -1.296875 -1.863281 -1.140625 -2 C -0.992188 -2.132812 -0.878906 -2.3125 -0.796875 -2.53125 C -0.710938 -2.757812 -0.671875 -3.035156 -0.671875 -3.359375 C -0.671875 -3.671875 -0.710938 -3.9375 -0.796875 -4.15625 C -0.878906 -4.375 -0.992188 -4.550781 -1.140625 -4.6875 C -1.296875 -4.820312 -1.476562 -4.914062 -1.6875 -4.96875 C -1.90625 -5.03125 -2.144531 -5.0625 -2.40625 -5.0625 Z M -2.40625 -5.0625 \"/>\n",
       "</symbol>\n",
       "<symbol overflow=\"visible\" id=\"glyph1-7\">\n",
       "<path style=\"stroke:none;\" d=\"M 0 -0.921875 L -0.890625 -0.921875 L -0.890625 -3.015625 L -7.25 -3.015625 L -5.921875 -1.15625 L -6.921875 -1.15625 L -8.25 -3.109375 L -8.25 -4.078125 L -0.890625 -4.078125 L -0.890625 -6.09375 L 0 -6.09375 Z M 0 -0.921875 \"/>\n",
       "</symbol>\n",
       "<symbol overflow=\"visible\" id=\"glyph1-8\">\n",
       "<path style=\"stroke:none;\" d=\"M -3.203125 -6.171875 C -2.722656 -6.171875 -2.28125 -6.128906 -1.875 -6.046875 C -1.46875 -5.972656 -1.113281 -5.84375 -0.8125 -5.65625 C -0.519531 -5.476562 -0.289062 -5.238281 -0.125 -4.9375 C 0.0390625 -4.644531 0.125 -4.28125 0.125 -3.84375 C 0.125 -3.382812 0.0351562 -2.984375 -0.140625 -2.640625 C -0.316406 -2.304688 -0.597656 -2.050781 -0.984375 -1.875 L -0.984375 -1.84375 C -0.972656 -1.84375 -0.9375 -1.84375 -0.875 -1.84375 C -0.8125 -1.851562 -0.734375 -1.859375 -0.640625 -1.859375 C -0.546875 -1.859375 -0.441406 -1.859375 -0.328125 -1.859375 C -0.210938 -1.859375 -0.0976562 -1.859375 0.015625 -1.859375 L 2.484375 -1.859375 L 2.484375 -0.8125 L -5.046875 -0.8125 C -5.203125 -0.8125 -5.347656 -0.804688 -5.484375 -0.796875 C -5.628906 -0.796875 -5.757812 -0.796875 -5.875 -0.796875 C -5.988281 -0.796875 -6.082031 -0.789062 -6.15625 -0.78125 C -6.238281 -0.78125 -6.300781 -0.78125 -6.34375 -0.78125 L -6.34375 -1.796875 C -6.332031 -1.796875 -6.289062 -1.796875 -6.21875 -1.796875 C -6.144531 -1.804688 -6.054688 -1.8125 -5.953125 -1.8125 C -5.859375 -1.820312 -5.753906 -1.832031 -5.640625 -1.84375 C -5.523438 -1.851562 -5.421875 -1.859375 -5.328125 -1.859375 L -5.328125 -1.875 C -5.523438 -1.96875 -5.691406 -2.078125 -5.828125 -2.203125 C -5.972656 -2.328125 -6.09375 -2.46875 -6.1875 -2.625 C -6.28125 -2.789062 -6.347656 -2.972656 -6.390625 -3.171875 C -6.429688 -3.367188 -6.453125 -3.59375 -6.453125 -3.84375 C -6.453125 -4.28125 -6.375 -4.644531 -6.21875 -4.9375 C -6.0625 -5.238281 -5.84375 -5.476562 -5.5625 -5.65625 C -5.28125 -5.84375 -4.9375 -5.972656 -4.53125 -6.046875 C -4.132812 -6.128906 -3.691406 -6.171875 -3.203125 -6.171875 Z M -3.171875 -5.0625 C -3.566406 -5.0625 -3.914062 -5.035156 -4.21875 -4.984375 C -4.519531 -4.941406 -4.773438 -4.863281 -4.984375 -4.75 C -5.203125 -4.632812 -5.363281 -4.476562 -5.46875 -4.28125 C -5.582031 -4.09375 -5.640625 -3.851562 -5.640625 -3.5625 C -5.640625 -3.332031 -5.601562 -3.113281 -5.53125 -2.90625 C -5.46875 -2.695312 -5.34375 -2.515625 -5.15625 -2.359375 C -4.96875 -2.210938 -4.707031 -2.09375 -4.375 -2 C -4.050781 -1.90625 -3.625 -1.859375 -3.09375 -1.859375 C -2.644531 -1.859375 -2.265625 -1.894531 -1.953125 -1.96875 C -1.640625 -2.050781 -1.390625 -2.160156 -1.203125 -2.296875 C -1.015625 -2.441406 -0.875 -2.617188 -0.78125 -2.828125 C -0.695312 -3.035156 -0.65625 -3.28125 -0.65625 -3.5625 C -0.65625 -3.851562 -0.710938 -4.09375 -0.828125 -4.28125 C -0.941406 -4.476562 -1.101562 -4.632812 -1.3125 -4.75 C -1.53125 -4.863281 -1.796875 -4.941406 -2.109375 -4.984375 C -2.421875 -5.035156 -2.773438 -5.0625 -3.171875 -5.0625 Z M -3.171875 -5.0625 \"/>\n",
       "</symbol>\n",
       "<symbol overflow=\"visible\" id=\"glyph1-9\">\n",
       "<path style=\"stroke:none;\" d=\"M 0 -4.6875 L -2.609375 -2.984375 L 0 -1.265625 L 0 -0.140625 L -3.265625 -2.390625 L -6.34375 -0.234375 L -6.34375 -1.40625 L -3.875 -2.984375 L -6.34375 -4.5625 L -6.34375 -5.734375 L -3.265625 -3.59375 L 0 -5.875 Z M 0 -4.6875 \"/>\n",
       "</symbol>\n",
       "</g>\n",
       "</defs>\n",
       "<g id=\"surface457\">\n",
       "<rect x=\"0\" y=\"0\" width=\"504\" height=\"504\" style=\"fill:rgb(100%,100%,100%);fill-opacity:1;stroke:none;\"/>\n",
       "<path style=\"fill:none;stroke-width:0.75;stroke-linecap:round;stroke-linejoin:round;stroke:rgb(0%,0%,100%);stroke-opacity:1;stroke-miterlimit:10;\" d=\"M 74.398438 416.800781 L 74.398438 416.335938 \"/>\n",
       "<path style=\"fill:none;stroke-width:0.75;stroke-linecap:round;stroke-linejoin:round;stroke:rgb(0%,0%,100%);stroke-opacity:1;stroke-miterlimit:10;\" d=\"M 85.371094 416.800781 L 85.371094 412.8125 \"/>\n",
       "<path style=\"fill:none;stroke-width:0.75;stroke-linecap:round;stroke-linejoin:round;stroke:rgb(0%,0%,100%);stroke-opacity:1;stroke-miterlimit:10;\" d=\"M 96.34375 416.800781 L 96.34375 399.65625 \"/>\n",
       "<path style=\"fill:none;stroke-width:0.75;stroke-linecap:round;stroke-linejoin:round;stroke:rgb(0%,0%,100%);stroke-opacity:1;stroke-miterlimit:10;\" d=\"M 107.3125 416.800781 L 107.3125 367.660156 \"/>\n",
       "<path style=\"fill:none;stroke-width:0.75;stroke-linecap:round;stroke-linejoin:round;stroke:rgb(0%,0%,100%);stroke-opacity:1;stroke-miterlimit:10;\" d=\"M 118.285156 416.800781 L 118.285156 311.148438 \"/>\n",
       "<path style=\"fill:none;stroke-width:0.75;stroke-linecap:round;stroke-linejoin:round;stroke:rgb(0%,0%,100%);stroke-opacity:1;stroke-miterlimit:10;\" d=\"M 129.257812 416.800781 L 129.257812 235.082031 \"/>\n",
       "<path style=\"fill:none;stroke-width:0.75;stroke-linecap:round;stroke-linejoin:round;stroke:rgb(0%,0%,100%);stroke-opacity:1;stroke-miterlimit:10;\" d=\"M 140.230469 416.800781 L 140.230469 156.335938 \"/>\n",
       "<path style=\"fill:none;stroke-width:0.75;stroke-linecap:round;stroke-linejoin:round;stroke:rgb(0%,0%,100%);stroke-opacity:1;stroke-miterlimit:10;\" d=\"M 151.199219 416.800781 L 151.199219 96.800781 \"/>\n",
       "<path style=\"fill:none;stroke-width:0.75;stroke-linecap:round;stroke-linejoin:round;stroke:rgb(0%,0%,100%);stroke-opacity:1;stroke-miterlimit:10;\" d=\"M 162.171875 416.800781 L 162.171875 72.800781 \"/>\n",
       "<path style=\"fill:none;stroke-width:0.75;stroke-linecap:round;stroke-linejoin:round;stroke:rgb(0%,0%,100%);stroke-opacity:1;stroke-miterlimit:10;\" d=\"M 173.144531 416.800781 L 173.144531 88.089844 \"/>\n",
       "<path style=\"fill:none;stroke-width:0.75;stroke-linecap:round;stroke-linejoin:round;stroke:rgb(0%,0%,100%);stroke-opacity:1;stroke-miterlimit:10;\" d=\"M 184.113281 416.800781 L 184.113281 134.109375 \"/>\n",
       "<path style=\"fill:none;stroke-width:0.75;stroke-linecap:round;stroke-linejoin:round;stroke:rgb(0%,0%,100%);stroke-opacity:1;stroke-miterlimit:10;\" d=\"M 195.085938 416.800781 L 195.085938 195.785156 \"/>\n",
       "<path style=\"fill:none;stroke-width:0.75;stroke-linecap:round;stroke-linejoin:round;stroke:rgb(0%,0%,100%);stroke-opacity:1;stroke-miterlimit:10;\" d=\"M 206.058594 416.800781 L 206.058594 258.40625 \"/>\n",
       "<path style=\"fill:none;stroke-width:0.75;stroke-linecap:round;stroke-linejoin:round;stroke:rgb(0%,0%,100%);stroke-opacity:1;stroke-miterlimit:10;\" d=\"M 217.027344 416.800781 L 217.027344 312.015625 \"/>\n",
       "<path style=\"fill:none;stroke-width:0.75;stroke-linecap:round;stroke-linejoin:round;stroke:rgb(0%,0%,100%);stroke-opacity:1;stroke-miterlimit:10;\" d=\"M 228 416.800781 L 228 352.433594 \"/>\n",
       "<path style=\"fill:none;stroke-width:0.75;stroke-linecap:round;stroke-linejoin:round;stroke:rgb(0%,0%,100%);stroke-opacity:1;stroke-miterlimit:10;\" d=\"M 238.972656 416.800781 L 238.972656 379.894531 \"/>\n",
       "<path style=\"fill:none;stroke-width:0.75;stroke-linecap:round;stroke-linejoin:round;stroke:rgb(0%,0%,100%);stroke-opacity:1;stroke-miterlimit:10;\" d=\"M 249.941406 416.800781 L 249.941406 396.964844 \"/>\n",
       "<path style=\"fill:none;stroke-width:0.75;stroke-linecap:round;stroke-linejoin:round;stroke:rgb(0%,0%,100%);stroke-opacity:1;stroke-miterlimit:10;\" d=\"M 260.914062 416.800781 L 260.914062 406.765625 \"/>\n",
       "<path style=\"fill:none;stroke-width:0.75;stroke-linecap:round;stroke-linejoin:round;stroke:rgb(0%,0%,100%);stroke-opacity:1;stroke-miterlimit:10;\" d=\"M 271.886719 416.800781 L 271.886719 412.003906 \"/>\n",
       "<path style=\"fill:none;stroke-width:0.75;stroke-linecap:round;stroke-linejoin:round;stroke:rgb(0%,0%,100%);stroke-opacity:1;stroke-miterlimit:10;\" d=\"M 282.855469 416.800781 L 282.855469 414.628906 \"/>\n",
       "<path style=\"fill:none;stroke-width:0.75;stroke-linecap:round;stroke-linejoin:round;stroke:rgb(0%,0%,100%);stroke-opacity:1;stroke-miterlimit:10;\" d=\"M 293.828125 416.800781 L 293.828125 415.867188 \"/>\n",
       "<path style=\"fill:none;stroke-width:0.75;stroke-linecap:round;stroke-linejoin:round;stroke:rgb(0%,0%,100%);stroke-opacity:1;stroke-miterlimit:10;\" d=\"M 304.800781 416.800781 L 304.800781 416.417969 \"/>\n",
       "<path style=\"fill:none;stroke-width:0.75;stroke-linecap:round;stroke-linejoin:round;stroke:rgb(0%,0%,100%);stroke-opacity:1;stroke-miterlimit:10;\" d=\"M 315.769531 416.800781 L 315.769531 416.652344 \"/>\n",
       "<path style=\"fill:none;stroke-width:0.75;stroke-linecap:round;stroke-linejoin:round;stroke:rgb(0%,0%,100%);stroke-opacity:1;stroke-miterlimit:10;\" d=\"M 326.742188 416.800781 L 326.742188 416.746094 \"/>\n",
       "<path style=\"fill:none;stroke-width:0.75;stroke-linecap:round;stroke-linejoin:round;stroke:rgb(0%,0%,100%);stroke-opacity:1;stroke-miterlimit:10;\" d=\"M 337.714844 416.800781 L 337.714844 416.78125 \"/>\n",
       "<path style=\"fill:none;stroke-width:0.75;stroke-linecap:round;stroke-linejoin:round;stroke:rgb(0%,0%,100%);stroke-opacity:1;stroke-miterlimit:10;\" d=\"M 348.6875 416.800781 L 348.6875 416.792969 \"/>\n",
       "<path style=\"fill:none;stroke-width:0.75;stroke-linecap:round;stroke-linejoin:round;stroke:rgb(0%,0%,100%);stroke-opacity:1;stroke-miterlimit:10;\" d=\"M 359.65625 416.800781 L 359.65625 416.796875 \"/>\n",
       "<path style=\"fill:none;stroke-width:0.75;stroke-linecap:round;stroke-linejoin:round;stroke:rgb(0%,0%,100%);stroke-opacity:1;stroke-miterlimit:10;\" d=\"M 370.628906 416.800781 L 370.628906 416.800781 \"/>\n",
       "<path style=\"fill:none;stroke-width:0.75;stroke-linecap:round;stroke-linejoin:round;stroke:rgb(0%,0%,100%);stroke-opacity:1;stroke-miterlimit:10;\" d=\"M 381.601562 416.800781 L 381.601562 416.800781 \"/>\n",
       "<path style=\"fill:none;stroke-width:0.75;stroke-linecap:round;stroke-linejoin:round;stroke:rgb(0%,0%,100%);stroke-opacity:1;stroke-miterlimit:10;\" d=\"M 392.570312 416.800781 L 392.570312 416.800781 \"/>\n",
       "<path style=\"fill:none;stroke-width:0.75;stroke-linecap:round;stroke-linejoin:round;stroke:rgb(0%,0%,100%);stroke-opacity:1;stroke-miterlimit:10;\" d=\"M 403.542969 416.800781 L 403.542969 416.800781 \"/>\n",
       "<path style=\"fill:none;stroke-width:0.75;stroke-linecap:round;stroke-linejoin:round;stroke:rgb(0%,0%,100%);stroke-opacity:1;stroke-miterlimit:10;\" d=\"M 414.515625 416.800781 L 414.515625 416.800781 \"/>\n",
       "<path style=\"fill:none;stroke-width:0.75;stroke-linecap:round;stroke-linejoin:round;stroke:rgb(0%,0%,100%);stroke-opacity:1;stroke-miterlimit:10;\" d=\"M 425.484375 416.800781 L 425.484375 416.800781 \"/>\n",
       "<path style=\"fill:none;stroke-width:0.75;stroke-linecap:round;stroke-linejoin:round;stroke:rgb(0%,0%,100%);stroke-opacity:1;stroke-miterlimit:10;\" d=\"M 436.457031 416.800781 L 436.457031 416.800781 \"/>\n",
       "<path style=\"fill:none;stroke-width:0.75;stroke-linecap:round;stroke-linejoin:round;stroke:rgb(0%,0%,100%);stroke-opacity:1;stroke-miterlimit:10;\" d=\"M 447.429688 416.800781 L 447.429688 416.800781 \"/>\n",
       "<path style=\"fill:none;stroke-width:0.75;stroke-linecap:round;stroke-linejoin:round;stroke:rgb(0%,0%,100%);stroke-opacity:1;stroke-miterlimit:10;\" d=\"M 458.398438 416.800781 L 458.398438 416.800781 \"/>\n",
       "<path style=\"fill:none;stroke-width:0.75;stroke-linecap:round;stroke-linejoin:round;stroke:rgb(0%,0%,0%);stroke-opacity:1;stroke-miterlimit:10;\" d=\"M 74.398438 430.558594 L 458.398438 430.558594 \"/>\n",
       "<path style=\"fill:none;stroke-width:0.75;stroke-linecap:round;stroke-linejoin:round;stroke:rgb(0%,0%,0%);stroke-opacity:1;stroke-miterlimit:10;\" d=\"M 74.398438 430.558594 L 74.398438 437.761719 \"/>\n",
       "<path style=\"fill:none;stroke-width:0.75;stroke-linecap:round;stroke-linejoin:round;stroke:rgb(0%,0%,0%);stroke-opacity:1;stroke-miterlimit:10;\" d=\"M 129.257812 430.558594 L 129.257812 437.761719 \"/>\n",
       "<path style=\"fill:none;stroke-width:0.75;stroke-linecap:round;stroke-linejoin:round;stroke:rgb(0%,0%,0%);stroke-opacity:1;stroke-miterlimit:10;\" d=\"M 184.113281 430.558594 L 184.113281 437.761719 \"/>\n",
       "<path style=\"fill:none;stroke-width:0.75;stroke-linecap:round;stroke-linejoin:round;stroke:rgb(0%,0%,0%);stroke-opacity:1;stroke-miterlimit:10;\" d=\"M 238.972656 430.558594 L 238.972656 437.761719 \"/>\n",
       "<path style=\"fill:none;stroke-width:0.75;stroke-linecap:round;stroke-linejoin:round;stroke:rgb(0%,0%,0%);stroke-opacity:1;stroke-miterlimit:10;\" d=\"M 293.828125 430.558594 L 293.828125 437.761719 \"/>\n",
       "<path style=\"fill:none;stroke-width:0.75;stroke-linecap:round;stroke-linejoin:round;stroke:rgb(0%,0%,0%);stroke-opacity:1;stroke-miterlimit:10;\" d=\"M 348.6875 430.558594 L 348.6875 437.761719 \"/>\n",
       "<path style=\"fill:none;stroke-width:0.75;stroke-linecap:round;stroke-linejoin:round;stroke:rgb(0%,0%,0%);stroke-opacity:1;stroke-miterlimit:10;\" d=\"M 403.542969 430.558594 L 403.542969 437.761719 \"/>\n",
       "<path style=\"fill:none;stroke-width:0.75;stroke-linecap:round;stroke-linejoin:round;stroke:rgb(0%,0%,0%);stroke-opacity:1;stroke-miterlimit:10;\" d=\"M 458.398438 430.558594 L 458.398438 437.761719 \"/>\n",
       "<g style=\"fill:rgb(0%,0%,0%);fill-opacity:1;\">\n",
       "  <use xlink:href=\"#glyph0-1\" x=\"70.898438\" y=\"456.34375\"/>\n",
       "</g>\n",
       "<g style=\"fill:rgb(0%,0%,0%);fill-opacity:1;\">\n",
       "  <use xlink:href=\"#glyph0-2\" x=\"125.757812\" y=\"456.34375\"/>\n",
       "</g>\n",
       "<g style=\"fill:rgb(0%,0%,0%);fill-opacity:1;\">\n",
       "  <use xlink:href=\"#glyph0-3\" x=\"177.113281\" y=\"456.34375\"/>\n",
       "  <use xlink:href=\"#glyph0-1\" x=\"184.113281\" y=\"456.34375\"/>\n",
       "</g>\n",
       "<g style=\"fill:rgb(0%,0%,0%);fill-opacity:1;\">\n",
       "  <use xlink:href=\"#glyph0-3\" x=\"231.972656\" y=\"456.34375\"/>\n",
       "  <use xlink:href=\"#glyph0-2\" x=\"238.972656\" y=\"456.34375\"/>\n",
       "</g>\n",
       "<g style=\"fill:rgb(0%,0%,0%);fill-opacity:1;\">\n",
       "  <use xlink:href=\"#glyph0-4\" x=\"286.828125\" y=\"456.34375\"/>\n",
       "  <use xlink:href=\"#glyph0-1\" x=\"293.828125\" y=\"456.34375\"/>\n",
       "</g>\n",
       "<g style=\"fill:rgb(0%,0%,0%);fill-opacity:1;\">\n",
       "  <use xlink:href=\"#glyph0-4\" x=\"341.6875\" y=\"456.34375\"/>\n",
       "  <use xlink:href=\"#glyph0-2\" x=\"348.6875\" y=\"456.34375\"/>\n",
       "</g>\n",
       "<g style=\"fill:rgb(0%,0%,0%);fill-opacity:1;\">\n",
       "  <use xlink:href=\"#glyph0-5\" x=\"396.542969\" y=\"456.34375\"/>\n",
       "  <use xlink:href=\"#glyph0-1\" x=\"403.542969\" y=\"456.34375\"/>\n",
       "</g>\n",
       "<g style=\"fill:rgb(0%,0%,0%);fill-opacity:1;\">\n",
       "  <use xlink:href=\"#glyph0-5\" x=\"451.398438\" y=\"456.34375\"/>\n",
       "  <use xlink:href=\"#glyph0-2\" x=\"458.398438\" y=\"456.34375\"/>\n",
       "</g>\n",
       "<path style=\"fill:none;stroke-width:0.75;stroke-linecap:round;stroke-linejoin:round;stroke:rgb(0%,0%,0%);stroke-opacity:1;stroke-miterlimit:10;\" d=\"M 59.039062 416.800781 L 59.039062 64.304688 \"/>\n",
       "<path style=\"fill:none;stroke-width:0.75;stroke-linecap:round;stroke-linejoin:round;stroke:rgb(0%,0%,0%);stroke-opacity:1;stroke-miterlimit:10;\" d=\"M 59.039062 416.800781 L 51.839844 416.800781 \"/>\n",
       "<path style=\"fill:none;stroke-width:0.75;stroke-linecap:round;stroke-linejoin:round;stroke:rgb(0%,0%,0%);stroke-opacity:1;stroke-miterlimit:10;\" d=\"M 59.039062 366.445312 L 51.839844 366.445312 \"/>\n",
       "<path style=\"fill:none;stroke-width:0.75;stroke-linecap:round;stroke-linejoin:round;stroke:rgb(0%,0%,0%);stroke-opacity:1;stroke-miterlimit:10;\" d=\"M 59.039062 316.085938 L 51.839844 316.085938 \"/>\n",
       "<path style=\"fill:none;stroke-width:0.75;stroke-linecap:round;stroke-linejoin:round;stroke:rgb(0%,0%,0%);stroke-opacity:1;stroke-miterlimit:10;\" d=\"M 59.039062 265.730469 L 51.839844 265.730469 \"/>\n",
       "<path style=\"fill:none;stroke-width:0.75;stroke-linecap:round;stroke-linejoin:round;stroke:rgb(0%,0%,0%);stroke-opacity:1;stroke-miterlimit:10;\" d=\"M 59.039062 215.375 L 51.839844 215.375 \"/>\n",
       "<path style=\"fill:none;stroke-width:0.75;stroke-linecap:round;stroke-linejoin:round;stroke:rgb(0%,0%,0%);stroke-opacity:1;stroke-miterlimit:10;\" d=\"M 59.039062 165.019531 L 51.839844 165.019531 \"/>\n",
       "<path style=\"fill:none;stroke-width:0.75;stroke-linecap:round;stroke-linejoin:round;stroke:rgb(0%,0%,0%);stroke-opacity:1;stroke-miterlimit:10;\" d=\"M 59.039062 114.664062 L 51.839844 114.664062 \"/>\n",
       "<path style=\"fill:none;stroke-width:0.75;stroke-linecap:round;stroke-linejoin:round;stroke:rgb(0%,0%,0%);stroke-opacity:1;stroke-miterlimit:10;\" d=\"M 59.039062 64.304688 L 51.839844 64.304688 \"/>\n",
       "<g style=\"fill:rgb(0%,0%,0%);fill-opacity:1;\">\n",
       "  <use xlink:href=\"#glyph1-1\" x=\"41.625\" y=\"428.800781\"/>\n",
       "  <use xlink:href=\"#glyph1-2\" x=\"41.625\" y=\"421.800781\"/>\n",
       "  <use xlink:href=\"#glyph1-1\" x=\"41.625\" y=\"418.800781\"/>\n",
       "  <use xlink:href=\"#glyph1-1\" x=\"41.625\" y=\"411.800781\"/>\n",
       "</g>\n",
       "<g style=\"fill:rgb(0%,0%,0%);fill-opacity:1;\">\n",
       "  <use xlink:href=\"#glyph1-1\" x=\"41.625\" y=\"378.445312\"/>\n",
       "  <use xlink:href=\"#glyph1-2\" x=\"41.625\" y=\"371.445312\"/>\n",
       "  <use xlink:href=\"#glyph1-1\" x=\"41.625\" y=\"368.445312\"/>\n",
       "  <use xlink:href=\"#glyph1-3\" x=\"41.625\" y=\"361.445312\"/>\n",
       "</g>\n",
       "<g style=\"fill:rgb(0%,0%,0%);fill-opacity:1;\">\n",
       "  <use xlink:href=\"#glyph1-1\" x=\"41.625\" y=\"328.085938\"/>\n",
       "  <use xlink:href=\"#glyph1-2\" x=\"41.625\" y=\"321.085938\"/>\n",
       "  <use xlink:href=\"#glyph1-1\" x=\"41.625\" y=\"318.085938\"/>\n",
       "  <use xlink:href=\"#glyph1-4\" x=\"41.625\" y=\"311.085938\"/>\n",
       "</g>\n",
       "<g style=\"fill:rgb(0%,0%,0%);fill-opacity:1;\">\n",
       "  <use xlink:href=\"#glyph1-1\" x=\"41.625\" y=\"277.730469\"/>\n",
       "  <use xlink:href=\"#glyph1-2\" x=\"41.625\" y=\"270.730469\"/>\n",
       "  <use xlink:href=\"#glyph1-1\" x=\"41.625\" y=\"267.730469\"/>\n",
       "  <use xlink:href=\"#glyph1-5\" x=\"41.625\" y=\"260.730469\"/>\n",
       "</g>\n",
       "<g style=\"fill:rgb(0%,0%,0%);fill-opacity:1;\">\n",
       "  <use xlink:href=\"#glyph1-1\" x=\"41.625\" y=\"227.375\"/>\n",
       "  <use xlink:href=\"#glyph1-2\" x=\"41.625\" y=\"220.375\"/>\n",
       "  <use xlink:href=\"#glyph1-1\" x=\"41.625\" y=\"217.375\"/>\n",
       "  <use xlink:href=\"#glyph1-6\" x=\"41.625\" y=\"210.375\"/>\n",
       "</g>\n",
       "<g style=\"fill:rgb(0%,0%,0%);fill-opacity:1;\">\n",
       "  <use xlink:href=\"#glyph1-1\" x=\"41.625\" y=\"177.019531\"/>\n",
       "  <use xlink:href=\"#glyph1-2\" x=\"41.625\" y=\"170.019531\"/>\n",
       "  <use xlink:href=\"#glyph1-7\" x=\"41.625\" y=\"167.019531\"/>\n",
       "  <use xlink:href=\"#glyph1-1\" x=\"41.625\" y=\"160.019531\"/>\n",
       "</g>\n",
       "<g style=\"fill:rgb(0%,0%,0%);fill-opacity:1;\">\n",
       "  <use xlink:href=\"#glyph1-1\" x=\"41.625\" y=\"126.664062\"/>\n",
       "  <use xlink:href=\"#glyph1-2\" x=\"41.625\" y=\"119.664062\"/>\n",
       "  <use xlink:href=\"#glyph1-7\" x=\"41.625\" y=\"116.664062\"/>\n",
       "  <use xlink:href=\"#glyph1-3\" x=\"41.625\" y=\"109.664062\"/>\n",
       "</g>\n",
       "<g style=\"fill:rgb(0%,0%,0%);fill-opacity:1;\">\n",
       "  <use xlink:href=\"#glyph1-1\" x=\"41.625\" y=\"76.304688\"/>\n",
       "  <use xlink:href=\"#glyph1-2\" x=\"41.625\" y=\"69.304688\"/>\n",
       "  <use xlink:href=\"#glyph1-7\" x=\"41.625\" y=\"66.304688\"/>\n",
       "  <use xlink:href=\"#glyph1-4\" x=\"41.625\" y=\"59.304688\"/>\n",
       "</g>\n",
       "<path style=\"fill:none;stroke-width:0.75;stroke-linecap:round;stroke-linejoin:round;stroke:rgb(0%,0%,0%);stroke-opacity:1;stroke-miterlimit:10;\" d=\"M 59.039062 430.558594 L 473.761719 430.558594 L 473.761719 59.039062 L 59.039062 59.039062 Z M 59.039062 430.558594 \"/>\n",
       "<g style=\"fill:rgb(0%,0%,0%);fill-opacity:1;\">\n",
       "  <use xlink:href=\"#glyph0-6\" x=\"263.398438\" y=\"485.144531\"/>\n",
       "</g>\n",
       "<g style=\"fill:rgb(0%,0%,0%);fill-opacity:1;\">\n",
       "  <use xlink:href=\"#glyph1-8\" x=\"12.824219\" y=\"251.300781\"/>\n",
       "  <use xlink:href=\"#glyph1-9\" x=\"12.824219\" y=\"244.300781\"/>\n",
       "</g>\n",
       "</g>\n",
       "</svg>\n"
      ],
      "text/plain": [
       "plot without title"
      ]
     },
     "metadata": {
      "application/pdf": {
       "height": 420,
       "width": 420
      },
      "image/jpeg": {
       "height": 420,
       "width": 420
      },
      "image/png": {
       "height": 420,
       "width": 420
      },
      "image/svg+xml": {
       "height": 420,
       "isolated": true,
       "width": 420
      }
     },
     "output_type": "display_data"
    }
   ],
   "source": [
    "x = c(0:35)\n",
    "lambda = 8.6 # per 1 day\n",
    "px = dpois(x, lambda)\n",
    "cpx = ppois(x, lambda)\n",
    "# A\n",
    "print(round(px[8],4))\n",
    "# B\n",
    "print(round(1 - cpx[7],4))\n",
    "# C\n",
    "print(round(cpx[12] - cpx[7],4))\n",
    "# D\n",
    "std = sqrt(lambda)\n",
    "print(std)\n",
    "# E\n",
    "mean = lambda / 11\n",
    "print(round(mean, 3))\n",
    "# plot\n",
    "plot(x, px, type=\"h\", col=\"blue\")"
   ]
  },
  {
   "cell_type": "markdown",
   "id": "e4de18a9-aa12-4e96-9860-125b8dbfce6b",
   "metadata": {},
   "source": [
    "### Problem 10"
   ]
  },
  {
   "cell_type": "code",
   "execution_count": 32,
   "id": "7343e660-95cf-442f-88fd-e455b332b4ca",
   "metadata": {},
   "outputs": [
    {
     "name": "stdout",
     "output_type": "stream",
     "text": [
      "[1] 0.0768\n",
      "[1] 0.8208\n",
      "[1] 0.2294\n"
     ]
    }
   ],
   "source": [
    "x = c(0:50)\n",
    "lambda = 20.8 # per 15 min\n",
    "px = dpois(x, lambda)\n",
    "cpx = ppois(x, lambda)\n",
    "# B\n",
    "print(round(px[19],4))\n",
    "# C\n",
    "x_5m = c(0:50)\n",
    "lambda_5m = lambda / 3\n",
    "cpx_5m = ppois(x_5m, lambda_5m)\n",
    "print(round(1 - cpx_5m[5],4))\n",
    "# D - conditional probability\n",
    "p_17 = px[18]\n",
    "p_13_to_18 = cpx[19] - cpx[13]\n",
    "p_D = p_17 / p_13_to_18\n",
    "print(round(p_D, 4))"
   ]
  },
  {
   "cell_type": "code",
   "execution_count": null,
   "id": "13fb6dc1-f19a-437a-9bb5-753d903f769e",
   "metadata": {},
   "outputs": [],
   "source": []
  }
 ],
 "metadata": {
  "kernelspec": {
   "display_name": "R",
   "language": "R",
   "name": "ir"
  },
  "language_info": {
   "codemirror_mode": "r",
   "file_extension": ".r",
   "mimetype": "text/x-r-source",
   "name": "R",
   "pygments_lexer": "r",
   "version": "4.1.3"
  }
 },
 "nbformat": 4,
 "nbformat_minor": 5
}
