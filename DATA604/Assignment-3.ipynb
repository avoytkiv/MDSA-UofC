{
 "cells": [
  {
   "cell_type": "markdown",
   "metadata": {},
   "source": [
    "# Assignment 3\n",
    "\n",
    "## Instructions - Read this first!\n",
    "\n",
    "This is an individual homework assignment. This means that:\n",
    "\n",
    "- You may discuss the problems in this assignment with other students in this course and your instructor/TA, but YOUR WORK MUST BE YOUR OWN.\n",
    "- Do not show other students code or your own work on this assignment.\n",
    "- You may consult external references, but not actively receive help from individuals not involved in this course.\n",
    "- Cite all references outside of the course you used, including conversations with other students which were helpful. (This helps us give credit where it is due!). All references must use a commonly accepted reference format, for example, APA or IEEE (or another citation style of your choice).\n",
    "\n",
    "If any of these rules seem ambiguous, please check with with your instructor for help interpreting them.\n",
    "\n",
    "We suggest completing this assignment using the provided notebook. Each question should be answered using a SQL query (or combination or SQL queries) unless the text indicates that you may (or should) do something else. You may submit your queries embedded in Python, using SQLAlchemy or the MySQL Connector, or as plain text in Markdown.\n",
    "\n",
    "## When you submit your work\n",
    "\n",
    "Your submission will be graded manually. To ensure that everything goes smoothly, please follow these instructions to prepare your notebook for submission to the D2L Dropbox for Assignment 3:\n",
    "\n",
    "- Please remove any print statments used to test your work (you can comment them out)\n",
    "- Please provide your solutions where asked; please do not alter any other parts of this notebook.\n",
    "- If you need to add cells to test your code please move them to the end of the notebook before submission- or you may included your commented out answers and tests in the cells provided"
   ]
  },
  {
   "cell_type": "markdown",
   "metadata": {},
   "source": [
    "## Introduction\n",
    "\n",
    "In this assignment, you will continue to practice and extend your SQL skills, and compare your work to MongoDB.\n",
    "\n",
    "We will be using two datasets from Open Data Calgary. The Census by Community 2019 dataset shows results of the 2019 Civic Census. This is a separate process from that used by Statistics Canada to produce the national census, some of which results we explored in the previous assignment. \n",
    "\n",
    "This census data counts dwelling units in the city and categorized the population within each unit, aggregating results by community. The original dataset has been partially cleaned for you, removing some columns which are not relevant to the assignment. However, given that there are still 75 columns remaining, you may want to use SQLAlchemy or another bulk load tool to handle the creation of the database table for this dataset, before altering the table as needed to change data types or creating indexes.\n",
    "\n",
    "The Community Services dataset lists a number of amenities in the city with their address and community. This table has not been altered from the version provided by Open Data Calgary."
   ]
  },
  {
   "cell_type": "markdown",
   "metadata": {},
   "source": [
    "## Data cleaning and import\n",
    "\n",
    "First, import the two CSVs (Community_Services.csv, Census_by_Community_2019.csv) into your own database. You may use what is available to you on datasciencedb or datasciencedb2. You may also create indexes and define keys if appropriate for the column(s) of your choice.\n",
    "\n",
    "In the section below, you have the option to discuss any data cleaning and wrangling steps performed during this process. This is not a requirement and will not be assessed directly for grading; however, this may help to clarify to your reader exactly what was done, to make your work below more understandable."
   ]
  },
  {
   "cell_type": "code",
   "execution_count": 1,
   "outputs": [],
   "source": [
    "# Helper function for making tables look pretty\n",
    "from prettytable import PrettyTable\n",
    "\n",
    "\n",
    "def generate_ascii_table(df):\n",
    "    '''\n",
    "    Reference: https://stackoverflow.com/questions/35160256/how-do-i-output-lists-as-a-table-in-jupyter-notebook\n",
    "    '''\n",
    "    x = PrettyTable()\n",
    "    x.field_names = df.columns.tolist()\n",
    "    for row in df.values:\n",
    "        x.add_row(row)\n",
    "    return x"
   ],
   "metadata": {
    "collapsed": false
   }
  },
  {
   "cell_type": "code",
   "execution_count": 2,
   "metadata": {},
   "outputs": [],
   "source": [
    "import pandas as pd\n",
    "import sqlalchemy as sq\n",
    "\n",
    "# read in your CSV as a dataframe\n",
    "census = pd.read_csv(\"Census_by_Community_2019.csv\")\n",
    "services = pd.read_csv(\"Community_Services.csv\")"
   ]
  },
  {
   "cell_type": "code",
   "execution_count": 3,
   "outputs": [
    {
     "name": "stdout",
     "output_type": "stream",
     "text": [
      "Length of census table is 306 rows\n",
      "Length of services table is 206 rows\n"
     ]
    }
   ],
   "source": [
    "print(\"Length of census table is {0} rows\".format(len(census)))\n",
    "print(\"Length of services table is {0} rows\".format(len(services)))"
   ],
   "metadata": {
    "collapsed": false
   }
  },
  {
   "cell_type": "code",
   "execution_count": 4,
   "outputs": [
    {
     "data": {
      "text/plain": "Series([], dtype: int64)"
     },
     "execution_count": 4,
     "metadata": {},
     "output_type": "execute_result"
    }
   ],
   "source": [
    "services_unique = services.nunique()\n",
    "services_unique[services_unique == len(services)]"
   ],
   "metadata": {
    "collapsed": false
   }
  },
  {
   "cell_type": "code",
   "execution_count": null,
   "outputs": [],
   "source": [
    "# check if there is any primary key column\n",
    "census_unique = census.nunique()\n",
    "census_unique[census_unique == len(census)]"
   ],
   "metadata": {
    "collapsed": false
   }
  },
  {
   "cell_type": "code",
   "execution_count": null,
   "outputs": [],
   "source": [
    "print(\"There are {0} unique COMM_CODE values out of {1} rows.\".format(services['COMM_CODE'].nunique(), len(services)))"
   ],
   "metadata": {
    "collapsed": false
   }
  },
  {
   "cell_type": "markdown",
   "source": [
    "`COMM_CODE` column can be used as a primary key in _census_ table.\n",
    "And as a foreign key in _services_ table."
   ],
   "metadata": {
    "collapsed": false
   }
  },
  {
   "cell_type": "code",
   "execution_count": 3,
   "outputs": [],
   "source": [
    "# connect to your database; include a cell at the bottom of this notebook to dispose of your engine object\n",
    "user = 'andrii_voitkiv1'\n",
    "password = '3RMB68NSY'\n",
    "host = 'datasciencedb.ucalgary.ca'\n",
    "database = 'andrii_voitkiv1'\n",
    "\n",
    "engine = sq.create_engine('mysql+mysqlconnector://{0}:{1}@{2}/{3}'.format(user, password, host, database))\n",
    "# write your dataframe into a table\n",
    "census.to_sql(name='census', con=engine, if_exists='replace')\n",
    "services.to_sql(name='services', con=engine, if_exists='replace')"
   ],
   "metadata": {
    "collapsed": false
   }
  },
  {
   "cell_type": "markdown",
   "metadata": {},
   "source": [
    "## Part A: Warm-up Questions (10 marks)\n",
    "\n",
    "Answer the questions below, including any queries you used where necessary. Not all questions will require a SQL query for a correct response. You may wish to use as a source the references which are already provided as part of this notebook.\n",
    "\n",
    "First, let's look at the Census by Community Data.\n",
    "\n",
    "1. How many communities are included as part of this census? **(1 mark)**\n",
    "\n",
    "2. There are 75 columns in the version of the dataset provided to you. While not all of them are equally interesting, briefly describe the following columns. **(3 marks)**\n",
    "\n",
    "   - CLASS\n",
    "\n",
    "   - SRG (include in your answer all posslbe values)\n",
    "\n",
    "   - COMM_STUCTURE\n",
    "\n",
    "3. What other columns, to your eye, look interesting? Provide an example of a guiding question which would take advantage of one of these columns. **(2 marks)**"
   ]
  },
  {
   "cell_type": "code",
   "execution_count": 7,
   "outputs": [
    {
     "data": {
      "text/plain": "+--------------------+\n| num_of_communities |\n+--------------------+\n|        306         |\n+--------------------+",
      "text/html": "<table>\n    <thead>\n        <tr>\n            <th>num_of_communities</th>\n        </tr>\n    </thead>\n    <tbody>\n        <tr>\n            <td>306</td>\n        </tr>\n    </tbody>\n</table>"
     },
     "execution_count": 7,
     "metadata": {},
     "output_type": "execute_result"
    }
   ],
   "source": [
    "# How many communities are included as part of this census?\n",
    "query0 = '''\n",
    "SELECT COUNT(*) AS num_of_communities FROM census;\n",
    "'''\n",
    "\n",
    "query_table0 = pd.read_sql_query(query0, engine)\n",
    "generate_ascii_table(query_table0)"
   ],
   "metadata": {
    "collapsed": false
   }
  },
  {
   "cell_type": "markdown",
   "source": [
    "_briefly describe the following columns_\n",
    "\n",
    "- CLASS - this column represents a type of construction, such as Industrial, Major Park Area, Residential, Residual Sub Area;\n",
    "- SRG - Reflects the yearly development capacity or housing supply as outlined in the Suburban Residential Growth document, the valid values are: BUILT-OUT, DEVELOPING, NON RESIDENTIAL, and N/A\n",
    "- COMM_STRUCTURE - Used to identify life-cycle patterns and to develop the demographic model of Calgary. Where a decade is listed at least 51% of a community's peak population must be in place by the end of the decade it is assigned to. Valid values are: 1950s, 1960s/1970s, 1970s/1980s, 1980s/1990s, 1990s/2000s, 2000s, Building Out, Centre City, Employment, Inner City, Other, Undeveloped\n",
    "\n",
    "Reference: https://data.calgary.ca/Demographics/Census-by-Community-2019/rkfr-buzb [Columns in this Dataset]"
   ],
   "metadata": {
    "collapsed": false
   }
  },
  {
   "cell_type": "markdown",
   "source": [
    "_What other columns, to your eye, look interesting? Provide an example of a guiding question which would take advantage of one of these columns._\n",
    "\n",
    "\n",
    "**The guiding question:**\n",
    "Which communities have the highest/lowest residential vacancy rate (by type of building)?\n",
    "\n",
    "_Vacant residential building_ - not occupied with the prefix `_VACANT` (excluding manufacturing)\n",
    "_Vacancy rate_  is the proportion of vacant buildings normalized by number of residents in this community.\n",
    "\n",
    "**Interpretation:**\n",
    "The low vacancy rate implies high demand (due to developed infrastructure, good transportation, affordable prices)."
   ],
   "metadata": {
    "collapsed": false
   }
  },
  {
   "cell_type": "markdown",
   "source": [],
   "metadata": {
    "collapsed": false
   }
  },
  {
   "cell_type": "markdown",
   "source": [
    "Next, let's look at the Community Services table.\n",
    "\n",
    "4. How many services in total are there? **(1 mark)**\n",
    "\n",
    "\n",
    "5. List all possible types of community services listed in the table. How many are missing a community code? **(1 mark)**\n",
    "\n",
    "\n",
    "6. Which column is the most useful as a key to be used in a join? **(1 mark)**\n",
    "\n",
    "\n",
    "7. Which community has the highest number of available community services? Include the names of any community with this number of services. **(1 mark)**"
   ],
   "metadata": {
    "collapsed": false
   }
  },
  {
   "cell_type": "code",
   "execution_count": 11,
   "outputs": [
    {
     "data": {
      "text/plain": "+-----------------+\n| num_of_services |\n+-----------------+\n|       206       |\n+-----------------+",
      "text/html": "<table>\n    <thead>\n        <tr>\n            <th>num_of_services</th>\n        </tr>\n    </thead>\n    <tbody>\n        <tr>\n            <td>206</td>\n        </tr>\n    </tbody>\n</table>"
     },
     "execution_count": 11,
     "metadata": {},
     "output_type": "execute_result"
    }
   ],
   "source": [
    "# How many services in total are there?\n",
    "query1 = '''\n",
    "SELECT COUNT(*) AS num_of_services FROM services;\n",
    "'''\n",
    "\n",
    "query_table1 = pd.read_sql_query(query1, engine)\n",
    "generate_ascii_table(query_table1)"
   ],
   "metadata": {
    "collapsed": false
   }
  },
  {
   "cell_type": "code",
   "execution_count": 12,
   "outputs": [
    {
     "data": {
      "text/plain": "+------------------+------------+\n|       TYPE       | count_null |\n+------------------+------------+\n|    Attraction    |    4.0     |\n| Community Centre |    0.0     |\n|      Court       |    0.0     |\n|     Hospital     |    0.0     |\n|     Library      |    0.0     |\n|    PHS Clinic    |    0.0     |\n|  Social Dev Ctr  |    0.0     |\n|   Visitor Info   |    0.0     |\n+------------------+------------+",
      "text/html": "<table>\n    <thead>\n        <tr>\n            <th>TYPE</th>\n            <th>count_null</th>\n        </tr>\n    </thead>\n    <tbody>\n        <tr>\n            <td>Attraction</td>\n            <td>4.0</td>\n        </tr>\n        <tr>\n            <td>Community Centre</td>\n            <td>0.0</td>\n        </tr>\n        <tr>\n            <td>Court</td>\n            <td>0.0</td>\n        </tr>\n        <tr>\n            <td>Hospital</td>\n            <td>0.0</td>\n        </tr>\n        <tr>\n            <td>Library</td>\n            <td>0.0</td>\n        </tr>\n        <tr>\n            <td>PHS Clinic</td>\n            <td>0.0</td>\n        </tr>\n        <tr>\n            <td>Social Dev Ctr</td>\n            <td>0.0</td>\n        </tr>\n        <tr>\n            <td>Visitor Info</td>\n            <td>0.0</td>\n        </tr>\n    </tbody>\n</table>"
     },
     "execution_count": 12,
     "metadata": {},
     "output_type": "execute_result"
    }
   ],
   "source": [
    "# List all possible types of community services listed in the table. How many are missing a community code?\n",
    "query3 = '''\n",
    "SELECT TYPE, SUM(CASE WHEN COMM_CODE IS NULL then 1 else 0 end) AS count_null\n",
    "FROM services\n",
    "GROUP BY 1;\n",
    "'''\n",
    "\n",
    "query_table3 = pd.read_sql_query(query3, engine)\n",
    "generate_ascii_table(query_table3)\n",
    "# One type of community services which is \"Attraction\" has four missing community codes."
   ],
   "metadata": {
    "collapsed": false
   }
  },
  {
   "cell_type": "markdown",
   "source": [
    "_Which column is the most useful as a key to be used in a join?_\n",
    "\n",
    "`COMM_CODE` is the most useful as a key to be used in a join (in this context when we have census table). We can form one-to-many relationship - one record in census table is related to one or more records services table.\n",
    "A column `NAME` is a good candidate as a primary key, but it has two duplicates and one of duplicates has the same address. For that reason I wouldn't recommend to use this column as a key."
   ],
   "metadata": {
    "collapsed": false
   }
  },
  {
   "cell_type": "code",
   "execution_count": 13,
   "outputs": [
    {
     "data": {
      "text/plain": "+-----------+----------------+--------------------------+\n| COMM_CODE | count_services |           NAME           |\n+-----------+----------------+--------------------------+\n|    DNC    |       24       | DOWNTOWN COMMERCIAL CORE |\n+-----------+----------------+--------------------------+",
      "text/html": "<table>\n    <thead>\n        <tr>\n            <th>COMM_CODE</th>\n            <th>count_services</th>\n            <th>NAME</th>\n        </tr>\n    </thead>\n    <tbody>\n        <tr>\n            <td>DNC</td>\n            <td>24</td>\n            <td>DOWNTOWN COMMERCIAL CORE</td>\n        </tr>\n    </tbody>\n</table>"
     },
     "execution_count": 13,
     "metadata": {},
     "output_type": "execute_result"
    }
   ],
   "source": [
    "# Which community has the highest number of available community services?\n",
    "# Include the names of any community with this number of services.\n",
    "query4 = '''\n",
    "SELECT a.COMM_CODE, a.count_services, b.NAME\n",
    "FROM (SELECT COMM_CODE, COUNT(TYPE) AS count_services\n",
    "      FROM services\n",
    "      WHERE COMM_CODE IS NOT NULL\n",
    "      GROUP BY 1\n",
    "      ORDER BY count_services DESC\n",
    "      LIMIT 1) AS a\n",
    "         JOIN\n",
    "     (SELECT COMM_CODE, NAME\n",
    "      FROM census) AS b ON a.COMM_CODE = b.COMM_CODE\n",
    "'''\n",
    "\n",
    "query_table4 = pd.read_sql_query(query4, engine)\n",
    "generate_ascii_table(query_table4)"
   ],
   "metadata": {
    "collapsed": false
   }
  },
  {
   "cell_type": "markdown",
   "metadata": {},
   "source": [
    "## Part B: SQL with multiple tables (13 marks)\n",
    "\n",
    "\n",
    "What is the population of seniors (male and female, or other, aged 65 and over) in the community or communities with the most community services? **(2 marks)**\n",
    "\n",
    "What is the population of children (male and female, or other, aged 0 to 14), in the community or communities with the most community services?  **(2 marks)**\n",
    "\n",
    "What is the total population of seniors (male and female, or other, aged 65 and over) in all communities that contain nursing homes?  **(2 marks)**\n",
    "\n",
    "What is the total number of residents, children (using the definition above) and seniors (using the definitions above) in communities which do not have any community services?  **(2 marks)**\n",
    "\n",
    "Generate a list of the ten such communities with the greatest number of residents.  **(2 marks)**\n",
    "\n",
    "Prepare a list of community services as follows: **(3 marks)**\n",
    "- Each community service should list, for the community which they are in, the total number of residents, the total number of preschool children, and the number of dwellings.\n",
    "- Community services with no community listed should use a meaningful placeholder in the result.\n",
    "- Communities with no community services should be included in the results, with a meaningful placeholder where data for community services would ordinarily be included."
   ]
  },
  {
   "cell_type": "code",
   "execution_count": 15,
   "outputs": [
    {
     "data": {
      "text/plain": "+-----------+-----------------+\n| COMM_CODE | seniors_over_65 |\n+-----------+-----------------+\n|    DNC    |       820       |\n+-----------+-----------------+",
      "text/html": "<table>\n    <thead>\n        <tr>\n            <th>COMM_CODE</th>\n            <th>seniors_over_65</th>\n        </tr>\n    </thead>\n    <tbody>\n        <tr>\n            <td>DNC</td>\n            <td>820</td>\n        </tr>\n    </tbody>\n</table>"
     },
     "execution_count": 15,
     "metadata": {},
     "output_type": "execute_result"
    }
   ],
   "source": [
    "# What is the population of seniors (male and female, or other, aged 65 and over) in the community or communities with the most community services?\n",
    "query5 = '''\n",
    "SELECT COMM_CODE,\n",
    "       MF_65_74 + MF_75 + OTHER_65_74 + OTHER_75 AS seniors_over_65\n",
    "FROM census\n",
    "WHERE COMM_CODE =\n",
    "      (SELECT a.COMM_CODE\n",
    "       FROM (SELECT COMM_CODE, COUNT(TYPE) AS count_services\n",
    "             FROM services\n",
    "             WHERE COMM_CODE IS NOT NULL\n",
    "             GROUP BY 1\n",
    "             ORDER BY count_services DESC\n",
    "             LIMIT 1) a);\n",
    "'''\n",
    "\n",
    "query_table5 = pd.read_sql_query(query5, engine)\n",
    "generate_ascii_table(query_table5)"
   ],
   "metadata": {
    "collapsed": false
   }
  },
  {
   "cell_type": "code",
   "execution_count": 16,
   "outputs": [
    {
     "data": {
      "text/plain": "+-----------+-------------------+\n| COMM_CODE | children_under_14 |\n+-----------+-------------------+\n|    DNC    |        817        |\n+-----------+-------------------+",
      "text/html": "<table>\n    <thead>\n        <tr>\n            <th>COMM_CODE</th>\n            <th>children_under_14</th>\n        </tr>\n    </thead>\n    <tbody>\n        <tr>\n            <td>DNC</td>\n            <td>817</td>\n        </tr>\n    </tbody>\n</table>"
     },
     "execution_count": 16,
     "metadata": {},
     "output_type": "execute_result"
    }
   ],
   "source": [
    "# What is the population of children (male and female, or other, aged 0 to 14), in the community or communities with the most community services?\n",
    "query5 = '''\n",
    "SELECT COMM_CODE,\n",
    "       MF_0_4 + MF_5_14 + OTHER_0_4 + OTHER_5_14 AS children_under_14\n",
    "FROM census\n",
    "WHERE COMM_CODE =\n",
    "      (SELECT a.COMM_CODE\n",
    "       FROM (SELECT COMM_CODE, COUNT(TYPE) AS count_services\n",
    "             FROM services\n",
    "             WHERE COMM_CODE IS NOT NULL\n",
    "             GROUP BY 1\n",
    "             ORDER BY count_services DESC\n",
    "             LIMIT 1) a);\n",
    "'''\n",
    "\n",
    "query_table5 = pd.read_sql_query(query5, engine)\n",
    "generate_ascii_table(query_table5)"
   ],
   "metadata": {
    "collapsed": false
   }
  },
  {
   "cell_type": "code",
   "execution_count": 18,
   "outputs": [
    {
     "data": {
      "text/plain": "+-----------------------------+\n| total_seniors_nursing_homes |\n+-----------------------------+\n|           58320.0           |\n+-----------------------------+",
      "text/html": "<table>\n    <thead>\n        <tr>\n            <th>total_seniors_nursing_homes</th>\n        </tr>\n    </thead>\n    <tbody>\n        <tr>\n            <td>58320.0</td>\n        </tr>\n    </tbody>\n</table>"
     },
     "execution_count": 18,
     "metadata": {},
     "output_type": "execute_result"
    }
   ],
   "source": [
    "# What is the total population of seniors (male and female, or other, aged 65 and over) in all communities that contain nursing homes?\n",
    "query6 = '''\n",
    "SELECT SUM(seniors_nursing_homes) AS total_seniors_nursing_homes\n",
    "FROM (SELECT MF_65_74 + MF_75 + OTHER_65_74 + OTHER_75 AS seniors_nursing_homes\n",
    "      FROM census\n",
    "      WHERE NURSING_HM > 0) csnh;\n",
    "'''\n",
    "generate_ascii_table(pd.read_sql_query(query6, engine))"
   ],
   "metadata": {
    "collapsed": false
   }
  },
  {
   "cell_type": "code",
   "execution_count": 24,
   "outputs": [
    {
     "data": {
      "text/plain": "+------------------------------+\n| Total_population_no_services |\n+------------------------------+\n|           156162.0           |\n+------------------------------+",
      "text/html": "<table>\n    <thead>\n        <tr>\n            <th>Total_population_no_services</th>\n        </tr>\n    </thead>\n    <tbody>\n        <tr>\n            <td>156162.0</td>\n        </tr>\n    </tbody>\n</table>"
     },
     "execution_count": 24,
     "metadata": {},
     "output_type": "execute_result"
    }
   ],
   "source": [
    "# What is the total number of residents, children (using the definition above) and seniors (using the definitions above) in communities which do not have any community services?\n",
    "'''\n",
    "Methodology:\n",
    "1. By left outer joining census with services table (ON COMM_CODE) I get nulls in services.COMM_CODE column,\n",
    "meaning we don't have some communities from census table listed in services table,\n",
    "meaning these communities don't have services\n",
    "2. Filter table from step 1 (WHERE ...)\n",
    "3. Calculate SUM\n",
    "'''\n",
    "query7 = '''\n",
    "SELECT SUM(temp.population_no_services) AS Total_population_no_services\n",
    "FROM (SELECT c.MF_65_74 + c.MF_75 + c.OTHER_65_74 + c.OTHER_75 +\n",
    "             c.MF_0_4 + c.MF_5_14 + c.OTHER_0_4 + c.OTHER_5_14 AS population_no_services\n",
    "      FROM (SELECT * FROM census) AS c\n",
    "               LEFT OUTER JOIN\n",
    "               (SELECT * FROM services) AS s ON c.COMM_CODE = s.COMM_CODE\n",
    "      WHERE s.COMM_CODE IS NULL) temp\n",
    "'''\n",
    "\n",
    "generate_ascii_table(pd.read_sql_query(query7, engine))"
   ],
   "metadata": {
    "collapsed": false
   }
  },
  {
   "cell_type": "code",
   "execution_count": 26,
   "outputs": [
    {
     "data": {
      "text/plain": "+----------------+---------+\n|      NAME      | RES_CNT |\n+----------------+---------+\n| PANORAMA HILLS |  25710  |\n|  SADDLE RIDGE  |  22321  |\n|   EVERGREEN    |  21500  |\n|    CRANSTON    |  19884  |\n|    TARADALE    |  19026  |\n| MCKENZIE TOWNE |  18283  |\n|    EVANSTON    |  17685  |\n| COVENTRY HILLS |  17667  |\n|   AUBURN BAY   |  17607  |\n|  NEW BRIGHTON  |  13103  |\n+----------------+---------+",
      "text/html": "<table>\n    <thead>\n        <tr>\n            <th>NAME</th>\n            <th>RES_CNT</th>\n        </tr>\n    </thead>\n    <tbody>\n        <tr>\n            <td>PANORAMA HILLS</td>\n            <td>25710</td>\n        </tr>\n        <tr>\n            <td>SADDLE RIDGE</td>\n            <td>22321</td>\n        </tr>\n        <tr>\n            <td>EVERGREEN</td>\n            <td>21500</td>\n        </tr>\n        <tr>\n            <td>CRANSTON</td>\n            <td>19884</td>\n        </tr>\n        <tr>\n            <td>TARADALE</td>\n            <td>19026</td>\n        </tr>\n        <tr>\n            <td>MCKENZIE TOWNE</td>\n            <td>18283</td>\n        </tr>\n        <tr>\n            <td>EVANSTON</td>\n            <td>17685</td>\n        </tr>\n        <tr>\n            <td>COVENTRY HILLS</td>\n            <td>17667</td>\n        </tr>\n        <tr>\n            <td>AUBURN BAY</td>\n            <td>17607</td>\n        </tr>\n        <tr>\n            <td>NEW BRIGHTON</td>\n            <td>13103</td>\n        </tr>\n    </tbody>\n</table>"
     },
     "execution_count": 26,
     "metadata": {},
     "output_type": "execute_result"
    }
   ],
   "source": [
    "# Generate a list of the ten such communities with the greatest number of residents\n",
    "'''\n",
    "I assume that the word \"such\" is related to the previous question. And the question sounds:\n",
    "Generate a list of the ten communities which do not have any community services with the greatest number of residents\n",
    "'''\n",
    "query8 = '''\n",
    "SELECT c.NAME, c.RES_CNT\n",
    "FROM (SELECT * FROM census) AS c\n",
    "         LEFT OUTER JOIN\n",
    "         (SELECT * FROM services) AS s ON c.COMM_CODE = s.COMM_CODE\n",
    "WHERE s.COMM_CODE IS NULL\n",
    "ORDER BY c.RES_CNT DESC\n",
    "LIMIT 10\n",
    "'''\n",
    "\n",
    "generate_ascii_table(pd.read_sql_query(query8, engine))\n"
   ],
   "metadata": {
    "collapsed": false
   }
  },
  {
   "cell_type": "code",
   "execution_count": 34,
   "outputs": [
    {
     "data": {
      "text/plain": "               community_name      service_type  \\\n0                CAPITOL HILL  Community Centre   \n1         CANADA OLYMPIC PARK        Attraction   \n2                   MIDNAPORE  Community Centre   \n3    DOWNTOWN COMMERCIAL CORE        Attraction   \n4                 MAPLE RIDGE  Community Centre   \n..                        ...               ...   \n376    Unknown community name        Attraction   \n377    Unknown community name        Attraction   \n378    Unknown community name    Social Dev Ctr   \n379    Unknown community name        Attraction   \n380    Unknown community name        Attraction   \n\n                                  service_name  \\\n0                    Rosemont Community Centre   \n1               WinSport's Canada Olympic Park   \n2                     Mid-Sun Community Centre   \n3                                 Arts Commons   \n4    Willow Park / Mapleridge Community Centre   \n..                                         ...   \n376           Spruce Meadows Equestrian Centre   \n377                               Peace Bridge   \n378                                  West Area   \n379                          The Police Museum   \n380          Butterfield Acres Children's Farm   \n\n                                      RES_CNT  \\\n0                                        4744   \n1                                           0   \n2                                        7270   \n3                                        8683   \n4                                        1916   \n..                                        ...   \n376  Unknown res count served by this service   \n377  Unknown res count served by this service   \n378  Unknown res count served by this service   \n379  Unknown res count served by this service   \n380  Unknown res count served by this service   \n\n                                            PRSCH_CHLD  \\\n0                                                  325   \n1                                                    0   \n2                                                  442   \n3                                                  503   \n4                                                   72   \n..                                                 ...   \n376  Unknown number of prsch chld served by this se...   \n377  Unknown number of prsch chld served by this se...   \n378  Unknown number of prsch chld served by this se...   \n379  Unknown number of prsch chld served by this se...   \n380  Unknown number of prsch chld served by this se...   \n\n                                      DWELL_CNT  \n0                                          2440  \n1                                             0  \n2                                          2898  \n3                                          5679  \n4                                           819  \n..                                          ...  \n376  Unknown dwell count served by this service  \n377  Unknown dwell count served by this service  \n378  Unknown dwell count served by this service  \n379  Unknown dwell count served by this service  \n380  Unknown dwell count served by this service  \n\n[381 rows x 6 columns]",
      "text/html": "<div>\n<style scoped>\n    .dataframe tbody tr th:only-of-type {\n        vertical-align: middle;\n    }\n\n    .dataframe tbody tr th {\n        vertical-align: top;\n    }\n\n    .dataframe thead th {\n        text-align: right;\n    }\n</style>\n<table border=\"1\" class=\"dataframe\">\n  <thead>\n    <tr style=\"text-align: right;\">\n      <th></th>\n      <th>community_name</th>\n      <th>service_type</th>\n      <th>service_name</th>\n      <th>RES_CNT</th>\n      <th>PRSCH_CHLD</th>\n      <th>DWELL_CNT</th>\n    </tr>\n  </thead>\n  <tbody>\n    <tr>\n      <th>0</th>\n      <td>CAPITOL HILL</td>\n      <td>Community Centre</td>\n      <td>Rosemont Community Centre</td>\n      <td>4744</td>\n      <td>325</td>\n      <td>2440</td>\n    </tr>\n    <tr>\n      <th>1</th>\n      <td>CANADA OLYMPIC PARK</td>\n      <td>Attraction</td>\n      <td>WinSport's Canada Olympic Park</td>\n      <td>0</td>\n      <td>0</td>\n      <td>0</td>\n    </tr>\n    <tr>\n      <th>2</th>\n      <td>MIDNAPORE</td>\n      <td>Community Centre</td>\n      <td>Mid-Sun Community Centre</td>\n      <td>7270</td>\n      <td>442</td>\n      <td>2898</td>\n    </tr>\n    <tr>\n      <th>3</th>\n      <td>DOWNTOWN COMMERCIAL CORE</td>\n      <td>Attraction</td>\n      <td>Arts Commons</td>\n      <td>8683</td>\n      <td>503</td>\n      <td>5679</td>\n    </tr>\n    <tr>\n      <th>4</th>\n      <td>MAPLE RIDGE</td>\n      <td>Community Centre</td>\n      <td>Willow Park / Mapleridge Community Centre</td>\n      <td>1916</td>\n      <td>72</td>\n      <td>819</td>\n    </tr>\n    <tr>\n      <th>...</th>\n      <td>...</td>\n      <td>...</td>\n      <td>...</td>\n      <td>...</td>\n      <td>...</td>\n      <td>...</td>\n    </tr>\n    <tr>\n      <th>376</th>\n      <td>Unknown community name</td>\n      <td>Attraction</td>\n      <td>Spruce Meadows Equestrian Centre</td>\n      <td>Unknown res count served by this service</td>\n      <td>Unknown number of prsch chld served by this se...</td>\n      <td>Unknown dwell count served by this service</td>\n    </tr>\n    <tr>\n      <th>377</th>\n      <td>Unknown community name</td>\n      <td>Attraction</td>\n      <td>Peace Bridge</td>\n      <td>Unknown res count served by this service</td>\n      <td>Unknown number of prsch chld served by this se...</td>\n      <td>Unknown dwell count served by this service</td>\n    </tr>\n    <tr>\n      <th>378</th>\n      <td>Unknown community name</td>\n      <td>Social Dev Ctr</td>\n      <td>West Area</td>\n      <td>Unknown res count served by this service</td>\n      <td>Unknown number of prsch chld served by this se...</td>\n      <td>Unknown dwell count served by this service</td>\n    </tr>\n    <tr>\n      <th>379</th>\n      <td>Unknown community name</td>\n      <td>Attraction</td>\n      <td>The Police Museum</td>\n      <td>Unknown res count served by this service</td>\n      <td>Unknown number of prsch chld served by this se...</td>\n      <td>Unknown dwell count served by this service</td>\n    </tr>\n    <tr>\n      <th>380</th>\n      <td>Unknown community name</td>\n      <td>Attraction</td>\n      <td>Butterfield Acres Children's Farm</td>\n      <td>Unknown res count served by this service</td>\n      <td>Unknown number of prsch chld served by this se...</td>\n      <td>Unknown dwell count served by this service</td>\n    </tr>\n  </tbody>\n</table>\n<p>381 rows × 6 columns</p>\n</div>"
     },
     "execution_count": 34,
     "metadata": {},
     "output_type": "execute_result"
    }
   ],
   "source": [
    "# Prepare a list of community services as follows:\n",
    "# Each community service should list, for the community which they are in, the total number of residents, the total number of preschool children, and the number of dwellings.\n",
    "\n",
    "# Community services with no community listed should use a meaningful placeholder in the result\n",
    "\n",
    "# Communities with no community services should be included in the results, with a meaningful placeholder where data for community services would ordinarily be included\n",
    "\n",
    "'''\n",
    "Methodology:\n",
    "1. census LEFT OUTER JOIN services           - Communities with no community services included\n",
    "2. census RIGHT JOIN services                - Community services with no community listed\n",
    "3. table from step 1 UNION table from step 2 - append two tables, duplicates are dropped (we don't need them)\n",
    "4. IFNULL                                    - function replaces NULL with placeholder\n",
    "'''\n",
    "\n",
    "query9 = '''\n",
    "SELECT IFNULL(temp.comm_name, 'Unknown community name')                               AS community_name,\n",
    "       IFNULL(temp.TYPE, 'Unknown service type')                                      AS service_type,\n",
    "       IFNULL(temp.service_name, 'Unknown service name')                              AS service_name,\n",
    "       IFNULL(temp.RES_CNT, 'Unknown res count served by this service')               AS RES_CNT,\n",
    "       IFNULL(temp.PRSCH_CHLD, 'Unknown number of prsch chld served by this service') AS PRSCH_CHLD,\n",
    "       IFNULL(temp.DWELL_CNT, 'Unknown dwell count served by this service')           AS DWELL_CNT\n",
    "FROM (SELECT c.NAME      AS comm_name,\n",
    "             s.TYPE,\n",
    "             s.NAME      AS service_name,\n",
    "             c.RES_CNT,\n",
    "             c.PRSCH_CHLD,\n",
    "             c.DWELL_CNT\n",
    "      FROM (SELECT * FROM census) AS c\n",
    "               LEFT OUTER JOIN\n",
    "               (SELECT * FROM services) AS s ON c.COMM_CODE = s.COMM_CODE\n",
    "\n",
    "      UNION\n",
    "\n",
    "      SELECT c.NAME,\n",
    "             s.TYPE,\n",
    "             s.NAME,\n",
    "             c.RES_CNT,\n",
    "             c.PRSCH_CHLD,\n",
    "             c.DWELL_CNT\n",
    "      FROM (SELECT * FROM census) AS c\n",
    "               RIGHT JOIN\n",
    "               (SELECT * FROM services) AS s ON c.COMM_CODE = s.COMM_CODE) AS temp;\n",
    "'''\n",
    "\n",
    "# generate_ascii_table(pd.read_sql_query(query9, engine).tail(50))\n",
    "pd.read_sql_query(query9, engine)"
   ],
   "metadata": {
    "collapsed": false
   }
  },
  {
   "cell_type": "markdown",
   "metadata": {},
   "source": [
    "## Part C: Evaluating your results  (7 marks)\n",
    "\n",
    "\n",
    "**Question 1 (3 marks)**\n",
    "\n",
    "The queries in Part B suggest that there are parts of Calgary which may be over-served by the numbers of community services available, and there are parts of Calgary which may be underserved by kinds of community services which are not available.\n",
    "\n",
    "Before we continue with this line of inquiry, discuss two factors which may not be captured by either dataset.\n",
    "\n",
    "\n",
    "\n",
    "Nominate one datset already available from Open Data Calgary which addresses one of your two factors. Remember to reference this using a well-accepted reference format.\n",
    "\n"
   ]
  },
  {
   "cell_type": "markdown",
   "metadata": {},
   "source": [
    "_Two factors which may not be captured by either dataset:_\n",
    "1. Citizens choose a service they'd like to use not only by location but more often by rating, including feedback from other people who used it.\n",
    "\n",
    "For example, suppose there is a hospital on the other end of the city where the doctors are more qualified. In that case, people will probably opt for that clinic, as concerns about their health are of much high importance than the distance to cover (in case it is not an emergency).\n",
    "\n",
    "Another example is a long-awaited book that is finally available in a public library outside your community.\n",
    "\n",
    "The rating of community services can be retrieved from google api.\n",
    "\n",
    "2. Another factor is a methodology how the services are classified (by communities) with imaginary borders that don't exist in real life. Communities are all of different shape and area. In our dataset, one service is related to one community. But there could possibly be a case when residents of other communities (1,2,3 from picture below) may use this service more often than residents from the community num 4. Perhaps a river or huge park separates them from that community. Alternative way can be to define radius 1, 5, 10 kilometers from service coordinates and check with what communities it intersects. From that, we will get that one service is related to multiple communities.\n",
    "\n",
    "_Nominate one dataset already available from Open Data Calgary which addresses one of your two factors:_\n",
    "Census By Community 2017 (includes coordinates of communities). Open Data Calgary. Available from: https://data.calgary.ca/Demographics/Census-By-Community-2017/9h2a-qxc4"
   ]
  },
  {
   "cell_type": "markdown",
   "source": [
    "<img src=\"../../../../Desktop/Screenshot 2022-12-04 at 12.21.20.png\"/>"
   ],
   "metadata": {
    "collapsed": false
   }
  },
  {
   "cell_type": "markdown",
   "metadata": {},
   "source": [
    "\n",
    "**Question 2 (4 marks)**\n",
    "\n",
    "Imagine that we have stored data relevant to each community in a separate JSON object, each of which has been added to a document in the same collection in MongoDB. Community Services have been added as list of JSON attributes to the relevant community.\n",
    "\n",
    "For example, we might have\n",
    "```\n",
    "{\n",
    "  Community:\"Community Name\", \n",
    "  ...\n",
    "  Community_Services:[\n",
    "      {\n",
    "          \"Community Service\": \"Community Service Name\"\n",
    "          \n",
    "      },\n",
    "      ...\n",
    "      ]\n",
    "  }\n",
    "```\n",
    "Pick one of the queries from Part B to discuss. Do you think it is more difficult to retrieve the information requested for this query from the pair of relational database tables provided to you, or from a MongoDB collection set up as described? Explain why or why not. "
   ]
  },
  {
   "cell_type": "markdown",
   "metadata": {},
   "source": [
    "Let's take this query where we have to find _what is the total number of residents, children and seniors in communities which do not have any community services_?\n",
    "\n",
    "To solve this with SQL we need JOIN - find all the values in the \"census\" table, then, using a key COMM_CODE in that table, look for all the matching rows in the \"services\" table. It is worth mentioning that the \"census\" table has 70+ columns (not normalized) and must be split into multiple tables. Otherwise, it is suboptimal.\n",
    "\n",
    "The same query in Mongodb can be done using aggregation ($sum), as MongoDB does not support joins. Our first stage should be a $match that filters for documents that contain a \"Community_Services\" field and for which the Community_Services array is empty:\n",
    "db.collection.aggregate([ { $match: { \"Community_Services\": { $exists: true, $in: [null]} } }, ...\n",
    "\n",
    "In a group stage, we can aggregate values from multiple documents and perform aggregation operations, such as calculating sum. If we specify a group id value of null, the $group stage returns a single document that aggregates values across all input documents. A good analogy for this process is a **pipeline** when the result from the previous step is an input for the next stage.\n",
    "\n",
    "Overall, MongoDB is much faster than SQL if the data is indexed appropriately (this is true for all databases). In addition. MongoDB is appropriate for hierarchical data. The more it's nested - the more I'd like to use MongoDB vs SQL.\n",
    "\n",
    "And to answer the question of which one is more difficult to query, I prefer MongoDB, as related information is stored together, not in different tables. And the process of how you think about the query is more straightforward and feels more natural to how human thinks."
   ]
  },
  {
   "cell_type": "markdown",
   "metadata": {},
   "source": [
    "## Part E: Reflection (5 marks)\n",
    "\n",
    "\n",
    "In 100 to 250 words, identify a concept you have found difficult or confusing from this assignment. Reflect on how your previous learning or experience helped you to understand this concept. Provide your reflection using markdown in the cell below.\n",
    "\n"
   ]
  },
  {
   "cell_type": "markdown",
   "metadata": {},
   "source": [
    "In this assignment, I connected a few concepts that seemed distinct to me before. First, the \"census\" table with 70+ columns made me think about why it is commonly a bad practice to keep a table of this size in a database and how it's related to physical _storage space_. From here, the concept of **normalization** pops up:\n",
    "1. Find the _primary key_ for efficient and high-performance queries.\n",
    "2. Convert _types_ of columns (again, to save storage space).\n",
    "3. Split into _multiple tables_ to avoid information redundancy and optimize storage space.\n",
    "\n",
    "In my case, there are only two tables, but it could be much more (if I split the census table).\n",
    "After the steps described above, I'm left with many tables you need to join to retrieve the information asked. And that makes me think about the **set theory** from Discrete algebra combined with implementation **algorithms** (think complexity, BigO) - for loops, hash tables etc.\n",
    "\n",
    "To conclude, I have to plan carefully how to organize my tables and which keys to use. It will affect future queries' performance while joining and filtering my data. This is especially important when it comes to Big Data."
   ]
  },
  {
   "cell_type": "markdown",
   "metadata": {},
   "source": [
    "## References\n",
    "\n",
    "Both datasets used in this Assignment are licensed under the Open Government License - City of Calgary.\n",
    "\n",
    "Census by Community 2019 [online], 2022. Open Calgary. Available from: https://data.calgary.ca/Demographics/Census-by-Community-2019/rkfr-buzb [Accessed 26 Nov 2022].\n",
    "\n",
    "Community Services [online], 2022. Open Calgary. Available from: https://data.calgary.ca/Services-and-Amenities/Community-Services/x34e-bcjz [Accessed 26 Nov 2022].\n"
   ]
  },
  {
   "cell_type": "code",
   "execution_count": null,
   "metadata": {},
   "outputs": [],
   "source": []
  }
 ],
 "metadata": {
  "kernelspec": {
   "display_name": "Python 3",
   "language": "python",
   "name": "python3"
  },
  "language_info": {
   "codemirror_mode": {
    "name": "ipython",
    "version": 3
   },
   "file_extension": ".py",
   "mimetype": "text/x-python",
   "name": "python",
   "nbconvert_exporter": "python",
   "pygments_lexer": "ipython3",
   "version": "3.7.4"
  }
 },
 "nbformat": 4,
 "nbformat_minor": 2
}
