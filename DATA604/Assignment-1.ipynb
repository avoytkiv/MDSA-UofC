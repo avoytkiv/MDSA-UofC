{
 "cells": [
  {
   "cell_type": "markdown",
   "metadata": {},
   "source": [
    "# Assignment 1\n",
    "\n",
    "## Instructions - Read this first!\n",
    "\n",
    "This is an individual homework assignment. This means that:\n",
    "* You may discuss the problems in this assignment with other students in this course and your instructor/TA, but YOUR WORK MUST BE YOUR OWN.\n",
    "* Do not show other students code or your own work on this assignment.\n",
    "* You may consult external references, but not actively receive help from individuals not involved in this course. \n",
    "* Cite all references outside of the course you used, including conversations with other students which were helpful. (This helps us give credit where it is due!). All references must use a commonly accepted reference format, for example, APA or IEEE (or another citation style of your choice).\n",
    "\n",
    "If any of these rules seem ambiguous, please check with your professors for help interpreting them.\n",
    "\n",
    "Please complete this homework assignment within the Jupypter notebook environment. You may use Anaconda at home or https://datasciencehub.ucalgary.ca. However, all submitted code must be runnable via datasciencehub.\n",
    "\n",
    "\n",
    "## Submission instructions\n",
    "\n",
    "Your submission will be graded manually. To ensure that everything goes smoothly, please follow these instructions to prepare your notebook for submission to the D2L Dropbox for Assignment 1:\n",
    "\n",
    "* Please remove any print statments used to test your work (you can comment them out)\n",
    "* Please provide your solutions where asked; please do not alter any other parts of this notebook.\n",
    "* If you need to add cells to test your code please move them to the end of the notebook before submission- or you may included your commented out answers and tests in the cells provided.\n",
    "\n",
    "In this assignment, we will focus on familiarizing you with using Python to work with files and JSON objects."
   ]
  },
  {
   "cell_type": "markdown",
   "metadata": {},
   "source": [
    "# Part A: Warm-up questions (10 marks)\n",
    "\n",
    "**Question 1 (2 marks)**\n",
    "\n",
    "In the cell below, open the json file that has been provided to you (travel.json). Using only Python built-ins, count how many lines this file contains."
   ]
  },
  {
   "cell_type": "code",
   "execution_count": 1,
   "metadata": {},
   "outputs": [
    {
     "name": "stdout",
     "output_type": "stream",
     "text": [
      "Total lines: 65\n"
     ]
    }
   ],
   "source": [
    "with open(\"travel.json\") as travel:\n",
    "    print(\"Total lines: {}\".format(len(travel.readlines())))"
   ]
  },
  {
   "cell_type": "markdown",
   "source": [],
   "metadata": {
    "collapsed": false
   }
  },
  {
   "cell_type": "markdown",
   "metadata": {},
   "source": [
    "**Question 2 (1 mark)**\n",
    "\n",
    "Use a for loop and the `readlines()` method to read each line of the file and print it out."
   ]
  },
  {
   "cell_type": "code",
   "execution_count": 2,
   "metadata": {},
   "outputs": [
    {
     "name": "stdout",
     "output_type": "stream",
     "text": [
      "{\n",
      "\n",
      "\t\"Trip\": {\n",
      "\n",
      "\t\t\"Name\": \"Western Canadian Adventure\",\n",
      "\n",
      "\t\t\"Segments\": [{\n",
      "\n",
      "\t\t\t\t\"Flight\": \"Calgary to Vancouver\",\n",
      "\n",
      "\t\t\t\t\"Departure Times\": [\n",
      "\n",
      "\t\t\t\t\t\"0731\",\n",
      "\n",
      "\t\t\t\t\t\"0845\",\n",
      "\n",
      "\t\t\t\t\t\"1030\",\n",
      "\n",
      "\t\t\t\t\t\"1332\",\n",
      "\n",
      "\t\t\t\t\t\"1519\"\n",
      "\n",
      "\t\t\t\t],\n",
      "\n",
      "\t\t\t\t\"Airline\": \"CheapFlights Air\",\n",
      "\n",
      "\t\t\t\t\"Departure City\": \"Calgary\",\n",
      "\n",
      "\t\t\t\t\"Destination City\": \"Vancouver\"\n",
      "\n",
      "\t\t\t},\n",
      "\n",
      "\t\t\t{\n",
      "\n",
      "\t\t\t\t\"Hotel\": \"Coastal Western\",\n",
      "\n",
      "\t\t\t\t\"Room Type\": [\"Queen\",\n",
      "\n",
      "\t\t\t\t\t\"King\",\n",
      "\n",
      "\t\t\t\t\t\"Suite\"\n",
      "\n",
      "\t\t\t\t],\n",
      "\n",
      "\t\t\t\t\"Rating\": 4,\n",
      "\n",
      "\t\t\t\t\"City\": \"Vancouver\"\n",
      "\n",
      "\t\t\t},\n",
      "\n",
      "\t\t\t{\n",
      "\n",
      "\t\t\t\t\"Ground\": \"East Train\",\n",
      "\n",
      "\t\t\t\t\"Destination City\": \"Calgary\",\n",
      "\n",
      "\t\t\t\t\"Departure City\": \"Vancouver\",\n",
      "\n",
      "\t\t\t\t\"Departure Times\": [\n",
      "\n",
      "\t\t\t\t\t\"0930\",\n",
      "\n",
      "\t\t\t\t\t\"1412\"\n",
      "\n",
      "\t\t\t\t]\n",
      "\n",
      "\t\t\t},\n",
      "\n",
      "\t\t\t{\n",
      "\n",
      "\t\t\t\t\"Trip\": {\n",
      "\n",
      "\t\t\t\t\t\"Name\": \"Mountain Excursion\",\n",
      "\n",
      "\t\t\t\t\t\"Segments\": [{\n",
      "\n",
      "\t\t\t\t\t\t\t\"Ground\": \"Scenic Bus\",\n",
      "\n",
      "\t\t\t\t\t\t\t\"Destination City\": \"Banff\",\n",
      "\n",
      "\t\t\t\t\t\t\t\"Departure City\": \"Calgary\",\n",
      "\n",
      "\t\t\t\t\t\t\t\"Departure Times\": [\n",
      "\n",
      "\t\t\t\t\t\t\t\t\"0700\",\n",
      "\n",
      "\t\t\t\t\t\t\t\t\"0800\",\n",
      "\n",
      "\t\t\t\t\t\t\t\t\"0900\",\n",
      "\n",
      "\t\t\t\t\t\t\t\t\"1000\",\n",
      "\n",
      "\t\t\t\t\t\t\t\t\"1100\"\n",
      "\n",
      "\t\t\t\t\t\t\t]\n",
      "\n",
      "\n",
      "\n",
      "\t\t\t\t\t\t},\n",
      "\n",
      "\t\t\t\t\t\t{\n",
      "\n",
      "\t\t\t\t\t\t\t\"Ground\": \"Quick Train\",\n",
      "\n",
      "\t\t\t\t\t\t\t\"Departure City\": \"Calgary\",\n",
      "\n",
      "\t\t\t\t\t\t\t\"Destination City\": \"Banff\",\n",
      "\n",
      "\t\t\t\t\t\t\t\"Departure Times\": [\n",
      "\n",
      "\t\t\t\t\t\t\t\t\"1800\"\n",
      "\n",
      "\t\t\t\t\t\t\t]\n",
      "\n",
      "\t\t\t\t\t\t}\n",
      "\n",
      "\n",
      "\n",
      "\t\t\t\t\t]\n",
      "\n",
      "\t\t\t\t}\n",
      "\n",
      "\t\t\t}\n",
      "\n",
      "\t\t]\n",
      "\n",
      "\t}\n",
      "\n",
      "}\n"
     ]
    }
   ],
   "source": [
    "with open(\"travel.json\", \"r\") as travel:\n",
    "    travel_list = travel.readlines()\n",
    "    for line in travel_list:\n",
    "        print(line)\n"
   ]
  },
  {
   "cell_type": "markdown",
   "metadata": {},
   "source": [
    "**Question 3 (2 marks)**\n",
    "\n",
    "Use the json library to read the contents of the file into a json object. Output the contents of this object."
   ]
  },
  {
   "cell_type": "code",
   "execution_count": 1,
   "metadata": {},
   "outputs": [
    {
     "name": "stdout",
     "output_type": "stream",
     "text": [
      "{'Trip': {'Name': 'Western Canadian Adventure', 'Segments': [{'Flight': 'Calgary to Vancouver', 'Departure Times': ['0731', '0845', '1030', '1332', '1519'], 'Airline': 'CheapFlights Air', 'Departure City': 'Calgary', 'Destination City': 'Vancouver'}, {'Hotel': 'Coastal Western', 'Room Type': ['Queen', 'King', 'Suite'], 'Rating': 4, 'City': 'Vancouver'}, {'Ground': 'East Train', 'Destination City': 'Calgary', 'Departure City': 'Vancouver', 'Departure Times': ['0930', '1412']}, {'Trip': {'Name': 'Mountain Excursion', 'Segments': [{'Ground': 'Scenic Bus', 'Destination City': 'Banff', 'Departure City': 'Calgary', 'Departure Times': ['0700', '0800', '0900', '1000', '1100']}, {'Ground': 'Quick Train', 'Departure City': 'Calgary', 'Destination City': 'Banff', 'Departure Times': ['1800']}]}}]}}\n"
     ]
    }
   ],
   "source": [
    "import json\n",
    "\n",
    "travel_json = open(\"travel.json\")\n",
    "travel_dict = json.load(travel_json)\n",
    "print(travel_dict)"
   ]
  },
  {
   "cell_type": "markdown",
   "metadata": {},
   "source": [
    "**Question 4 (5 marks)**\n",
    "\n",
    "Using the json library again, read the contents of the file into a json object, and wrangle the object however you please, using Python built-ins, or by running the results through json library methods a second time. List all names of Destination Cities in the provided file."
   ]
  },
  {
   "cell_type": "code",
   "execution_count": 2,
   "metadata": {},
   "outputs": [
    {
     "name": "stdout",
     "output_type": "stream",
     "text": [
      "['Vancouver', 'Calgary', 'Banff', 'Banff']\n"
     ]
    }
   ],
   "source": [
    "def get_destination(collection):\n",
    "    if type(collection) == dict: # check if collection is dictionary\n",
    "        for k, v in collection.items(): # iterate over keys\n",
    "            if k == 'Destination City': # check condition\n",
    "                destinations.append(v)  # append value to list\n",
    "            if type(v) == list: # if collection is list then check every item in list if there are any nested dictionaries\n",
    "                get_destination(v)\n",
    "            elif type(v) == dict:\n",
    "                get_destination(v)\n",
    "\n",
    "    elif type(collection) == list:\n",
    "        for i in collection:\n",
    "            get_destination(i)\n",
    "\n",
    "destinations = []\n",
    "get_destination(travel_dict)\n",
    "print(destinations)"
   ]
  },
  {
   "cell_type": "markdown",
   "metadata": {},
   "source": [
    "## Part B: Understanding our data (12 marks)"
   ]
  },
  {
   "cell_type": "markdown",
   "metadata": {},
   "source": [
    "**Question 1 (8 marks)**\n",
    "\n",
    "First, let's take a look at the contents of the JSON file you have been provided. Imagine that we will need a CSV for each element of the file which contains data. In the markdown cell below, identify what attributes each element should have."
   ]
  },
  {
   "cell_type": "markdown",
   "metadata": {},
   "source": [
    "**Trip** - Name (of the trip);\n",
    "\n",
    "\n",
    "**Flight** - Name (of the flight), Departure Times, Departure City, Destination City, Trip Name;\n",
    "\n",
    "\n",
    "**Ground** - Name (of the Ground), Departure City, Destination City, Departure Times, Transport Type (bus, train, other), Trip Name;\n",
    "\n",
    "\n",
    "**Hotel** - Room type, Rating, City, Trip Name."
   ]
  },
  {
   "cell_type": "markdown",
   "metadata": {},
   "source": [
    "**Question 2 (1 mark)**\n",
    "\n",
    "Are there any elements that are missing from the list above?"
   ]
  },
  {
   "cell_type": "markdown",
   "source": [
    "Four elements (Trip, Flight, Ground, Hotel) with attributes listed above fully describe the data in the json file."
   ],
   "metadata": {
    "collapsed": false
   }
  },
  {
   "cell_type": "markdown",
   "metadata": {},
   "source": [
    "**Question 3 (3 marks)**\n",
    "\n",
    "Of the four elements identified at the start of Part B, which is the most difficult to read from our file, and why?"
   ]
  },
  {
   "cell_type": "markdown",
   "metadata": {},
   "source": [
    "There are two keys with the name \"Trip\" which in this context means the second trip is a sub-trip of the parent trip (Someone planned to travel from Vancouver to Calgary and within this trip planned to visit Banff). The second key is nested within the first 'Trip' (parent).\n",
    "But the most difficult to read is \"Ground\", as it is nested the deepest in this json file. Here is the path:"
   ]
  },
  {
   "cell_type": "code",
   "execution_count": 4,
   "outputs": [
    {
     "data": {
      "text/plain": "'Scenic Bus'"
     },
     "execution_count": 4,
     "metadata": {},
     "output_type": "execute_result"
    }
   ],
   "source": [
    "travel_dict[\"Trip\"][\"Segments\"][3][\"Trip\"][\"Segments\"][0][\"Ground\"]"
   ],
   "metadata": {
    "collapsed": false
   }
  },
  {
   "cell_type": "markdown",
   "metadata": {},
   "source": [
    "## Part C: Converting from JSON to CSV (13 marks)"
   ]
  },
  {
   "cell_type": "markdown",
   "metadata": {},
   "source": [
    "Write your own code, using Python built-ins, the csv and json modules, to convert the data in the provided file into appropriate CSVs for each of your identified elements from Part B, Question 1. You may add additional fields where necessary.\n",
    "\n",
    "Each row of each of your CSVs should contain sufficient information so that they could be used in another program independently of each other. For example, you may be able to write another program which could read your CSV file about flights to extract information about departure times and cities."
   ]
  },
  {
   "cell_type": "code",
   "execution_count": 12,
   "outputs": [],
   "source": [
    "def breadcrumb(json_dict_or_list, value):\n",
    "    '''\n",
    "    I tested and copied this code to find the path to the value in json file.\n",
    "    I am using this solution as a subtask to parse the json file.\n",
    "    https://stackoverflow.com/questions/15210148/get-parents-keys-from-nested-dictionary\n",
    "    :param json_dict_or_list: dictionary / json file\n",
    "    :param value: the value to which the path is sought\n",
    "    :return: list of strings (if keys) and/or integers (if lists) - the path\n",
    "    '''\n",
    "    if json_dict_or_list == value:\n",
    "        return [json_dict_or_list]\n",
    "    elif isinstance(json_dict_or_list, dict):\n",
    "        for k, v in json_dict_or_list.items():\n",
    "            p = breadcrumb(v, value)\n",
    "            if p:\n",
    "                return [k] + p\n",
    "    elif isinstance(json_dict_or_list, list):\n",
    "        lst = json_dict_or_list\n",
    "        for i in range(len(lst)):\n",
    "            p = breadcrumb(lst[i], value)\n",
    "            if p:\n",
    "                return [i] + p\n",
    "\n",
    "# breadcrumb(travel_dict, 'Scenic Bus')"
   ],
   "metadata": {
    "collapsed": false
   }
  },
  {
   "cell_type": "code",
   "execution_count": 30,
   "outputs": [],
   "source": [
    "def trip_name(path):\n",
    "    '''\n",
    "    The function takes the path to any value returned by breadcrumb function and returns parent's value \"Name\" of the trip.\n",
    "    In other words, as we have two Trips, this function answers the question to which trip the item belongs to.\n",
    "    :param path: list of items which if joined together give path to the value\n",
    "    :return: name of Trip\n",
    "    '''\n",
    "    last_occurrence = [l[0] for l in enumerate(path) if l[1] == \"Trip\"][-1] # index of the last occurrence of the \"Trip\"\n",
    "    new_path = path[0:last_occurrence+1] # slice the list from the start to the last occurrence of the \"Trip\"\n",
    "    # Go through the path\n",
    "    travel_temp = travel_dict\n",
    "    for i in new_path:\n",
    "        travel_temp = travel_temp[i]\n",
    "\n",
    "    return travel_temp['Name']\n",
    "\n",
    "# trip_name(path=path)"
   ],
   "metadata": {
    "collapsed": false
   }
  },
  {
   "cell_type": "code",
   "execution_count": 33,
   "outputs": [
    {
     "data": {
      "text/plain": "[['Coastal Western', 4, 'Vancouver', 'Queen', 'Western Canadian Adventure'],\n ['Coastal Western', 4, 'Vancouver', 'King', 'Western Canadian Adventure'],\n ['Coastal Western', 4, 'Vancouver', 'Suite', 'Western Canadian Adventure']]"
     },
     "execution_count": 33,
     "metadata": {},
     "output_type": "execute_result"
    }
   ],
   "source": [
    "def get_rows(collection, data, feature):\n",
    "    '''\n",
    "    I tried to implement a function that will solve how to populate all tables. In other words, it looks for a key and records all values as a list. As the key \"Departure Times\" contains a list of item, it will eventually duplicate records/values for each item of the list.\n",
    "    :param collection: the dictionary from json file\n",
    "    :param data: a list to save the data\n",
    "    :param feature: a key\n",
    "    :return: list of lists/rows\n",
    "    '''\n",
    "\n",
    "    if type(collection) == dict:\n",
    "        for k, v in collection.items():\n",
    "            if feature in collection:\n",
    "                if feature == 'Flight':\n",
    "                    for t in collection['Departure Times']:\n",
    "                        path = breadcrumb(travel_dict, t)\n",
    "                        trip = trip_name(path)\n",
    "                        row = [collection['Airline'], collection['Departure City'], collection['Destination City'], t, 'Airplane', trip]\n",
    "                        data.append(row)\n",
    "                elif feature == 'Ground':\n",
    "                    for t in collection['Departure Times']:\n",
    "                        path = breadcrumb(travel_dict, t)\n",
    "                        trip = trip_name(path)\n",
    "                        # Type of Ground\n",
    "                        ground_types = ['Train', 'Bus']\n",
    "                        ground_type = [i for i in ground_types if i in collection['Ground']]\n",
    "                        if not ground_type:\n",
    "                            ground_type.append('Other')\n",
    "                        row = [collection[feature], collection['Departure City'], collection['Destination City'], t, ground_type[0], trip]\n",
    "                        data.append(row)\n",
    "                elif feature == 'Hotel':\n",
    "                    for t in collection['Room Type']:\n",
    "                        path = breadcrumb(travel_dict, t)\n",
    "                        trip = trip_name(path)\n",
    "                        row = [collection[feature], collection['Rating'], collection['City'], t, trip]\n",
    "                        data.append(row)\n",
    "                break\n",
    "            if type(v) == list:\n",
    "                get_rows(v, data, feature)\n",
    "            elif type(v) == dict:\n",
    "                get_rows(v, data, feature)\n",
    "\n",
    "    elif type(collection) == list:\n",
    "        for i in collection:\n",
    "            get_rows(i, data, feature)\n",
    "\n",
    "    return data\n",
    "\n",
    "# data lists\n",
    "ground_data = []\n",
    "flight_data = []\n",
    "hotel_data = []\n",
    "# retrieve data\n",
    "get_rows(travel_dict, ground_data, 'Ground')\n",
    "get_rows(travel_dict, flight_data, 'Flight')\n",
    "get_rows(travel_dict, hotel_data, 'Hotel')"
   ],
   "metadata": {
    "collapsed": false
   }
  },
  {
   "cell_type": "code",
   "execution_count": 34,
   "outputs": [],
   "source": [
    "import csv\n",
    "\n",
    "# FLIGHT\n",
    "with open(\"FLIGHT.csv\", \"w\") as flight:\n",
    "    header = ['Name', 'Departure City', 'Destination City', 'Departure Times', 'Transport Type', 'Trip Name']\n",
    "    writer = csv.writer(flight)\n",
    "    writer.writerow(header)\n",
    "    writer.writerows(flight_data)\n",
    "\n",
    "# GROUND\n",
    "with open(\"GROUND.csv\", \"w\") as ground:\n",
    "    header = ['Name', 'Departure City', 'Destination City', 'Departure Times', 'Transport Type', 'Trip Name']\n",
    "    writer = csv.writer(ground)\n",
    "    writer.writerow(header)\n",
    "    writer.writerows(ground_data)\n",
    "\n",
    "# HOTEL\n",
    "with open(\"HOTEL.csv\", \"w\") as hotel:\n",
    "    header = ['Hotel', 'Rating', 'City', 'Room Type', 'Trip Name']\n",
    "    writer = csv.writer(hotel)\n",
    "    writer.writerow(header)\n",
    "    writer.writerows(hotel_data)\n"
   ],
   "metadata": {
    "collapsed": false
   }
  },
  {
   "cell_type": "markdown",
   "source": [
    "1. Three CSV files \"FLIGHT\", \"GROUND\" and \"HOTEL\" were created;\n",
    "2. Additional column 'Transport Type' (with possible values: Train, Bus, Airplane, Other) was created. Tables \"FLIGHT\" and \"GROUND\" can be merged on this column to get a full picture of transport schedule;\n",
    "3. The column 'Trip Name' is present in all three tables and can be used for JOINs of all three tables."
   ],
   "metadata": {
    "collapsed": false
   }
  },
  {
   "cell_type": "markdown",
   "metadata": {},
   "source": [
    "## Part D: Reflection (5 marks)\n",
    "\n",
    "In 100 to 250 words, identify a concept you have found difficult or confusing from this assignment. Reflect on how your previous learning or experience helped you to understand this concept. Provide your reflection using markdown in the cell below."
   ]
  },
  {
   "cell_type": "markdown",
   "source": [
    "The problematic part of this assignment was retrieving data from JSON \"travel\" file,  as the file was semi-structured. While this is one of the features of JSON format that allows flexibility to store data, I had to spend some time learning the file's schema, which is relatively small. Even though we naturally strive for structure, this is an excellent way to organize more complex data. Why? Because it is hard to define structure/schema in the beginning, as many things can change during the process. In our example, someone tried to organize his trip from Vancouver to Calgary and added another sub-trip from Calgary to Banff. That is what usually happens in practice when we go through some process of doing something.\n",
    "The function of retrieving data \"get_rows\" was complicated, even though I tried to make it as scalable as possible.\n",
    "I learnt that there is no best way to collect data as combining different ways of doing this is the best option. For example, I can collect in a semi-structured way and then parse JSON files into structured tables (CSV files)."
   ],
   "metadata": {
    "collapsed": false
   }
  },
  {
   "cell_type": "code",
   "execution_count": null,
   "outputs": [],
   "source": [],
   "metadata": {
    "collapsed": false
   }
  }
 ],
 "metadata": {
  "kernelspec": {
   "display_name": "Python 3",
   "language": "python",
   "name": "python3"
  },
  "language_info": {
   "codemirror_mode": {
    "name": "ipython",
    "version": 3
   },
   "file_extension": ".py",
   "mimetype": "text/x-python",
   "name": "python",
   "nbconvert_exporter": "python",
   "pygments_lexer": "ipython3",
   "version": "3.7.4"
  }
 },
 "nbformat": 4,
 "nbformat_minor": 2
}
