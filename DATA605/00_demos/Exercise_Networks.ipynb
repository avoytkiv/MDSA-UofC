{
  "cells": [
    {
      "cell_type": "markdown",
      "metadata": {
        "id": "oa9WX_oFDdaP"
      },
      "source": [
        "# NetworkX\n",
        "NetworkX is a Python module that provides data structures for graphs (or networks) along with graph algorithms, generators, and drawing tools.\n",
        "\n",
        "Part of this section is borrowed from the [networkx tutorial by Sarah Guido](https://github.com/sarguido/networkx-tutorial)."
      ]
    },
    {
      "cell_type": "code",
      "execution_count": null,
      "metadata": {
        "id": "6k9A8bAXDdaP"
      },
      "outputs": [],
      "source": [
        "import warnings\n",
        "warnings.filterwarnings('ignore')"
      ]
    },
    {
      "cell_type": "code",
      "execution_count": null,
      "metadata": {
        "id": "E8jMJVBFDdaQ"
      },
      "outputs": [],
      "source": [
        "import numpy as np\n",
        "import pandas as pd\n",
        "import matplotlib.pyplot as plt\n",
        "%matplotlib inline\n",
        "import networkx as nx\n",
        "import itertools"
      ]
    },
    {
      "cell_type": "code",
      "execution_count": null,
      "metadata": {
        "id": "rJSHxUmvDdaR"
      },
      "outputs": [],
      "source": [
        "import seaborn as sns\n",
        "sns.set(style='ticks', color_codes=True, font_scale=1.3)"
      ]
    },
    {
      "cell_type": "markdown",
      "metadata": {
        "id": "6kZQuSWTDdaR"
      },
      "source": [
        "## 1 Adding & Editing Graph Nodes\n",
        "\n",
        "We'll first take a look at creating a graph, and adding/editing nodes:"
      ]
    },
    {
      "cell_type": "code",
      "execution_count": null,
      "metadata": {
        "id": "M_NneAUdDdaS"
      },
      "outputs": [],
      "source": [
        "import networkx as nx\n",
        "\n",
        "'''use g = nx.Graph() to create a graph'''\n",
        "\n",
        "g = nx.Graph()\n",
        "\n",
        "'''Lesson: use .add_node(1) to add a single node'''\n",
        "\n",
        "# TODO: add a node\n",
        "g.add_node(1)\n",
        "g.add_node(\"a\")\n",
        "\n",
        "'''Lesson: use .add_nodes_from([2, 3, 'four', 5])  to add in bulk'''\n",
        "\n",
        "# TODO: add multiple nodes\n",
        "g.add_nodes_from([2, 3, 'four', 5])\n",
        "\n",
        "g.nodes()  # run g.nodes() to view the graph"
      ]
    },
    {
      "cell_type": "code",
      "execution_count": null,
      "metadata": {
        "id": "7E9qWk9EDdaT"
      },
      "outputs": [],
      "source": [
        "'''Note that NetworkX won't complain if we re-add pre-existing nodes'''\n",
        "\n",
        "# TODO: try re-adding nodes to see what happens\n",
        "g.add_node(\"a\")\n",
        "\n",
        "g.nodes()  # display nodes"
      ]
    },
    {
      "cell_type": "code",
      "execution_count": null,
      "metadata": {
        "id": "m_o_PjiTDdaT"
      },
      "outputs": [],
      "source": [
        "'''Lesson: remove syntax is similar to adding, eg:\n",
        "        .remove_node()\n",
        "        .remove_nodes_from()\n",
        "'''\n",
        "\n",
        "# TODO: try removing both 1) single nodes, 2) nodes in bulk\n",
        "g.remove_node(\"a\")\n",
        "\n",
        "g.nodes()  # display nodes"
      ]
    },
    {
      "cell_type": "markdown",
      "metadata": {
        "id": "6HNne6XdDdaU"
      },
      "source": [
        "## 2 Adding & Editing Edges"
      ]
    },
    {
      "cell_type": "code",
      "execution_count": null,
      "metadata": {
        "id": "SukTV067DdaU"
      },
      "outputs": [],
      "source": [
        "h = nx.Graph()  # let's create a 2nd graph to play with edges\n",
        "\n",
        "'''Lesson: to create an edge, just specify the 2 nodes that define it: \n",
        "        .add_edge('a','b')\n",
        "    Note that those nobdes also get added (no need to make them beforehand!)\n",
        "'''\n",
        "\n",
        "# TODO: create an edge\n",
        "\n",
        "h.add_edge('a','b')\n",
        "\n",
        "print ('edges:', h.edges())  # see your new edge\n",
        "print ('nodes:', h.nodes())  # verify that new nodes were also added"
      ]
    },
    {
      "cell_type": "code",
      "execution_count": null,
      "metadata": {
        "id": "ja4hj3lNDdaV"
      },
      "outputs": [],
      "source": [
        "'''Lesson: adding multiple edges is similar to adding multiple nodes:\n",
        "        .add_edges_from([('x','y'), ('y','z')])\n",
        "'''\n",
        "\n",
        "# TODO: create multiple new edges\n",
        "h.add_edges_from([('x','y'), ('y','z')])\n",
        "\n",
        "print ('edges:', h.edges())  # see your new edge\n",
        "print ('nodes:', h.nodes())  # verify that new nodes were also added"
      ]
    },
    {
      "cell_type": "markdown",
      "metadata": {
        "id": "MPeZHFG5DdaV"
      },
      "source": [
        "## 3 Visualizing graphs"
      ]
    },
    {
      "cell_type": "code",
      "execution_count": null,
      "metadata": {
        "id": "tczhUGDJDdaV"
      },
      "outputs": [],
      "source": [
        "nx.draw(g, node_color='lightgreen', with_labels=True)\n",
        "nx.draw(h, node_color='lightblue', with_labels=True)"
      ]
    },
    {
      "cell_type": "code",
      "execution_count": null,
      "metadata": {
        "id": "PuL4PkInDdaW"
      },
      "outputs": [],
      "source": [
        "'''Lesson: this graph has multiple connected components, access them individually using\n",
        "        nx.connected_components()\n",
        "'''\n",
        "\n",
        "h_components = nx.connected_components(h) # returns an iterator - access components using a for loop or via next()\n",
        "print(next(h_components))\n",
        "print(next(h_components))\n",
        "print(next(h_components)) #will throw an error - there are only two! "
      ]
    },
    {
      "cell_type": "markdown",
      "metadata": {
        "id": "Jticq8HEDdaW"
      },
      "source": [
        "## Exercise 1"
      ]
    },
    {
      "cell_type": "markdown",
      "metadata": {
        "id": "vODUcjzqDdaW"
      },
      "source": [
        "### How would you create the following graph?\n",
        "\n",
        "<img src=\"https://github.com/sarguido/networkx-tutorial/blob/master/materials/images/graph.png?raw=true\" style=\"float:left\" width=\"200\" />"
      ]
    },
    {
      "cell_type": "code",
      "execution_count": null,
      "metadata": {
        "id": "FBOi2gAsDdaW"
      },
      "outputs": [],
      "source": [
        "g = nx.Graph()\n",
        "\n",
        "# TODO: create the graph illustrated above\n",
        "g.add_edges_from([('a','b'),(\"c\",\"d\"),(\"e\",\"d\"),(\"f\",\"d\"),(\"b\",\"d\")])\n",
        "\n",
        "nx.draw(g, node_color='lightblue', with_labels=True)"
      ]
    },
    {
      "cell_type": "markdown",
      "metadata": {
        "id": "Wes8b7GvDdaX"
      },
      "source": [
        "## 4 Directed Graphs"
      ]
    },
    {
      "cell_type": "code",
      "execution_count": null,
      "metadata": {
        "id": "yxdYNRBUDdaX"
      },
      "outputs": [],
      "source": [
        "'''Lesson: use nx.DiGraph() to create a new directed graph\n",
        "'''\n",
        "dg = nx.DiGraph()\n",
        "# TODO: create a directed graph\n",
        "\n",
        "dg.add_edges_from([(1,2), (2,3)])\n",
        "\n",
        "# TODO: run this cell, you should see 2 directed edges\n",
        "print ('directed edges:', dg.edges())\n",
        "nx.draw(dg, node_color='lightgreen', with_labels=True)"
      ]
    },
    {
      "cell_type": "code",
      "execution_count": null,
      "metadata": {
        "id": "zrNHjuzYDdaX"
      },
      "outputs": [],
      "source": [
        "'''We can make directed graphs from existing graphs, eg:\n",
        "        nx.DiGraph(g)\n",
        "'''\n",
        "\n",
        "# TODO: create a directed graph from g\n",
        "h = nx.DiGraph(g)\n",
        "\n",
        "h.add_edges_from([('x','y'), ('y','z')])\n",
        "nx.draw(h, node_color='lightblue', with_labels=True)"
      ]
    },
    {
      "cell_type": "markdown",
      "metadata": {
        "id": "O0eahogIDdaX"
      },
      "source": [
        "## 5 Adding attributes to nodes and edges\n",
        "\n",
        "Sometimes you may want to attach attributes to either the nodes or edges:\n",
        "\n",
        "* Perhaps you want to save node properties that will be helpful with future analysis\n",
        "* Perhaps you want to attach visual descriptions, such a node size, edge width or graph color"
      ]
    },
    {
      "cell_type": "code",
      "execution_count": null,
      "metadata": {
        "id": "QzCZQqvvDdaY"
      },
      "outputs": [],
      "source": [
        "cities = nx.Graph()\n",
        "\n",
        "'''Lesson: to add an edge with attributes, you may use:\n",
        "       .add_edge('a', 'b', **attributes)\n",
        "   where the attributes are attribute-value pairs'''\n",
        "\n",
        "# Add four edges to cities. For each edge, add an attribute \"distance\".\n",
        "# The distance value is given below.\n",
        "#     San Diego -- Los Angeles 120.5\n",
        "#     New York -- Los Angeles 2789.4\n",
        "#     New York -- San Diego 2759.4\n",
        "#     Boston -- New York 215.3\n",
        "# For example, \n",
        "#     .add_edge('San Diego', 'Los Angeles', distance=120.5)\n",
        "#\n",
        "# TODO: add all four edges\n",
        "\n",
        "cities.add_edge('San Diego', 'Los Angeles', distance=120.5)\n",
        "cities.add_edge('New York', 'Los Angeles', distance=2789.4)\n",
        "\n",
        "# Display all edges with attribute data\n",
        "cities.edges(data=True)\n",
        "nx.draw(cities, with_labels=True)"
      ]
    },
    {
      "cell_type": "code",
      "execution_count": null,
      "metadata": {
        "id": "mVT3QCuvDdaY"
      },
      "outputs": [],
      "source": [
        "cities.edges()"
      ]
    },
    {
      "cell_type": "code",
      "execution_count": null,
      "metadata": {
        "id": "r_wcvwmSDdaY"
      },
      "outputs": [],
      "source": [
        "cities.edges(data=True)"
      ]
    },
    {
      "cell_type": "code",
      "execution_count": null,
      "metadata": {
        "id": "Pyxf9BVsDdaY"
      },
      "outputs": [],
      "source": [
        "'''You may add attributes to existing edges (or nodes) as well.\n",
        "   Here we iterate through all edges in the cities network, and\n",
        "   add a \"weight\" attribute to each edge based on its \"distance\".\n",
        "   \n",
        "   Lesson: To add or change the attribute of an existing edge,\n",
        "       G[source][target][attribute_name] = value\n",
        "   where G is your graph object.\n",
        "   \n",
        "   For example,\n",
        "       G[source][target]['weight'] = 100\n",
        "'''\n",
        "for source, target, data in cities.edges(data=True):\n",
        "    # TODO: set the weight of each edge to 3000-edge['distance']\n",
        "    cities[source][target]['weight'] = 3000 - cities[source][target]['distance']\n",
        "    \n",
        "\n",
        "# Display all edges with attribute data\n",
        "cities.edges(data=True)"
      ]
    },
    {
      "cell_type": "code",
      "execution_count": null,
      "metadata": {
        "id": "2s89tbRlDdaZ"
      },
      "outputs": [],
      "source": [
        "'''You can use the edge weight attribute created above to customize\n",
        "   the visualization of the network using \"spring layout\".'''\n",
        "pos2 = nx.spring_layout(cities)  # pos is a dict that stores coordinates of nodes\n",
        "pos2"
      ]
    },
    {
      "cell_type": "code",
      "execution_count": null,
      "metadata": {
        "id": "MtDvIt71DdaZ"
      },
      "outputs": [],
      "source": [
        "fig, ax = plt.subplots()\n",
        "#nx.draw_networkx_nodes(..., ax=ax)\n",
        "nx.draw_networkx(cities,pos2,ax=ax)\n",
        "ax.tick_params(left=True, bottom=True, labelleft=True, labelbottom=True)"
      ]
    },
    {
      "cell_type": "code",
      "execution_count": null,
      "metadata": {
        "id": "zvLnIg5oDdaZ"
      },
      "outputs": [],
      "source": [
        "pos2"
      ]
    },
    {
      "cell_type": "markdown",
      "metadata": {
        "id": "LCbULetfDdaZ"
      },
      "source": [
        "## 6 Import Data from an External File\n",
        "\n",
        "The classic Les Miserables dataset. All characters in Victor Hugo's novel 'Les Misérables connected by whether they co-occur in a chapter.\n"
      ]
    },
    {
      "cell_type": "code",
      "execution_count": null,
      "metadata": {
        "scrolled": true,
        "id": "ch3Ywg9rDdaZ"
      },
      "outputs": [],
      "source": [
        "''' To load an external network file stored in GEXF format, use:\n",
        "    nx.read_gexf('filename.gexf', relabel=True)'''\n",
        "\n",
        "# Download the LesMiserables dataset\n",
        "import urllib\n",
        "urllib.request.urlretrieve(\"https://drive.google.com/uc?export=download&id=1wb6qkBjN6wwgKPlpAI7GLGq9-BbOF3Yr\", \"LesMiserables.gefx\")\n",
        "\n",
        "# Load the graph\n",
        "les_mis = nx.read_gexf(\"LesMiserables.gefx\", relabel=True)\n",
        "les_mis\n"
      ]
    },
    {
      "cell_type": "code",
      "execution_count": null,
      "metadata": {
        "id": "DWWA8C6IDdaZ"
      },
      "outputs": [],
      "source": [
        "''' To get the number of nodes and edges in a graph, use:\n",
        "    nx.number_of_nodes(g)\n",
        "    nx.number_of_edges(g) '''\n",
        "\n",
        "# TODO find number of nodes and edges in the graph\n",
        "nx.number_of_edges(les_mis)"
      ]
    },
    {
      "cell_type": "code",
      "execution_count": null,
      "metadata": {
        "id": "aRaNe41_Ddaa"
      },
      "outputs": [],
      "source": [
        "# TODO visualize g using nx.draw, displaying the labels (with_labels=True).\n",
        "nx.draw(les_mis, with_labels=True)"
      ]
    },
    {
      "cell_type": "markdown",
      "metadata": {
        "id": "yCJXNKRBDdaa"
      },
      "source": [
        "## 7 Describing a Network"
      ]
    },
    {
      "cell_type": "markdown",
      "metadata": {
        "id": "oPJXfriGDdaa"
      },
      "source": [
        "### Degree Distribution:\n",
        "\n",
        "\n",
        "\n",
        "<img src=\"https://github.com/sarguido/networkx-tutorial/blob/master/materials/images/graph.png?raw=true\" style=\"float:left; padding-right:20px;\" width=\"200\" />\n",
        "\n",
        "- 1 node with 4 edges\n",
        "- 1 node with 2 edges\n",
        "- 4 nodes with 1 edge\n",
        "\n",
        "Distribution:\n",
        "\n",
        "    [(1:4), (1:2), (4:1)]"
      ]
    },
    {
      "cell_type": "code",
      "execution_count": null,
      "metadata": {
        "id": "lHz7yHEfDdaa"
      },
      "outputs": [],
      "source": [
        "nx.draw(g)"
      ]
    },
    {
      "cell_type": "code",
      "execution_count": null,
      "metadata": {
        "scrolled": true,
        "id": "3AetJDwnDdaa"
      },
      "outputs": [],
      "source": [
        "# Degree Distribution for all nodes\n",
        "print ('Degree Distribution:', g.degree())"
      ]
    },
    {
      "cell_type": "markdown",
      "metadata": {
        "id": "03z5YYHqDdaa"
      },
      "source": [
        "<img src=\"https://github.com/sarguido/networkx-tutorial/blob/master/materials/images/graph-paths.png?raw=true\" style=\"float:left;\" width=\"600\" />"
      ]
    },
    {
      "cell_type": "code",
      "execution_count": null,
      "metadata": {
        "id": "oHoUK3LuDdaa"
      },
      "outputs": [],
      "source": [
        "# Generate the graph above\n",
        "paths = nx.Graph()\n",
        "paths.add_edges_from([\n",
        "    ('A','B'), ('B','D'), ('B','C'), ('D','E'), ('D','C'),\n",
        "    ('C','1'), ('1','2'), ('1','3'), ('2','3'), \n",
        "    ('E','2'), ('E','4')])\n",
        "\n",
        "# Display shortest path details\n",
        "print ('Shortest path from A to E is', \n",
        "       nx.shortest_path_length(paths, 'A','E'), 'hops:')\n",
        "print (nx.shortest_path(paths, 'A','E'))"
      ]
    },
    {
      "cell_type": "code",
      "execution_count": null,
      "metadata": {
        "id": "_-RZdDMODdab"
      },
      "outputs": [],
      "source": [
        "# TODO: Visualize the above network using nx.draw()\n",
        "nx.draw(paths, with_labels=True)"
      ]
    },
    {
      "cell_type": "code",
      "execution_count": null,
      "metadata": {
        "id": "E1apuNdfDdab"
      },
      "outputs": [],
      "source": [
        "nx.shortest_path(paths, 'A','4')"
      ]
    },
    {
      "cell_type": "markdown",
      "metadata": {
        "id": "Mv2y6m_eDdab"
      },
      "source": [
        "## 8 Network Centrality\n",
        "\n",
        "* **Degree: number of edges** for node X\n",
        "* **Betweenness: number of shortest paths** that pass through node X\n",
        "* **Closeness: average of the shortest paths** between X and all other nodes\n",
        "\n",
        "The higher the values, the more \"central\" a node is.\n",
        "\n",
        "<img src=\"https://github.com/sarguido/networkx-tutorial/blob/master/materials/images/centrality1.png?raw=true\" style=\"float:left;\" width=\"400\" />\n",
        "<img src=\"https://github.com/sarguido/networkx-tutorial/blob/master/materials/images/centrality2.png?raw=true\" style=\"float:left;\" width=\"200\" />"
      ]
    },
    {
      "cell_type": "code",
      "execution_count": null,
      "metadata": {
        "id": "QkfHp6GvDdab"
      },
      "outputs": [],
      "source": [
        "''' To calculate Degree Distribution for all nodes, use:\n",
        "    g.degree()  for non-normalized values,\n",
        "    nx.degree_centrality(g)   for normalized values\n",
        "'''\n",
        "\n",
        "# TODO degree distrib., non-normalized\n",
        "\n",
        "\n",
        "# TODO degree distrib., normalized\n",
        "nx.degree_centrality(h) \n"
      ]
    },
    {
      "cell_type": "code",
      "execution_count": null,
      "metadata": {
        "id": "xeCCiCg0Ddab"
      },
      "outputs": [],
      "source": [
        "''' To calculate betweenness centrality, use:\n",
        "    nx.betweenness_centrality(g, normalized=True/False)   default is True\n",
        "'''\n",
        "\n",
        "# TODO find betweenness centrality (both normalized and non)\n",
        "\n",
        "nx.betweenness_centrality(h, normalized=True)\n"
      ]
    },
    {
      "cell_type": "code",
      "execution_count": null,
      "metadata": {
        "id": "odvRPK0JDdab"
      },
      "outputs": [],
      "source": [
        "nx.betweenness_centrality(h, normalized=False)\n"
      ]
    },
    {
      "cell_type": "code",
      "execution_count": null,
      "metadata": {
        "id": "En3Sr-gFDdab"
      },
      "outputs": [],
      "source": [
        "''' to calculate closeness centrality, use:\n",
        "    nx.closeness_centrality(g)\n",
        "'''\n",
        "\n",
        "# TODO find closeness centrality\n",
        "\n",
        "nx.closeness_centrality(h)"
      ]
    },
    {
      "cell_type": "markdown",
      "metadata": {
        "id": "ravE1jLcDdab"
      },
      "source": [
        "## 9 Degree Distribution"
      ]
    },
    {
      "cell_type": "code",
      "execution_count": null,
      "metadata": {
        "id": "agfMEpvyDdac"
      },
      "outputs": [],
      "source": [
        "'''Please study the output of each line. We are getting prepared\n",
        "   to generate a degree distribution plot.'''\n",
        "degrees = nx.degree(les_mis)\n",
        "degree_values = list(dict(les_mis.degree).values())\n",
        "degree_value_counts = pd.value_counts(degree_values).sort_index()"
      ]
    },
    {
      "cell_type": "code",
      "execution_count": null,
      "metadata": {
        "id": "4qahWkPeDdac"
      },
      "outputs": [],
      "source": [
        "pd.DataFrame(degree_values)"
      ]
    },
    {
      "cell_type": "code",
      "execution_count": null,
      "metadata": {
        "id": "EEUx_E_ODdac"
      },
      "outputs": [],
      "source": [
        "pd.DataFrame(degree_values).hist()"
      ]
    },
    {
      "cell_type": "markdown",
      "metadata": {
        "id": "Sh248zENDdac"
      },
      "source": [
        "## 10 Edge Weight Distribution"
      ]
    },
    {
      "cell_type": "code",
      "execution_count": null,
      "metadata": {
        "id": "68rdoc5_Ddac"
      },
      "outputs": [],
      "source": [
        "les_mis.edges(data=True)"
      ]
    },
    {
      "cell_type": "code",
      "execution_count": null,
      "metadata": {
        "id": "qmuWg0obDdac"
      },
      "outputs": [],
      "source": [
        "edge_weights = []\n",
        "for node, neighbor, data in les_mis.edges(data=True):\n",
        "    if 'weight' in data: \n",
        "        edge_weights.append(data['weight'])\n",
        "    else: edge_weights.append(1)\n",
        "edge_weights\n",
        "\n",
        "\n",
        "# TODO: Use the edge_weights object to recreate the above plot.\n",
        "pd.DataFrame(edge_weights).hist(bins=100)"
      ]
    },
    {
      "cell_type": "markdown",
      "metadata": {
        "id": "J-rPKhqQDdac"
      },
      "source": [
        "## 11 Community Detection\n",
        "\n",
        "The Girvan-Newman approach is a *hierarchical clustering approach* that focuses on removing the edges with the highest betweenness."
      ]
    },
    {
      "cell_type": "code",
      "execution_count": null,
      "metadata": {
        "id": "HoGUr52LDdac"
      },
      "outputs": [],
      "source": [
        "# Returns a generator that splits another community each time it is called\n",
        "les_mis_communities = nx.community.girvan_newman(les_mis)"
      ]
    },
    {
      "cell_type": "code",
      "execution_count": null,
      "metadata": {
        "id": "VlqhPKXaDdad"
      },
      "outputs": [],
      "source": [
        "next(les_mis_communities)"
      ]
    },
    {
      "cell_type": "code",
      "execution_count": null,
      "metadata": {
        "id": "gKZeBWp7Ddad"
      },
      "outputs": [],
      "source": [
        "# Every subsequent call to the generator results in a larger number of communities.\n",
        "les_mis_communities = nx.community.girvan_newman(les_mis) \n",
        "for communities in les_mis_communities:\n",
        "    print(len(communities)) "
      ]
    },
    {
      "cell_type": "code",
      "execution_count": null,
      "metadata": {
        "id": "O0ULx-zLDdad"
      },
      "outputs": [],
      "source": [
        "# Get the set of communities after n splits\n",
        "les_mis_communities = nx.community.girvan_newman(les_mis) \n",
        "n = 5\n",
        "for i in range(1,n):\n",
        "    n_communities = next(les_mis_communities)\n",
        "n_communities"
      ]
    },
    {
      "cell_type": "code",
      "execution_count": null,
      "metadata": {
        "id": "XUGsz4LWDdad"
      },
      "outputs": [],
      "source": [
        "n_communities[1]"
      ]
    },
    {
      "cell_type": "markdown",
      "metadata": {
        "id": "8y6uUuvRDdad"
      },
      "source": [
        "## 12 Force-directed Layout"
      ]
    },
    {
      "cell_type": "markdown",
      "metadata": {
        "id": "3VPQpqgHDdad"
      },
      "source": [
        "Let's use force-directed (spring) layout to visualize the above community detection result."
      ]
    },
    {
      "cell_type": "code",
      "execution_count": null,
      "metadata": {
        "id": "fzMGg9jsDdad"
      },
      "outputs": [],
      "source": [
        "# Visualize the community detection result using force-directed layout\n",
        "\n",
        "# Create spring layout, and save it as \"pos\". Use nx.spring_layout(g).\n",
        "pos = nx.spring_layout(les_mis)\n",
        "\n",
        "\n",
        "# Plot the nodes of each community using different colors.\n",
        "palette = sns.color_palette('hls', len(n_communities))\n",
        "fig, ax = plt.subplots(figsize=(12,10))\n",
        "for i, ith_community in enumerate(n_communities):\n",
        "    nx.draw_networkx_nodes(les_mis, pos, ith_community, \n",
        "                           node_size = 100,\n",
        "                           node_color = palette[i], \n",
        "                           ax=ax)\n",
        "\n",
        "'''Lesson: To draw edges and labels, use \n",
        "           nx.draw_networkx_edges(g) and\n",
        "           nx.draw_networkx_labels(g).'''\n",
        "\n",
        "# Draw network edges and labels\n",
        "nx.draw_networkx_labels(les_mis, pos)\n",
        "nx.draw_networkx_edges(les_mis, pos)\n",
        "\n",
        "# Add a title \"Community Detection and Force-directed Layout\" using ax.set_title()\n",
        "ax.set_title(\"Community Detection and Force-directed Layout\")\n"
      ]
    },
    {
      "cell_type": "code",
      "execution_count": null,
      "metadata": {
        "id": "H6MntOa2Ddad"
      },
      "outputs": [],
      "source": []
    },
    {
      "cell_type": "code",
      "execution_count": null,
      "metadata": {
        "id": "SgOJuej0Ddae"
      },
      "outputs": [],
      "source": []
    }
  ],
  "metadata": {
    "anaconda-cloud": {},
    "kernelspec": {
      "display_name": "Python 3",
      "language": "python",
      "name": "python3"
    },
    "language_info": {
      "codemirror_mode": {
        "name": "ipython",
        "version": 3
      },
      "file_extension": ".py",
      "mimetype": "text/x-python",
      "name": "python",
      "nbconvert_exporter": "python",
      "pygments_lexer": "ipython3",
      "version": "3.8.5"
    },
    "colab": {
      "provenance": []
    }
  },
  "nbformat": 4,
  "nbformat_minor": 0
}