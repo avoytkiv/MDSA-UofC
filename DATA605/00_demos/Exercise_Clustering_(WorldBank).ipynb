{
  "cells": [
    {
      "cell_type": "markdown",
      "metadata": {
        "id": "L9JK5_jNdHgR"
      },
      "source": [
        "# Clustering Exercise\n",
        "*(Adapted from Eytan Adar's SI 370 — University of Michigan)*\n",
        "\n",
        "## Objectives:\n",
        "- Be able to perform hierarchical clustering and k-means clustering.\n",
        "- Know how and when to use different similarity functions, including Euclidean, Manhattan, Jaccard, and Cosine.\n",
        "- Be able to appropriately evaluate clustering results, with or without ground truth.\n",
        "- Be able to determine the number of clusters given a dataset without ground truth."
      ]
    },
    {
      "cell_type": "code",
      "execution_count": null,
      "metadata": {
        "id": "mbgTF-ahdHgX"
      },
      "outputs": [],
      "source": [
        "# Filter all warnings.\n",
        "# spurious warnings.\n",
        "import warnings\n",
        "warnings.filterwarnings('ignore')"
      ]
    },
    {
      "cell_type": "code",
      "execution_count": null,
      "metadata": {
        "id": "sVWpd8MRdHgX"
      },
      "outputs": [],
      "source": [
        "import numpy as np\n",
        "import scipy as sp\n",
        "import scipy.spatial.distance as spd\n",
        "import scipy.cluster.hierarchy as sph\n",
        "import sklearn as sk\n",
        "import sklearn.cluster as skc\n",
        "import pandas as pd\n",
        "import matplotlib.pyplot as plt\n",
        "import altair as alt"
      ]
    },
    {
      "cell_type": "markdown",
      "metadata": {
        "id": "LUNFqZJcdHgY"
      },
      "source": [
        "# 1. Hierarchical Clustering"
      ]
    },
    {
      "cell_type": "markdown",
      "metadata": {
        "id": "E0VNzSQudHgY"
      },
      "source": [
        "Let's start with a toy dataset that has two dimensions. There are three obvious clusters.\n",
        "\n",
        "Reference: https://github.com/herrfz/dataanalysis"
      ]
    },
    {
      "cell_type": "code",
      "execution_count": null,
      "metadata": {
        "id": "GR2Zh7MldHgY",
        "outputId": "4c115a94-7c14-485c-8396-4668c4acd46f",
        "colab": {
          "base_uri": "https://localhost:8080/",
          "height": 426
        }
      },
      "outputs": [
        {
          "output_type": "execute_result",
          "data": {
            "text/plain": [
              "     n         x         y\n",
              "0    0  1.352810  1.152208\n",
              "1    1  1.080031  1.024335\n",
              "2    2  1.195748  1.088773\n",
              "3    3  1.448179  1.066735\n",
              "4    4  2.373512  2.298816\n",
              "5    5  1.804544  1.958968\n",
              "6    6  2.190018  2.062614\n",
              "7    7  1.969729  1.829181\n",
              "8    8  2.979356  0.489402\n",
              "9    9  3.082120  1.130724\n",
              "10  10  3.028809  1.172887\n",
              "11  11  3.290855  0.851567"
            ],
            "text/html": [
              "\n",
              "  <div id=\"df-c4340860-09d8-468f-9100-c7d88cf4a5a0\">\n",
              "    <div class=\"colab-df-container\">\n",
              "      <div>\n",
              "<style scoped>\n",
              "    .dataframe tbody tr th:only-of-type {\n",
              "        vertical-align: middle;\n",
              "    }\n",
              "\n",
              "    .dataframe tbody tr th {\n",
              "        vertical-align: top;\n",
              "    }\n",
              "\n",
              "    .dataframe thead th {\n",
              "        text-align: right;\n",
              "    }\n",
              "</style>\n",
              "<table border=\"1\" class=\"dataframe\">\n",
              "  <thead>\n",
              "    <tr style=\"text-align: right;\">\n",
              "      <th></th>\n",
              "      <th>n</th>\n",
              "      <th>x</th>\n",
              "      <th>y</th>\n",
              "    </tr>\n",
              "  </thead>\n",
              "  <tbody>\n",
              "    <tr>\n",
              "      <th>0</th>\n",
              "      <td>0</td>\n",
              "      <td>1.352810</td>\n",
              "      <td>1.152208</td>\n",
              "    </tr>\n",
              "    <tr>\n",
              "      <th>1</th>\n",
              "      <td>1</td>\n",
              "      <td>1.080031</td>\n",
              "      <td>1.024335</td>\n",
              "    </tr>\n",
              "    <tr>\n",
              "      <th>2</th>\n",
              "      <td>2</td>\n",
              "      <td>1.195748</td>\n",
              "      <td>1.088773</td>\n",
              "    </tr>\n",
              "    <tr>\n",
              "      <th>3</th>\n",
              "      <td>3</td>\n",
              "      <td>1.448179</td>\n",
              "      <td>1.066735</td>\n",
              "    </tr>\n",
              "    <tr>\n",
              "      <th>4</th>\n",
              "      <td>4</td>\n",
              "      <td>2.373512</td>\n",
              "      <td>2.298816</td>\n",
              "    </tr>\n",
              "    <tr>\n",
              "      <th>5</th>\n",
              "      <td>5</td>\n",
              "      <td>1.804544</td>\n",
              "      <td>1.958968</td>\n",
              "    </tr>\n",
              "    <tr>\n",
              "      <th>6</th>\n",
              "      <td>6</td>\n",
              "      <td>2.190018</td>\n",
              "      <td>2.062614</td>\n",
              "    </tr>\n",
              "    <tr>\n",
              "      <th>7</th>\n",
              "      <td>7</td>\n",
              "      <td>1.969729</td>\n",
              "      <td>1.829181</td>\n",
              "    </tr>\n",
              "    <tr>\n",
              "      <th>8</th>\n",
              "      <td>8</td>\n",
              "      <td>2.979356</td>\n",
              "      <td>0.489402</td>\n",
              "    </tr>\n",
              "    <tr>\n",
              "      <th>9</th>\n",
              "      <td>9</td>\n",
              "      <td>3.082120</td>\n",
              "      <td>1.130724</td>\n",
              "    </tr>\n",
              "    <tr>\n",
              "      <th>10</th>\n",
              "      <td>10</td>\n",
              "      <td>3.028809</td>\n",
              "      <td>1.172887</td>\n",
              "    </tr>\n",
              "    <tr>\n",
              "      <th>11</th>\n",
              "      <td>11</td>\n",
              "      <td>3.290855</td>\n",
              "      <td>0.851567</td>\n",
              "    </tr>\n",
              "  </tbody>\n",
              "</table>\n",
              "</div>\n",
              "      <button class=\"colab-df-convert\" onclick=\"convertToInteractive('df-c4340860-09d8-468f-9100-c7d88cf4a5a0')\"\n",
              "              title=\"Convert this dataframe to an interactive table.\"\n",
              "              style=\"display:none;\">\n",
              "        \n",
              "  <svg xmlns=\"http://www.w3.org/2000/svg\" height=\"24px\"viewBox=\"0 0 24 24\"\n",
              "       width=\"24px\">\n",
              "    <path d=\"M0 0h24v24H0V0z\" fill=\"none\"/>\n",
              "    <path d=\"M18.56 5.44l.94 2.06.94-2.06 2.06-.94-2.06-.94-.94-2.06-.94 2.06-2.06.94zm-11 1L8.5 8.5l.94-2.06 2.06-.94-2.06-.94L8.5 2.5l-.94 2.06-2.06.94zm10 10l.94 2.06.94-2.06 2.06-.94-2.06-.94-.94-2.06-.94 2.06-2.06.94z\"/><path d=\"M17.41 7.96l-1.37-1.37c-.4-.4-.92-.59-1.43-.59-.52 0-1.04.2-1.43.59L10.3 9.45l-7.72 7.72c-.78.78-.78 2.05 0 2.83L4 21.41c.39.39.9.59 1.41.59.51 0 1.02-.2 1.41-.59l7.78-7.78 2.81-2.81c.8-.78.8-2.07 0-2.86zM5.41 20L4 18.59l7.72-7.72 1.47 1.35L5.41 20z\"/>\n",
              "  </svg>\n",
              "      </button>\n",
              "      \n",
              "  <style>\n",
              "    .colab-df-container {\n",
              "      display:flex;\n",
              "      flex-wrap:wrap;\n",
              "      gap: 12px;\n",
              "    }\n",
              "\n",
              "    .colab-df-convert {\n",
              "      background-color: #E8F0FE;\n",
              "      border: none;\n",
              "      border-radius: 50%;\n",
              "      cursor: pointer;\n",
              "      display: none;\n",
              "      fill: #1967D2;\n",
              "      height: 32px;\n",
              "      padding: 0 0 0 0;\n",
              "      width: 32px;\n",
              "    }\n",
              "\n",
              "    .colab-df-convert:hover {\n",
              "      background-color: #E2EBFA;\n",
              "      box-shadow: 0px 1px 2px rgba(60, 64, 67, 0.3), 0px 1px 3px 1px rgba(60, 64, 67, 0.15);\n",
              "      fill: #174EA6;\n",
              "    }\n",
              "\n",
              "    [theme=dark] .colab-df-convert {\n",
              "      background-color: #3B4455;\n",
              "      fill: #D2E3FC;\n",
              "    }\n",
              "\n",
              "    [theme=dark] .colab-df-convert:hover {\n",
              "      background-color: #434B5C;\n",
              "      box-shadow: 0px 1px 3px 1px rgba(0, 0, 0, 0.15);\n",
              "      filter: drop-shadow(0px 1px 2px rgba(0, 0, 0, 0.3));\n",
              "      fill: #FFFFFF;\n",
              "    }\n",
              "  </style>\n",
              "\n",
              "      <script>\n",
              "        const buttonEl =\n",
              "          document.querySelector('#df-c4340860-09d8-468f-9100-c7d88cf4a5a0 button.colab-df-convert');\n",
              "        buttonEl.style.display =\n",
              "          google.colab.kernel.accessAllowed ? 'block' : 'none';\n",
              "\n",
              "        async function convertToInteractive(key) {\n",
              "          const element = document.querySelector('#df-c4340860-09d8-468f-9100-c7d88cf4a5a0');\n",
              "          const dataTable =\n",
              "            await google.colab.kernel.invokeFunction('convertToInteractive',\n",
              "                                                     [key], {});\n",
              "          if (!dataTable) return;\n",
              "\n",
              "          const docLinkHtml = 'Like what you see? Visit the ' +\n",
              "            '<a target=\"_blank\" href=https://colab.research.google.com/notebooks/data_table.ipynb>data table notebook</a>'\n",
              "            + ' to learn more about interactive tables.';\n",
              "          element.innerHTML = '';\n",
              "          dataTable['output_type'] = 'display_data';\n",
              "          await google.colab.output.renderOutput(dataTable, element);\n",
              "          const docLink = document.createElement('div');\n",
              "          docLink.innerHTML = docLinkHtml;\n",
              "          element.appendChild(docLink);\n",
              "        }\n",
              "      </script>\n",
              "    </div>\n",
              "  </div>\n",
              "  "
            ]
          },
          "metadata": {},
          "execution_count": 3
        }
      ],
      "source": [
        "np.random.seed(0)\n",
        "x = np.random.randn(12) * 0.2 + np.repeat(np.arange(3)+1, 4)\n",
        "y = np.random.randn(12) * 0.2 + np.repeat(np.array([1,2,1]), 4)\n",
        "df_xy = pd.DataFrame({'n': range(12),'x': x, 'y': y})\n",
        "df_xy\n"
      ]
    },
    {
      "cell_type": "code",
      "execution_count": null,
      "metadata": {
        "id": "ngAqWwdudHgY",
        "outputId": "c8b2df58-15af-448b-fbe9-918a276dce39",
        "colab": {
          "base_uri": "https://localhost:8080/",
          "height": 369
        }
      },
      "outputs": [
        {
          "output_type": "execute_result",
          "data": {
            "text/html": [
              "\n",
              "<div id=\"altair-viz-583b207ee068445a916faed87e4659db\"></div>\n",
              "<script type=\"text/javascript\">\n",
              "  var VEGA_DEBUG = (typeof VEGA_DEBUG == \"undefined\") ? {} : VEGA_DEBUG;\n",
              "  (function(spec, embedOpt){\n",
              "    let outputDiv = document.currentScript.previousElementSibling;\n",
              "    if (outputDiv.id !== \"altair-viz-583b207ee068445a916faed87e4659db\") {\n",
              "      outputDiv = document.getElementById(\"altair-viz-583b207ee068445a916faed87e4659db\");\n",
              "    }\n",
              "    const paths = {\n",
              "      \"vega\": \"https://cdn.jsdelivr.net/npm//vega@5?noext\",\n",
              "      \"vega-lib\": \"https://cdn.jsdelivr.net/npm//vega-lib?noext\",\n",
              "      \"vega-lite\": \"https://cdn.jsdelivr.net/npm//vega-lite@4.17.0?noext\",\n",
              "      \"vega-embed\": \"https://cdn.jsdelivr.net/npm//vega-embed@6?noext\",\n",
              "    };\n",
              "\n",
              "    function maybeLoadScript(lib, version) {\n",
              "      var key = `${lib.replace(\"-\", \"\")}_version`;\n",
              "      return (VEGA_DEBUG[key] == version) ?\n",
              "        Promise.resolve(paths[lib]) :\n",
              "        new Promise(function(resolve, reject) {\n",
              "          var s = document.createElement('script');\n",
              "          document.getElementsByTagName(\"head\")[0].appendChild(s);\n",
              "          s.async = true;\n",
              "          s.onload = () => {\n",
              "            VEGA_DEBUG[key] = version;\n",
              "            return resolve(paths[lib]);\n",
              "          };\n",
              "          s.onerror = () => reject(`Error loading script: ${paths[lib]}`);\n",
              "          s.src = paths[lib];\n",
              "        });\n",
              "    }\n",
              "\n",
              "    function showError(err) {\n",
              "      outputDiv.innerHTML = `<div class=\"error\" style=\"color:red;\">${err}</div>`;\n",
              "      throw err;\n",
              "    }\n",
              "\n",
              "    function displayChart(vegaEmbed) {\n",
              "      vegaEmbed(outputDiv, spec, embedOpt)\n",
              "        .catch(err => showError(`Javascript Error: ${err.message}<br>This usually means there's a typo in your chart specification. See the javascript console for the full traceback.`));\n",
              "    }\n",
              "\n",
              "    if(typeof define === \"function\" && define.amd) {\n",
              "      requirejs.config({paths});\n",
              "      require([\"vega-embed\"], displayChart, err => showError(`Error loading script: ${err.message}`));\n",
              "    } else {\n",
              "      maybeLoadScript(\"vega\", \"5\")\n",
              "        .then(() => maybeLoadScript(\"vega-lite\", \"4.17.0\"))\n",
              "        .then(() => maybeLoadScript(\"vega-embed\", \"6\"))\n",
              "        .catch(showError)\n",
              "        .then(() => displayChart(vegaEmbed));\n",
              "    }\n",
              "  })({\"config\": {\"view\": {\"continuousWidth\": 400, \"continuousHeight\": 300}}, \"layer\": [{\"mark\": \"point\", \"encoding\": {\"x\": {\"field\": \"x\", \"type\": \"quantitative\"}, \"y\": {\"field\": \"y\", \"type\": \"quantitative\"}}}, {\"mark\": {\"type\": \"text\", \"dx\": 9}, \"encoding\": {\"text\": {\"field\": \"n\", \"type\": \"quantitative\"}, \"x\": {\"field\": \"x\", \"type\": \"quantitative\"}, \"y\": {\"field\": \"y\", \"type\": \"quantitative\"}}}], \"data\": {\"name\": \"data-dc6889b8c94300ba6c17f234ed90190c\"}, \"$schema\": \"https://vega.github.io/schema/vega-lite/v4.17.0.json\", \"datasets\": {\"data-dc6889b8c94300ba6c17f234ed90190c\": [{\"n\": 0, \"x\": 1.3528104691935328, \"y\": 1.1522075450293987}, {\"n\": 1, \"x\": 1.0800314416734447, \"y\": 1.0243350032985656}, {\"n\": 2, \"x\": 1.195747596821148, \"y\": 1.0887726465490852}, {\"n\": 3, \"x\": 1.4481786398402916, \"y\": 1.0667348654748534}, {\"n\": 4, \"x\": 2.3735115980299937, \"y\": 2.298815814631521}, {\"n\": 5, \"x\": 1.8045444240247177, \"y\": 1.9589683472468398}, {\"n\": 6, \"x\": 2.190017683505118, \"y\": 2.0626135403301804}, {\"n\": 7, \"x\": 1.9697285583404605, \"y\": 1.829180852139655}, {\"n\": 8, \"x\": 2.9793562296412883, \"y\": 0.4894020368331843}, {\"n\": 9, \"x\": 3.0821197003876746, \"y\": 1.1307237190880721}, {\"n\": 10, \"x\": 3.028808714232176, \"y\": 1.1728872397719012}, {\"n\": 11, \"x\": 3.290854701392595, \"y\": 0.8515669959187115}]}}, {\"mode\": \"vega-lite\"});\n",
              "</script>"
            ],
            "text/plain": [
              "alt.LayerChart(...)"
            ]
          },
          "metadata": {},
          "execution_count": 4
        }
      ],
      "source": [
        "points = alt.Chart(df_xy).mark_point().encode(\n",
        "  x='x', y='y'\n",
        ")\n",
        "text = alt.Chart(df_xy).mark_text(dx=9).encode(\n",
        "  x='x', y='y', text='n'\n",
        ")\n",
        "(points + text)"
      ]
    },
    {
      "cell_type": "code",
      "execution_count": null,
      "metadata": {
        "id": "z45tXN5_dHgZ",
        "outputId": "cfb5c959-46c8-47be-94c6-08b26a336696",
        "colab": {
          "base_uri": "https://localhost:8080/"
        }
      },
      "outputs": [
        {
          "output_type": "execute_result",
          "data": {
            "text/plain": [
              "(12, 12)"
            ]
          },
          "metadata": {},
          "execution_count": 5
        }
      ],
      "source": [
        "# To perform hierarchical clustering, the first step is to compute \n",
        "# the distance matrix. We will be using the Euclidean distance.\n",
        "df_xy_features = df_xy[[\"x\",\"y\"]] # Pull out only using the x & y colums to use for clustering\n",
        "dist_xy = spd.squareform(spd.pdist(df_xy_features, metric='euclidean'))\n",
        "dist_xy.shape"
      ]
    },
    {
      "cell_type": "code",
      "execution_count": null,
      "metadata": {
        "id": "EBZTLBhEdHga",
        "outputId": "8b3d6f17-34af-4b7f-d4bd-3c6582b5bb59",
        "colab": {
          "base_uri": "https://localhost:8080/"
        }
      },
      "outputs": [
        {
          "output_type": "execute_result",
          "data": {
            "text/plain": [
              "array([[0.        , 0.30126365, 0.16938929, 0.12806509],\n",
              "       [0.30126365, 0.        , 0.13244787, 0.37058077],\n",
              "       [0.16938929, 0.13244787, 0.        , 0.25339119],\n",
              "       [0.12806509, 0.37058077, 0.25339119, 0.        ]])"
            ]
          },
          "metadata": {},
          "execution_count": 6
        }
      ],
      "source": [
        "# The matrix may be too large to display. So let's display a top-left\n",
        "# portion of it.\n",
        "dist_xy[:4,:4]"
      ]
    },
    {
      "cell_type": "markdown",
      "metadata": {
        "id": "apOkTvX1dHga"
      },
      "source": [
        "Notice that in the matrix above, the diagnonal values are 0, which is\n",
        "expected: an object's distance to itself must be 0."
      ]
    },
    {
      "cell_type": "markdown",
      "metadata": {
        "id": "Qo5V0QYpdHgb"
      },
      "source": [
        "Before performing hierarchical clustering, let us review an important concept, \"linkage function.\"\n",
        " - For hierarchical clustering, a _linkage function_ is a distance function between two clusters. In scipy multiple different linkage functions are implemented, including single, complete, average, weighted, centroid, median, and ward. We will be using \"single\", which is taking the distance between two nearest points as the distance between two clusters. This is the default option. See [scipy documentation](http://docs.scipy.org/doc/scipy-0.16.0/reference/generated/scipy.cluster.hierarchy.linkage.html) for more details."
      ]
    },
    {
      "cell_type": "code",
      "execution_count": null,
      "metadata": {
        "id": "J0KUlenydHgb",
        "outputId": "d1562c2e-4e3a-4d51-a6ba-d2532e00bf83",
        "colab": {
          "base_uri": "https://localhost:8080/",
          "height": 311
        }
      },
      "outputs": [
        {
          "output_type": "display_data",
          "data": {
            "text/plain": [
              "<Figure size 432x288 with 1 Axes>"
            ],
            "image/png": "[encoded data removed]"
          },
          "metadata": {
            "needs_background": "light"
          }
        }
      ],
      "source": [
        "# Perform hierarchical clustering and plot the dendrogram.\n",
        "Z_xy = sph.linkage(dist_xy, method='single')  # obtain the linkage matrix\n",
        "_ = sph.dendrogram(Z_xy)  # plot the linkage matrix as a dendrogram\n",
        "plt.xlabel('Data Points')\n",
        "plt.ylabel('Distance')\n",
        "plt.suptitle('Dendrogram: 12-point toy data', \n",
        "             fontweight='bold', fontsize=14);"
      ]
    },
    {
      "cell_type": "markdown",
      "metadata": {
        "id": "49zRdsKRdHgb"
      },
      "source": [
        "In the above dendrogram, the y-axis depicts the distance at which a cluster is formed. This distance is obtained by evaluating the linkage function. We can see that the green cluster forms at around 1.0, then the next cluster forms at around 2.4. There is a large gap (on the y-axis) in between, which indicates that segmenting the data there may be a good choice. In fact, the scipy package automatically selects a threshold, below which the clusters are colored differently, and above which the clusters are all colored blue. This happens to match our interpretation."
      ]
    },
    {
      "cell_type": "markdown",
      "metadata": {
        "id": "JW5AGahwdHgb"
      },
      "source": [
        "Based on the above analysis, 2.0 seems to be a good distance threshold to \"clip\" the dendrogram and obtain our clustering results. The way to apply the clipping threshold is as follows:"
      ]
    },
    {
      "cell_type": "code",
      "execution_count": null,
      "metadata": {
        "id": "pstZ_y0tdHgc",
        "outputId": "d02fb4dd-e9f9-47c7-81e3-7d42f8a43f34",
        "colab": {
          "base_uri": "https://localhost:8080/",
          "height": 426
        }
      },
      "outputs": [
        {
          "output_type": "execute_result",
          "data": {
            "text/plain": [
              "     n         x         y  cluster_label\n",
              "0    0  1.352810  1.152208              2\n",
              "1    1  1.080031  1.024335              2\n",
              "2    2  1.195748  1.088773              2\n",
              "3    3  1.448179  1.066735              2\n",
              "4    4  2.373512  2.298816              3\n",
              "5    5  1.804544  1.958968              3\n",
              "6    6  2.190018  2.062614              3\n",
              "7    7  1.969729  1.829181              3\n",
              "8    8  2.979356  0.489402              1\n",
              "9    9  3.082120  1.130724              1\n",
              "10  10  3.028809  1.172887              1\n",
              "11  11  3.290855  0.851567              1"
            ],
            "text/html": [
              "\n",
              "  <div id=\"df-0acd32f2-1634-47e2-9b29-88f4aaf67ff0\">\n",
              "    <div class=\"colab-df-container\">\n",
              "      <div>\n",
              "<style scoped>\n",
              "    .dataframe tbody tr th:only-of-type {\n",
              "        vertical-align: middle;\n",
              "    }\n",
              "\n",
              "    .dataframe tbody tr th {\n",
              "        vertical-align: top;\n",
              "    }\n",
              "\n",
              "    .dataframe thead th {\n",
              "        text-align: right;\n",
              "    }\n",
              "</style>\n",
              "<table border=\"1\" class=\"dataframe\">\n",
              "  <thead>\n",
              "    <tr style=\"text-align: right;\">\n",
              "      <th></th>\n",
              "      <th>n</th>\n",
              "      <th>x</th>\n",
              "      <th>y</th>\n",
              "      <th>cluster_label</th>\n",
              "    </tr>\n",
              "  </thead>\n",
              "  <tbody>\n",
              "    <tr>\n",
              "      <th>0</th>\n",
              "      <td>0</td>\n",
              "      <td>1.352810</td>\n",
              "      <td>1.152208</td>\n",
              "      <td>2</td>\n",
              "    </tr>\n",
              "    <tr>\n",
              "      <th>1</th>\n",
              "      <td>1</td>\n",
              "      <td>1.080031</td>\n",
              "      <td>1.024335</td>\n",
              "      <td>2</td>\n",
              "    </tr>\n",
              "    <tr>\n",
              "      <th>2</th>\n",
              "      <td>2</td>\n",
              "      <td>1.195748</td>\n",
              "      <td>1.088773</td>\n",
              "      <td>2</td>\n",
              "    </tr>\n",
              "    <tr>\n",
              "      <th>3</th>\n",
              "      <td>3</td>\n",
              "      <td>1.448179</td>\n",
              "      <td>1.066735</td>\n",
              "      <td>2</td>\n",
              "    </tr>\n",
              "    <tr>\n",
              "      <th>4</th>\n",
              "      <td>4</td>\n",
              "      <td>2.373512</td>\n",
              "      <td>2.298816</td>\n",
              "      <td>3</td>\n",
              "    </tr>\n",
              "    <tr>\n",
              "      <th>5</th>\n",
              "      <td>5</td>\n",
              "      <td>1.804544</td>\n",
              "      <td>1.958968</td>\n",
              "      <td>3</td>\n",
              "    </tr>\n",
              "    <tr>\n",
              "      <th>6</th>\n",
              "      <td>6</td>\n",
              "      <td>2.190018</td>\n",
              "      <td>2.062614</td>\n",
              "      <td>3</td>\n",
              "    </tr>\n",
              "    <tr>\n",
              "      <th>7</th>\n",
              "      <td>7</td>\n",
              "      <td>1.969729</td>\n",
              "      <td>1.829181</td>\n",
              "      <td>3</td>\n",
              "    </tr>\n",
              "    <tr>\n",
              "      <th>8</th>\n",
              "      <td>8</td>\n",
              "      <td>2.979356</td>\n",
              "      <td>0.489402</td>\n",
              "      <td>1</td>\n",
              "    </tr>\n",
              "    <tr>\n",
              "      <th>9</th>\n",
              "      <td>9</td>\n",
              "      <td>3.082120</td>\n",
              "      <td>1.130724</td>\n",
              "      <td>1</td>\n",
              "    </tr>\n",
              "    <tr>\n",
              "      <th>10</th>\n",
              "      <td>10</td>\n",
              "      <td>3.028809</td>\n",
              "      <td>1.172887</td>\n",
              "      <td>1</td>\n",
              "    </tr>\n",
              "    <tr>\n",
              "      <th>11</th>\n",
              "      <td>11</td>\n",
              "      <td>3.290855</td>\n",
              "      <td>0.851567</td>\n",
              "      <td>1</td>\n",
              "    </tr>\n",
              "  </tbody>\n",
              "</table>\n",
              "</div>\n",
              "      <button class=\"colab-df-convert\" onclick=\"convertToInteractive('df-0acd32f2-1634-47e2-9b29-88f4aaf67ff0')\"\n",
              "              title=\"Convert this dataframe to an interactive table.\"\n",
              "              style=\"display:none;\">\n",
              "        \n",
              "  <svg xmlns=\"http://www.w3.org/2000/svg\" height=\"24px\"viewBox=\"0 0 24 24\"\n",
              "       width=\"24px\">\n",
              "    <path d=\"M0 0h24v24H0V0z\" fill=\"none\"/>\n",
              "    <path d=\"M18.56 5.44l.94 2.06.94-2.06 2.06-.94-2.06-.94-.94-2.06-.94 2.06-2.06.94zm-11 1L8.5 8.5l.94-2.06 2.06-.94-2.06-.94L8.5 2.5l-.94 2.06-2.06.94zm10 10l.94 2.06.94-2.06 2.06-.94-2.06-.94-.94-2.06-.94 2.06-2.06.94z\"/><path d=\"M17.41 7.96l-1.37-1.37c-.4-.4-.92-.59-1.43-.59-.52 0-1.04.2-1.43.59L10.3 9.45l-7.72 7.72c-.78.78-.78 2.05 0 2.83L4 21.41c.39.39.9.59 1.41.59.51 0 1.02-.2 1.41-.59l7.78-7.78 2.81-2.81c.8-.78.8-2.07 0-2.86zM5.41 20L4 18.59l7.72-7.72 1.47 1.35L5.41 20z\"/>\n",
              "  </svg>\n",
              "      </button>\n",
              "      \n",
              "  <style>\n",
              "    .colab-df-container {\n",
              "      display:flex;\n",
              "      flex-wrap:wrap;\n",
              "      gap: 12px;\n",
              "    }\n",
              "\n",
              "    .colab-df-convert {\n",
              "      background-color: #E8F0FE;\n",
              "      border: none;\n",
              "      border-radius: 50%;\n",
              "      cursor: pointer;\n",
              "      display: none;\n",
              "      fill: #1967D2;\n",
              "      height: 32px;\n",
              "      padding: 0 0 0 0;\n",
              "      width: 32px;\n",
              "    }\n",
              "\n",
              "    .colab-df-convert:hover {\n",
              "      background-color: #E2EBFA;\n",
              "      box-shadow: 0px 1px 2px rgba(60, 64, 67, 0.3), 0px 1px 3px 1px rgba(60, 64, 67, 0.15);\n",
              "      fill: #174EA6;\n",
              "    }\n",
              "\n",
              "    [theme=dark] .colab-df-convert {\n",
              "      background-color: #3B4455;\n",
              "      fill: #D2E3FC;\n",
              "    }\n",
              "\n",
              "    [theme=dark] .colab-df-convert:hover {\n",
              "      background-color: #434B5C;\n",
              "      box-shadow: 0px 1px 3px 1px rgba(0, 0, 0, 0.15);\n",
              "      filter: drop-shadow(0px 1px 2px rgba(0, 0, 0, 0.3));\n",
              "      fill: #FFFFFF;\n",
              "    }\n",
              "  </style>\n",
              "\n",
              "      <script>\n",
              "        const buttonEl =\n",
              "          document.querySelector('#df-0acd32f2-1634-47e2-9b29-88f4aaf67ff0 button.colab-df-convert');\n",
              "        buttonEl.style.display =\n",
              "          google.colab.kernel.accessAllowed ? 'block' : 'none';\n",
              "\n",
              "        async function convertToInteractive(key) {\n",
              "          const element = document.querySelector('#df-0acd32f2-1634-47e2-9b29-88f4aaf67ff0');\n",
              "          const dataTable =\n",
              "            await google.colab.kernel.invokeFunction('convertToInteractive',\n",
              "                                                     [key], {});\n",
              "          if (!dataTable) return;\n",
              "\n",
              "          const docLinkHtml = 'Like what you see? Visit the ' +\n",
              "            '<a target=\"_blank\" href=https://colab.research.google.com/notebooks/data_table.ipynb>data table notebook</a>'\n",
              "            + ' to learn more about interactive tables.';\n",
              "          element.innerHTML = '';\n",
              "          dataTable['output_type'] = 'display_data';\n",
              "          await google.colab.output.renderOutput(dataTable, element);\n",
              "          const docLink = document.createElement('div');\n",
              "          docLink.innerHTML = docLinkHtml;\n",
              "          element.appendChild(docLink);\n",
              "        }\n",
              "      </script>\n",
              "    </div>\n",
              "  </div>\n",
              "  "
            ]
          },
          "metadata": {},
          "execution_count": 8
        }
      ],
      "source": [
        "cluster_labels = sph.fcluster(Z_xy,2, criterion='distance')\n",
        "df_xy['cluster_label'] = cluster_labels\n",
        "df_xy"
      ]
    },
    {
      "cell_type": "markdown",
      "metadata": {
        "id": "1RPaTC-ydHgc"
      },
      "source": [
        "Compare the cluster_labels with the scatterplot at the beginning, we can see that hierarchical clustering indeed captures the actual clusters as expected."
      ]
    },
    {
      "cell_type": "markdown",
      "metadata": {
        "id": "-cAUaGGOdHgc"
      },
      "source": [
        "## A (Slightly) More Complex Example:\n",
        "- Step 1: Import the [Iris Dataset](https://en.wikipedia.org/wiki/Iris_flower_data_set) and create a scatterplot, showing petal_lengths and petal_widths.\n",
        "- Step 2: Compute the distance matrix among irises using petal_lengths and petal_widths. Use Euclidean distance.\n",
        "- Step 3: Perform hierarchical clustering.\n",
        "- Step 4: Pick a distance threshold that results in 3 clusters that match the actual number of species."
      ]
    },
    {
      "cell_type": "code",
      "execution_count": null,
      "metadata": {
        "id": "fgUh1gfZdHgc",
        "outputId": "c373e30e-4319-4b64-ded4-20aa2d274350",
        "colab": {
          "base_uri": "https://localhost:8080/",
          "height": 364
        }
      },
      "outputs": [
        {
          "output_type": "execute_result",
          "data": {
            "text/html": [
              "\n",
              "<div id=\"altair-viz-7602094640fa45dc80fc62554fd21720\"></div>\n",
              "<script type=\"text/javascript\">\n",
              "  var VEGA_DEBUG = (typeof VEGA_DEBUG == \"undefined\") ? {} : VEGA_DEBUG;\n",
              "  (function(spec, embedOpt){\n",
              "    let outputDiv = document.currentScript.previousElementSibling;\n",
              "    if (outputDiv.id !== \"altair-viz-7602094640fa45dc80fc62554fd21720\") {\n",
              "      outputDiv = document.getElementById(\"altair-viz-7602094640fa45dc80fc62554fd21720\");\n",
              "    }\n",
              "    const paths = {\n",
              "      \"vega\": \"https://cdn.jsdelivr.net/npm//vega@5?noext\",\n",
              "      \"vega-lib\": \"https://cdn.jsdelivr.net/npm//vega-lib?noext\",\n",
              "      \"vega-lite\": \"https://cdn.jsdelivr.net/npm//vega-lite@4.17.0?noext\",\n",
              "      \"vega-embed\": \"https://cdn.jsdelivr.net/npm//vega-embed@6?noext\",\n",
              "    };\n",
              "\n",
              "    function maybeLoadScript(lib, version) {\n",
              "      var key = `${lib.replace(\"-\", \"\")}_version`;\n",
              "      return (VEGA_DEBUG[key] == version) ?\n",
              "        Promise.resolve(paths[lib]) :\n",
              "        new Promise(function(resolve, reject) {\n",
              "          var s = document.createElement('script');\n",
              "          document.getElementsByTagName(\"head\")[0].appendChild(s);\n",
              "          s.async = true;\n",
              "          s.onload = () => {\n",
              "            VEGA_DEBUG[key] = version;\n",
              "            return resolve(paths[lib]);\n",
              "          };\n",
              "          s.onerror = () => reject(`Error loading script: ${paths[lib]}`);\n",
              "          s.src = paths[lib];\n",
              "        });\n",
              "    }\n",
              "\n",
              "    function showError(err) {\n",
              "      outputDiv.innerHTML = `<div class=\"error\" style=\"color:red;\">${err}</div>`;\n",
              "      throw err;\n",
              "    }\n",
              "\n",
              "    function displayChart(vegaEmbed) {\n",
              "      vegaEmbed(outputDiv, spec, embedOpt)\n",
              "        .catch(err => showError(`Javascript Error: ${err.message}<br>This usually means there's a typo in your chart specification. See the javascript console for the full traceback.`));\n",
              "    }\n",
              "\n",
              "    if(typeof define === \"function\" && define.amd) {\n",
              "      requirejs.config({paths});\n",
              "      require([\"vega-embed\"], displayChart, err => showError(`Error loading script: ${err.message}`));\n",
              "    } else {\n",
              "      maybeLoadScript(\"vega\", \"5\")\n",
              "        .then(() => maybeLoadScript(\"vega-lite\", \"4.17.0\"))\n",
              "        .then(() => maybeLoadScript(\"vega-embed\", \"6\"))\n",
              "        .catch(showError)\n",
              "        .then(() => displayChart(vegaEmbed));\n",
              "    }\n",
              "  })({\"config\": {\"view\": {\"continuousWidth\": 400, \"continuousHeight\": 300}}, \"data\": {\"name\": \"data-a264acbd6e539a8b3afc0cb5f240fb57\"}, \"mark\": \"point\", \"encoding\": {\"color\": {\"field\": \"species\", \"type\": \"nominal\"}, \"x\": {\"field\": \"petalLength\", \"type\": \"quantitative\"}, \"y\": {\"field\": \"petalWidth\", \"type\": \"quantitative\"}}, \"$schema\": \"https://vega.github.io/schema/vega-lite/v4.17.0.json\", \"datasets\": {\"data-a264acbd6e539a8b3afc0cb5f240fb57\": [{\"sepalLength\": 5.1, \"sepalWidth\": 3.5, \"petalLength\": 1.4, \"petalWidth\": 0.2, \"species\": \"setosa\"}, {\"sepalLength\": 4.9, \"sepalWidth\": 3.0, \"petalLength\": 1.4, \"petalWidth\": 0.2, \"species\": \"setosa\"}, {\"sepalLength\": 4.7, \"sepalWidth\": 3.2, \"petalLength\": 1.3, \"petalWidth\": 0.2, \"species\": \"setosa\"}, {\"sepalLength\": 4.6, \"sepalWidth\": 3.1, \"petalLength\": 1.5, \"petalWidth\": 0.2, \"species\": \"setosa\"}, {\"sepalLength\": 5.0, \"sepalWidth\": 3.6, \"petalLength\": 1.4, \"petalWidth\": 0.2, \"species\": \"setosa\"}, {\"sepalLength\": 5.4, \"sepalWidth\": 3.9, \"petalLength\": 1.7000000000000002, \"petalWidth\": 0.4, \"species\": \"setosa\"}, {\"sepalLength\": 4.6, \"sepalWidth\": 3.4, \"petalLength\": 1.4, \"petalWidth\": 0.30000000000000004, \"species\": \"setosa\"}, {\"sepalLength\": 5.0, \"sepalWidth\": 3.4, \"petalLength\": 1.5, \"petalWidth\": 0.2, \"species\": \"setosa\"}, {\"sepalLength\": 4.4, \"sepalWidth\": 2.9, \"petalLength\": 1.4, \"petalWidth\": 0.2, \"species\": \"setosa\"}, {\"sepalLength\": 4.9, \"sepalWidth\": 3.1, \"petalLength\": 1.5, \"petalWidth\": 0.1, \"species\": \"setosa\"}, {\"sepalLength\": 5.4, \"sepalWidth\": 3.7, \"petalLength\": 1.5, \"petalWidth\": 0.2, \"species\": \"setosa\"}, {\"sepalLength\": 4.8, \"sepalWidth\": 3.4, \"petalLength\": 1.6, \"petalWidth\": 0.2, \"species\": \"setosa\"}, {\"sepalLength\": 4.8, \"sepalWidth\": 3.0, \"petalLength\": 1.4, \"petalWidth\": 0.1, \"species\": \"setosa\"}, {\"sepalLength\": 4.3, \"sepalWidth\": 3.0, \"petalLength\": 1.1, \"petalWidth\": 0.1, \"species\": \"setosa\"}, {\"sepalLength\": 5.8, \"sepalWidth\": 4.0, \"petalLength\": 1.2, \"petalWidth\": 0.2, \"species\": \"setosa\"}, {\"sepalLength\": 5.7, \"sepalWidth\": 4.4, \"petalLength\": 1.5, \"petalWidth\": 0.4, \"species\": \"setosa\"}, {\"sepalLength\": 5.4, \"sepalWidth\": 3.9, \"petalLength\": 1.3, \"petalWidth\": 0.4, \"species\": \"setosa\"}, {\"sepalLength\": 5.1, \"sepalWidth\": 3.5, \"petalLength\": 1.4, \"petalWidth\": 0.30000000000000004, \"species\": \"setosa\"}, {\"sepalLength\": 5.7, \"sepalWidth\": 3.8, \"petalLength\": 1.7000000000000002, \"petalWidth\": 0.30000000000000004, \"species\": \"setosa\"}, {\"sepalLength\": 5.1, \"sepalWidth\": 3.8, \"petalLength\": 1.5, \"petalWidth\": 0.30000000000000004, \"species\": \"setosa\"}, {\"sepalLength\": 5.4, \"sepalWidth\": 3.4, \"petalLength\": 1.7000000000000002, \"petalWidth\": 0.2, \"species\": \"setosa\"}, {\"sepalLength\": 5.1, \"sepalWidth\": 3.7, \"petalLength\": 1.5, \"petalWidth\": 0.4, \"species\": \"setosa\"}, {\"sepalLength\": 4.6, \"sepalWidth\": 3.6, \"petalLength\": 1.0, \"petalWidth\": 0.2, \"species\": \"setosa\"}, {\"sepalLength\": 5.1, \"sepalWidth\": 3.3, \"petalLength\": 1.7000000000000002, \"petalWidth\": 0.5, \"species\": \"setosa\"}, {\"sepalLength\": 4.8, \"sepalWidth\": 3.4, \"petalLength\": 1.9, \"petalWidth\": 0.2, \"species\": \"setosa\"}, {\"sepalLength\": 5.0, \"sepalWidth\": 3.0, \"petalLength\": 1.6, \"petalWidth\": 0.2, \"species\": \"setosa\"}, {\"sepalLength\": 5.0, \"sepalWidth\": 3.4, \"petalLength\": 1.6, \"petalWidth\": 0.4, \"species\": \"setosa\"}, {\"sepalLength\": 5.2, \"sepalWidth\": 3.5, \"petalLength\": 1.5, \"petalWidth\": 0.2, \"species\": \"setosa\"}, {\"sepalLength\": 5.2, \"sepalWidth\": 3.4, \"petalLength\": 1.4, \"petalWidth\": 0.2, \"species\": \"setosa\"}, {\"sepalLength\": 4.7, \"sepalWidth\": 3.2, \"petalLength\": 1.6, \"petalWidth\": 0.2, \"species\": \"setosa\"}, {\"sepalLength\": 4.8, \"sepalWidth\": 3.1, \"petalLength\": 1.6, \"petalWidth\": 0.2, \"species\": \"setosa\"}, {\"sepalLength\": 5.4, \"sepalWidth\": 3.4, \"petalLength\": 1.5, \"petalWidth\": 0.4, \"species\": \"setosa\"}, {\"sepalLength\": 5.2, \"sepalWidth\": 4.1, \"petalLength\": 1.5, \"petalWidth\": 0.1, \"species\": \"setosa\"}, {\"sepalLength\": 5.5, \"sepalWidth\": 4.2, \"petalLength\": 1.4, \"petalWidth\": 0.2, \"species\": \"setosa\"}, {\"sepalLength\": 4.9, \"sepalWidth\": 3.1, \"petalLength\": 1.5, \"petalWidth\": 0.2, \"species\": \"setosa\"}, {\"sepalLength\": 5.0, \"sepalWidth\": 3.2, \"petalLength\": 1.2, \"petalWidth\": 0.2, \"species\": \"setosa\"}, {\"sepalLength\": 5.5, \"sepalWidth\": 3.5, \"petalLength\": 1.3, \"petalWidth\": 0.2, \"species\": \"setosa\"}, {\"sepalLength\": 4.9, \"sepalWidth\": 3.6, \"petalLength\": 1.4, \"petalWidth\": 0.1, \"species\": \"setosa\"}, {\"sepalLength\": 4.4, \"sepalWidth\": 3.0, \"petalLength\": 1.3, \"petalWidth\": 0.2, \"species\": \"setosa\"}, {\"sepalLength\": 5.1, \"sepalWidth\": 3.4, \"petalLength\": 1.5, \"petalWidth\": 0.2, \"species\": \"setosa\"}, {\"sepalLength\": 5.0, \"sepalWidth\": 3.5, \"petalLength\": 1.3, \"petalWidth\": 0.30000000000000004, \"species\": \"setosa\"}, {\"sepalLength\": 4.5, \"sepalWidth\": 2.3, \"petalLength\": 1.3, \"petalWidth\": 0.30000000000000004, \"species\": \"setosa\"}, {\"sepalLength\": 4.4, \"sepalWidth\": 3.2, \"petalLength\": 1.3, \"petalWidth\": 0.2, \"species\": \"setosa\"}, {\"sepalLength\": 5.0, \"sepalWidth\": 3.5, \"petalLength\": 1.6, \"petalWidth\": 0.6000000000000001, \"species\": \"setosa\"}, {\"sepalLength\": 5.1, \"sepalWidth\": 3.8, \"petalLength\": 1.9, \"petalWidth\": 0.4, \"species\": \"setosa\"}, {\"sepalLength\": 4.8, \"sepalWidth\": 3.0, \"petalLength\": 1.4, \"petalWidth\": 0.30000000000000004, \"species\": \"setosa\"}, {\"sepalLength\": 5.1, \"sepalWidth\": 3.8, \"petalLength\": 1.6, \"petalWidth\": 0.2, \"species\": \"setosa\"}, {\"sepalLength\": 4.6, \"sepalWidth\": 3.2, \"petalLength\": 1.4, \"petalWidth\": 0.2, \"species\": \"setosa\"}, {\"sepalLength\": 5.3, \"sepalWidth\": 3.7, \"petalLength\": 1.5, \"petalWidth\": 0.2, \"species\": \"setosa\"}, {\"sepalLength\": 5.0, \"sepalWidth\": 3.3, \"petalLength\": 1.4, \"petalWidth\": 0.2, \"species\": \"setosa\"}, {\"sepalLength\": 7.0, \"sepalWidth\": 3.2, \"petalLength\": 4.7, \"petalWidth\": 1.4, \"species\": \"versicolor\"}, {\"sepalLength\": 6.4, \"sepalWidth\": 3.2, \"petalLength\": 4.5, \"petalWidth\": 1.5, \"species\": \"versicolor\"}, {\"sepalLength\": 6.9, \"sepalWidth\": 3.1, \"petalLength\": 4.9, \"petalWidth\": 1.5, \"species\": \"versicolor\"}, {\"sepalLength\": 5.5, \"sepalWidth\": 2.3, \"petalLength\": 4.0, \"petalWidth\": 1.3, \"species\": \"versicolor\"}, {\"sepalLength\": 6.5, \"sepalWidth\": 2.8, \"petalLength\": 4.6, \"petalWidth\": 1.5, \"species\": \"versicolor\"}, {\"sepalLength\": 5.7, \"sepalWidth\": 2.8, \"petalLength\": 4.5, \"petalWidth\": 1.3, \"species\": \"versicolor\"}, {\"sepalLength\": 6.3, \"sepalWidth\": 3.3, \"petalLength\": 4.7, \"petalWidth\": 1.6, \"species\": \"versicolor\"}, {\"sepalLength\": 4.9, \"sepalWidth\": 2.4, \"petalLength\": 3.3, \"petalWidth\": 1.0, \"species\": \"versicolor\"}, {\"sepalLength\": 6.6, \"sepalWidth\": 2.9, \"petalLength\": 4.6, \"petalWidth\": 1.3, \"species\": \"versicolor\"}, {\"sepalLength\": 5.2, \"sepalWidth\": 2.7, \"petalLength\": 3.9, \"petalWidth\": 1.4, \"species\": \"versicolor\"}, {\"sepalLength\": 5.0, \"sepalWidth\": 2.0, \"petalLength\": 3.5, \"petalWidth\": 1.0, \"species\": \"versicolor\"}, {\"sepalLength\": 5.9, \"sepalWidth\": 3.0, \"petalLength\": 4.2, \"petalWidth\": 1.5, \"species\": \"versicolor\"}, {\"sepalLength\": 6.0, \"sepalWidth\": 2.2, \"petalLength\": 4.0, \"petalWidth\": 1.0, \"species\": \"versicolor\"}, {\"sepalLength\": 6.1, \"sepalWidth\": 2.9, \"petalLength\": 4.7, \"petalWidth\": 1.4, \"species\": \"versicolor\"}, {\"sepalLength\": 5.6, \"sepalWidth\": 2.9, \"petalLength\": 3.6, \"petalWidth\": 1.3, \"species\": \"versicolor\"}, {\"sepalLength\": 6.7, \"sepalWidth\": 3.1, \"petalLength\": 4.4, \"petalWidth\": 1.4, \"species\": \"versicolor\"}, {\"sepalLength\": 5.6, \"sepalWidth\": 3.0, \"petalLength\": 4.5, \"petalWidth\": 1.5, \"species\": \"versicolor\"}, {\"sepalLength\": 5.8, \"sepalWidth\": 2.7, \"petalLength\": 4.1, \"petalWidth\": 1.0, \"species\": \"versicolor\"}, {\"sepalLength\": 6.2, \"sepalWidth\": 2.2, \"petalLength\": 4.5, \"petalWidth\": 1.5, \"species\": \"versicolor\"}, {\"sepalLength\": 5.6, \"sepalWidth\": 2.5, \"petalLength\": 3.9, \"petalWidth\": 1.1, \"species\": \"versicolor\"}, {\"sepalLength\": 5.9, \"sepalWidth\": 3.2, \"petalLength\": 4.8, \"petalWidth\": 1.8, \"species\": \"versicolor\"}, {\"sepalLength\": 6.1, \"sepalWidth\": 2.8, \"petalLength\": 4.0, \"petalWidth\": 1.3, \"species\": \"versicolor\"}, {\"sepalLength\": 6.3, \"sepalWidth\": 2.5, \"petalLength\": 4.9, \"petalWidth\": 1.5, \"species\": \"versicolor\"}, {\"sepalLength\": 6.1, \"sepalWidth\": 2.8, \"petalLength\": 4.7, \"petalWidth\": 1.2, \"species\": \"versicolor\"}, {\"sepalLength\": 6.4, \"sepalWidth\": 2.9, \"petalLength\": 4.3, \"petalWidth\": 1.3, \"species\": \"versicolor\"}, {\"sepalLength\": 6.6, \"sepalWidth\": 3.0, \"petalLength\": 4.4, \"petalWidth\": 1.4, \"species\": \"versicolor\"}, {\"sepalLength\": 6.8, \"sepalWidth\": 2.8, \"petalLength\": 4.8, \"petalWidth\": 1.4, \"species\": \"versicolor\"}, {\"sepalLength\": 6.7, \"sepalWidth\": 3.0, \"petalLength\": 5.0, \"petalWidth\": 1.7000000000000002, \"species\": \"versicolor\"}, {\"sepalLength\": 6.0, \"sepalWidth\": 2.9, \"petalLength\": 4.5, \"petalWidth\": 1.5, \"species\": \"versicolor\"}, {\"sepalLength\": 5.7, \"sepalWidth\": 2.6, \"petalLength\": 3.5, \"petalWidth\": 1.0, \"species\": \"versicolor\"}, {\"sepalLength\": 5.5, \"sepalWidth\": 2.4, \"petalLength\": 3.8, \"petalWidth\": 1.1, \"species\": \"versicolor\"}, {\"sepalLength\": 5.5, \"sepalWidth\": 2.4, \"petalLength\": 3.7, \"petalWidth\": 1.0, \"species\": \"versicolor\"}, {\"sepalLength\": 5.8, \"sepalWidth\": 2.7, \"petalLength\": 3.9, \"petalWidth\": 1.2, \"species\": \"versicolor\"}, {\"sepalLength\": 6.0, \"sepalWidth\": 2.7, \"petalLength\": 5.1, \"petalWidth\": 1.6, \"species\": \"versicolor\"}, {\"sepalLength\": 5.4, \"sepalWidth\": 3.0, \"petalLength\": 4.5, \"petalWidth\": 1.5, \"species\": \"versicolor\"}, {\"sepalLength\": 6.0, \"sepalWidth\": 3.4, \"petalLength\": 4.5, \"petalWidth\": 1.6, \"species\": \"versicolor\"}, {\"sepalLength\": 6.7, \"sepalWidth\": 3.1, \"petalLength\": 4.7, \"petalWidth\": 1.5, \"species\": \"versicolor\"}, {\"sepalLength\": 6.3, \"sepalWidth\": 2.3, \"petalLength\": 4.4, \"petalWidth\": 1.3, \"species\": \"versicolor\"}, {\"sepalLength\": 5.6, \"sepalWidth\": 3.0, \"petalLength\": 4.1, \"petalWidth\": 1.3, \"species\": \"versicolor\"}, {\"sepalLength\": 5.5, \"sepalWidth\": 2.5, \"petalLength\": 4.0, \"petalWidth\": 1.3, \"species\": \"versicolor\"}, {\"sepalLength\": 5.5, \"sepalWidth\": 2.6, \"petalLength\": 4.4, \"petalWidth\": 1.2, \"species\": \"versicolor\"}, {\"sepalLength\": 6.1, \"sepalWidth\": 3.0, \"petalLength\": 4.6, \"petalWidth\": 1.4, \"species\": \"versicolor\"}, {\"sepalLength\": 5.8, \"sepalWidth\": 2.6, \"petalLength\": 4.0, \"petalWidth\": 1.2, \"species\": \"versicolor\"}, {\"sepalLength\": 5.0, \"sepalWidth\": 2.3, \"petalLength\": 3.3, \"petalWidth\": 1.0, \"species\": \"versicolor\"}, {\"sepalLength\": 5.6, \"sepalWidth\": 2.7, \"petalLength\": 4.2, \"petalWidth\": 1.3, \"species\": \"versicolor\"}, {\"sepalLength\": 5.7, \"sepalWidth\": 3.0, \"petalLength\": 4.2, \"petalWidth\": 1.2, \"species\": \"versicolor\"}, {\"sepalLength\": 5.7, \"sepalWidth\": 2.9, \"petalLength\": 4.2, \"petalWidth\": 1.3, \"species\": \"versicolor\"}, {\"sepalLength\": 6.2, \"sepalWidth\": 2.9, \"petalLength\": 4.3, \"petalWidth\": 1.3, \"species\": \"versicolor\"}, {\"sepalLength\": 5.1, \"sepalWidth\": 2.5, \"petalLength\": 3.0, \"petalWidth\": 1.1, \"species\": \"versicolor\"}, {\"sepalLength\": 5.7, \"sepalWidth\": 2.8, \"petalLength\": 4.1, \"petalWidth\": 1.3, \"species\": \"versicolor\"}, {\"sepalLength\": 6.3, \"sepalWidth\": 3.3, \"petalLength\": 6.0, \"petalWidth\": 2.5, \"species\": \"virginica\"}, {\"sepalLength\": 5.8, \"sepalWidth\": 2.7, \"petalLength\": 5.1, \"petalWidth\": 1.9, \"species\": \"virginica\"}, {\"sepalLength\": 7.1, \"sepalWidth\": 3.0, \"petalLength\": 5.9, \"petalWidth\": 2.1, \"species\": \"virginica\"}, {\"sepalLength\": 6.3, \"sepalWidth\": 2.9, \"petalLength\": 5.6, \"petalWidth\": 1.8, \"species\": \"virginica\"}, {\"sepalLength\": 6.5, \"sepalWidth\": 3.0, \"petalLength\": 5.8, \"petalWidth\": 2.2, \"species\": \"virginica\"}, {\"sepalLength\": 7.6, \"sepalWidth\": 3.0, \"petalLength\": 6.6, \"petalWidth\": 2.1, \"species\": \"virginica\"}, {\"sepalLength\": 4.9, \"sepalWidth\": 2.5, \"petalLength\": 4.5, \"petalWidth\": 1.7000000000000002, \"species\": \"virginica\"}, {\"sepalLength\": 7.3, \"sepalWidth\": 2.9, \"petalLength\": 6.3, \"petalWidth\": 1.8, \"species\": \"virginica\"}, {\"sepalLength\": 6.7, \"sepalWidth\": 2.5, \"petalLength\": 5.8, \"petalWidth\": 1.8, \"species\": \"virginica\"}, {\"sepalLength\": 7.2, \"sepalWidth\": 3.6, \"petalLength\": 6.1, \"petalWidth\": 2.5, \"species\": \"virginica\"}, {\"sepalLength\": 6.5, \"sepalWidth\": 3.2, \"petalLength\": 5.1, \"petalWidth\": 2.0, \"species\": \"virginica\"}, {\"sepalLength\": 6.4, \"sepalWidth\": 2.7, \"petalLength\": 5.3, \"petalWidth\": 1.9, \"species\": \"virginica\"}, {\"sepalLength\": 6.8, \"sepalWidth\": 3.0, \"petalLength\": 5.5, \"petalWidth\": 2.1, \"species\": \"virginica\"}, {\"sepalLength\": 5.7, \"sepalWidth\": 2.5, \"petalLength\": 5.0, \"petalWidth\": 2.0, \"species\": \"virginica\"}, {\"sepalLength\": 5.8, \"sepalWidth\": 2.8, \"petalLength\": 5.1, \"petalWidth\": 2.4, \"species\": \"virginica\"}, {\"sepalLength\": 6.4, \"sepalWidth\": 3.2, \"petalLength\": 5.3, \"petalWidth\": 2.3, \"species\": \"virginica\"}, {\"sepalLength\": 6.5, \"sepalWidth\": 3.0, \"petalLength\": 5.5, \"petalWidth\": 1.8, \"species\": \"virginica\"}, {\"sepalLength\": 7.7, \"sepalWidth\": 3.8, \"petalLength\": 6.7, \"petalWidth\": 2.2, \"species\": \"virginica\"}, {\"sepalLength\": 7.7, \"sepalWidth\": 2.6, \"petalLength\": 6.9, \"petalWidth\": 2.3, \"species\": \"virginica\"}, {\"sepalLength\": 6.0, \"sepalWidth\": 2.2, \"petalLength\": 5.0, \"petalWidth\": 1.5, \"species\": \"virginica\"}, {\"sepalLength\": 6.9, \"sepalWidth\": 3.2, \"petalLength\": 5.7, \"petalWidth\": 2.3, \"species\": \"virginica\"}, {\"sepalLength\": 5.6, \"sepalWidth\": 2.8, \"petalLength\": 4.9, \"petalWidth\": 2.0, \"species\": \"virginica\"}, {\"sepalLength\": 7.7, \"sepalWidth\": 2.8, \"petalLength\": 6.7, \"petalWidth\": 2.0, \"species\": \"virginica\"}, {\"sepalLength\": 6.3, \"sepalWidth\": 2.7, \"petalLength\": 4.9, \"petalWidth\": 1.8, \"species\": \"virginica\"}, {\"sepalLength\": 6.7, \"sepalWidth\": 3.3, \"petalLength\": 5.7, \"petalWidth\": 2.1, \"species\": \"virginica\"}, {\"sepalLength\": 7.2, \"sepalWidth\": 3.2, \"petalLength\": 6.0, \"petalWidth\": 1.8, \"species\": \"virginica\"}, {\"sepalLength\": 6.2, \"sepalWidth\": 2.8, \"petalLength\": 4.8, \"petalWidth\": 1.8, \"species\": \"virginica\"}, {\"sepalLength\": 6.1, \"sepalWidth\": 3.0, \"petalLength\": 4.9, \"petalWidth\": 1.8, \"species\": \"virginica\"}, {\"sepalLength\": 6.4, \"sepalWidth\": 2.8, \"petalLength\": 5.6, \"petalWidth\": 2.1, \"species\": \"virginica\"}, {\"sepalLength\": 7.2, \"sepalWidth\": 3.0, \"petalLength\": 5.8, \"petalWidth\": 1.6, \"species\": \"virginica\"}, {\"sepalLength\": 7.4, \"sepalWidth\": 2.8, \"petalLength\": 6.1, \"petalWidth\": 1.9, \"species\": \"virginica\"}, {\"sepalLength\": 7.9, \"sepalWidth\": 3.8, \"petalLength\": 6.4, \"petalWidth\": 2.0, \"species\": \"virginica\"}, {\"sepalLength\": 6.4, \"sepalWidth\": 2.8, \"petalLength\": 5.6, \"petalWidth\": 2.2, \"species\": \"virginica\"}, {\"sepalLength\": 6.3, \"sepalWidth\": 2.8, \"petalLength\": 5.1, \"petalWidth\": 1.5, \"species\": \"virginica\"}, {\"sepalLength\": 6.1, \"sepalWidth\": 2.6, \"petalLength\": 5.6, \"petalWidth\": 1.4, \"species\": \"virginica\"}, {\"sepalLength\": 7.7, \"sepalWidth\": 3.0, \"petalLength\": 6.1, \"petalWidth\": 2.3, \"species\": \"virginica\"}, {\"sepalLength\": 6.3, \"sepalWidth\": 3.4, \"petalLength\": 5.6, \"petalWidth\": 2.4, \"species\": \"virginica\"}, {\"sepalLength\": 6.4, \"sepalWidth\": 3.1, \"petalLength\": 5.5, \"petalWidth\": 1.8, \"species\": \"virginica\"}, {\"sepalLength\": 6.0, \"sepalWidth\": 3.0, \"petalLength\": 4.8, \"petalWidth\": 1.8, \"species\": \"virginica\"}, {\"sepalLength\": 6.9, \"sepalWidth\": 3.1, \"petalLength\": 5.4, \"petalWidth\": 2.1, \"species\": \"virginica\"}, {\"sepalLength\": 6.7, \"sepalWidth\": 3.1, \"petalLength\": 5.6, \"petalWidth\": 2.4, \"species\": \"virginica\"}, {\"sepalLength\": 6.9, \"sepalWidth\": 3.1, \"petalLength\": 5.1, \"petalWidth\": 2.3, \"species\": \"virginica\"}, {\"sepalLength\": 5.8, \"sepalWidth\": 2.7, \"petalLength\": 5.1, \"petalWidth\": 1.9, \"species\": \"virginica\"}, {\"sepalLength\": 6.8, \"sepalWidth\": 3.2, \"petalLength\": 5.9, \"petalWidth\": 2.3, \"species\": \"virginica\"}, {\"sepalLength\": 6.7, \"sepalWidth\": 3.3, \"petalLength\": 5.7, \"petalWidth\": 2.5, \"species\": \"virginica\"}, {\"sepalLength\": 6.7, \"sepalWidth\": 3.0, \"petalLength\": 5.2, \"petalWidth\": 2.3, \"species\": \"virginica\"}, {\"sepalLength\": 6.3, \"sepalWidth\": 2.5, \"petalLength\": 5.0, \"petalWidth\": 1.9, \"species\": \"virginica\"}, {\"sepalLength\": 6.5, \"sepalWidth\": 3.0, \"petalLength\": 5.2, \"petalWidth\": 2.0, \"species\": \"virginica\"}, {\"sepalLength\": 6.2, \"sepalWidth\": 3.4, \"petalLength\": 5.4, \"petalWidth\": 2.3, \"species\": \"virginica\"}, {\"sepalLength\": 5.9, \"sepalWidth\": 3.0, \"petalLength\": 5.1, \"petalWidth\": 1.8, \"species\": \"virginica\"}]}}, {\"mode\": \"vega-lite\"});\n",
              "</script>"
            ],
            "text/plain": [
              "alt.Chart(...)"
            ]
          },
          "metadata": {},
          "execution_count": 9
        }
      ],
      "source": [
        "# Step 1: Import the iris dataset and create scatterplot.\n",
        "# Show only petal_length and petal_width.\n",
        "from vega_datasets import data\n",
        "df_iris = data.iris()\n",
        "alt.Chart(df_iris).mark_point().encode(\n",
        "  x='petalLength', y='petalWidth', color='species'\n",
        ")"
      ]
    },
    {
      "cell_type": "code",
      "execution_count": null,
      "metadata": {
        "id": "dxXNdsqAdHgc",
        "outputId": "77944921-49d8-4efe-925d-2bc96146778c",
        "colab": {
          "base_uri": "https://localhost:8080/"
        }
      },
      "outputs": [
        {
          "output_type": "execute_result",
          "data": {
            "text/plain": [
              "(150, 150)"
            ]
          },
          "metadata": {},
          "execution_count": 10
        }
      ],
      "source": [
        "# Step 2: Compute distance matrix. Using petal_length and petal_width only --- what happens if you try different distance metrics?\n",
        "# plpw means \"petal_length and petal_width\"\n",
        "dist_iris_plpw = spd.squareform(spd.pdist(\n",
        "        df_iris[['petalLength', 'petalWidth']], \n",
        "        metric='euclidean'))\n",
        "dist_iris_plpw.shape"
      ]
    },
    {
      "cell_type": "code",
      "execution_count": null,
      "metadata": {
        "id": "_1SnxgB2dHgd",
        "outputId": "e0691c2a-244f-48ab-dfb2-40bf70202dbb",
        "colab": {
          "base_uri": "https://localhost:8080/",
          "height": 308
        }
      },
      "outputs": [
        {
          "output_type": "display_data",
          "data": {
            "text/plain": [
              "<Figure size 432x288 with 1 Axes>"
            ],
            "image/png": "[encoded data removed]"
          },
          "metadata": {
            "needs_background": "light"
          }
        }
      ],
      "source": [
        "# Perform hierarchical clustering and plot the dendrogram.\n",
        "iris_xy = sph.linkage(dist_iris_plpw, method='single')  # obtain the linkage matrix --- what happens if you try different linkage functions?\n",
        "_ = sph.dendrogram(iris_xy)  # plot the linkage matrix as a dendrogram\n",
        "plt.xlabel('Data Points')\n",
        "plt.ylabel('Distance')\n",
        "plt.suptitle('Dendrogram: 12-point toy data', \n",
        "             fontweight='bold', fontsize=14);"
      ]
    },
    {
      "cell_type": "code",
      "execution_count": null,
      "metadata": {
        "id": "QFOOA_TKdHgd",
        "outputId": "731df0d3-c4ee-4899-a1df-f5ab4f02d6be",
        "colab": {
          "base_uri": "https://localhost:8080/",
          "height": 206
        }
      },
      "outputs": [
        {
          "output_type": "execute_result",
          "data": {
            "text/plain": [
              "   sepalLength  sepalWidth  petalLength  petalWidth species  cluster_label\n",
              "0          5.1         3.5          1.4         0.2  setosa              1\n",
              "1          4.9         3.0          1.4         0.2  setosa              1\n",
              "2          4.7         3.2          1.3         0.2  setosa              1\n",
              "3          4.6         3.1          1.5         0.2  setosa              1\n",
              "4          5.0         3.6          1.4         0.2  setosa              1"
            ],
            "text/html": [
              "\n",
              "  <div id=\"df-5098ba16-72bb-4e38-9ff5-78aace46e949\">\n",
              "    <div class=\"colab-df-container\">\n",
              "      <div>\n",
              "<style scoped>\n",
              "    .dataframe tbody tr th:only-of-type {\n",
              "        vertical-align: middle;\n",
              "    }\n",
              "\n",
              "    .dataframe tbody tr th {\n",
              "        vertical-align: top;\n",
              "    }\n",
              "\n",
              "    .dataframe thead th {\n",
              "        text-align: right;\n",
              "    }\n",
              "</style>\n",
              "<table border=\"1\" class=\"dataframe\">\n",
              "  <thead>\n",
              "    <tr style=\"text-align: right;\">\n",
              "      <th></th>\n",
              "      <th>sepalLength</th>\n",
              "      <th>sepalWidth</th>\n",
              "      <th>petalLength</th>\n",
              "      <th>petalWidth</th>\n",
              "      <th>species</th>\n",
              "      <th>cluster_label</th>\n",
              "    </tr>\n",
              "  </thead>\n",
              "  <tbody>\n",
              "    <tr>\n",
              "      <th>0</th>\n",
              "      <td>5.1</td>\n",
              "      <td>3.5</td>\n",
              "      <td>1.4</td>\n",
              "      <td>0.2</td>\n",
              "      <td>setosa</td>\n",
              "      <td>1</td>\n",
              "    </tr>\n",
              "    <tr>\n",
              "      <th>1</th>\n",
              "      <td>4.9</td>\n",
              "      <td>3.0</td>\n",
              "      <td>1.4</td>\n",
              "      <td>0.2</td>\n",
              "      <td>setosa</td>\n",
              "      <td>1</td>\n",
              "    </tr>\n",
              "    <tr>\n",
              "      <th>2</th>\n",
              "      <td>4.7</td>\n",
              "      <td>3.2</td>\n",
              "      <td>1.3</td>\n",
              "      <td>0.2</td>\n",
              "      <td>setosa</td>\n",
              "      <td>1</td>\n",
              "    </tr>\n",
              "    <tr>\n",
              "      <th>3</th>\n",
              "      <td>4.6</td>\n",
              "      <td>3.1</td>\n",
              "      <td>1.5</td>\n",
              "      <td>0.2</td>\n",
              "      <td>setosa</td>\n",
              "      <td>1</td>\n",
              "    </tr>\n",
              "    <tr>\n",
              "      <th>4</th>\n",
              "      <td>5.0</td>\n",
              "      <td>3.6</td>\n",
              "      <td>1.4</td>\n",
              "      <td>0.2</td>\n",
              "      <td>setosa</td>\n",
              "      <td>1</td>\n",
              "    </tr>\n",
              "  </tbody>\n",
              "</table>\n",
              "</div>\n",
              "      <button class=\"colab-df-convert\" onclick=\"convertToInteractive('df-5098ba16-72bb-4e38-9ff5-78aace46e949')\"\n",
              "              title=\"Convert this dataframe to an interactive table.\"\n",
              "              style=\"display:none;\">\n",
              "        \n",
              "  <svg xmlns=\"http://www.w3.org/2000/svg\" height=\"24px\"viewBox=\"0 0 24 24\"\n",
              "       width=\"24px\">\n",
              "    <path d=\"M0 0h24v24H0V0z\" fill=\"none\"/>\n",
              "    <path d=\"M18.56 5.44l.94 2.06.94-2.06 2.06-.94-2.06-.94-.94-2.06-.94 2.06-2.06.94zm-11 1L8.5 8.5l.94-2.06 2.06-.94-2.06-.94L8.5 2.5l-.94 2.06-2.06.94zm10 10l.94 2.06.94-2.06 2.06-.94-2.06-.94-.94-2.06-.94 2.06-2.06.94z\"/><path d=\"M17.41 7.96l-1.37-1.37c-.4-.4-.92-.59-1.43-.59-.52 0-1.04.2-1.43.59L10.3 9.45l-7.72 7.72c-.78.78-.78 2.05 0 2.83L4 21.41c.39.39.9.59 1.41.59.51 0 1.02-.2 1.41-.59l7.78-7.78 2.81-2.81c.8-.78.8-2.07 0-2.86zM5.41 20L4 18.59l7.72-7.72 1.47 1.35L5.41 20z\"/>\n",
              "  </svg>\n",
              "      </button>\n",
              "      \n",
              "  <style>\n",
              "    .colab-df-container {\n",
              "      display:flex;\n",
              "      flex-wrap:wrap;\n",
              "      gap: 12px;\n",
              "    }\n",
              "\n",
              "    .colab-df-convert {\n",
              "      background-color: #E8F0FE;\n",
              "      border: none;\n",
              "      border-radius: 50%;\n",
              "      cursor: pointer;\n",
              "      display: none;\n",
              "      fill: #1967D2;\n",
              "      height: 32px;\n",
              "      padding: 0 0 0 0;\n",
              "      width: 32px;\n",
              "    }\n",
              "\n",
              "    .colab-df-convert:hover {\n",
              "      background-color: #E2EBFA;\n",
              "      box-shadow: 0px 1px 2px rgba(60, 64, 67, 0.3), 0px 1px 3px 1px rgba(60, 64, 67, 0.15);\n",
              "      fill: #174EA6;\n",
              "    }\n",
              "\n",
              "    [theme=dark] .colab-df-convert {\n",
              "      background-color: #3B4455;\n",
              "      fill: #D2E3FC;\n",
              "    }\n",
              "\n",
              "    [theme=dark] .colab-df-convert:hover {\n",
              "      background-color: #434B5C;\n",
              "      box-shadow: 0px 1px 3px 1px rgba(0, 0, 0, 0.15);\n",
              "      filter: drop-shadow(0px 1px 2px rgba(0, 0, 0, 0.3));\n",
              "      fill: #FFFFFF;\n",
              "    }\n",
              "  </style>\n",
              "\n",
              "      <script>\n",
              "        const buttonEl =\n",
              "          document.querySelector('#df-5098ba16-72bb-4e38-9ff5-78aace46e949 button.colab-df-convert');\n",
              "        buttonEl.style.display =\n",
              "          google.colab.kernel.accessAllowed ? 'block' : 'none';\n",
              "\n",
              "        async function convertToInteractive(key) {\n",
              "          const element = document.querySelector('#df-5098ba16-72bb-4e38-9ff5-78aace46e949');\n",
              "          const dataTable =\n",
              "            await google.colab.kernel.invokeFunction('convertToInteractive',\n",
              "                                                     [key], {});\n",
              "          if (!dataTable) return;\n",
              "\n",
              "          const docLinkHtml = 'Like what you see? Visit the ' +\n",
              "            '<a target=\"_blank\" href=https://colab.research.google.com/notebooks/data_table.ipynb>data table notebook</a>'\n",
              "            + ' to learn more about interactive tables.';\n",
              "          element.innerHTML = '';\n",
              "          dataTable['output_type'] = 'display_data';\n",
              "          await google.colab.output.renderOutput(dataTable, element);\n",
              "          const docLink = document.createElement('div');\n",
              "          docLink.innerHTML = docLinkHtml;\n",
              "          element.appendChild(docLink);\n",
              "        }\n",
              "      </script>\n",
              "    </div>\n",
              "  </div>\n",
              "  "
            ]
          },
          "metadata": {},
          "execution_count": 12
        }
      ],
      "source": [
        "# Add  labels back to the dataframe\n",
        "iris_labels = sph.fcluster(iris_xy, 2.8, criterion='distance') # --- what happens if you use a different distance threshold?\n",
        "df_iris['cluster_label'] = iris_labels\n",
        "df_iris.head()"
      ]
    },
    {
      "cell_type": "code",
      "execution_count": null,
      "metadata": {
        "id": "qxSUpnaHdHgd",
        "outputId": "9677cd37-6a7f-4d1f-9b93-0021686c6b76",
        "colab": {
          "base_uri": "https://localhost:8080/",
          "height": 364
        }
      },
      "outputs": [
        {
          "output_type": "execute_result",
          "data": {
            "text/html": [
              "\n",
              "<div id=\"altair-viz-e738a9f64add47fcaee90115b3788160\"></div>\n",
              "<script type=\"text/javascript\">\n",
              "  var VEGA_DEBUG = (typeof VEGA_DEBUG == \"undefined\") ? {} : VEGA_DEBUG;\n",
              "  (function(spec, embedOpt){\n",
              "    let outputDiv = document.currentScript.previousElementSibling;\n",
              "    if (outputDiv.id !== \"altair-viz-e738a9f64add47fcaee90115b3788160\") {\n",
              "      outputDiv = document.getElementById(\"altair-viz-e738a9f64add47fcaee90115b3788160\");\n",
              "    }\n",
              "    const paths = {\n",
              "      \"vega\": \"https://cdn.jsdelivr.net/npm//vega@5?noext\",\n",
              "      \"vega-lib\": \"https://cdn.jsdelivr.net/npm//vega-lib?noext\",\n",
              "      \"vega-lite\": \"https://cdn.jsdelivr.net/npm//vega-lite@4.17.0?noext\",\n",
              "      \"vega-embed\": \"https://cdn.jsdelivr.net/npm//vega-embed@6?noext\",\n",
              "    };\n",
              "\n",
              "    function maybeLoadScript(lib, version) {\n",
              "      var key = `${lib.replace(\"-\", \"\")}_version`;\n",
              "      return (VEGA_DEBUG[key] == version) ?\n",
              "        Promise.resolve(paths[lib]) :\n",
              "        new Promise(function(resolve, reject) {\n",
              "          var s = document.createElement('script');\n",
              "          document.getElementsByTagName(\"head\")[0].appendChild(s);\n",
              "          s.async = true;\n",
              "          s.onload = () => {\n",
              "            VEGA_DEBUG[key] = version;\n",
              "            return resolve(paths[lib]);\n",
              "          };\n",
              "          s.onerror = () => reject(`Error loading script: ${paths[lib]}`);\n",
              "          s.src = paths[lib];\n",
              "        });\n",
              "    }\n",
              "\n",
              "    function showError(err) {\n",
              "      outputDiv.innerHTML = `<div class=\"error\" style=\"color:red;\">${err}</div>`;\n",
              "      throw err;\n",
              "    }\n",
              "\n",
              "    function displayChart(vegaEmbed) {\n",
              "      vegaEmbed(outputDiv, spec, embedOpt)\n",
              "        .catch(err => showError(`Javascript Error: ${err.message}<br>This usually means there's a typo in your chart specification. See the javascript console for the full traceback.`));\n",
              "    }\n",
              "\n",
              "    if(typeof define === \"function\" && define.amd) {\n",
              "      requirejs.config({paths});\n",
              "      require([\"vega-embed\"], displayChart, err => showError(`Error loading script: ${err.message}`));\n",
              "    } else {\n",
              "      maybeLoadScript(\"vega\", \"5\")\n",
              "        .then(() => maybeLoadScript(\"vega-lite\", \"4.17.0\"))\n",
              "        .then(() => maybeLoadScript(\"vega-embed\", \"6\"))\n",
              "        .catch(showError)\n",
              "        .then(() => displayChart(vegaEmbed));\n",
              "    }\n",
              "  })({\"config\": {\"view\": {\"continuousWidth\": 400, \"continuousHeight\": 300}}, \"data\": {\"name\": \"data-6fcb73e50279684a1501bdfffb416c0b\"}, \"mark\": \"point\", \"encoding\": {\"color\": {\"field\": \"cluster_label\", \"type\": \"nominal\"}, \"x\": {\"field\": \"petalLength\", \"type\": \"quantitative\"}, \"y\": {\"field\": \"petalWidth\", \"type\": \"quantitative\"}}, \"$schema\": \"https://vega.github.io/schema/vega-lite/v4.17.0.json\", \"datasets\": {\"data-6fcb73e50279684a1501bdfffb416c0b\": [{\"sepalLength\": 5.1, \"sepalWidth\": 3.5, \"petalLength\": 1.4, \"petalWidth\": 0.2, \"species\": \"setosa\", \"cluster_label\": 1}, {\"sepalLength\": 4.9, \"sepalWidth\": 3.0, \"petalLength\": 1.4, \"petalWidth\": 0.2, \"species\": \"setosa\", \"cluster_label\": 1}, {\"sepalLength\": 4.7, \"sepalWidth\": 3.2, \"petalLength\": 1.3, \"petalWidth\": 0.2, \"species\": \"setosa\", \"cluster_label\": 1}, {\"sepalLength\": 4.6, \"sepalWidth\": 3.1, \"petalLength\": 1.5, \"petalWidth\": 0.2, \"species\": \"setosa\", \"cluster_label\": 1}, {\"sepalLength\": 5.0, \"sepalWidth\": 3.6, \"petalLength\": 1.4, \"petalWidth\": 0.2, \"species\": \"setosa\", \"cluster_label\": 1}, {\"sepalLength\": 5.4, \"sepalWidth\": 3.9, \"petalLength\": 1.7000000000000002, \"petalWidth\": 0.4, \"species\": \"setosa\", \"cluster_label\": 1}, {\"sepalLength\": 4.6, \"sepalWidth\": 3.4, \"petalLength\": 1.4, \"petalWidth\": 0.30000000000000004, \"species\": \"setosa\", \"cluster_label\": 1}, {\"sepalLength\": 5.0, \"sepalWidth\": 3.4, \"petalLength\": 1.5, \"petalWidth\": 0.2, \"species\": \"setosa\", \"cluster_label\": 1}, {\"sepalLength\": 4.4, \"sepalWidth\": 2.9, \"petalLength\": 1.4, \"petalWidth\": 0.2, \"species\": \"setosa\", \"cluster_label\": 1}, {\"sepalLength\": 4.9, \"sepalWidth\": 3.1, \"petalLength\": 1.5, \"petalWidth\": 0.1, \"species\": \"setosa\", \"cluster_label\": 1}, {\"sepalLength\": 5.4, \"sepalWidth\": 3.7, \"petalLength\": 1.5, \"petalWidth\": 0.2, \"species\": \"setosa\", \"cluster_label\": 1}, {\"sepalLength\": 4.8, \"sepalWidth\": 3.4, \"petalLength\": 1.6, \"petalWidth\": 0.2, \"species\": \"setosa\", \"cluster_label\": 1}, {\"sepalLength\": 4.8, \"sepalWidth\": 3.0, \"petalLength\": 1.4, \"petalWidth\": 0.1, \"species\": \"setosa\", \"cluster_label\": 1}, {\"sepalLength\": 4.3, \"sepalWidth\": 3.0, \"petalLength\": 1.1, \"petalWidth\": 0.1, \"species\": \"setosa\", \"cluster_label\": 1}, {\"sepalLength\": 5.8, \"sepalWidth\": 4.0, \"petalLength\": 1.2, \"petalWidth\": 0.2, \"species\": \"setosa\", \"cluster_label\": 1}, {\"sepalLength\": 5.7, \"sepalWidth\": 4.4, \"petalLength\": 1.5, \"petalWidth\": 0.4, \"species\": \"setosa\", \"cluster_label\": 1}, {\"sepalLength\": 5.4, \"sepalWidth\": 3.9, \"petalLength\": 1.3, \"petalWidth\": 0.4, \"species\": \"setosa\", \"cluster_label\": 1}, {\"sepalLength\": 5.1, \"sepalWidth\": 3.5, \"petalLength\": 1.4, \"petalWidth\": 0.30000000000000004, \"species\": \"setosa\", \"cluster_label\": 1}, {\"sepalLength\": 5.7, \"sepalWidth\": 3.8, \"petalLength\": 1.7000000000000002, \"petalWidth\": 0.30000000000000004, \"species\": \"setosa\", \"cluster_label\": 1}, {\"sepalLength\": 5.1, \"sepalWidth\": 3.8, \"petalLength\": 1.5, \"petalWidth\": 0.30000000000000004, \"species\": \"setosa\", \"cluster_label\": 1}, {\"sepalLength\": 5.4, \"sepalWidth\": 3.4, \"petalLength\": 1.7000000000000002, \"petalWidth\": 0.2, \"species\": \"setosa\", \"cluster_label\": 1}, {\"sepalLength\": 5.1, \"sepalWidth\": 3.7, \"petalLength\": 1.5, \"petalWidth\": 0.4, \"species\": \"setosa\", \"cluster_label\": 1}, {\"sepalLength\": 4.6, \"sepalWidth\": 3.6, \"petalLength\": 1.0, \"petalWidth\": 0.2, \"species\": \"setosa\", \"cluster_label\": 1}, {\"sepalLength\": 5.1, \"sepalWidth\": 3.3, \"petalLength\": 1.7000000000000002, \"petalWidth\": 0.5, \"species\": \"setosa\", \"cluster_label\": 1}, {\"sepalLength\": 4.8, \"sepalWidth\": 3.4, \"petalLength\": 1.9, \"petalWidth\": 0.2, \"species\": \"setosa\", \"cluster_label\": 1}, {\"sepalLength\": 5.0, \"sepalWidth\": 3.0, \"petalLength\": 1.6, \"petalWidth\": 0.2, \"species\": \"setosa\", \"cluster_label\": 1}, {\"sepalLength\": 5.0, \"sepalWidth\": 3.4, \"petalLength\": 1.6, \"petalWidth\": 0.4, \"species\": \"setosa\", \"cluster_label\": 1}, {\"sepalLength\": 5.2, \"sepalWidth\": 3.5, \"petalLength\": 1.5, \"petalWidth\": 0.2, \"species\": \"setosa\", \"cluster_label\": 1}, {\"sepalLength\": 5.2, \"sepalWidth\": 3.4, \"petalLength\": 1.4, \"petalWidth\": 0.2, \"species\": \"setosa\", \"cluster_label\": 1}, {\"sepalLength\": 4.7, \"sepalWidth\": 3.2, \"petalLength\": 1.6, \"petalWidth\": 0.2, \"species\": \"setosa\", \"cluster_label\": 1}, {\"sepalLength\": 4.8, \"sepalWidth\": 3.1, \"petalLength\": 1.6, \"petalWidth\": 0.2, \"species\": \"setosa\", \"cluster_label\": 1}, {\"sepalLength\": 5.4, \"sepalWidth\": 3.4, \"petalLength\": 1.5, \"petalWidth\": 0.4, \"species\": \"setosa\", \"cluster_label\": 1}, {\"sepalLength\": 5.2, \"sepalWidth\": 4.1, \"petalLength\": 1.5, \"petalWidth\": 0.1, \"species\": \"setosa\", \"cluster_label\": 1}, {\"sepalLength\": 5.5, \"sepalWidth\": 4.2, \"petalLength\": 1.4, \"petalWidth\": 0.2, \"species\": \"setosa\", \"cluster_label\": 1}, {\"sepalLength\": 4.9, \"sepalWidth\": 3.1, \"petalLength\": 1.5, \"petalWidth\": 0.2, \"species\": \"setosa\", \"cluster_label\": 1}, {\"sepalLength\": 5.0, \"sepalWidth\": 3.2, \"petalLength\": 1.2, \"petalWidth\": 0.2, \"species\": \"setosa\", \"cluster_label\": 1}, {\"sepalLength\": 5.5, \"sepalWidth\": 3.5, \"petalLength\": 1.3, \"petalWidth\": 0.2, \"species\": \"setosa\", \"cluster_label\": 1}, {\"sepalLength\": 4.9, \"sepalWidth\": 3.6, \"petalLength\": 1.4, \"petalWidth\": 0.1, \"species\": \"setosa\", \"cluster_label\": 1}, {\"sepalLength\": 4.4, \"sepalWidth\": 3.0, \"petalLength\": 1.3, \"petalWidth\": 0.2, \"species\": \"setosa\", \"cluster_label\": 1}, {\"sepalLength\": 5.1, \"sepalWidth\": 3.4, \"petalLength\": 1.5, \"petalWidth\": 0.2, \"species\": \"setosa\", \"cluster_label\": 1}, {\"sepalLength\": 5.0, \"sepalWidth\": 3.5, \"petalLength\": 1.3, \"petalWidth\": 0.30000000000000004, \"species\": \"setosa\", \"cluster_label\": 1}, {\"sepalLength\": 4.5, \"sepalWidth\": 2.3, \"petalLength\": 1.3, \"petalWidth\": 0.30000000000000004, \"species\": \"setosa\", \"cluster_label\": 1}, {\"sepalLength\": 4.4, \"sepalWidth\": 3.2, \"petalLength\": 1.3, \"petalWidth\": 0.2, \"species\": \"setosa\", \"cluster_label\": 1}, {\"sepalLength\": 5.0, \"sepalWidth\": 3.5, \"petalLength\": 1.6, \"petalWidth\": 0.6000000000000001, \"species\": \"setosa\", \"cluster_label\": 1}, {\"sepalLength\": 5.1, \"sepalWidth\": 3.8, \"petalLength\": 1.9, \"petalWidth\": 0.4, \"species\": \"setosa\", \"cluster_label\": 1}, {\"sepalLength\": 4.8, \"sepalWidth\": 3.0, \"petalLength\": 1.4, \"petalWidth\": 0.30000000000000004, \"species\": \"setosa\", \"cluster_label\": 1}, {\"sepalLength\": 5.1, \"sepalWidth\": 3.8, \"petalLength\": 1.6, \"petalWidth\": 0.2, \"species\": \"setosa\", \"cluster_label\": 1}, {\"sepalLength\": 4.6, \"sepalWidth\": 3.2, \"petalLength\": 1.4, \"petalWidth\": 0.2, \"species\": \"setosa\", \"cluster_label\": 1}, {\"sepalLength\": 5.3, \"sepalWidth\": 3.7, \"petalLength\": 1.5, \"petalWidth\": 0.2, \"species\": \"setosa\", \"cluster_label\": 1}, {\"sepalLength\": 5.0, \"sepalWidth\": 3.3, \"petalLength\": 1.4, \"petalWidth\": 0.2, \"species\": \"setosa\", \"cluster_label\": 1}, {\"sepalLength\": 7.0, \"sepalWidth\": 3.2, \"petalLength\": 4.7, \"petalWidth\": 1.4, \"species\": \"versicolor\", \"cluster_label\": 2}, {\"sepalLength\": 6.4, \"sepalWidth\": 3.2, \"petalLength\": 4.5, \"petalWidth\": 1.5, \"species\": \"versicolor\", \"cluster_label\": 2}, {\"sepalLength\": 6.9, \"sepalWidth\": 3.1, \"petalLength\": 4.9, \"petalWidth\": 1.5, \"species\": \"versicolor\", \"cluster_label\": 2}, {\"sepalLength\": 5.5, \"sepalWidth\": 2.3, \"petalLength\": 4.0, \"petalWidth\": 1.3, \"species\": \"versicolor\", \"cluster_label\": 2}, {\"sepalLength\": 6.5, \"sepalWidth\": 2.8, \"petalLength\": 4.6, \"petalWidth\": 1.5, \"species\": \"versicolor\", \"cluster_label\": 2}, {\"sepalLength\": 5.7, \"sepalWidth\": 2.8, \"petalLength\": 4.5, \"petalWidth\": 1.3, \"species\": \"versicolor\", \"cluster_label\": 2}, {\"sepalLength\": 6.3, \"sepalWidth\": 3.3, \"petalLength\": 4.7, \"petalWidth\": 1.6, \"species\": \"versicolor\", \"cluster_label\": 2}, {\"sepalLength\": 4.9, \"sepalWidth\": 2.4, \"petalLength\": 3.3, \"petalWidth\": 1.0, \"species\": \"versicolor\", \"cluster_label\": 2}, {\"sepalLength\": 6.6, \"sepalWidth\": 2.9, \"petalLength\": 4.6, \"petalWidth\": 1.3, \"species\": \"versicolor\", \"cluster_label\": 2}, {\"sepalLength\": 5.2, \"sepalWidth\": 2.7, \"petalLength\": 3.9, \"petalWidth\": 1.4, \"species\": \"versicolor\", \"cluster_label\": 2}, {\"sepalLength\": 5.0, \"sepalWidth\": 2.0, \"petalLength\": 3.5, \"petalWidth\": 1.0, \"species\": \"versicolor\", \"cluster_label\": 2}, {\"sepalLength\": 5.9, \"sepalWidth\": 3.0, \"petalLength\": 4.2, \"petalWidth\": 1.5, \"species\": \"versicolor\", \"cluster_label\": 2}, {\"sepalLength\": 6.0, \"sepalWidth\": 2.2, \"petalLength\": 4.0, \"petalWidth\": 1.0, \"species\": \"versicolor\", \"cluster_label\": 2}, {\"sepalLength\": 6.1, \"sepalWidth\": 2.9, \"petalLength\": 4.7, \"petalWidth\": 1.4, \"species\": \"versicolor\", \"cluster_label\": 2}, {\"sepalLength\": 5.6, \"sepalWidth\": 2.9, \"petalLength\": 3.6, \"petalWidth\": 1.3, \"species\": \"versicolor\", \"cluster_label\": 2}, {\"sepalLength\": 6.7, \"sepalWidth\": 3.1, \"petalLength\": 4.4, \"petalWidth\": 1.4, \"species\": \"versicolor\", \"cluster_label\": 2}, {\"sepalLength\": 5.6, \"sepalWidth\": 3.0, \"petalLength\": 4.5, \"petalWidth\": 1.5, \"species\": \"versicolor\", \"cluster_label\": 2}, {\"sepalLength\": 5.8, \"sepalWidth\": 2.7, \"petalLength\": 4.1, \"petalWidth\": 1.0, \"species\": \"versicolor\", \"cluster_label\": 2}, {\"sepalLength\": 6.2, \"sepalWidth\": 2.2, \"petalLength\": 4.5, \"petalWidth\": 1.5, \"species\": \"versicolor\", \"cluster_label\": 2}, {\"sepalLength\": 5.6, \"sepalWidth\": 2.5, \"petalLength\": 3.9, \"petalWidth\": 1.1, \"species\": \"versicolor\", \"cluster_label\": 2}, {\"sepalLength\": 5.9, \"sepalWidth\": 3.2, \"petalLength\": 4.8, \"petalWidth\": 1.8, \"species\": \"versicolor\", \"cluster_label\": 2}, {\"sepalLength\": 6.1, \"sepalWidth\": 2.8, \"petalLength\": 4.0, \"petalWidth\": 1.3, \"species\": \"versicolor\", \"cluster_label\": 2}, {\"sepalLength\": 6.3, \"sepalWidth\": 2.5, \"petalLength\": 4.9, \"petalWidth\": 1.5, \"species\": \"versicolor\", \"cluster_label\": 2}, {\"sepalLength\": 6.1, \"sepalWidth\": 2.8, \"petalLength\": 4.7, \"petalWidth\": 1.2, \"species\": \"versicolor\", \"cluster_label\": 2}, {\"sepalLength\": 6.4, \"sepalWidth\": 2.9, \"petalLength\": 4.3, \"petalWidth\": 1.3, \"species\": \"versicolor\", \"cluster_label\": 2}, {\"sepalLength\": 6.6, \"sepalWidth\": 3.0, \"petalLength\": 4.4, \"petalWidth\": 1.4, \"species\": \"versicolor\", \"cluster_label\": 2}, {\"sepalLength\": 6.8, \"sepalWidth\": 2.8, \"petalLength\": 4.8, \"petalWidth\": 1.4, \"species\": \"versicolor\", \"cluster_label\": 2}, {\"sepalLength\": 6.7, \"sepalWidth\": 3.0, \"petalLength\": 5.0, \"petalWidth\": 1.7000000000000002, \"species\": \"versicolor\", \"cluster_label\": 2}, {\"sepalLength\": 6.0, \"sepalWidth\": 2.9, \"petalLength\": 4.5, \"petalWidth\": 1.5, \"species\": \"versicolor\", \"cluster_label\": 2}, {\"sepalLength\": 5.7, \"sepalWidth\": 2.6, \"petalLength\": 3.5, \"petalWidth\": 1.0, \"species\": \"versicolor\", \"cluster_label\": 2}, {\"sepalLength\": 5.5, \"sepalWidth\": 2.4, \"petalLength\": 3.8, \"petalWidth\": 1.1, \"species\": \"versicolor\", \"cluster_label\": 2}, {\"sepalLength\": 5.5, \"sepalWidth\": 2.4, \"petalLength\": 3.7, \"petalWidth\": 1.0, \"species\": \"versicolor\", \"cluster_label\": 2}, {\"sepalLength\": 5.8, \"sepalWidth\": 2.7, \"petalLength\": 3.9, \"petalWidth\": 1.2, \"species\": \"versicolor\", \"cluster_label\": 2}, {\"sepalLength\": 6.0, \"sepalWidth\": 2.7, \"petalLength\": 5.1, \"petalWidth\": 1.6, \"species\": \"versicolor\", \"cluster_label\": 2}, {\"sepalLength\": 5.4, \"sepalWidth\": 3.0, \"petalLength\": 4.5, \"petalWidth\": 1.5, \"species\": \"versicolor\", \"cluster_label\": 2}, {\"sepalLength\": 6.0, \"sepalWidth\": 3.4, \"petalLength\": 4.5, \"petalWidth\": 1.6, \"species\": \"versicolor\", \"cluster_label\": 2}, {\"sepalLength\": 6.7, \"sepalWidth\": 3.1, \"petalLength\": 4.7, \"petalWidth\": 1.5, \"species\": \"versicolor\", \"cluster_label\": 2}, {\"sepalLength\": 6.3, \"sepalWidth\": 2.3, \"petalLength\": 4.4, \"petalWidth\": 1.3, \"species\": \"versicolor\", \"cluster_label\": 2}, {\"sepalLength\": 5.6, \"sepalWidth\": 3.0, \"petalLength\": 4.1, \"petalWidth\": 1.3, \"species\": \"versicolor\", \"cluster_label\": 2}, {\"sepalLength\": 5.5, \"sepalWidth\": 2.5, \"petalLength\": 4.0, \"petalWidth\": 1.3, \"species\": \"versicolor\", \"cluster_label\": 2}, {\"sepalLength\": 5.5, \"sepalWidth\": 2.6, \"petalLength\": 4.4, \"petalWidth\": 1.2, \"species\": \"versicolor\", \"cluster_label\": 2}, {\"sepalLength\": 6.1, \"sepalWidth\": 3.0, \"petalLength\": 4.6, \"petalWidth\": 1.4, \"species\": \"versicolor\", \"cluster_label\": 2}, {\"sepalLength\": 5.8, \"sepalWidth\": 2.6, \"petalLength\": 4.0, \"petalWidth\": 1.2, \"species\": \"versicolor\", \"cluster_label\": 2}, {\"sepalLength\": 5.0, \"sepalWidth\": 2.3, \"petalLength\": 3.3, \"petalWidth\": 1.0, \"species\": \"versicolor\", \"cluster_label\": 2}, {\"sepalLength\": 5.6, \"sepalWidth\": 2.7, \"petalLength\": 4.2, \"petalWidth\": 1.3, \"species\": \"versicolor\", \"cluster_label\": 2}, {\"sepalLength\": 5.7, \"sepalWidth\": 3.0, \"petalLength\": 4.2, \"petalWidth\": 1.2, \"species\": \"versicolor\", \"cluster_label\": 2}, {\"sepalLength\": 5.7, \"sepalWidth\": 2.9, \"petalLength\": 4.2, \"petalWidth\": 1.3, \"species\": \"versicolor\", \"cluster_label\": 2}, {\"sepalLength\": 6.2, \"sepalWidth\": 2.9, \"petalLength\": 4.3, \"petalWidth\": 1.3, \"species\": \"versicolor\", \"cluster_label\": 2}, {\"sepalLength\": 5.1, \"sepalWidth\": 2.5, \"petalLength\": 3.0, \"petalWidth\": 1.1, \"species\": \"versicolor\", \"cluster_label\": 3}, {\"sepalLength\": 5.7, \"sepalWidth\": 2.8, \"petalLength\": 4.1, \"petalWidth\": 1.3, \"species\": \"versicolor\", \"cluster_label\": 2}, {\"sepalLength\": 6.3, \"sepalWidth\": 3.3, \"petalLength\": 6.0, \"petalWidth\": 2.5, \"species\": \"virginica\", \"cluster_label\": 2}, {\"sepalLength\": 5.8, \"sepalWidth\": 2.7, \"petalLength\": 5.1, \"petalWidth\": 1.9, \"species\": \"virginica\", \"cluster_label\": 2}, {\"sepalLength\": 7.1, \"sepalWidth\": 3.0, \"petalLength\": 5.9, \"petalWidth\": 2.1, \"species\": \"virginica\", \"cluster_label\": 2}, {\"sepalLength\": 6.3, \"sepalWidth\": 2.9, \"petalLength\": 5.6, \"petalWidth\": 1.8, \"species\": \"virginica\", \"cluster_label\": 2}, {\"sepalLength\": 6.5, \"sepalWidth\": 3.0, \"petalLength\": 5.8, \"petalWidth\": 2.2, \"species\": \"virginica\", \"cluster_label\": 2}, {\"sepalLength\": 7.6, \"sepalWidth\": 3.0, \"petalLength\": 6.6, \"petalWidth\": 2.1, \"species\": \"virginica\", \"cluster_label\": 2}, {\"sepalLength\": 4.9, \"sepalWidth\": 2.5, \"petalLength\": 4.5, \"petalWidth\": 1.7000000000000002, \"species\": \"virginica\", \"cluster_label\": 2}, {\"sepalLength\": 7.3, \"sepalWidth\": 2.9, \"petalLength\": 6.3, \"petalWidth\": 1.8, \"species\": \"virginica\", \"cluster_label\": 2}, {\"sepalLength\": 6.7, \"sepalWidth\": 2.5, \"petalLength\": 5.8, \"petalWidth\": 1.8, \"species\": \"virginica\", \"cluster_label\": 2}, {\"sepalLength\": 7.2, \"sepalWidth\": 3.6, \"petalLength\": 6.1, \"petalWidth\": 2.5, \"species\": \"virginica\", \"cluster_label\": 2}, {\"sepalLength\": 6.5, \"sepalWidth\": 3.2, \"petalLength\": 5.1, \"petalWidth\": 2.0, \"species\": \"virginica\", \"cluster_label\": 2}, {\"sepalLength\": 6.4, \"sepalWidth\": 2.7, \"petalLength\": 5.3, \"petalWidth\": 1.9, \"species\": \"virginica\", \"cluster_label\": 2}, {\"sepalLength\": 6.8, \"sepalWidth\": 3.0, \"petalLength\": 5.5, \"petalWidth\": 2.1, \"species\": \"virginica\", \"cluster_label\": 2}, {\"sepalLength\": 5.7, \"sepalWidth\": 2.5, \"petalLength\": 5.0, \"petalWidth\": 2.0, \"species\": \"virginica\", \"cluster_label\": 2}, {\"sepalLength\": 5.8, \"sepalWidth\": 2.8, \"petalLength\": 5.1, \"petalWidth\": 2.4, \"species\": \"virginica\", \"cluster_label\": 2}, {\"sepalLength\": 6.4, \"sepalWidth\": 3.2, \"petalLength\": 5.3, \"petalWidth\": 2.3, \"species\": \"virginica\", \"cluster_label\": 2}, {\"sepalLength\": 6.5, \"sepalWidth\": 3.0, \"petalLength\": 5.5, \"petalWidth\": 1.8, \"species\": \"virginica\", \"cluster_label\": 2}, {\"sepalLength\": 7.7, \"sepalWidth\": 3.8, \"petalLength\": 6.7, \"petalWidth\": 2.2, \"species\": \"virginica\", \"cluster_label\": 2}, {\"sepalLength\": 7.7, \"sepalWidth\": 2.6, \"petalLength\": 6.9, \"petalWidth\": 2.3, \"species\": \"virginica\", \"cluster_label\": 2}, {\"sepalLength\": 6.0, \"sepalWidth\": 2.2, \"petalLength\": 5.0, \"petalWidth\": 1.5, \"species\": \"virginica\", \"cluster_label\": 2}, {\"sepalLength\": 6.9, \"sepalWidth\": 3.2, \"petalLength\": 5.7, \"petalWidth\": 2.3, \"species\": \"virginica\", \"cluster_label\": 2}, {\"sepalLength\": 5.6, \"sepalWidth\": 2.8, \"petalLength\": 4.9, \"petalWidth\": 2.0, \"species\": \"virginica\", \"cluster_label\": 2}, {\"sepalLength\": 7.7, \"sepalWidth\": 2.8, \"petalLength\": 6.7, \"petalWidth\": 2.0, \"species\": \"virginica\", \"cluster_label\": 2}, {\"sepalLength\": 6.3, \"sepalWidth\": 2.7, \"petalLength\": 4.9, \"petalWidth\": 1.8, \"species\": \"virginica\", \"cluster_label\": 2}, {\"sepalLength\": 6.7, \"sepalWidth\": 3.3, \"petalLength\": 5.7, \"petalWidth\": 2.1, \"species\": \"virginica\", \"cluster_label\": 2}, {\"sepalLength\": 7.2, \"sepalWidth\": 3.2, \"petalLength\": 6.0, \"petalWidth\": 1.8, \"species\": \"virginica\", \"cluster_label\": 2}, {\"sepalLength\": 6.2, \"sepalWidth\": 2.8, \"petalLength\": 4.8, \"petalWidth\": 1.8, \"species\": \"virginica\", \"cluster_label\": 2}, {\"sepalLength\": 6.1, \"sepalWidth\": 3.0, \"petalLength\": 4.9, \"petalWidth\": 1.8, \"species\": \"virginica\", \"cluster_label\": 2}, {\"sepalLength\": 6.4, \"sepalWidth\": 2.8, \"petalLength\": 5.6, \"petalWidth\": 2.1, \"species\": \"virginica\", \"cluster_label\": 2}, {\"sepalLength\": 7.2, \"sepalWidth\": 3.0, \"petalLength\": 5.8, \"petalWidth\": 1.6, \"species\": \"virginica\", \"cluster_label\": 2}, {\"sepalLength\": 7.4, \"sepalWidth\": 2.8, \"petalLength\": 6.1, \"petalWidth\": 1.9, \"species\": \"virginica\", \"cluster_label\": 2}, {\"sepalLength\": 7.9, \"sepalWidth\": 3.8, \"petalLength\": 6.4, \"petalWidth\": 2.0, \"species\": \"virginica\", \"cluster_label\": 2}, {\"sepalLength\": 6.4, \"sepalWidth\": 2.8, \"petalLength\": 5.6, \"petalWidth\": 2.2, \"species\": \"virginica\", \"cluster_label\": 2}, {\"sepalLength\": 6.3, \"sepalWidth\": 2.8, \"petalLength\": 5.1, \"petalWidth\": 1.5, \"species\": \"virginica\", \"cluster_label\": 2}, {\"sepalLength\": 6.1, \"sepalWidth\": 2.6, \"petalLength\": 5.6, \"petalWidth\": 1.4, \"species\": \"virginica\", \"cluster_label\": 2}, {\"sepalLength\": 7.7, \"sepalWidth\": 3.0, \"petalLength\": 6.1, \"petalWidth\": 2.3, \"species\": \"virginica\", \"cluster_label\": 2}, {\"sepalLength\": 6.3, \"sepalWidth\": 3.4, \"petalLength\": 5.6, \"petalWidth\": 2.4, \"species\": \"virginica\", \"cluster_label\": 2}, {\"sepalLength\": 6.4, \"sepalWidth\": 3.1, \"petalLength\": 5.5, \"petalWidth\": 1.8, \"species\": \"virginica\", \"cluster_label\": 2}, {\"sepalLength\": 6.0, \"sepalWidth\": 3.0, \"petalLength\": 4.8, \"petalWidth\": 1.8, \"species\": \"virginica\", \"cluster_label\": 2}, {\"sepalLength\": 6.9, \"sepalWidth\": 3.1, \"petalLength\": 5.4, \"petalWidth\": 2.1, \"species\": \"virginica\", \"cluster_label\": 2}, {\"sepalLength\": 6.7, \"sepalWidth\": 3.1, \"petalLength\": 5.6, \"petalWidth\": 2.4, \"species\": \"virginica\", \"cluster_label\": 2}, {\"sepalLength\": 6.9, \"sepalWidth\": 3.1, \"petalLength\": 5.1, \"petalWidth\": 2.3, \"species\": \"virginica\", \"cluster_label\": 2}, {\"sepalLength\": 5.8, \"sepalWidth\": 2.7, \"petalLength\": 5.1, \"petalWidth\": 1.9, \"species\": \"virginica\", \"cluster_label\": 2}, {\"sepalLength\": 6.8, \"sepalWidth\": 3.2, \"petalLength\": 5.9, \"petalWidth\": 2.3, \"species\": \"virginica\", \"cluster_label\": 2}, {\"sepalLength\": 6.7, \"sepalWidth\": 3.3, \"petalLength\": 5.7, \"petalWidth\": 2.5, \"species\": \"virginica\", \"cluster_label\": 2}, {\"sepalLength\": 6.7, \"sepalWidth\": 3.0, \"petalLength\": 5.2, \"petalWidth\": 2.3, \"species\": \"virginica\", \"cluster_label\": 2}, {\"sepalLength\": 6.3, \"sepalWidth\": 2.5, \"petalLength\": 5.0, \"petalWidth\": 1.9, \"species\": \"virginica\", \"cluster_label\": 2}, {\"sepalLength\": 6.5, \"sepalWidth\": 3.0, \"petalLength\": 5.2, \"petalWidth\": 2.0, \"species\": \"virginica\", \"cluster_label\": 2}, {\"sepalLength\": 6.2, \"sepalWidth\": 3.4, \"petalLength\": 5.4, \"petalWidth\": 2.3, \"species\": \"virginica\", \"cluster_label\": 2}, {\"sepalLength\": 5.9, \"sepalWidth\": 3.0, \"petalLength\": 5.1, \"petalWidth\": 1.8, \"species\": \"virginica\", \"cluster_label\": 2}]}}, {\"mode\": \"vega-lite\"});\n",
              "</script>"
            ],
            "text/plain": [
              "alt.Chart(...)"
            ]
          },
          "metadata": {},
          "execution_count": 13
        }
      ],
      "source": [
        "# Plot\n",
        "alt.Chart(df_iris).mark_point().encode(\n",
        "  x='petalLength', y='petalWidth', color='cluster_label:N'\n",
        ")"
      ]
    },
    {
      "cell_type": "markdown",
      "metadata": {
        "id": "j5yedQmFdHgd"
      },
      "source": [
        "# 2. k-means"
      ]
    },
    {
      "cell_type": "code",
      "execution_count": null,
      "metadata": {
        "id": "BDlkJ4BHdHgd",
        "outputId": "aba21b62-cde4-4096-f0ac-f28ce6e99a10",
        "colab": {
          "base_uri": "https://localhost:8080/",
          "height": 369
        }
      },
      "outputs": [
        {
          "output_type": "execute_result",
          "data": {
            "text/html": [
              "\n",
              "<div id=\"altair-viz-2baef36907014a2b8afcae115d4516f5\"></div>\n",
              "<script type=\"text/javascript\">\n",
              "  var VEGA_DEBUG = (typeof VEGA_DEBUG == \"undefined\") ? {} : VEGA_DEBUG;\n",
              "  (function(spec, embedOpt){\n",
              "    let outputDiv = document.currentScript.previousElementSibling;\n",
              "    if (outputDiv.id !== \"altair-viz-2baef36907014a2b8afcae115d4516f5\") {\n",
              "      outputDiv = document.getElementById(\"altair-viz-2baef36907014a2b8afcae115d4516f5\");\n",
              "    }\n",
              "    const paths = {\n",
              "      \"vega\": \"https://cdn.jsdelivr.net/npm//vega@5?noext\",\n",
              "      \"vega-lib\": \"https://cdn.jsdelivr.net/npm//vega-lib?noext\",\n",
              "      \"vega-lite\": \"https://cdn.jsdelivr.net/npm//vega-lite@4.17.0?noext\",\n",
              "      \"vega-embed\": \"https://cdn.jsdelivr.net/npm//vega-embed@6?noext\",\n",
              "    };\n",
              "\n",
              "    function maybeLoadScript(lib, version) {\n",
              "      var key = `${lib.replace(\"-\", \"\")}_version`;\n",
              "      return (VEGA_DEBUG[key] == version) ?\n",
              "        Promise.resolve(paths[lib]) :\n",
              "        new Promise(function(resolve, reject) {\n",
              "          var s = document.createElement('script');\n",
              "          document.getElementsByTagName(\"head\")[0].appendChild(s);\n",
              "          s.async = true;\n",
              "          s.onload = () => {\n",
              "            VEGA_DEBUG[key] = version;\n",
              "            return resolve(paths[lib]);\n",
              "          };\n",
              "          s.onerror = () => reject(`Error loading script: ${paths[lib]}`);\n",
              "          s.src = paths[lib];\n",
              "        });\n",
              "    }\n",
              "\n",
              "    function showError(err) {\n",
              "      outputDiv.innerHTML = `<div class=\"error\" style=\"color:red;\">${err}</div>`;\n",
              "      throw err;\n",
              "    }\n",
              "\n",
              "    function displayChart(vegaEmbed) {\n",
              "      vegaEmbed(outputDiv, spec, embedOpt)\n",
              "        .catch(err => showError(`Javascript Error: ${err.message}<br>This usually means there's a typo in your chart specification. See the javascript console for the full traceback.`));\n",
              "    }\n",
              "\n",
              "    if(typeof define === \"function\" && define.amd) {\n",
              "      requirejs.config({paths});\n",
              "      require([\"vega-embed\"], displayChart, err => showError(`Error loading script: ${err.message}`));\n",
              "    } else {\n",
              "      maybeLoadScript(\"vega\", \"5\")\n",
              "        .then(() => maybeLoadScript(\"vega-lite\", \"4.17.0\"))\n",
              "        .then(() => maybeLoadScript(\"vega-embed\", \"6\"))\n",
              "        .catch(showError)\n",
              "        .then(() => displayChart(vegaEmbed));\n",
              "    }\n",
              "  })({\"config\": {\"view\": {\"continuousWidth\": 400, \"continuousHeight\": 300}}, \"layer\": [{\"mark\": \"point\", \"encoding\": {\"x\": {\"field\": \"x\", \"type\": \"quantitative\"}, \"y\": {\"field\": \"y\", \"type\": \"quantitative\"}}}, {\"mark\": {\"type\": \"text\", \"dx\": 9}, \"encoding\": {\"text\": {\"field\": \"n\", \"type\": \"quantitative\"}, \"x\": {\"field\": \"x\", \"type\": \"quantitative\"}, \"y\": {\"field\": \"y\", \"type\": \"quantitative\"}}}], \"data\": {\"name\": \"data-2cd8d63897704b2fee69538cccbb9b0d\"}, \"$schema\": \"https://vega.github.io/schema/vega-lite/v4.17.0.json\", \"datasets\": {\"data-2cd8d63897704b2fee69538cccbb9b0d\": [{\"n\": 0, \"x\": 1.3528104691935328, \"y\": 1.1522075450293987, \"cluster_label\": 2}, {\"n\": 1, \"x\": 1.0800314416734447, \"y\": 1.0243350032985656, \"cluster_label\": 2}, {\"n\": 2, \"x\": 1.195747596821148, \"y\": 1.0887726465490852, \"cluster_label\": 2}, {\"n\": 3, \"x\": 1.4481786398402916, \"y\": 1.0667348654748534, \"cluster_label\": 2}, {\"n\": 4, \"x\": 2.3735115980299937, \"y\": 2.298815814631521, \"cluster_label\": 3}, {\"n\": 5, \"x\": 1.8045444240247177, \"y\": 1.9589683472468398, \"cluster_label\": 3}, {\"n\": 6, \"x\": 2.190017683505118, \"y\": 2.0626135403301804, \"cluster_label\": 3}, {\"n\": 7, \"x\": 1.9697285583404605, \"y\": 1.829180852139655, \"cluster_label\": 3}, {\"n\": 8, \"x\": 2.9793562296412883, \"y\": 0.4894020368331843, \"cluster_label\": 1}, {\"n\": 9, \"x\": 3.0821197003876746, \"y\": 1.1307237190880721, \"cluster_label\": 1}, {\"n\": 10, \"x\": 3.028808714232176, \"y\": 1.1728872397719012, \"cluster_label\": 1}, {\"n\": 11, \"x\": 3.290854701392595, \"y\": 0.8515669959187115, \"cluster_label\": 1}]}}, {\"mode\": \"vega-lite\"});\n",
              "</script>"
            ],
            "text/plain": [
              "alt.LayerChart(...)"
            ]
          },
          "metadata": {},
          "execution_count": 14
        }
      ],
      "source": [
        "# Let's first revisit the 12-point toy dataset.\n",
        "(points + text)"
      ]
    },
    {
      "cell_type": "code",
      "execution_count": null,
      "metadata": {
        "id": "seRLmK5KdHgd",
        "outputId": "b5330807-c36f-4c4b-bfd1-7575ccbf6f7e",
        "colab": {
          "base_uri": "https://localhost:8080/",
          "height": 206
        }
      },
      "outputs": [
        {
          "output_type": "execute_result",
          "data": {
            "text/plain": [
              "          x         y\n",
              "0  1.352810  1.152208\n",
              "1  1.080031  1.024335\n",
              "2  1.195748  1.088773\n",
              "3  1.448179  1.066735\n",
              "4  2.373512  2.298816"
            ],
            "text/html": [
              "\n",
              "  <div id=\"df-2ed6bbd2-e4fe-4778-a79f-145377b8c136\">\n",
              "    <div class=\"colab-df-container\">\n",
              "      <div>\n",
              "<style scoped>\n",
              "    .dataframe tbody tr th:only-of-type {\n",
              "        vertical-align: middle;\n",
              "    }\n",
              "\n",
              "    .dataframe tbody tr th {\n",
              "        vertical-align: top;\n",
              "    }\n",
              "\n",
              "    .dataframe thead th {\n",
              "        text-align: right;\n",
              "    }\n",
              "</style>\n",
              "<table border=\"1\" class=\"dataframe\">\n",
              "  <thead>\n",
              "    <tr style=\"text-align: right;\">\n",
              "      <th></th>\n",
              "      <th>x</th>\n",
              "      <th>y</th>\n",
              "    </tr>\n",
              "  </thead>\n",
              "  <tbody>\n",
              "    <tr>\n",
              "      <th>0</th>\n",
              "      <td>1.352810</td>\n",
              "      <td>1.152208</td>\n",
              "    </tr>\n",
              "    <tr>\n",
              "      <th>1</th>\n",
              "      <td>1.080031</td>\n",
              "      <td>1.024335</td>\n",
              "    </tr>\n",
              "    <tr>\n",
              "      <th>2</th>\n",
              "      <td>1.195748</td>\n",
              "      <td>1.088773</td>\n",
              "    </tr>\n",
              "    <tr>\n",
              "      <th>3</th>\n",
              "      <td>1.448179</td>\n",
              "      <td>1.066735</td>\n",
              "    </tr>\n",
              "    <tr>\n",
              "      <th>4</th>\n",
              "      <td>2.373512</td>\n",
              "      <td>2.298816</td>\n",
              "    </tr>\n",
              "  </tbody>\n",
              "</table>\n",
              "</div>\n",
              "      <button class=\"colab-df-convert\" onclick=\"convertToInteractive('df-2ed6bbd2-e4fe-4778-a79f-145377b8c136')\"\n",
              "              title=\"Convert this dataframe to an interactive table.\"\n",
              "              style=\"display:none;\">\n",
              "        \n",
              "  <svg xmlns=\"http://www.w3.org/2000/svg\" height=\"24px\"viewBox=\"0 0 24 24\"\n",
              "       width=\"24px\">\n",
              "    <path d=\"M0 0h24v24H0V0z\" fill=\"none\"/>\n",
              "    <path d=\"M18.56 5.44l.94 2.06.94-2.06 2.06-.94-2.06-.94-.94-2.06-.94 2.06-2.06.94zm-11 1L8.5 8.5l.94-2.06 2.06-.94-2.06-.94L8.5 2.5l-.94 2.06-2.06.94zm10 10l.94 2.06.94-2.06 2.06-.94-2.06-.94-.94-2.06-.94 2.06-2.06.94z\"/><path d=\"M17.41 7.96l-1.37-1.37c-.4-.4-.92-.59-1.43-.59-.52 0-1.04.2-1.43.59L10.3 9.45l-7.72 7.72c-.78.78-.78 2.05 0 2.83L4 21.41c.39.39.9.59 1.41.59.51 0 1.02-.2 1.41-.59l7.78-7.78 2.81-2.81c.8-.78.8-2.07 0-2.86zM5.41 20L4 18.59l7.72-7.72 1.47 1.35L5.41 20z\"/>\n",
              "  </svg>\n",
              "      </button>\n",
              "      \n",
              "  <style>\n",
              "    .colab-df-container {\n",
              "      display:flex;\n",
              "      flex-wrap:wrap;\n",
              "      gap: 12px;\n",
              "    }\n",
              "\n",
              "    .colab-df-convert {\n",
              "      background-color: #E8F0FE;\n",
              "      border: none;\n",
              "      border-radius: 50%;\n",
              "      cursor: pointer;\n",
              "      display: none;\n",
              "      fill: #1967D2;\n",
              "      height: 32px;\n",
              "      padding: 0 0 0 0;\n",
              "      width: 32px;\n",
              "    }\n",
              "\n",
              "    .colab-df-convert:hover {\n",
              "      background-color: #E2EBFA;\n",
              "      box-shadow: 0px 1px 2px rgba(60, 64, 67, 0.3), 0px 1px 3px 1px rgba(60, 64, 67, 0.15);\n",
              "      fill: #174EA6;\n",
              "    }\n",
              "\n",
              "    [theme=dark] .colab-df-convert {\n",
              "      background-color: #3B4455;\n",
              "      fill: #D2E3FC;\n",
              "    }\n",
              "\n",
              "    [theme=dark] .colab-df-convert:hover {\n",
              "      background-color: #434B5C;\n",
              "      box-shadow: 0px 1px 3px 1px rgba(0, 0, 0, 0.15);\n",
              "      filter: drop-shadow(0px 1px 2px rgba(0, 0, 0, 0.3));\n",
              "      fill: #FFFFFF;\n",
              "    }\n",
              "  </style>\n",
              "\n",
              "      <script>\n",
              "        const buttonEl =\n",
              "          document.querySelector('#df-2ed6bbd2-e4fe-4778-a79f-145377b8c136 button.colab-df-convert');\n",
              "        buttonEl.style.display =\n",
              "          google.colab.kernel.accessAllowed ? 'block' : 'none';\n",
              "\n",
              "        async function convertToInteractive(key) {\n",
              "          const element = document.querySelector('#df-2ed6bbd2-e4fe-4778-a79f-145377b8c136');\n",
              "          const dataTable =\n",
              "            await google.colab.kernel.invokeFunction('convertToInteractive',\n",
              "                                                     [key], {});\n",
              "          if (!dataTable) return;\n",
              "\n",
              "          const docLinkHtml = 'Like what you see? Visit the ' +\n",
              "            '<a target=\"_blank\" href=https://colab.research.google.com/notebooks/data_table.ipynb>data table notebook</a>'\n",
              "            + ' to learn more about interactive tables.';\n",
              "          element.innerHTML = '';\n",
              "          dataTable['output_type'] = 'display_data';\n",
              "          await google.colab.output.renderOutput(dataTable, element);\n",
              "          const docLink = document.createElement('div');\n",
              "          docLink.innerHTML = docLinkHtml;\n",
              "          element.appendChild(docLink);\n",
              "        }\n",
              "      </script>\n",
              "    </div>\n",
              "  </div>\n",
              "  "
            ]
          },
          "metadata": {},
          "execution_count": 15
        }
      ],
      "source": [
        "# We also have this dataframe with only the columns we'll cluster on\n",
        "df_xy_features.head()"
      ]
    },
    {
      "cell_type": "code",
      "execution_count": null,
      "metadata": {
        "id": "T3zeocqLdHgd",
        "outputId": "a26a5e83-1249-4a4b-b0ad-2a2efdd74429",
        "colab": {
          "base_uri": "https://localhost:8080/"
        }
      },
      "outputs": [
        {
          "output_type": "execute_result",
          "data": {
            "text/plain": [
              "array([[2.08445057, 2.03739464],\n",
              "       [1.26919204, 1.08301252],\n",
              "       [3.09528484, 0.911145  ]])"
            ]
          },
          "metadata": {},
          "execution_count": 16
        }
      ],
      "source": [
        "# Perform k-means using the scikit-learn package\n",
        "kmeans_model = skc.KMeans(n_clusters=3,)\n",
        "kmeans_model.fit(df_xy_features)\n",
        "centroids = kmeans_model.cluster_centers_\n",
        "centroids  # these are the centers of the clusters"
      ]
    },
    {
      "cell_type": "code",
      "execution_count": null,
      "metadata": {
        "id": "jnGbsfLwdHgd",
        "outputId": "fe9c9267-76e7-4dff-a784-ee2b5b2fb2b5",
        "colab": {
          "base_uri": "https://localhost:8080/"
        }
      },
      "outputs": [
        {
          "output_type": "execute_result",
          "data": {
            "text/plain": [
              "array([1, 1, 1, 1, 0, 0, 0, 0, 2, 2, 2, 2], dtype=int32)"
            ]
          },
          "metadata": {},
          "execution_count": 17
        }
      ],
      "source": [
        "# See cluster_labels\n",
        "kmeans_model.labels_"
      ]
    },
    {
      "cell_type": "code",
      "source": [
        "kmeans_centroids = pd.DataFrame(centroids)\n",
        "kmeans_centroids"
      ],
      "metadata": {
        "id": "yud3pxmcvmUi",
        "outputId": "8567e0f3-1fdc-4c45-e21b-3609e6a78cf2",
        "colab": {
          "base_uri": "https://localhost:8080/",
          "height": 143
        }
      },
      "execution_count": null,
      "outputs": [
        {
          "output_type": "execute_result",
          "data": {
            "text/plain": [
              "          0         1\n",
              "0  2.084451  2.037395\n",
              "1  1.269192  1.083013\n",
              "2  3.095285  0.911145"
            ],
            "text/html": [
              "\n",
              "  <div id=\"df-474c3a6d-88e2-479e-85ff-852c41e480a6\">\n",
              "    <div class=\"colab-df-container\">\n",
              "      <div>\n",
              "<style scoped>\n",
              "    .dataframe tbody tr th:only-of-type {\n",
              "        vertical-align: middle;\n",
              "    }\n",
              "\n",
              "    .dataframe tbody tr th {\n",
              "        vertical-align: top;\n",
              "    }\n",
              "\n",
              "    .dataframe thead th {\n",
              "        text-align: right;\n",
              "    }\n",
              "</style>\n",
              "<table border=\"1\" class=\"dataframe\">\n",
              "  <thead>\n",
              "    <tr style=\"text-align: right;\">\n",
              "      <th></th>\n",
              "      <th>0</th>\n",
              "      <th>1</th>\n",
              "    </tr>\n",
              "  </thead>\n",
              "  <tbody>\n",
              "    <tr>\n",
              "      <th>0</th>\n",
              "      <td>2.084451</td>\n",
              "      <td>2.037395</td>\n",
              "    </tr>\n",
              "    <tr>\n",
              "      <th>1</th>\n",
              "      <td>1.269192</td>\n",
              "      <td>1.083013</td>\n",
              "    </tr>\n",
              "    <tr>\n",
              "      <th>2</th>\n",
              "      <td>3.095285</td>\n",
              "      <td>0.911145</td>\n",
              "    </tr>\n",
              "  </tbody>\n",
              "</table>\n",
              "</div>\n",
              "      <button class=\"colab-df-convert\" onclick=\"convertToInteractive('df-474c3a6d-88e2-479e-85ff-852c41e480a6')\"\n",
              "              title=\"Convert this dataframe to an interactive table.\"\n",
              "              style=\"display:none;\">\n",
              "        \n",
              "  <svg xmlns=\"http://www.w3.org/2000/svg\" height=\"24px\"viewBox=\"0 0 24 24\"\n",
              "       width=\"24px\">\n",
              "    <path d=\"M0 0h24v24H0V0z\" fill=\"none\"/>\n",
              "    <path d=\"M18.56 5.44l.94 2.06.94-2.06 2.06-.94-2.06-.94-.94-2.06-.94 2.06-2.06.94zm-11 1L8.5 8.5l.94-2.06 2.06-.94-2.06-.94L8.5 2.5l-.94 2.06-2.06.94zm10 10l.94 2.06.94-2.06 2.06-.94-2.06-.94-.94-2.06-.94 2.06-2.06.94z\"/><path d=\"M17.41 7.96l-1.37-1.37c-.4-.4-.92-.59-1.43-.59-.52 0-1.04.2-1.43.59L10.3 9.45l-7.72 7.72c-.78.78-.78 2.05 0 2.83L4 21.41c.39.39.9.59 1.41.59.51 0 1.02-.2 1.41-.59l7.78-7.78 2.81-2.81c.8-.78.8-2.07 0-2.86zM5.41 20L4 18.59l7.72-7.72 1.47 1.35L5.41 20z\"/>\n",
              "  </svg>\n",
              "      </button>\n",
              "      \n",
              "  <style>\n",
              "    .colab-df-container {\n",
              "      display:flex;\n",
              "      flex-wrap:wrap;\n",
              "      gap: 12px;\n",
              "    }\n",
              "\n",
              "    .colab-df-convert {\n",
              "      background-color: #E8F0FE;\n",
              "      border: none;\n",
              "      border-radius: 50%;\n",
              "      cursor: pointer;\n",
              "      display: none;\n",
              "      fill: #1967D2;\n",
              "      height: 32px;\n",
              "      padding: 0 0 0 0;\n",
              "      width: 32px;\n",
              "    }\n",
              "\n",
              "    .colab-df-convert:hover {\n",
              "      background-color: #E2EBFA;\n",
              "      box-shadow: 0px 1px 2px rgba(60, 64, 67, 0.3), 0px 1px 3px 1px rgba(60, 64, 67, 0.15);\n",
              "      fill: #174EA6;\n",
              "    }\n",
              "\n",
              "    [theme=dark] .colab-df-convert {\n",
              "      background-color: #3B4455;\n",
              "      fill: #D2E3FC;\n",
              "    }\n",
              "\n",
              "    [theme=dark] .colab-df-convert:hover {\n",
              "      background-color: #434B5C;\n",
              "      box-shadow: 0px 1px 3px 1px rgba(0, 0, 0, 0.15);\n",
              "      filter: drop-shadow(0px 1px 2px rgba(0, 0, 0, 0.3));\n",
              "      fill: #FFFFFF;\n",
              "    }\n",
              "  </style>\n",
              "\n",
              "      <script>\n",
              "        const buttonEl =\n",
              "          document.querySelector('#df-474c3a6d-88e2-479e-85ff-852c41e480a6 button.colab-df-convert');\n",
              "        buttonEl.style.display =\n",
              "          google.colab.kernel.accessAllowed ? 'block' : 'none';\n",
              "\n",
              "        async function convertToInteractive(key) {\n",
              "          const element = document.querySelector('#df-474c3a6d-88e2-479e-85ff-852c41e480a6');\n",
              "          const dataTable =\n",
              "            await google.colab.kernel.invokeFunction('convertToInteractive',\n",
              "                                                     [key], {});\n",
              "          if (!dataTable) return;\n",
              "\n",
              "          const docLinkHtml = 'Like what you see? Visit the ' +\n",
              "            '<a target=\"_blank\" href=https://colab.research.google.com/notebooks/data_table.ipynb>data table notebook</a>'\n",
              "            + ' to learn more about interactive tables.';\n",
              "          element.innerHTML = '';\n",
              "          dataTable['output_type'] = 'display_data';\n",
              "          await google.colab.output.renderOutput(dataTable, element);\n",
              "          const docLink = document.createElement('div');\n",
              "          docLink.innerHTML = docLinkHtml;\n",
              "          element.appendChild(docLink);\n",
              "        }\n",
              "      </script>\n",
              "    </div>\n",
              "  </div>\n",
              "  "
            ]
          },
          "metadata": {},
          "execution_count": 18
        }
      ]
    },
    {
      "cell_type": "code",
      "execution_count": null,
      "metadata": {
        "scrolled": true,
        "id": "etPZMHA5dHgd",
        "outputId": "c64d1c56-f804-40f5-c7e3-5af5ed4fc89c",
        "colab": {
          "base_uri": "https://localhost:8080/",
          "height": 369
        }
      },
      "outputs": [
        {
          "output_type": "execute_result",
          "data": {
            "text/html": [
              "\n",
              "<div id=\"altair-viz-5e875e5577e14b38846b68aa92d3ac8f\"></div>\n",
              "<script type=\"text/javascript\">\n",
              "  var VEGA_DEBUG = (typeof VEGA_DEBUG == \"undefined\") ? {} : VEGA_DEBUG;\n",
              "  (function(spec, embedOpt){\n",
              "    let outputDiv = document.currentScript.previousElementSibling;\n",
              "    if (outputDiv.id !== \"altair-viz-5e875e5577e14b38846b68aa92d3ac8f\") {\n",
              "      outputDiv = document.getElementById(\"altair-viz-5e875e5577e14b38846b68aa92d3ac8f\");\n",
              "    }\n",
              "    const paths = {\n",
              "      \"vega\": \"https://cdn.jsdelivr.net/npm//vega@5?noext\",\n",
              "      \"vega-lib\": \"https://cdn.jsdelivr.net/npm//vega-lib?noext\",\n",
              "      \"vega-lite\": \"https://cdn.jsdelivr.net/npm//vega-lite@4.17.0?noext\",\n",
              "      \"vega-embed\": \"https://cdn.jsdelivr.net/npm//vega-embed@6?noext\",\n",
              "    };\n",
              "\n",
              "    function maybeLoadScript(lib, version) {\n",
              "      var key = `${lib.replace(\"-\", \"\")}_version`;\n",
              "      return (VEGA_DEBUG[key] == version) ?\n",
              "        Promise.resolve(paths[lib]) :\n",
              "        new Promise(function(resolve, reject) {\n",
              "          var s = document.createElement('script');\n",
              "          document.getElementsByTagName(\"head\")[0].appendChild(s);\n",
              "          s.async = true;\n",
              "          s.onload = () => {\n",
              "            VEGA_DEBUG[key] = version;\n",
              "            return resolve(paths[lib]);\n",
              "          };\n",
              "          s.onerror = () => reject(`Error loading script: ${paths[lib]}`);\n",
              "          s.src = paths[lib];\n",
              "        });\n",
              "    }\n",
              "\n",
              "    function showError(err) {\n",
              "      outputDiv.innerHTML = `<div class=\"error\" style=\"color:red;\">${err}</div>`;\n",
              "      throw err;\n",
              "    }\n",
              "\n",
              "    function displayChart(vegaEmbed) {\n",
              "      vegaEmbed(outputDiv, spec, embedOpt)\n",
              "        .catch(err => showError(`Javascript Error: ${err.message}<br>This usually means there's a typo in your chart specification. See the javascript console for the full traceback.`));\n",
              "    }\n",
              "\n",
              "    if(typeof define === \"function\" && define.amd) {\n",
              "      requirejs.config({paths});\n",
              "      require([\"vega-embed\"], displayChart, err => showError(`Error loading script: ${err.message}`));\n",
              "    } else {\n",
              "      maybeLoadScript(\"vega\", \"5\")\n",
              "        .then(() => maybeLoadScript(\"vega-lite\", \"4.17.0\"))\n",
              "        .then(() => maybeLoadScript(\"vega-embed\", \"6\"))\n",
              "        .catch(showError)\n",
              "        .then(() => displayChart(vegaEmbed));\n",
              "    }\n",
              "  })({\"config\": {\"view\": {\"continuousWidth\": 400, \"continuousHeight\": 300}}, \"layer\": [{\"data\": {\"name\": \"data-527c3b9634a53fcb859f2d91956e7843\"}, \"mark\": \"point\", \"encoding\": {\"color\": {\"field\": \"cluster_labels_kmeans\", \"type\": \"nominal\"}, \"x\": {\"field\": \"x\", \"type\": \"quantitative\"}, \"y\": {\"field\": \"y\", \"type\": \"quantitative\"}}}, {\"data\": {\"name\": \"data-3a56956a3eefc00bbd9cfe1d4dfa35f2\"}, \"mark\": {\"type\": \"point\", \"color\": \"black\", \"shape\": \"diamond\"}, \"encoding\": {\"x\": {\"field\": \"0\", \"type\": \"quantitative\"}, \"y\": {\"field\": \"1\", \"type\": \"quantitative\"}}}, {\"data\": {\"name\": \"data-527c3b9634a53fcb859f2d91956e7843\"}, \"mark\": {\"type\": \"text\", \"dx\": 9}, \"encoding\": {\"text\": {\"field\": \"n\", \"type\": \"quantitative\"}, \"x\": {\"field\": \"x\", \"type\": \"quantitative\"}, \"y\": {\"field\": \"y\", \"type\": \"quantitative\"}}}], \"$schema\": \"https://vega.github.io/schema/vega-lite/v4.17.0.json\", \"datasets\": {\"data-527c3b9634a53fcb859f2d91956e7843\": [{\"n\": 0, \"x\": 1.3528104691935328, \"y\": 1.1522075450293987, \"cluster_label\": 2, \"cluster_labels_kmeans\": 1}, {\"n\": 1, \"x\": 1.0800314416734447, \"y\": 1.0243350032985656, \"cluster_label\": 2, \"cluster_labels_kmeans\": 1}, {\"n\": 2, \"x\": 1.195747596821148, \"y\": 1.0887726465490852, \"cluster_label\": 2, \"cluster_labels_kmeans\": 1}, {\"n\": 3, \"x\": 1.4481786398402916, \"y\": 1.0667348654748534, \"cluster_label\": 2, \"cluster_labels_kmeans\": 1}, {\"n\": 4, \"x\": 2.3735115980299937, \"y\": 2.298815814631521, \"cluster_label\": 3, \"cluster_labels_kmeans\": 0}, {\"n\": 5, \"x\": 1.8045444240247177, \"y\": 1.9589683472468398, \"cluster_label\": 3, \"cluster_labels_kmeans\": 0}, {\"n\": 6, \"x\": 2.190017683505118, \"y\": 2.0626135403301804, \"cluster_label\": 3, \"cluster_labels_kmeans\": 0}, {\"n\": 7, \"x\": 1.9697285583404605, \"y\": 1.829180852139655, \"cluster_label\": 3, \"cluster_labels_kmeans\": 0}, {\"n\": 8, \"x\": 2.9793562296412883, \"y\": 0.4894020368331843, \"cluster_label\": 1, \"cluster_labels_kmeans\": 2}, {\"n\": 9, \"x\": 3.0821197003876746, \"y\": 1.1307237190880721, \"cluster_label\": 1, \"cluster_labels_kmeans\": 2}, {\"n\": 10, \"x\": 3.028808714232176, \"y\": 1.1728872397719012, \"cluster_label\": 1, \"cluster_labels_kmeans\": 2}, {\"n\": 11, \"x\": 3.290854701392595, \"y\": 0.8515669959187115, \"cluster_label\": 1, \"cluster_labels_kmeans\": 2}], \"data-3a56956a3eefc00bbd9cfe1d4dfa35f2\": [{\"0\": 2.0844505659750725, \"1\": 2.037394638587049}, {\"0\": 1.2691920368821044, \"1\": 1.0830125150879757}, {\"0\": 3.0952848364134335, \"1\": 0.9111449979029673}]}}, {\"mode\": \"vega-lite\"});\n",
              "</script>"
            ],
            "text/plain": [
              "alt.LayerChart(...)"
            ]
          },
          "metadata": {},
          "execution_count": 19
        }
      ],
      "source": [
        "# Plot the clusters with their centroids.\n",
        "df_xy['cluster_labels_kmeans'] = kmeans_model.labels_\n",
        "points_plot_color = alt.Chart(df_xy).mark_point().encode(\n",
        "  x='x', y='y', color='cluster_labels_kmeans:N'\n",
        ")\n",
        "centroid_plot = alt.Chart(kmeans_centroids).mark_point(shape='diamond',color='black').encode(\n",
        "    x='0:Q', y='1:Q'\n",
        ")\n",
        "(points_plot_color + centroid_plot + text)"
      ]
    },
    {
      "cell_type": "markdown",
      "metadata": {
        "id": "kr2u4oi5dHge"
      },
      "source": [
        "# 2.5 Determining the Number of Clusters"
      ]
    },
    {
      "cell_type": "markdown",
      "metadata": {
        "id": "ZyrsZtcedHge"
      },
      "source": [
        "A number of clustering methods, such as k-means, assumes the parameter _k_ (#clusters) is known in advance, which is often not the case in practice. A number of techniques exist for determining the number of clusters in a dataset. See [this Wikipedia page](https://en.wikipedia.org/wiki/Determining_the_number_of_clusters_in_a_data_set#Information_Criterion_Approach) for a detailed discussion.\n",
        "\n",
        "In this section, we focus on four of the approaches:\n",
        "1. Rule of thumb\n",
        "2. The Elbow Method\n",
        "\n",
        "For this section, let us use `df_xy`, the dataset we created in Section 1. Obviously, there are 3 natural clusters in the dataset. Let us see if all the methods listed above will be able to recover the true number of clusters."
      ]
    },
    {
      "cell_type": "markdown",
      "metadata": {
        "id": "kCw2zsi-dHge"
      },
      "source": [
        "## 4.1 Rule of thumb:\n",
        "Choosing the number of clusters to simply be\n",
        "\n",
        "$$\n",
        "k \\approx \\sqrt{n/2}\n",
        "$$\n",
        "\n",
        "where $n$ is the number of observations."
      ]
    },
    {
      "cell_type": "code",
      "execution_count": null,
      "metadata": {
        "id": "bkbJg3vDdHge",
        "outputId": "28ae8db6-0973-4345-8d6b-41ab7bf9411b",
        "colab": {
          "base_uri": "https://localhost:8080/",
          "height": 369
        }
      },
      "outputs": [
        {
          "output_type": "execute_result",
          "data": {
            "text/html": [
              "\n",
              "<div id=\"altair-viz-f667d865c50a4ccbb09d49dbd53e03a0\"></div>\n",
              "<script type=\"text/javascript\">\n",
              "  var VEGA_DEBUG = (typeof VEGA_DEBUG == \"undefined\") ? {} : VEGA_DEBUG;\n",
              "  (function(spec, embedOpt){\n",
              "    let outputDiv = document.currentScript.previousElementSibling;\n",
              "    if (outputDiv.id !== \"altair-viz-f667d865c50a4ccbb09d49dbd53e03a0\") {\n",
              "      outputDiv = document.getElementById(\"altair-viz-f667d865c50a4ccbb09d49dbd53e03a0\");\n",
              "    }\n",
              "    const paths = {\n",
              "      \"vega\": \"https://cdn.jsdelivr.net/npm//vega@5?noext\",\n",
              "      \"vega-lib\": \"https://cdn.jsdelivr.net/npm//vega-lib?noext\",\n",
              "      \"vega-lite\": \"https://cdn.jsdelivr.net/npm//vega-lite@4.17.0?noext\",\n",
              "      \"vega-embed\": \"https://cdn.jsdelivr.net/npm//vega-embed@6?noext\",\n",
              "    };\n",
              "\n",
              "    function maybeLoadScript(lib, version) {\n",
              "      var key = `${lib.replace(\"-\", \"\")}_version`;\n",
              "      return (VEGA_DEBUG[key] == version) ?\n",
              "        Promise.resolve(paths[lib]) :\n",
              "        new Promise(function(resolve, reject) {\n",
              "          var s = document.createElement('script');\n",
              "          document.getElementsByTagName(\"head\")[0].appendChild(s);\n",
              "          s.async = true;\n",
              "          s.onload = () => {\n",
              "            VEGA_DEBUG[key] = version;\n",
              "            return resolve(paths[lib]);\n",
              "          };\n",
              "          s.onerror = () => reject(`Error loading script: ${paths[lib]}`);\n",
              "          s.src = paths[lib];\n",
              "        });\n",
              "    }\n",
              "\n",
              "    function showError(err) {\n",
              "      outputDiv.innerHTML = `<div class=\"error\" style=\"color:red;\">${err}</div>`;\n",
              "      throw err;\n",
              "    }\n",
              "\n",
              "    function displayChart(vegaEmbed) {\n",
              "      vegaEmbed(outputDiv, spec, embedOpt)\n",
              "        .catch(err => showError(`Javascript Error: ${err.message}<br>This usually means there's a typo in your chart specification. See the javascript console for the full traceback.`));\n",
              "    }\n",
              "\n",
              "    if(typeof define === \"function\" && define.amd) {\n",
              "      requirejs.config({paths});\n",
              "      require([\"vega-embed\"], displayChart, err => showError(`Error loading script: ${err.message}`));\n",
              "    } else {\n",
              "      maybeLoadScript(\"vega\", \"5\")\n",
              "        .then(() => maybeLoadScript(\"vega-lite\", \"4.17.0\"))\n",
              "        .then(() => maybeLoadScript(\"vega-embed\", \"6\"))\n",
              "        .catch(showError)\n",
              "        .then(() => displayChart(vegaEmbed));\n",
              "    }\n",
              "  })({\"config\": {\"view\": {\"continuousWidth\": 400, \"continuousHeight\": 300}}, \"layer\": [{\"mark\": \"point\", \"encoding\": {\"x\": {\"field\": \"x\", \"type\": \"quantitative\"}, \"y\": {\"field\": \"y\", \"type\": \"quantitative\"}}}, {\"mark\": {\"type\": \"text\", \"dx\": 9}, \"encoding\": {\"text\": {\"field\": \"n\", \"type\": \"quantitative\"}, \"x\": {\"field\": \"x\", \"type\": \"quantitative\"}, \"y\": {\"field\": \"y\", \"type\": \"quantitative\"}}}], \"data\": {\"name\": \"data-527c3b9634a53fcb859f2d91956e7843\"}, \"$schema\": \"https://vega.github.io/schema/vega-lite/v4.17.0.json\", \"datasets\": {\"data-527c3b9634a53fcb859f2d91956e7843\": [{\"n\": 0, \"x\": 1.3528104691935328, \"y\": 1.1522075450293987, \"cluster_label\": 2, \"cluster_labels_kmeans\": 1}, {\"n\": 1, \"x\": 1.0800314416734447, \"y\": 1.0243350032985656, \"cluster_label\": 2, \"cluster_labels_kmeans\": 1}, {\"n\": 2, \"x\": 1.195747596821148, \"y\": 1.0887726465490852, \"cluster_label\": 2, \"cluster_labels_kmeans\": 1}, {\"n\": 3, \"x\": 1.4481786398402916, \"y\": 1.0667348654748534, \"cluster_label\": 2, \"cluster_labels_kmeans\": 1}, {\"n\": 4, \"x\": 2.3735115980299937, \"y\": 2.298815814631521, \"cluster_label\": 3, \"cluster_labels_kmeans\": 0}, {\"n\": 5, \"x\": 1.8045444240247177, \"y\": 1.9589683472468398, \"cluster_label\": 3, \"cluster_labels_kmeans\": 0}, {\"n\": 6, \"x\": 2.190017683505118, \"y\": 2.0626135403301804, \"cluster_label\": 3, \"cluster_labels_kmeans\": 0}, {\"n\": 7, \"x\": 1.9697285583404605, \"y\": 1.829180852139655, \"cluster_label\": 3, \"cluster_labels_kmeans\": 0}, {\"n\": 8, \"x\": 2.9793562296412883, \"y\": 0.4894020368331843, \"cluster_label\": 1, \"cluster_labels_kmeans\": 2}, {\"n\": 9, \"x\": 3.0821197003876746, \"y\": 1.1307237190880721, \"cluster_label\": 1, \"cluster_labels_kmeans\": 2}, {\"n\": 10, \"x\": 3.028808714232176, \"y\": 1.1728872397719012, \"cluster_label\": 1, \"cluster_labels_kmeans\": 2}, {\"n\": 11, \"x\": 3.290854701392595, \"y\": 0.8515669959187115, \"cluster_label\": 1, \"cluster_labels_kmeans\": 2}]}}, {\"mode\": \"vega-lite\"});\n",
              "</script>"
            ],
            "text/plain": [
              "alt.LayerChart(...)"
            ]
          },
          "metadata": {},
          "execution_count": 20
        }
      ],
      "source": [
        "# Recall df_xy used in the first section.\n",
        "(points+text)"
      ]
    },
    {
      "cell_type": "code",
      "execution_count": null,
      "metadata": {
        "id": "WApVYxwHdHge",
        "outputId": "831cc8f1-60eb-4d37-dc4b-6461a1700da0",
        "colab": {
          "base_uri": "https://localhost:8080/"
        }
      },
      "outputs": [
        {
          "output_type": "execute_result",
          "data": {
            "text/plain": [
              "2.449489742783178"
            ]
          },
          "metadata": {},
          "execution_count": 21
        }
      ],
      "source": [
        "# To determine the natural cluster\n",
        "np.sqrt(len(df_xy) / 2)"
      ]
    },
    {
      "cell_type": "code",
      "execution_count": null,
      "metadata": {
        "id": "mJ3CcNrZdHgf",
        "outputId": "bd448ecc-26c1-4dce-d8de-7acd8196e984",
        "colab": {
          "base_uri": "https://localhost:8080/"
        }
      },
      "outputs": [
        {
          "output_type": "execute_result",
          "data": {
            "text/plain": [
              "2.0"
            ]
          },
          "metadata": {},
          "execution_count": 22
        }
      ],
      "source": [
        "# Round this number to an integer\n",
        "np.round(np.sqrt(len(df_xy) / 2))"
      ]
    },
    {
      "cell_type": "markdown",
      "metadata": {
        "id": "zWE7sqL7dHgf"
      },
      "source": [
        "This is not what we desired. We wanted k to be 3."
      ]
    },
    {
      "cell_type": "markdown",
      "metadata": {
        "id": "5X93cgWedHgf"
      },
      "source": [
        "## 4.2 The Elbow Method\n",
        "See [here](https://en.wikipedia.org/wiki/Determining_the_number_of_clusters_in_a_data_set#The_Elbow_Method) for an explanation.\n",
        "\n",
        "Implementation Reference: https://github.com/nborwankar/LearnDataScience"
      ]
    },
    {
      "cell_type": "code",
      "execution_count": null,
      "metadata": {
        "id": "sWVYw8C9dHgf",
        "outputId": "abec342a-0569-4d94-8755-c92401b5d203",
        "colab": {
          "base_uri": "https://localhost:8080/",
          "height": 295
        }
      },
      "outputs": [
        {
          "output_type": "display_data",
          "data": {
            "text/plain": [
              "<Figure size 432x288 with 1 Axes>"
            ],
            "image/png": "[encoded data removed]"
          },
          "metadata": {
            "needs_background": "light"
          }
        }
      ],
      "source": [
        "X = df_xy.iloc[:,:2]  # Using the the dataset of Section 1\n",
        "K = range(1,11)  # Apply kmeans 1 to 10\n",
        "kmeans_models = [skc.KMeans(k).fit(X) for k in K]\n",
        "centroids = [m.cluster_centers_ for m in kmeans_models]\n",
        "D_k = [spd.cdist(X, cent, 'euclidean') for cent in centroids]\n",
        "cIdx = [np.argmin(D,axis=1) for D in D_k]\n",
        "dist = [np.min(D,axis=1) for D in D_k]\n",
        "avgWithinSS = [sum(d)/X.shape[0] for d in dist]\n",
        "\n",
        "# plot elbow curve\n",
        "plt.plot(K, avgWithinSS, 'b*-')\n",
        "plt.xlabel('Number of clusters');\n",
        "plt.ylabel('Average within-cluster sum of squares');\n",
        "plt.title('Elbow for K-Means clustering');"
      ]
    },
    {
      "cell_type": "markdown",
      "metadata": {
        "id": "jPIPPSqodHgf"
      },
      "source": [
        "According to the graph above, the \"within-cluster sum of squares\" (i.e., within-cluster variance) reduces as the number of clusters (k) grows. However, as k grows larger, the marginal reduction drops. At some point, this drop is so obvious that it forms a visible \"angle\" in the graph. The number of clusters is then chosen at this point, hence the \"elbow\" criterion\". The \"elbow\" is not always easily identifiable.\n",
        "\n",
        "In the above plot, we can manually identify k=3 as the \"elbow\" point."
      ]
    },
    {
      "cell_type": "markdown",
      "metadata": {
        "id": "2LT3d69udHgf"
      },
      "source": [
        "# With the World Development Indicators\n",
        "Try some different clustering approaches with the World Bank dataset. What happens if you change the set of columns included in the clustering? The number of clusters? What plot you visualize them on?"
      ]
    },
    {
      "cell_type": "code",
      "execution_count": null,
      "metadata": {
        "id": "V2JK6xbddHgf",
        "outputId": "10a3e970-e31a-45b3-cf2a-84be77e84a4c",
        "colab": {
          "base_uri": "https://localhost:8080/",
          "height": 285
        }
      },
      "outputs": [
        {
          "output_type": "execute_result",
          "data": {
            "text/plain": [
              "        Country  Fertility rate (births/woman)  \\\n",
              "0         Qatar                          2.070   \n",
              "1      Cameroon                          5.111   \n",
              "2      Ethiopia                          5.136   \n",
              "3    Mauritania                          4.980   \n",
              "4  Saudi Arabia                          2.970   \n",
              "\n",
              "   Life expectancy at birth (years)     GDP (USD)  \\\n",
              "0                            79.108  1.251223e+11   \n",
              "1                            55.101  2.614382e+10   \n",
              "2                            61.627  2.993379e+10   \n",
              "3                            62.527  4.337794e+09   \n",
              "4                            73.917  5.282072e+11   \n",
              "\n",
              "   Population density (people/km2)  GDP per capita growth (%/yr)  \\\n",
              "0                       159.890353                      6.618785   \n",
              "1                        43.031121                      0.619380   \n",
              "2                        87.639964                      9.460597   \n",
              "3                         3.390118                      1.751621   \n",
              "4                        12.756007                      2.008917   \n",
              "\n",
              "   Income per capita (USD)  CO2 emissions (tons per capita)  \n",
              "0             41865.062795                        39.059708  \n",
              "1              1059.839636                         0.333327  \n",
              "2               259.077562                         0.075148  \n",
              "3               836.635449                         0.640167  \n",
              "4             15762.798652                        18.908248  "
            ],
            "text/html": [
              "\n",
              "  <div id=\"df-a05ca730-cf7e-4505-b954-4a1c13070230\">\n",
              "    <div class=\"colab-df-container\">\n",
              "      <div>\n",
              "<style scoped>\n",
              "    .dataframe tbody tr th:only-of-type {\n",
              "        vertical-align: middle;\n",
              "    }\n",
              "\n",
              "    .dataframe tbody tr th {\n",
              "        vertical-align: top;\n",
              "    }\n",
              "\n",
              "    .dataframe thead th {\n",
              "        text-align: right;\n",
              "    }\n",
              "</style>\n",
              "<table border=\"1\" class=\"dataframe\">\n",
              "  <thead>\n",
              "    <tr style=\"text-align: right;\">\n",
              "      <th></th>\n",
              "      <th>Country</th>\n",
              "      <th>Fertility rate (births/woman)</th>\n",
              "      <th>Life expectancy at birth (years)</th>\n",
              "      <th>GDP (USD)</th>\n",
              "      <th>Population density (people/km2)</th>\n",
              "      <th>GDP per capita growth (%/yr)</th>\n",
              "      <th>Income per capita (USD)</th>\n",
              "      <th>CO2 emissions (tons per capita)</th>\n",
              "    </tr>\n",
              "  </thead>\n",
              "  <tbody>\n",
              "    <tr>\n",
              "      <th>0</th>\n",
              "      <td>Qatar</td>\n",
              "      <td>2.070</td>\n",
              "      <td>79.108</td>\n",
              "      <td>1.251223e+11</td>\n",
              "      <td>159.890353</td>\n",
              "      <td>6.618785</td>\n",
              "      <td>41865.062795</td>\n",
              "      <td>39.059708</td>\n",
              "    </tr>\n",
              "    <tr>\n",
              "      <th>1</th>\n",
              "      <td>Cameroon</td>\n",
              "      <td>5.111</td>\n",
              "      <td>55.101</td>\n",
              "      <td>2.614382e+10</td>\n",
              "      <td>43.031121</td>\n",
              "      <td>0.619380</td>\n",
              "      <td>1059.839636</td>\n",
              "      <td>0.333327</td>\n",
              "    </tr>\n",
              "    <tr>\n",
              "      <th>2</th>\n",
              "      <td>Ethiopia</td>\n",
              "      <td>5.136</td>\n",
              "      <td>61.627</td>\n",
              "      <td>2.993379e+10</td>\n",
              "      <td>87.639964</td>\n",
              "      <td>9.460597</td>\n",
              "      <td>259.077562</td>\n",
              "      <td>0.075148</td>\n",
              "    </tr>\n",
              "    <tr>\n",
              "      <th>3</th>\n",
              "      <td>Mauritania</td>\n",
              "      <td>4.980</td>\n",
              "      <td>62.527</td>\n",
              "      <td>4.337794e+09</td>\n",
              "      <td>3.390118</td>\n",
              "      <td>1.751621</td>\n",
              "      <td>836.635449</td>\n",
              "      <td>0.640167</td>\n",
              "    </tr>\n",
              "    <tr>\n",
              "      <th>4</th>\n",
              "      <td>Saudi Arabia</td>\n",
              "      <td>2.970</td>\n",
              "      <td>73.917</td>\n",
              "      <td>5.282072e+11</td>\n",
              "      <td>12.756007</td>\n",
              "      <td>2.008917</td>\n",
              "      <td>15762.798652</td>\n",
              "      <td>18.908248</td>\n",
              "    </tr>\n",
              "  </tbody>\n",
              "</table>\n",
              "</div>\n",
              "      <button class=\"colab-df-convert\" onclick=\"convertToInteractive('df-a05ca730-cf7e-4505-b954-4a1c13070230')\"\n",
              "              title=\"Convert this dataframe to an interactive table.\"\n",
              "              style=\"display:none;\">\n",
              "        \n",
              "  <svg xmlns=\"http://www.w3.org/2000/svg\" height=\"24px\"viewBox=\"0 0 24 24\"\n",
              "       width=\"24px\">\n",
              "    <path d=\"M0 0h24v24H0V0z\" fill=\"none\"/>\n",
              "    <path d=\"M18.56 5.44l.94 2.06.94-2.06 2.06-.94-2.06-.94-.94-2.06-.94 2.06-2.06.94zm-11 1L8.5 8.5l.94-2.06 2.06-.94-2.06-.94L8.5 2.5l-.94 2.06-2.06.94zm10 10l.94 2.06.94-2.06 2.06-.94-2.06-.94-.94-2.06-.94 2.06-2.06.94z\"/><path d=\"M17.41 7.96l-1.37-1.37c-.4-.4-.92-.59-1.43-.59-.52 0-1.04.2-1.43.59L10.3 9.45l-7.72 7.72c-.78.78-.78 2.05 0 2.83L4 21.41c.39.39.9.59 1.41.59.51 0 1.02-.2 1.41-.59l7.78-7.78 2.81-2.81c.8-.78.8-2.07 0-2.86zM5.41 20L4 18.59l7.72-7.72 1.47 1.35L5.41 20z\"/>\n",
              "  </svg>\n",
              "      </button>\n",
              "      \n",
              "  <style>\n",
              "    .colab-df-container {\n",
              "      display:flex;\n",
              "      flex-wrap:wrap;\n",
              "      gap: 12px;\n",
              "    }\n",
              "\n",
              "    .colab-df-convert {\n",
              "      background-color: #E8F0FE;\n",
              "      border: none;\n",
              "      border-radius: 50%;\n",
              "      cursor: pointer;\n",
              "      display: none;\n",
              "      fill: #1967D2;\n",
              "      height: 32px;\n",
              "      padding: 0 0 0 0;\n",
              "      width: 32px;\n",
              "    }\n",
              "\n",
              "    .colab-df-convert:hover {\n",
              "      background-color: #E2EBFA;\n",
              "      box-shadow: 0px 1px 2px rgba(60, 64, 67, 0.3), 0px 1px 3px 1px rgba(60, 64, 67, 0.15);\n",
              "      fill: #174EA6;\n",
              "    }\n",
              "\n",
              "    [theme=dark] .colab-df-convert {\n",
              "      background-color: #3B4455;\n",
              "      fill: #D2E3FC;\n",
              "    }\n",
              "\n",
              "    [theme=dark] .colab-df-convert:hover {\n",
              "      background-color: #434B5C;\n",
              "      box-shadow: 0px 1px 3px 1px rgba(0, 0, 0, 0.15);\n",
              "      filter: drop-shadow(0px 1px 2px rgba(0, 0, 0, 0.3));\n",
              "      fill: #FFFFFF;\n",
              "    }\n",
              "  </style>\n",
              "\n",
              "      <script>\n",
              "        const buttonEl =\n",
              "          document.querySelector('#df-a05ca730-cf7e-4505-b954-4a1c13070230 button.colab-df-convert');\n",
              "        buttonEl.style.display =\n",
              "          google.colab.kernel.accessAllowed ? 'block' : 'none';\n",
              "\n",
              "        async function convertToInteractive(key) {\n",
              "          const element = document.querySelector('#df-a05ca730-cf7e-4505-b954-4a1c13070230');\n",
              "          const dataTable =\n",
              "            await google.colab.kernel.invokeFunction('convertToInteractive',\n",
              "                                                     [key], {});\n",
              "          if (!dataTable) return;\n",
              "\n",
              "          const docLinkHtml = 'Like what you see? Visit the ' +\n",
              "            '<a target=\"_blank\" href=https://colab.research.google.com/notebooks/data_table.ipynb>data table notebook</a>'\n",
              "            + ' to learn more about interactive tables.';\n",
              "          element.innerHTML = '';\n",
              "          dataTable['output_type'] = 'display_data';\n",
              "          await google.colab.output.renderOutput(dataTable, element);\n",
              "          const docLink = document.createElement('div');\n",
              "          docLink.innerHTML = docLinkHtml;\n",
              "          element.appendChild(docLink);\n",
              "        }\n",
              "      </script>\n",
              "    </div>\n",
              "  </div>\n",
              "  "
            ]
          },
          "metadata": {},
          "execution_count": 24
        }
      ],
      "source": [
        "worldbank_data_url = 'https://drive.google.com/uc?export=download&id=1EtNlb935g5Jo3Hvsc5OUiYMJcCJCXY0l'\n",
        "df_wdi = pd.read_csv(worldbank_data_url)\n",
        "df_wdi = df_wdi.dropna()\n",
        "df_wdi.head()"
      ]
    },
    {
      "cell_type": "code",
      "execution_count": null,
      "metadata": {
        "id": "rGFLITlWdHgf"
      },
      "outputs": [],
      "source": [
        "# Choose which set of columns to cluster by\n",
        "country = df_wdi['Country'].dropna()  # Extract the country name\n",
        "df_wdi_cluster_cols = df_wdi[['Fertility rate (births/woman)', \n",
        "                              'Life expectancy at birth (years)',\n",
        "                              'Income per capita (USD)']]"
      ]
    },
    {
      "cell_type": "code",
      "execution_count": null,
      "metadata": {
        "id": "WPwN7ibLdHgf",
        "outputId": "62c39835-cd4f-4bcb-d4ac-9d29be85b7a6",
        "colab": {
          "base_uri": "https://localhost:8080/",
          "height": 206
        }
      },
      "outputs": [
        {
          "output_type": "execute_result",
          "data": {
            "text/plain": [
              "  Fertility rate (births/woman) Life expectancy at birth (years)  \\\n",
              "0                     -0.617431                         1.116694   \n",
              "1                      1.498633                        -1.729165   \n",
              "2                      1.516029                        -0.955554   \n",
              "3                      1.407477                        -0.848866   \n",
              "4                      0.008829                         0.501338   \n",
              "\n",
              "  Income per capita (USD)  \n",
              "0                2.449841  \n",
              "1               -0.630877  \n",
              "2               -0.691333  \n",
              "3               -0.647728  \n",
              "4                0.479169  "
            ],
            "text/html": [
              "\n",
              "  <div id=\"df-18685494-2544-42b1-af43-67b485d79ce3\">\n",
              "    <div class=\"colab-df-container\">\n",
              "      <div>\n",
              "<style scoped>\n",
              "    .dataframe tbody tr th:only-of-type {\n",
              "        vertical-align: middle;\n",
              "    }\n",
              "\n",
              "    .dataframe tbody tr th {\n",
              "        vertical-align: top;\n",
              "    }\n",
              "\n",
              "    .dataframe thead tr th {\n",
              "        text-align: left;\n",
              "    }\n",
              "</style>\n",
              "<table border=\"1\" class=\"dataframe\">\n",
              "  <thead>\n",
              "    <tr>\n",
              "      <th></th>\n",
              "      <th>Fertility rate (births/woman)</th>\n",
              "      <th>Life expectancy at birth (years)</th>\n",
              "      <th>Income per capita (USD)</th>\n",
              "    </tr>\n",
              "  </thead>\n",
              "  <tbody>\n",
              "    <tr>\n",
              "      <th>0</th>\n",
              "      <td>-0.617431</td>\n",
              "      <td>1.116694</td>\n",
              "      <td>2.449841</td>\n",
              "    </tr>\n",
              "    <tr>\n",
              "      <th>1</th>\n",
              "      <td>1.498633</td>\n",
              "      <td>-1.729165</td>\n",
              "      <td>-0.630877</td>\n",
              "    </tr>\n",
              "    <tr>\n",
              "      <th>2</th>\n",
              "      <td>1.516029</td>\n",
              "      <td>-0.955554</td>\n",
              "      <td>-0.691333</td>\n",
              "    </tr>\n",
              "    <tr>\n",
              "      <th>3</th>\n",
              "      <td>1.407477</td>\n",
              "      <td>-0.848866</td>\n",
              "      <td>-0.647728</td>\n",
              "    </tr>\n",
              "    <tr>\n",
              "      <th>4</th>\n",
              "      <td>0.008829</td>\n",
              "      <td>0.501338</td>\n",
              "      <td>0.479169</td>\n",
              "    </tr>\n",
              "  </tbody>\n",
              "</table>\n",
              "</div>\n",
              "      <button class=\"colab-df-convert\" onclick=\"convertToInteractive('df-18685494-2544-42b1-af43-67b485d79ce3')\"\n",
              "              title=\"Convert this dataframe to an interactive table.\"\n",
              "              style=\"display:none;\">\n",
              "        \n",
              "  <svg xmlns=\"http://www.w3.org/2000/svg\" height=\"24px\"viewBox=\"0 0 24 24\"\n",
              "       width=\"24px\">\n",
              "    <path d=\"M0 0h24v24H0V0z\" fill=\"none\"/>\n",
              "    <path d=\"M18.56 5.44l.94 2.06.94-2.06 2.06-.94-2.06-.94-.94-2.06-.94 2.06-2.06.94zm-11 1L8.5 8.5l.94-2.06 2.06-.94-2.06-.94L8.5 2.5l-.94 2.06-2.06.94zm10 10l.94 2.06.94-2.06 2.06-.94-2.06-.94-.94-2.06-.94 2.06-2.06.94z\"/><path d=\"M17.41 7.96l-1.37-1.37c-.4-.4-.92-.59-1.43-.59-.52 0-1.04.2-1.43.59L10.3 9.45l-7.72 7.72c-.78.78-.78 2.05 0 2.83L4 21.41c.39.39.9.59 1.41.59.51 0 1.02-.2 1.41-.59l7.78-7.78 2.81-2.81c.8-.78.8-2.07 0-2.86zM5.41 20L4 18.59l7.72-7.72 1.47 1.35L5.41 20z\"/>\n",
              "  </svg>\n",
              "      </button>\n",
              "      \n",
              "  <style>\n",
              "    .colab-df-container {\n",
              "      display:flex;\n",
              "      flex-wrap:wrap;\n",
              "      gap: 12px;\n",
              "    }\n",
              "\n",
              "    .colab-df-convert {\n",
              "      background-color: #E8F0FE;\n",
              "      border: none;\n",
              "      border-radius: 50%;\n",
              "      cursor: pointer;\n",
              "      display: none;\n",
              "      fill: #1967D2;\n",
              "      height: 32px;\n",
              "      padding: 0 0 0 0;\n",
              "      width: 32px;\n",
              "    }\n",
              "\n",
              "    .colab-df-convert:hover {\n",
              "      background-color: #E2EBFA;\n",
              "      box-shadow: 0px 1px 2px rgba(60, 64, 67, 0.3), 0px 1px 3px 1px rgba(60, 64, 67, 0.15);\n",
              "      fill: #174EA6;\n",
              "    }\n",
              "\n",
              "    [theme=dark] .colab-df-convert {\n",
              "      background-color: #3B4455;\n",
              "      fill: #D2E3FC;\n",
              "    }\n",
              "\n",
              "    [theme=dark] .colab-df-convert:hover {\n",
              "      background-color: #434B5C;\n",
              "      box-shadow: 0px 1px 3px 1px rgba(0, 0, 0, 0.15);\n",
              "      filter: drop-shadow(0px 1px 2px rgba(0, 0, 0, 0.3));\n",
              "      fill: #FFFFFF;\n",
              "    }\n",
              "  </style>\n",
              "\n",
              "      <script>\n",
              "        const buttonEl =\n",
              "          document.querySelector('#df-18685494-2544-42b1-af43-67b485d79ce3 button.colab-df-convert');\n",
              "        buttonEl.style.display =\n",
              "          google.colab.kernel.accessAllowed ? 'block' : 'none';\n",
              "\n",
              "        async function convertToInteractive(key) {\n",
              "          const element = document.querySelector('#df-18685494-2544-42b1-af43-67b485d79ce3');\n",
              "          const dataTable =\n",
              "            await google.colab.kernel.invokeFunction('convertToInteractive',\n",
              "                                                     [key], {});\n",
              "          if (!dataTable) return;\n",
              "\n",
              "          const docLinkHtml = 'Like what you see? Visit the ' +\n",
              "            '<a target=\"_blank\" href=https://colab.research.google.com/notebooks/data_table.ipynb>data table notebook</a>'\n",
              "            + ' to learn more about interactive tables.';\n",
              "          element.innerHTML = '';\n",
              "          dataTable['output_type'] = 'display_data';\n",
              "          await google.colab.output.renderOutput(dataTable, element);\n",
              "          const docLink = document.createElement('div');\n",
              "          docLink.innerHTML = docLinkHtml;\n",
              "          element.appendChild(docLink);\n",
              "        }\n",
              "      </script>\n",
              "    </div>\n",
              "  </div>\n",
              "  "
            ]
          },
          "metadata": {},
          "execution_count": 26
        }
      ],
      "source": [
        "# Scaling -- what happens if you cluster with and without scaling?\n",
        "from sklearn.preprocessing import StandardScaler\n",
        "scale = StandardScaler()\n",
        "df_scaled = scale.fit_transform(df_wdi_cluster_cols)\n",
        "df_scaled = pd.DataFrame(df_scaled) \n",
        "df_scaled.columns = [df_wdi_cluster_cols[:0]]\n",
        "df_scaled.head()"
      ]
    },
    {
      "cell_type": "code",
      "execution_count": null,
      "metadata": {
        "id": "4BqEQP7RdHgf",
        "outputId": "b0bb24a9-4252-42ca-866e-ccf3c7fa80f4",
        "colab": {
          "base_uri": "https://localhost:8080/"
        }
      },
      "outputs": [
        {
          "output_type": "execute_result",
          "data": {
            "text/plain": [
              "array([[ 1.37224121, -1.31781791, -0.62334865],\n",
              "       [-0.83795703,  1.20225815,  1.94732035],\n",
              "       [-0.45115753,  0.30524492, -0.29958099]])"
            ]
          },
          "metadata": {},
          "execution_count": 27
        }
      ],
      "source": [
        "# Clustering --- try different numbers of clusters or swap out for a hierarchical approach\n",
        "kmeans_model = skc.KMeans(n_clusters=3)\n",
        "kmeans_model.fit(df_scaled)\n",
        "centroids = kmeans_model.cluster_centers_\n",
        "centroids"
      ]
    },
    {
      "cell_type": "code",
      "source": [
        "unscaled_centroids = scale.inverse_transform(centroids)\n",
        "unscaled_centroids"
      ],
      "metadata": {
        "id": "dzE5LPY0fGtg",
        "outputId": "e65a46f3-df92-42d7-88d6-4b06f8852dd2",
        "colab": {
          "base_uri": "https://localhost:8080/"
        }
      },
      "execution_count": null,
      "outputs": [
        {
          "output_type": "execute_result",
          "data": {
            "text/plain": [
              "array([[4.92936218e+00, 5.85710277e+01, 1.15955242e+03],\n",
              "       [1.75308179e+00, 7.98298029e+01, 3.52089978e+04],\n",
              "       [2.30895214e+00, 7.22628081e+01, 5.44797273e+03]])"
            ]
          },
          "metadata": {},
          "execution_count": 28
        }
      ]
    },
    {
      "cell_type": "code",
      "execution_count": null,
      "metadata": {
        "id": "4pkOx8yEdHgf",
        "outputId": "8470abd4-78b5-4a80-b775-29ada9d9a37e",
        "colab": {
          "base_uri": "https://localhost:8080/",
          "height": 369
        }
      },
      "outputs": [
        {
          "output_type": "execute_result",
          "data": {
            "text/html": [
              "\n",
              "<div id=\"altair-viz-e819178cdc95431dbbd4ebd5d233463e\"></div>\n",
              "<script type=\"text/javascript\">\n",
              "  var VEGA_DEBUG = (typeof VEGA_DEBUG == \"undefined\") ? {} : VEGA_DEBUG;\n",
              "  (function(spec, embedOpt){\n",
              "    let outputDiv = document.currentScript.previousElementSibling;\n",
              "    if (outputDiv.id !== \"altair-viz-e819178cdc95431dbbd4ebd5d233463e\") {\n",
              "      outputDiv = document.getElementById(\"altair-viz-e819178cdc95431dbbd4ebd5d233463e\");\n",
              "    }\n",
              "    const paths = {\n",
              "      \"vega\": \"https://cdn.jsdelivr.net/npm//vega@5?noext\",\n",
              "      \"vega-lib\": \"https://cdn.jsdelivr.net/npm//vega-lib?noext\",\n",
              "      \"vega-lite\": \"https://cdn.jsdelivr.net/npm//vega-lite@4.17.0?noext\",\n",
              "      \"vega-embed\": \"https://cdn.jsdelivr.net/npm//vega-embed@6?noext\",\n",
              "    };\n",
              "\n",
              "    function maybeLoadScript(lib, version) {\n",
              "      var key = `${lib.replace(\"-\", \"\")}_version`;\n",
              "      return (VEGA_DEBUG[key] == version) ?\n",
              "        Promise.resolve(paths[lib]) :\n",
              "        new Promise(function(resolve, reject) {\n",
              "          var s = document.createElement('script');\n",
              "          document.getElementsByTagName(\"head\")[0].appendChild(s);\n",
              "          s.async = true;\n",
              "          s.onload = () => {\n",
              "            VEGA_DEBUG[key] = version;\n",
              "            return resolve(paths[lib]);\n",
              "          };\n",
              "          s.onerror = () => reject(`Error loading script: ${paths[lib]}`);\n",
              "          s.src = paths[lib];\n",
              "        });\n",
              "    }\n",
              "\n",
              "    function showError(err) {\n",
              "      outputDiv.innerHTML = `<div class=\"error\" style=\"color:red;\">${err}</div>`;\n",
              "      throw err;\n",
              "    }\n",
              "\n",
              "    function displayChart(vegaEmbed) {\n",
              "      vegaEmbed(outputDiv, spec, embedOpt)\n",
              "        .catch(err => showError(`Javascript Error: ${err.message}<br>This usually means there's a typo in your chart specification. See the javascript console for the full traceback.`));\n",
              "    }\n",
              "\n",
              "    if(typeof define === \"function\" && define.amd) {\n",
              "      requirejs.config({paths});\n",
              "      require([\"vega-embed\"], displayChart, err => showError(`Error loading script: ${err.message}`));\n",
              "    } else {\n",
              "      maybeLoadScript(\"vega\", \"5\")\n",
              "        .then(() => maybeLoadScript(\"vega-lite\", \"4.17.0\"))\n",
              "        .then(() => maybeLoadScript(\"vega-embed\", \"6\"))\n",
              "        .catch(showError)\n",
              "        .then(() => displayChart(vegaEmbed));\n",
              "    }\n",
              "  })({\"config\": {\"view\": {\"continuousWidth\": 400, \"continuousHeight\": 300}}, \"layer\": [{\"data\": {\"name\": \"data-f7977118b1b7f1c45247e0ffedf01c6e\"}, \"mark\": \"point\", \"encoding\": {\"color\": {\"field\": \"cluster_labels_kmeans\", \"type\": \"nominal\"}, \"x\": {\"field\": \"Fertility rate (births/woman)\", \"type\": \"quantitative\"}, \"y\": {\"field\": \"Life expectancy at birth (years)\", \"type\": \"quantitative\"}}}, {\"data\": {\"name\": \"data-16c8982f23d4dbb05e9d7d68cb37fdc4\"}, \"mark\": {\"type\": \"point\", \"color\": \"black\", \"shape\": \"diamond\"}, \"encoding\": {\"x\": {\"field\": \"0\", \"type\": \"quantitative\"}, \"y\": {\"field\": \"1\", \"type\": \"quantitative\"}}}], \"$schema\": \"https://vega.github.io/schema/vega-lite/v4.17.0.json\", \"datasets\": {\"data-f7977118b1b7f1c45247e0ffedf01c6e\": [{\"Country\": \"Qatar\", \"Fertility rate (births/woman)\": 2.07, \"Life expectancy at birth (years)\": 79.108, \"GDP (USD)\": 125122306346.154, \"Population density (people/km2)\": 159.890353144, \"GDP per capita growth (%/yr)\": 6.618784875, \"Income per capita (USD)\": 41865.06279481, \"CO2 emissions (tons per capita)\": 39.05970823, \"cluster_labels_kmeans\": 1}, {\"Country\": \"Cameroon\", \"Fertility rate (births/woman)\": 5.111, \"Life expectancy at birth (years)\": 55.101, \"GDP (USD)\": 26143818509.6421, \"Population density (people/km2)\": 43.03112056, \"GDP per capita growth (%/yr)\": 0.619379565, \"Income per capita (USD)\": 1059.839635647, \"CO2 emissions (tons per capita)\": 0.33332691, \"cluster_labels_kmeans\": 0}, {\"Country\": \"Ethiopia\", \"Fertility rate (births/woman)\": 5.136, \"Life expectancy at birth (years)\": 61.627, \"GDP (USD)\": 29933790334.3418, \"Population density (people/km2)\": 87.639964, \"GDP per capita growth (%/yr)\": 9.460597148, \"Income per capita (USD)\": 259.077562479, \"CO2 emissions (tons per capita)\": 0.075147589, \"cluster_labels_kmeans\": 0}, {\"Country\": \"Mauritania\", \"Fertility rate (births/woman)\": 4.98, \"Life expectancy at birth (years)\": 62.527, \"GDP (USD)\": 4337794152.82681, \"Population density (people/km2)\": 3.390118366, \"GDP per capita growth (%/yr)\": 1.751621384, \"Income per capita (USD)\": 836.635449255, \"CO2 emissions (tons per capita)\": 0.640167478, \"cluster_labels_kmeans\": 0}, {\"Country\": \"Saudi Arabia\", \"Fertility rate (births/woman)\": 2.97, \"Life expectancy at birth (years)\": 73.917, \"GDP (USD)\": 528207200000.0, \"Population density (people/km2)\": 12.756007145, \"GDP per capita growth (%/yr)\": 2.008917159, \"Income per capita (USD)\": 15762.798652057, \"CO2 emissions (tons per capita)\": 18.90824847, \"cluster_labels_kmeans\": 2}, {\"Country\": \"Mexico\", \"Fertility rate (births/woman)\": 2.34, \"Life expectancy at birth (years)\": 75.065, \"GDP (USD)\": 1057801295584.05, \"Population density (people/km2)\": 58.691305332, \"GDP per capita growth (%/yr)\": 3.617189436, \"Income per capita (USD)\": 7362.916552213, \"CO2 emissions (tons per capita)\": 4.069560416, \"cluster_labels_kmeans\": 2}, {\"Country\": \"Cambodia\", \"Fertility rate (births/woman)\": 2.875, \"Life expectancy at birth (years)\": 66.56, \"GDP (USD)\": 11242275198.9783, \"Population density (people/km2)\": 81.079832314, \"GDP per capita growth (%/yr)\": 4.344574274, \"Income per capita (USD)\": 660.406992166, \"CO2 emissions (tons per capita)\": 0.35024558, \"cluster_labels_kmeans\": 2}, {\"Country\": \"Slovak Republic\", \"Fertility rate (births/woman)\": 1.43, \"Life expectancy at birth (years)\": 75.112195122, \"GDP (USD)\": 90183986821.6439, \"Population density (people/km2)\": 112.108874644, \"GDP per capita growth (%/yr)\": 5.622368091, \"Income per capita (USD)\": 12941.002701749, \"CO2 emissions (tons per capita)\": 6.721959562, \"cluster_labels_kmeans\": 2}, {\"Country\": \"United States\", \"Fertility rate (births/woman)\": 1.931, \"Life expectancy at birth (years)\": 78.541463415, \"GDP (USD)\": 14992052727000.0, \"Population density (people/km2)\": 33.815664417, \"GDP per capita growth (%/yr)\": 1.71674816, \"Income per capita (USD)\": 40911.957173011, \"CO2 emissions (tons per capita)\": 17.442861713, \"cluster_labels_kmeans\": 1}, {\"Country\": \"Ukraine\", \"Fertility rate (births/woman)\": 1.443, \"Life expectancy at birth (years)\": 70.265365854, \"GDP (USD)\": 136013155905.036, \"Population density (people/km2)\": 79.180245805, \"GDP per capita growth (%/yr)\": 4.247726915, \"Income per capita (USD)\": 2423.991732399, \"CO2 emissions (tons per capita)\": 6.641349685, \"cluster_labels_kmeans\": 2}, {\"Country\": \"Central Europe and the Baltics\", \"Fertility rate (births/woman)\": 1.465227979, \"Life expectancy at birth (years)\": 75.293965779, \"GDP (USD)\": 1313429192814.02, \"Population density (people/km2)\": 94.57074958, \"GDP per capita growth (%/yr)\": 1.964768325, \"Income per capita (USD)\": 10044.947493349, \"CO2 emissions (tons per capita)\": 6.828033565, \"cluster_labels_kmeans\": 2}, {\"Country\": \"Turkmenistan\", \"Fertility rate (births/woman)\": 2.833, \"Life expectancy at birth (years)\": 66.657, \"GDP (USD)\": 22583157894.7368, \"Population density (people/km2)\": 10.825469751, \"GDP per capita growth (%/yr)\": 7.498659234, \"Income per capita (USD)\": 3029.296148651, \"CO2 emissions (tons per capita)\": 11.261478731, \"cluster_labels_kmeans\": 2}, {\"Country\": \"Georgia\", \"Fertility rate (births/woman)\": 1.911, \"Life expectancy at birth (years)\": 71.46, \"GDP (USD)\": 12243505582.6741, \"Population density (people/km2)\": 66.249606354, \"GDP per capita growth (%/yr)\": 7.027385348, \"Income per capita (USD)\": 2629.749165031, \"CO2 emissions (tons per capita)\": 1.667568685, \"cluster_labels_kmeans\": 2}, {\"Country\": \"Trinidad and Tobago\", \"Fertility rate (births/woman)\": 1.806, \"Life expectancy at birth (years)\": 71.946, \"GDP (USD)\": 22157948396.2042, \"Population density (people/km2)\": 258.898050682, \"GDP per capita growth (%/yr)\": 2.761778039, \"Income per capita (USD)\": 12174.539840056, \"CO2 emissions (tons per capita)\": 36.091655517, \"cluster_labels_kmeans\": 2}, {\"Country\": \"Mozambique\", \"Fertility rate (births/woman)\": 5.392, \"Life expectancy at birth (years)\": 52.31, \"GDP (USD)\": 11087646867.9421, \"Population density (people/km2)\": 29.923922277, \"GDP per capita growth (%/yr)\": 3.606129559, \"Income per capita (USD)\": 356.200999308, \"CO2 emissions (tons per capita)\": 0.116251552, \"cluster_labels_kmeans\": 0}, {\"Country\": \"Caribbean small states\", \"Fertility rate (births/woman)\": 2.153183923, \"Life expectancy at birth (years)\": 72.679394768, \"GDP (USD)\": 63277133287.3134, \"Population density (people/km2)\": 17.224171916, \"GDP per capita growth (%/yr)\": 0.556907217, \"Income per capita (USD)\": 7339.923081214, \"CO2 emissions (tons per capita)\": 9.291597437, \"cluster_labels_kmeans\": 2}, {\"Country\": \"Bangladesh\", \"Fertility rate (births/woman)\": 2.324, \"Life expectancy at birth (years)\": 69.881, \"GDP (USD)\": 115279077465.226, \"Population density (people/km2)\": 1133.713067527, \"GDP per capita growth (%/yr)\": 4.390980367, \"Income per capita (USD)\": 771.853781928, \"CO2 emissions (tons per capita)\": 0.406145623, \"cluster_labels_kmeans\": 2}, {\"Country\": \"Yemen, Rep.\", \"Fertility rate (births/woman)\": 4.674, \"Life expectancy at birth (years)\": 65.549, \"GDP (USD)\": 30906749533.221, \"Population density (people/km2)\": 43.856383885, \"GDP per capita growth (%/yr)\": 4.732881651, \"Income per capita (USD)\": 1005.931368559, \"CO2 emissions (tons per capita)\": 1.01197481, \"cluster_labels_kmeans\": 0}, {\"Country\": \"Nepal\", \"Fertility rate (births/woman)\": 2.542, \"Life expectancy at birth (years)\": 67.611, \"GDP (USD)\": 16002656434.4746, \"Population density (people/km2)\": 188.442357865, \"GDP per capita growth (%/yr)\": 4.313243158, \"Income per capita (USD)\": 550.736959071, \"CO2 emissions (tons per capita)\": 0.187197028, \"cluster_labels_kmeans\": 2}, {\"Country\": \"El Salvador\", \"Fertility rate (births/woman)\": 2.265, \"Life expectancy at birth (years)\": 71.21, \"GDP (USD)\": 18448000000.0, \"Population density (people/km2)\": 298.449565637, \"GDP per capita growth (%/yr)\": 1.671866786, \"Income per capita (USD)\": 2684.76731341, \"CO2 emissions (tons per capita)\": 1.044262214, \"cluster_labels_kmeans\": 2}, {\"Country\": \"Pacific island small states\", \"Fertility rate (births/woman)\": 3.57127725, \"Life expectancy at birth (years)\": 68.48525042, \"GDP (USD)\": 6434900058.15315, \"Population density (people/km2)\": 34.494065421, \"GDP per capita growth (%/yr)\": 1.612058341, \"Income per capita (USD)\": 2497.840374469, \"CO2 emissions (tons per capita)\": 1.09619922, \"cluster_labels_kmeans\": 2}, {\"Country\": \"Australia\", \"Fertility rate (births/woman)\": 1.928, \"Life expectancy at birth (years)\": 81.695121951, \"GDP (USD)\": 1146138465603.81, \"Population density (people/km2)\": 2.867858584, \"GDP per capita growth (%/yr)\": 0.492100956, \"Income per capita (USD)\": 39980.772994619, \"CO2 emissions (tons per capita)\": 17.740845053, \"cluster_labels_kmeans\": 1}, {\"Country\": \"North America\", \"Fertility rate (births/woman)\": 1.900119253, \"Life expectancy at birth (years)\": 78.809456356, \"GDP (USD)\": 16611339953589.4, \"Population density (people/km2)\": 18.825524873, \"GDP per capita growth (%/yr)\": 1.737361018, \"Income per capita (USD)\": 40675.720027807, \"CO2 emissions (tons per capita)\": 17.271050788, \"cluster_labels_kmeans\": 1}, {\"Country\": \"Greece\", \"Fertility rate (births/woman)\": 1.48, \"Life expectancy at birth (years)\": 80.387804878, \"GDP (USD)\": 299361576558.217, \"Population density (people/km2)\": 86.278828549, \"GDP per capita growth (%/yr)\": -5.600777661, \"Income per capita (USD)\": 21801.277709965, \"CO2 emissions (tons per capita)\": 7.540183868, \"cluster_labels_kmeans\": 1}, {\"Country\": \"Uzbekistan\", \"Fertility rate (births/woman)\": 2.342, \"Life expectancy at birth (years)\": 69.672, \"GDP (USD)\": 46679875793.5724, \"Population density (people/km2)\": 67.142454161, \"GDP per capita growth (%/yr)\": 4.602330394, \"Income per capita (USD)\": 1177.694674217, \"CO2 emissions (tons per capita)\": 3.647048882, \"cluster_labels_kmeans\": 2}, {\"Country\": \"Eritrea\", \"Fertility rate (births/woman)\": 4.571, \"Life expectancy at birth (years)\": 62.193, \"GDP (USD)\": 2117039512.19512, \"Population density (people/km2)\": 31.390445545, \"GDP per capita growth (%/yr)\": 0.565915707, \"Income per capita (USD)\": 587.996624518, \"CO2 emissions (tons per capita)\": 0.161927307, \"cluster_labels_kmeans\": 0}, {\"Country\": \"St. Lucia\", \"Fertility rate (births/woman)\": 1.538, \"Life expectancy at birth (years)\": 74.852, \"GDP (USD)\": 1399203481.48148, \"Population density (people/km2)\": 285.385245902, \"GDP per capita growth (%/yr)\": -0.770176226, \"Income per capita (USD)\": 6631.366645089, \"CO2 emissions (tons per capita)\": 2.317086481, \"cluster_labels_kmeans\": 2}, {\"Country\": \"Niger\", \"Fertility rate (births/woman)\": 7.473, \"Life expectancy at birth (years)\": 57.333, \"GDP (USD)\": 5718664504.91341, \"Population density (people/km2)\": 12.997572432, \"GDP per capita growth (%/yr)\": 4.277583547, \"Income per capita (USD)\": 303.727248206, \"CO2 emissions (tons per capita)\": 0.071272972, \"cluster_labels_kmeans\": 0}, {\"Country\": \"Guyana\", \"Fertility rate (births/woman)\": 2.655, \"Life expectancy at birth (years)\": 68.059, \"GDP (USD)\": 2273225041.96217, \"Population density (people/km2)\": 3.807142494, \"GDP per capita growth (%/yr)\": 3.899838089, \"Income per capita (USD)\": 2660.477005074, \"CO2 emissions (tons per capita)\": 2.29482304, \"cluster_labels_kmeans\": 2}, {\"Country\": \"Singapore\", \"Fertility rate (births/woman)\": 1.15, \"Life expectancy at birth (years)\": 81.541463415, \"GDP (USD)\": 239809387605.427, \"Population density (people/km2)\": 7231.812280196, \"GDP per capita growth (%/yr)\": 12.514314937, \"Income per capita (USD)\": 40099.666118537, \"CO2 emissions (tons per capita)\": 10.960408783, \"cluster_labels_kmeans\": 1}, {\"Country\": \"Arab World\", \"Fertility rate (births/woman)\": 3.47038388, \"Life expectancy at birth (years)\": 70.349916226, \"GDP (USD)\": 2110267956841.91, \"Population density (people/km2)\": 31.594020666, \"GDP per capita growth (%/yr)\": 2.330118683, \"Income per capita (USD)\": 4792.279064918, \"CO2 emissions (tons per capita)\": 4.636813439, \"cluster_labels_kmeans\": 2}, {\"Country\": \"Middle East & North Africa\", \"Fertility rate (births/woman)\": 2.896203225, \"Life expectancy at birth (years)\": 72.539183346, \"GDP (USD)\": 2768612618761.04, \"Population density (people/km2)\": 34.384372381, \"GDP per capita growth (%/yr)\": 2.865471264, \"Income per capita (USD)\": 5831.179271958, \"CO2 emissions (tons per capita)\": 5.884877393, \"cluster_labels_kmeans\": 2}, {\"Country\": \"Kyrgyz Republic\", \"Fertility rate (births/woman)\": 3.1, \"Life expectancy at birth (years)\": 69.3, \"GDP (USD)\": 4794357795.07139, \"Population density (people/km2)\": 28.404066736, \"GDP per capita growth (%/yr)\": -1.651753118, \"Income per capita (USD)\": 664.680669338, \"CO2 emissions (tons per capita)\": 1.171873015, \"cluster_labels_kmeans\": 2}, {\"Country\": \"Hungary\", \"Fertility rate (births/woman)\": 1.25, \"Life expectancy at birth (years)\": 74.207317073, \"GDP (USD)\": 131135561228.374, \"Population density (people/km2)\": 110.460874848, \"GDP per capita growth (%/yr)\": 0.892064394, \"Income per capita (USD)\": 10096.542437767, \"CO2 emissions (tons per capita)\": 5.022311649, \"cluster_labels_kmeans\": 2}, {\"Country\": \"Papua New Guinea\", \"Fertility rate (births/woman)\": 3.985, \"Life expectancy at birth (years)\": 62.029, \"GDP (USD)\": 14250755221.5077, \"Population density (people/km2)\": 16.142973546, \"GDP per capita growth (%/yr)\": 7.631814837, \"Income per capita (USD)\": 1301.794306907, \"CO2 emissions (tons per capita)\": 0.651587229, \"cluster_labels_kmeans\": 0}, {\"Country\": \"East Asia & Pacific\", \"Fertility rate (births/woman)\": 1.819649139, \"Life expectancy at birth (years)\": 74.012996899, \"GDP (USD)\": 16933217302135.6, \"Population density (people/km2)\": 90.494665457, \"GDP per capita growth (%/yr)\": 6.332407835, \"Income per capita (USD)\": 6016.710240011, \"CO2 emissions (tons per capita)\": 5.702481248, \"cluster_labels_kmeans\": 2}, {\"Country\": \"Middle income\", \"Fertility rate (births/woman)\": 2.42054756, \"Life expectancy at birth (years)\": 69.669273259, \"GDP (USD)\": 20326667734026.7, \"Population density (people/km2)\": 66.036369391, \"GDP per capita growth (%/yr)\": 6.128038589, \"Income per capita (USD)\": 3133.546649045, \"CO2 emissions (tons per capita)\": 3.545399768, \"cluster_labels_kmeans\": 2}, {\"Country\": \"Barbados\", \"Fertility rate (births/woman)\": 1.687, \"Life expectancy at birth (years)\": 78.364, \"GDP (USD)\": 4529928300.0, \"Population density (people/km2)\": 656.118604651, \"GDP per capita growth (%/yr)\": -2.526506705, \"Income per capita (USD)\": 13912.736568717, \"CO2 emissions (tons per capita)\": 5.237995825, \"cluster_labels_kmeans\": 2}, {\"Country\": \"Bulgaria\", \"Fertility rate (births/woman)\": 1.57, \"Life expectancy at birth (years)\": 73.512195122, \"GDP (USD)\": 50610058210.3696, \"Population density (people/km2)\": 68.124530214, \"GDP per capita growth (%/yr)\": 1.993279538, \"Income per capita (USD)\": 5580.342226707, \"CO2 emissions (tons per capita)\": 5.964900206, \"cluster_labels_kmeans\": 2}, {\"Country\": \"Honduras\", \"Fertility rate (births/woman)\": 2.957, \"Life expectancy at birth (years)\": 73.317, \"GDP (USD)\": 15839344591.9842, \"Population density (people/km2)\": 74.336133703, \"GDP per capita growth (%/yr)\": 1.652207395, \"Income per capita (USD)\": 1670.712867996, \"CO2 emissions (tons per capita)\": 0.958912386, \"cluster_labels_kmeans\": 2}, {\"Country\": \"Belgium\", \"Fertility rate (births/woman)\": 1.86, \"Life expectancy at birth (years)\": 80.182926829, \"GDP (USD)\": 480951629493.033, \"Population density (people/km2)\": 359.827807133, \"GDP per capita growth (%/yr)\": 1.928756882, \"Income per capita (USD)\": 37246.554273299, \"CO2 emissions (tons per capita)\": 10.171465215, \"cluster_labels_kmeans\": 1}, {\"Country\": \"Ghana\", \"Fertility rate (births/woman)\": 4.273, \"Life expectancy at birth (years)\": 61.03, \"GDP (USD)\": 32174772955.9748, \"Population density (people/km2)\": 108.902254549, \"GDP per capita growth (%/yr)\": 5.24929629, \"Income per capita (USD)\": 979.157375118, \"CO2 emissions (tons per capita)\": 0.401777969, \"cluster_labels_kmeans\": 0}, {\"Country\": \"Eswatini\", \"Fertility rate (births/woman)\": 3.342, \"Life expectancy at birth (years)\": 46.601, \"GDP (USD)\": 4438778553.63533, \"Population density (people/km2)\": 61.909127907, \"GDP per capita growth (%/yr)\": 3.075372474, \"Income per capita (USD)\": 3399.712515451, \"CO2 emissions (tons per capita)\": 0.974572634, \"cluster_labels_kmeans\": 0}, {\"Country\": \"Europe & Central Asia (IDA & IBRD countries)\", \"Fertility rate (births/woman)\": 1.812752357, \"Life expectancy at birth (years)\": 71.311128066, \"GDP (USD)\": 3646890509757.81, \"Population density (people/km2)\": 19.191335972, \"GDP per capita growth (%/yr)\": 4.308691775, \"Income per capita (USD)\": 6640.670545914, \"CO2 emissions (tons per capita)\": 7.594605703, \"cluster_labels_kmeans\": 2}, {\"Country\": \"Colombia\", \"Fertility rate (births/woman)\": 1.992, \"Life expectancy at birth (years)\": 75.424, \"GDP (USD)\": 286103648654.545, \"Population density (people/km2)\": 40.75953132, \"GDP per capita growth (%/yr)\": 3.256962621, \"Income per capita (USD)\": 5024.446508542, \"CO2 emissions (tons per capita)\": 1.684432619, \"cluster_labels_kmeans\": 2}, {\"Country\": \"Sri Lanka\", \"Fertility rate (births/woman)\": 2.248, \"Life expectancy at birth (years)\": 75.439, \"GDP (USD)\": 56725749221.9043, \"Population density (people/km2)\": 323.102168713, \"GDP per capita growth (%/yr)\": 7.279064155, \"Income per capita (USD)\": 2597.124533084, \"CO2 emissions (tons per capita)\": 0.654610165, \"cluster_labels_kmeans\": 2}, {\"Country\": \"Czech Republic\", \"Fertility rate (births/woman)\": 1.51, \"Life expectancy at birth (years)\": 77.424390244, \"GDP (USD)\": 207477857918.919, \"Population density (people/km2)\": 135.608622475, \"GDP per capita growth (%/yr)\": 1.975868191, \"Income per capita (USD)\": 14047.233315592, \"CO2 emissions (tons per capita)\": 10.652578618, \"cluster_labels_kmeans\": 2}, {\"Country\": \"Sierra Leone\", \"Fertility rate (births/woman)\": 5.202, \"Life expectancy at birth (years)\": 49.382, \"GDP (USD)\": 2578026297.15912, \"Population density (people/km2)\": 88.883818232, \"GDP per capita growth (%/yr)\": 3.000008945, \"Income per capita (USD)\": 346.354211824, \"CO2 emissions (tons per capita)\": 0.113171356, \"cluster_labels_kmeans\": 0}, {\"Country\": \"Low income\", \"Fertility rate (births/woman)\": 5.144004818, \"Life expectancy at birth (years)\": 59.962188361, \"GDP (USD)\": 370611560267.823, \"Population density (people/km2)\": 42.284073503, \"GDP per capita growth (%/yr)\": 4.215232188, \"Income per capita (USD)\": 510.535936743, \"CO2 emissions (tons per capita)\": 0.383361369, \"cluster_labels_kmeans\": 0}, {\"Country\": \"World\", \"Fertility rate (births/woman)\": 2.516272585, \"Life expectancy at birth (years)\": 70.556119128, \"GDP (USD)\": 66051218490412.2, \"Population density (people/km2)\": 54.361332559, \"GDP per capita growth (%/yr)\": 3.058178038, \"Income per capita (USD)\": 7804.550419289, \"CO2 emissions (tons per capita)\": 4.83498931, \"cluster_labels_kmeans\": 2}, {\"Country\": \"Albania\", \"Fertility rate (births/woman)\": 1.66, \"Life expectancy at birth (years)\": 76.562, \"GDP (USD)\": 11926962834.9645, \"Population density (people/km2)\": 106.314635036, \"GDP per capita growth (%/yr)\": 4.223036876, \"Income per capita (USD)\": 3530.690656419, \"CO2 emissions (tons per capita)\": 1.578573584, \"cluster_labels_kmeans\": 2}, {\"Country\": \"Spain\", \"Fertility rate (births/woman)\": 1.37, \"Life expectancy at birth (years)\": 81.626829268, \"GDP (USD)\": 1420722034063.0, \"Population density (people/km2)\": 93.151930961, \"GDP per capita growth (%/yr)\": -0.297088607, \"Income per capita (USD)\": 25097.787814302, \"CO2 emissions (tons per capita)\": 5.816416366, \"cluster_labels_kmeans\": 1}, {\"Country\": \"Germany\", \"Fertility rate (births/woman)\": 1.39, \"Life expectancy at birth (years)\": 79.987804878, \"GDP (USD)\": 3396354075663.73, \"Population density (people/km2)\": 234.606908225, \"GDP per capita growth (%/yr)\": 4.338691916, \"Income per capita (USD)\": 35069.509689564, \"CO2 emissions (tons per capita)\": 9.279634012, \"cluster_labels_kmeans\": 1}, {\"Country\": \"Dominican Republic\", \"Fertility rate (births/woman)\": 2.503, \"Life expectancy at birth (years)\": 72.046, \"GDP (USD)\": 53860187452.8829, \"Population density (people/km2)\": 200.685593045, \"GDP per capita growth (%/yr)\": 7.01675047, \"Income per capita (USD)\": 5124.04886063, \"CO2 emissions (tons per capita)\": 2.168401096, \"cluster_labels_kmeans\": 2}, {\"Country\": \"Thailand\", \"Fertility rate (births/woman)\": 1.542, \"Life expectancy at birth (years)\": 74.184, \"GDP (USD)\": 341105009515.333, \"Population density (people/km2)\": 131.525432089, \"GDP per capita growth (%/yr)\": 6.988480708, \"Income per capita (USD)\": 4000.155714871, \"CO2 emissions (tons per capita)\": 4.195642184, \"cluster_labels_kmeans\": 2}, {\"Country\": \"Lesotho\", \"Fertility rate (births/woman)\": 3.302, \"Life expectancy at birth (years)\": 45.1, \"GDP (USD)\": 2394600945.38102, \"Population density (people/km2)\": 65.730599473, \"GDP per capita growth (%/yr)\": 6.138976622, \"Income per capita (USD)\": 1313.28204589, \"CO2 emissions (tons per capita)\": 1.141124815, \"cluster_labels_kmeans\": 0}, {\"Country\": \"Bahamas, The\", \"Fertility rate (births/woman)\": 1.865, \"Life expectancy at birth (years)\": 72.144, \"GDP (USD)\": 10095760000.0, \"Population density (people/km2)\": 35.458741259, \"GDP per capita growth (%/yr)\": 0.011727934, \"Income per capita (USD)\": 25824.377982924, \"CO2 emissions (tons per capita)\": 4.659400691, \"cluster_labels_kmeans\": 1}, {\"Country\": \"Lao PDR\", \"Fertility rate (births/woman)\": 3.143, \"Life expectancy at birth (years)\": 64.306, \"GDP (USD)\": 7127792629.58294, \"Population density (people/km2)\": 27.076104853, \"GDP per capita growth (%/yr)\": 6.7808303, \"Income per capita (USD)\": 780.077838668, \"CO2 emissions (tons per capita)\": 0.262298883, \"cluster_labels_kmeans\": 2}, {\"Country\": \"Mali\", \"Fertility rate (births/woman)\": 6.547, \"Life expectancy at birth (years)\": 55.251, \"GDP (USD)\": 10678749467.4697, \"Population density (people/km2)\": 12.333614437, \"GDP per capita growth (%/yr)\": 2.135870507, \"Income per capita (USD)\": 557.164416064, \"CO2 emissions (tons per capita)\": 0.064083885, \"cluster_labels_kmeans\": 0}, {\"Country\": \"Luxembourg\", \"Fertility rate (births/woman)\": 1.63, \"Life expectancy at birth (years)\": 80.631707317, \"GDP (USD)\": 53212476812.2957, \"Population density (people/km2)\": 208.622633745, \"GDP per capita growth (%/yr)\": 2.96812251, \"Income per capita (USD)\": 63004.255369727, \"CO2 emissions (tons per capita)\": 21.635135802, \"cluster_labels_kmeans\": 1}, {\"Country\": \"South Asia\", \"Fertility rate (births/woman)\": 2.745884201, \"Life expectancy at birth (years)\": 66.848768532, \"GDP (USD)\": 2060818677119.47, \"Population density (people/km2)\": 343.448913047, \"GDP per capita growth (%/yr)\": 6.17982409, \"Income per capita (USD)\": 1108.133171447, \"CO2 emissions (tons per capita)\": 1.201634628, \"cluster_labels_kmeans\": 2}, {\"Country\": \"Guinea-Bissau\", \"Fertility rate (births/woman)\": 5.049, \"Life expectancy at birth (years)\": 54.628, \"GDP (USD)\": 849050127.504407, \"Population density (people/km2)\": 54.146479374, \"GDP per capita growth (%/yr)\": 1.95357842, \"Income per capita (USD)\": 468.563565784, \"CO2 emissions (tons per capita)\": 0.156544829, \"cluster_labels_kmeans\": 0}, {\"Country\": \"Least developed countries: UN classification\", \"Fertility rate (births/woman)\": 4.504538473, \"Life expectancy at birth (years)\": 61.388933701, \"GDP (USD)\": 674399223844.008, \"Population density (people/km2)\": 47.099484438, \"GDP per capita growth (%/yr)\": 3.797871206, \"Income per capita (USD)\": 613.584636632, \"CO2 emissions (tons per capita)\": 0.273284843, \"cluster_labels_kmeans\": 0}, {\"Country\": \"Belize\", \"Fertility rate (births/woman)\": 2.69, \"Life expectancy at birth (years)\": 72.057, \"GDP (USD)\": 1377179137.31754, \"Population density (people/km2)\": 14.136957475, \"GDP per capita growth (%/yr)\": 0.879869659, \"Income per capita (USD)\": 3022.698452012, \"CO2 emissions (tons per capita)\": 1.671656371, \"cluster_labels_kmeans\": 2}, {\"Country\": \"Mauritius\", \"Fertility rate (births/woman)\": 1.57, \"Life expectancy at birth (years)\": 72.967317073, \"GDP (USD)\": 10003670690.3497, \"Population density (people/km2)\": 615.960591133, \"GDP per capita growth (%/yr)\": 4.129198864, \"Income per capita (USD)\": 7072.219453518, \"CO2 emissions (tons per capita)\": 3.132082534, \"cluster_labels_kmeans\": 2}, {\"Country\": \"India\", \"Fertility rate (births/woman)\": 2.581, \"Life expectancy at birth (years)\": 66.693, \"GDP (USD)\": 1675615335600.56, \"Population density (people/km2)\": 415.136997636, \"GDP per capita growth (%/yr)\": 7.042346887, \"Income per capita (USD)\": 1172.804566734, \"CO2 emissions (tons per capita)\": 1.393273291, \"cluster_labels_kmeans\": 2}, {\"Country\": \"East Asia & Pacific (excluding high income)\", \"Fertility rate (births/woman)\": 1.869019897, \"Life expectancy at birth (years)\": 73.066264408, \"GDP (USD)\": 7868985854185.0, \"Population density (people/km2)\": 123.539253936, \"GDP per capita growth (%/yr)\": 8.998397117, \"Income per capita (USD)\": 3079.502961271, \"CO2 emissions (tons per capita)\": 5.106738743, \"cluster_labels_kmeans\": 2}, {\"Country\": \"South Africa\", \"Fertility rate (births/woman)\": 2.598, \"Life expectancy at birth (years)\": 57.669, \"GDP (USD)\": 375349442837.24, \"Population density (people/km2)\": 42.220250765, \"GDP per capita growth (%/yr)\": 1.551072526, \"Income per capita (USD)\": 5883.215156554, \"CO2 emissions (tons per capita)\": 9.25668097, \"cluster_labels_kmeans\": 0}, {\"Country\": \"Solomon Islands\", \"Fertility rate (births/woman)\": 4.403, \"Life expectancy at birth (years)\": 70.674, \"GDP (USD)\": 681151193.502387, \"Population density (people/km2)\": 18.858913898, \"GDP per capita growth (%/yr)\": 4.243334167, \"Income per capita (USD)\": 612.946121172, \"CO2 emissions (tons per capita)\": 0.375132847, \"cluster_labels_kmeans\": 0}, {\"Country\": \"Liberia\", \"Fertility rate (births/woman)\": 4.971, \"Life expectancy at birth (years)\": 59.6, \"GDP (USD)\": 1998000000.0, \"Population density (people/km2)\": 40.400290698, \"GDP per capita growth (%/yr)\": 2.358371759, \"Income per capita (USD)\": 325.945546559, \"CO2 emissions (tons per capita)\": 0.203546527, \"cluster_labels_kmeans\": 0}, {\"Country\": \"Gabon\", \"Fertility rate (births/woman)\": 4.146, \"Life expectancy at birth (years)\": 61.4, \"GDP (USD)\": 14358584300.3006, \"Population density (people/km2)\": 6.303178484, \"GDP per capita growth (%/yr)\": 3.449408748, \"Income per capita (USD)\": 4586.303198377, \"CO2 emissions (tons per capita)\": 2.962247097, \"cluster_labels_kmeans\": 0}, {\"Country\": \"Moldova\", \"Fertility rate (births/woman)\": 1.275, \"Life expectancy at birth (years)\": 69.616, \"GDP (USD)\": 6974960426.21652, \"Population density (people/km2)\": 124.16931014, \"GDP per capita growth (%/yr)\": 7.20700853, \"Income per capita (USD)\": 1636.329579692, \"CO2 emissions (tons per capita)\": 1.384630177, \"cluster_labels_kmeans\": 2}, {\"Country\": \"Nigeria\", \"Fertility rate (births/woman)\": 5.839, \"Life expectancy at birth (years)\": 50.896, \"GDP (USD)\": 363359886203.409, \"Population density (people/km2)\": 174.032079449, \"GDP per capita growth (%/yr)\": 5.158545242, \"Income per capita (USD)\": 1823.661325371, \"CO2 emissions (tons per capita)\": 0.577384688, \"cluster_labels_kmeans\": 0}, {\"Country\": \"Panama\", \"Fertility rate (births/woman)\": 2.622, \"Life expectancy at birth (years)\": 76.792, \"GDP (USD)\": 29440300000.0, \"Population density (people/km2)\": 49.000363196, \"GDP per capita growth (%/yr)\": 3.983842194, \"Income per capita (USD)\": 6920.055447688, \"CO2 emissions (tons per capita)\": 2.515679497, \"cluster_labels_kmeans\": 2}, {\"Country\": \"Upper middle income\", \"Fertility rate (births/woman)\": 1.849852268, \"Life expectancy at birth (years)\": 73.514570236, \"GDP (USD)\": 15857384500633.1, \"Population density (people/km2)\": 42.78453182, \"GDP per capita growth (%/yr)\": 6.739165361, \"Income per capita (USD)\": 5016.934903525, \"CO2 emissions (tons per capita)\": 5.927261545, \"cluster_labels_kmeans\": 2}, {\"Country\": \"Middle East & North Africa (excluding high income)\", \"Fertility rate (births/woman)\": 2.918526888, \"Life expectancy at birth (years)\": 72.014700877, \"GDP (USD)\": 1383884078442.77, \"Population density (people/km2)\": 38.51024663, \"GDP per capita growth (%/yr)\": 3.407777389, \"Income per capita (USD)\": 3365.312581162, \"CO2 emissions (tons per capita)\": 3.850970223, \"cluster_labels_kmeans\": 2}, {\"Country\": \"China\", \"Fertility rate (births/woman)\": 1.627, \"Life expectancy at birth (years)\": 74.409, \"GDP (USD)\": 6087164527421.24, \"Population density (people/km2)\": 142.487739611, \"GDP per capita growth (%/yr)\": 10.103100723, \"Income per capita (USD)\": 3459.181815205, \"CO2 emissions (tons per capita)\": 6.560520007, \"cluster_labels_kmeans\": 2}, {\"Country\": \"Netherlands\", \"Fertility rate (births/woman)\": 1.79, \"Life expectancy at birth (years)\": 80.702439024, \"GDP (USD)\": 846554894931.084, \"Population density (people/km2)\": 492.599881411, \"GDP per capita growth (%/yr)\": 0.82425996, \"Income per capita (USD)\": 41980.65207404, \"CO2 emissions (tons per capita)\": 11.017070856, \"cluster_labels_kmeans\": 1}, {\"Country\": \"Brunei Darussalam\", \"Fertility rate (births/woman)\": 1.937, \"Life expectancy at birth (years)\": 74.74, \"GDP (USD)\": 13707370737.0737, \"Population density (people/km2)\": 73.74686907, \"GDP per capita growth (%/yr)\": 1.347649387, \"Income per capita (USD)\": 25507.665003402, \"CO2 emissions (tons per capita)\": 21.106814428, \"cluster_labels_kmeans\": 1}, {\"Country\": \"Ecuador\", \"Fertility rate (births/woman)\": 2.615, \"Life expectancy at birth (years)\": 75.089, \"GDP (USD)\": 69555367000.0, \"Population density (people/km2)\": 60.440960702, \"GDP per capita growth (%/yr)\": 1.892927572, \"Income per capita (USD)\": 3667.011472202, \"CO2 emissions (tons per capita)\": 2.428931904, \"cluster_labels_kmeans\": 2}, {\"Country\": \"Indonesia\", \"Fertility rate (births/woman)\": 2.483, \"Life expectancy at birth (years)\": 69.205, \"GDP (USD)\": 755094160363.071, \"Population density (people/km2)\": 133.494270163, \"GDP per capita growth (%/yr)\": 4.812281788, \"Income per capita (USD)\": 2325.629810741, \"CO2 emissions (tons per capita)\": 1.772951392, \"cluster_labels_kmeans\": 2}, {\"Country\": \"Romania\", \"Fertility rate (births/woman)\": 1.59, \"Life expectancy at birth (years)\": 73.458536585, \"GDP (USD)\": 166225180150.414, \"Population density (people/km2)\": 88.010741143, \"GDP per capita growth (%/yr)\": -3.328750364, \"Income per capita (USD)\": 6554.84463026, \"CO2 emissions (tons per capita)\": 3.922213561, \"cluster_labels_kmeans\": 2}, {\"Country\": \"Late-demographic dividend\", \"Fertility rate (births/woman)\": 1.707191197, \"Life expectancy at birth (years)\": 73.980856097, \"GDP (USD)\": 13505549757437.0, \"Population density (people/km2)\": 49.003287868, \"GDP per capita growth (%/yr)\": 6.983528568, \"Income per capita (USD)\": 4827.073258117, \"CO2 emissions (tons per capita)\": 6.080234398, \"cluster_labels_kmeans\": 2}, {\"Country\": \"Timor-Leste\", \"Fertility rate (births/woman)\": 4.805, \"Life expectancy at birth (years)\": 67.186, \"GDP (USD)\": 3998961300.0, \"Population density (people/km2)\": 73.538870208, \"GDP per capita growth (%/yr)\": -2.911434387, \"Income per capita (USD)\": 1253.884503255, \"CO2 emissions (tons per capita)\": 0.214616428, \"cluster_labels_kmeans\": 0}, {\"Country\": \"North Macedonia\", \"Fertility rate (births/woman)\": 1.468, \"Life expectancy at birth (years)\": 74.662, \"GDP (USD)\": 9407168702.4313, \"Population density (people/km2)\": 82.107097542, \"GDP per capita growth (%/yr)\": 3.273797407, \"Income per capita (USD)\": 3458.033256167, \"CO2 emissions (tons per capita)\": 4.154446162, \"cluster_labels_kmeans\": 2}, {\"Country\": \"Bosnia and Herzegovina\", \"Fertility rate (births/woman)\": 1.315, \"Life expectancy at birth (years)\": 76.031, \"GDP (USD)\": 17176781336.7644, \"Population density (people/km2)\": 72.3725, \"GDP per capita growth (%/yr)\": 1.595746394, \"Income per capita (USD)\": 4124.585691572, \"CO2 emissions (tons per capita)\": 5.741760834, \"cluster_labels_kmeans\": 2}, {\"Country\": \"Denmark\", \"Fertility rate (births/woman)\": 1.87, \"Life expectancy at birth (years)\": 79.1, \"GDP (USD)\": 321995279401.502, \"Population density (people/km2)\": 130.749069055, \"GDP per capita growth (%/yr)\": 1.419486593, \"Income per capita (USD)\": 47972.223467185, \"CO2 emissions (tons per capita)\": 8.40721667, \"cluster_labels_kmeans\": 1}, {\"Country\": \"Iraq\", \"Fertility rate (births/woman)\": 4.343, \"Life expectancy at birth (years)\": 68.567, \"GDP (USD)\": 138516722649.573, \"Population density (people/km2)\": 68.479406889, \"GDP per capita growth (%/yr)\": 3.652116069, \"Income per capita (USD)\": 3721.645311264, \"CO2 emissions (tons per capita)\": 3.772295829, \"cluster_labels_kmeans\": 0}, {\"Country\": \"Sao Tome and Principe\", \"Fertility rate (births/woman)\": 4.727, \"Life expectancy at birth (years)\": 67.43, \"GDP (USD)\": 197454052.146072, \"Population density (people/km2)\": 187.886458333, \"GDP per capita growth (%/yr)\": 4.013627968, \"Income per capita (USD)\": 855.83507575, \"CO2 emissions (tons per capita)\": 0.548918618, \"cluster_labels_kmeans\": 0}, {\"Country\": \"Central African Republic\", \"Fertility rate (births/woman)\": 5.215, \"Life expectancy at birth (years)\": 47.312, \"GDP (USD)\": 2140503193.16261, \"Population density (people/km2)\": 7.04158721, \"GDP per capita growth (%/yr)\": 3.458686168, \"Income per capita (USD)\": 411.633361062, \"CO2 emissions (tons per capita)\": 0.060186452, \"cluster_labels_kmeans\": 0}, {\"Country\": \"Ireland\", \"Fertility rate (births/woman)\": 2.05, \"Life expectancy at birth (years)\": 80.743902439, \"GDP (USD)\": 222148757313.006, \"Population density (people/km2)\": 66.19473073, \"GDP per capita growth (%/yr)\": 1.256741686, \"Income per capita (USD)\": 33811.358785593, \"CO2 emissions (tons per capita)\": 8.783613934, \"cluster_labels_kmeans\": 1}, {\"Country\": \"Jordan\", \"Fertility rate (births/woman)\": 3.631, \"Life expectancy at birth (years)\": 73.428, \"GDP (USD)\": 26795901408.4507, \"Population density (people/km2)\": 81.792509574, \"GDP per capita growth (%/yr)\": -2.877471445, \"Income per capita (USD)\": 3288.661377871, \"CO2 emissions (tons per capita)\": 2.916818597, \"cluster_labels_kmeans\": 2}, {\"Country\": \"Latvia\", \"Fertility rate (births/woman)\": 1.36, \"Life expectancy at birth (years)\": 73.482926829, \"GDP (USD)\": 23796118300.8371, \"Population density (people/km2)\": 33.701076478, \"GDP per capita growth (%/yr)\": -2.46440753, \"Income per capita (USD)\": 8601.764483416, \"CO2 emissions (tons per capita)\": 3.849593455, \"cluster_labels_kmeans\": 2}, {\"Country\": \"Argentina\", \"Fertility rate (births/woman)\": 2.346, \"Life expectancy at birth (years)\": 75.278, \"GDP (USD)\": 423627422092.49, \"Population density (people/km2)\": 14.904301547, \"GDP per capita growth (%/yr)\": 9.300128322, \"Income per capita (USD)\": 8810.359212546, \"CO2 emissions (tons per capita)\": 4.607163748, \"cluster_labels_kmeans\": 2}, {\"Country\": \"Benin\", \"Fertility rate (births/woman)\": 5.362, \"Life expectancy at birth (years)\": 59.318, \"GDP (USD)\": 6977040762.19148, \"Population density (people/km2)\": 81.582644555, \"GDP per capita growth (%/yr)\": -0.715273205, \"Income per capita (USD)\": 637.332425991, \"CO2 emissions (tons per capita)\": 0.553283259, \"cluster_labels_kmeans\": 0}, {\"Country\": \"Togo\", \"Fertility rate (births/woman)\": 4.868, \"Life expectancy at birth (years)\": 57.468, \"GDP (USD)\": 3426022205.75557, \"Population density (people/km2)\": 118.067273396, \"GDP per capita growth (%/yr)\": 3.276567178, \"Income per capita (USD)\": 433.685841287, \"CO2 emissions (tons per capita)\": 0.411144811, \"cluster_labels_kmeans\": 0}, {\"Country\": \"Rwanda\", \"Fertility rate (births/woman)\": 4.52, \"Life expectancy at birth (years)\": 63.433, \"GDP (USD)\": 5849863212.53084, \"Population density (people/km2)\": 406.945196595, \"GDP per capita growth (%/yr)\": 4.591582117, \"Income per capita (USD)\": 467.43742996, \"CO2 emissions (tons per capita)\": 0.058807364, \"cluster_labels_kmeans\": 0}, {\"Country\": \"Jamaica\", \"Fertility rate (births/woman)\": 2.173, \"Life expectancy at birth (years)\": 74.038, \"GDP (USD)\": 13220556882.7046, \"Population density (people/km2)\": 259.506925208, \"GDP per capita growth (%/yr)\": -1.978737585, \"Income per capita (USD)\": 4134.572385241, \"CO2 emissions (tons per capita)\": 2.596489543, \"cluster_labels_kmeans\": 2}, {\"Country\": \"Europe & Central Asia\", \"Fertility rate (births/woman)\": 1.728136102, \"Life expectancy at birth (years)\": 75.935697409, \"GDP (USD)\": 20960563123621.7, \"Population density (people/km2)\": 32.380142133, \"GDP per capita growth (%/yr)\": 2.230017626, \"Income per capita (USD)\": 19487.702315008, \"CO2 emissions (tons per capita)\": 7.544021154, \"cluster_labels_kmeans\": 2}, {\"Country\": \"Comoros\", \"Fertility rate (births/woman)\": 4.754, \"Life expectancy at birth (years)\": 61.862, \"GDP (USD)\": 907093130.313521, \"Population density (people/km2)\": 370.602889511, \"GDP per capita growth (%/yr)\": 1.325682766, \"Income per capita (USD)\": 1172.448109281, \"CO2 emissions (tons per capita)\": 0.233942107, \"cluster_labels_kmeans\": 0}, {\"Country\": \"Post-demographic dividend\", \"Fertility rate (births/woman)\": 1.661633609, \"Life expectancy at birth (years)\": 79.686083161, \"GDP (USD)\": 42472161836265.0, \"Population density (people/km2)\": 34.156052414, \"GDP per capita growth (%/yr)\": 2.35115361, \"Income per capita (USD)\": 32726.330911933, \"CO2 emissions (tons per capita)\": 11.090900366, \"cluster_labels_kmeans\": 1}, {\"Country\": \"Switzerland\", \"Fertility rate (births/woman)\": 1.52, \"Life expectancy at birth (years)\": 82.246341463, \"GDP (USD)\": 583783396408.582, \"Population density (people/km2)\": 198.018747004, \"GDP per capita growth (%/yr)\": 1.935532047, \"Income per capita (USD)\": 63531.518297709, \"CO2 emissions (tons per capita)\": 4.983428945, \"cluster_labels_kmeans\": 1}, {\"Country\": \"Latin America & Caribbean\", \"Fertility rate (births/woman)\": 2.186402248, \"Life expectancy at birth (years)\": 74.095607197, \"GDP (USD)\": 5347667372985.87, \"Population density (people/km2)\": 29.453629592, \"GDP per capita growth (%/yr)\": 4.666013474, \"Income per capita (USD)\": 7419.152731989, \"CO2 emissions (tons per capita)\": 2.935527182, \"cluster_labels_kmeans\": 2}, {\"Country\": \"Malaysia\", \"Fertility rate (births/woman)\": 2.149, \"Life expectancy at birth (years)\": 74.493, \"GDP (USD)\": 255016609232.871, \"Population density (people/km2)\": 85.856140618, \"GDP per capita growth (%/yr)\": 5.62353738, \"Income per capita (USD)\": 6804.800261219, \"CO2 emissions (tons per capita)\": 7.745175905, \"cluster_labels_kmeans\": 2}, {\"Country\": \"IDA total\", \"Fertility rate (births/woman)\": 4.430857794, \"Life expectancy at birth (years)\": 61.041702554, \"GDP (USD)\": 1474689986027.72, \"Population density (people/km2)\": 57.240498061, \"GDP per capita growth (%/yr)\": 3.807596218, \"Income per capita (USD)\": 895.54618647, \"CO2 emissions (tons per capita)\": 0.525259208, \"cluster_labels_kmeans\": 0}, {\"Country\": \"Libya\", \"Fertility rate (births/woman)\": 2.478, \"Life expectancy at birth (years)\": 72.044, \"GDP (USD)\": 74773444900.5368, \"Population density (people/km2)\": 3.522320038, \"GDP per capita growth (%/yr)\": 3.942229663, \"Income per capita (USD)\": 8716.151931625, \"CO2 emissions (tons per capita)\": 9.997526326, \"cluster_labels_kmeans\": 2}, {\"Country\": \"Congo, Rep.\", \"Fertility rate (births/woman)\": 4.765, \"Life expectancy at birth (years)\": 60.093, \"GDP (USD)\": 12007880438.6232, \"Population density (people/km2)\": 12.514585652, \"GDP per capita growth (%/yr)\": 5.485794479, \"Income per capita (USD)\": 492.151010742, \"CO2 emissions (tons per capita)\": 0.463337538, \"cluster_labels_kmeans\": 0}, {\"Country\": \"Bhutan\", \"Fertility rate (births/woman)\": 2.301, \"Life expectancy at birth (years)\": 68.384, \"GDP (USD)\": 1585472534.10547, \"Population density (people/km2)\": 17.984180517, \"GDP per capita growth (%/yr)\": 10.560578615, \"Income per capita (USD)\": 1930.880875321, \"CO2 emissions (tons per capita)\": 0.711464428, \"cluster_labels_kmeans\": 2}, {\"Country\": \"Austria\", \"Fertility rate (births/woman)\": 1.44, \"Life expectancy at birth (years)\": 80.580487805, \"GDP (USD)\": 391892746544.69, \"Population density (people/km2)\": 101.287430159, \"GDP per capita growth (%/yr)\": 1.592577128, \"Income per capita (USD)\": 38977.207127378, \"CO2 emissions (tons per capita)\": 8.071131802, \"cluster_labels_kmeans\": 1}, {\"Country\": \"Tajikistan\", \"Fertility rate (births/woman)\": 3.599, \"Life expectancy at birth (years)\": 68.736, \"GDP (USD)\": 5642178579.58438, \"Population density (people/km2)\": 53.782466419, \"GDP per capita growth (%/yr)\": 4.219136546, \"Income per capita (USD)\": 780.075338087, \"CO2 emissions (tons per capita)\": 0.338084867, \"cluster_labels_kmeans\": 2}, {\"Country\": \"Sub-Saharan Africa (IDA & IBRD countries)\", \"Fertility rate (births/woman)\": 5.257987773, \"Life expectancy at birth (years)\": 56.725470043, \"GDP (USD)\": 1371497000323.48, \"Population density (people/km2)\": 40.910506263, \"GDP per capita growth (%/yr)\": 2.742121986, \"Income per capita (USD)\": 1184.741866978, \"CO2 emissions (tons per capita)\": 0.859137333, \"cluster_labels_kmeans\": 0}, {\"Country\": \"Slovenia\", \"Fertility rate (births/woman)\": 1.57, \"Life expectancy at birth (years)\": 79.42195122, \"GDP (USD)\": 48161250935.0166, \"Population density (people/km2)\": 101.685826854, \"GDP per capita growth (%/yr)\": 0.902771384, \"Income per capita (USD)\": 18452.07313878, \"CO2 emissions (tons per capita)\": 7.485854369, \"cluster_labels_kmeans\": 1}, {\"Country\": \"Kenya\", \"Fertility rate (births/woman)\": 4.369, \"Life expectancy at birth (years)\": 60.959, \"GDP (USD)\": 40000088346.8041, \"Population density (people/km2)\": 73.849450047, \"GDP per capita growth (%/yr)\": 5.494076785, \"Income per capita (USD)\": 798.05525134, \"CO2 emissions (tons per capita)\": 0.28965606, \"cluster_labels_kmeans\": 0}, {\"Country\": \"Fiji\", \"Fertility rate (births/woman)\": 2.752, \"Life expectancy at birth (years)\": 66.655, \"GDP (USD)\": 3140508835.9485, \"Population density (people/km2)\": 47.061740558, \"GDP per capita growth (%/yr)\": 2.214559014, \"Income per capita (USD)\": 3221.781437262, \"CO2 emissions (tons per capita)\": 1.420197065, \"cluster_labels_kmeans\": 2}, {\"Country\": \"Belarus\", \"Fertility rate (births/woman)\": 1.494, \"Life expectancy at birth (years)\": 70.404878049, \"GDP (USD)\": 58665088956.0255, \"Population density (people/km2)\": 46.774682109, \"GDP per capita growth (%/yr)\": 7.982069183, \"Income per capita (USD)\": 5505.328487194, \"CO2 emissions (tons per capita)\": 6.64269666, \"cluster_labels_kmeans\": 2}, {\"Country\": \"United Kingdom\", \"Fertility rate (births/woman)\": 1.92, \"Life expectancy at birth (years)\": 80.402439024, \"GDP (USD)\": 2475244321361.11, \"Population density (people/km2)\": 259.440189311, \"GDP per capita growth (%/yr)\": 1.153474893, \"Income per capita (USD)\": 33896.39242669, \"CO2 emissions (tons per capita)\": 7.857836486, \"cluster_labels_kmeans\": 1}, {\"Country\": \"Vanuatu\", \"Fertility rate (births/woman)\": 4.1, \"Life expectancy at birth (years)\": 69.123, \"GDP (USD)\": 700804286.224354, \"Population density (people/km2)\": 19.377440525, \"GDP per capita growth (%/yr)\": -0.9369117, \"Income per capita (USD)\": 2547.979662614, \"CO2 emissions (tons per capita)\": 0.512300443, \"cluster_labels_kmeans\": 2}, {\"Country\": \"Israel\", \"Fertility rate (births/woman)\": 3.03, \"Life expectancy at birth (years)\": 81.602439024, \"GDP (USD)\": 233995676194.679, \"Population density (people/km2)\": 352.292051756, \"GDP per capita growth (%/yr)\": 3.689579221, \"Income per capita (USD)\": 25867.47269934, \"CO2 emissions (tons per capita)\": 9.035223254, \"cluster_labels_kmeans\": 1}, {\"Country\": \"Serbia\", \"Fertility rate (births/woman)\": 1.4, \"Life expectancy at birth (years)\": 74.336585366, \"GDP (USD)\": 41819468691.8251, \"Population density (people/km2)\": 83.368808598, \"GDP per capita growth (%/yr)\": 1.136803125, \"Income per capita (USD)\": 4408.770165618, \"CO2 emissions (tons per capita)\": 6.302577983, \"cluster_labels_kmeans\": 2}, {\"Country\": \"Pre-demographic dividend\", \"Fertility rate (births/woman)\": 5.590877951, \"Life expectancy at birth (years)\": 56.593456212, \"GDP (USD)\": 1016425763633.33, \"Population density (people/km2)\": 41.141021012, \"GDP per capita growth (%/yr)\": 3.304658941, \"Income per capita (USD)\": 1022.172989382, \"CO2 emissions (tons per capita)\": 0.47125054, \"cluster_labels_kmeans\": 0}, {\"Country\": \"Algeria\", \"Fertility rate (births/woman)\": 2.86, \"Life expectancy at birth (years)\": 74.938, \"GDP (USD)\": 161205065469.309, \"Population density (people/km2)\": 15.105534189, \"GDP per capita growth (%/yr)\": 1.746776463, \"Income per capita (USD)\": 3407.25117063, \"CO2 emissions (tons per capita)\": 3.312560602, \"cluster_labels_kmeans\": 2}, {\"Country\": \"Burkina Faso\", \"Fertility rate (births/woman)\": 5.867, \"Life expectancy at birth (years)\": 57.096, \"GDP (USD)\": 8979966766.07232, \"Population density (people/km2)\": 57.036611842, \"GDP per capita growth (%/yr)\": 2.239434997, \"Income per capita (USD)\": 454.632897125, \"CO2 emissions (tons per capita)\": 0.125717252, \"cluster_labels_kmeans\": 0}, {\"Country\": \"Tunisia\", \"Fertility rate (births/woman)\": 2.14, \"Life expectancy at birth (years)\": 75.041, \"GDP (USD)\": 44050929160.2627, \"Population density (people/km2)\": 68.455484037, \"GDP per capita growth (%/yr)\": 2.444381369, \"Income per capita (USD)\": 3150.68416126, \"CO2 emissions (tons per capita)\": 2.600803611, \"cluster_labels_kmeans\": 2}, {\"Country\": \"Seychelles\", \"Fertility rate (births/woman)\": 2.17, \"Life expectancy at birth (years)\": 73.197560976, \"GDP (USD)\": 969936525.298729, \"Population density (people/km2)\": 195.152173913, \"GDP per capita growth (%/yr)\": 3.037276524, \"Income per capita (USD)\": 9148.702691287, \"CO2 emissions (tons per capita)\": 4.942709146, \"cluster_labels_kmeans\": 2}, {\"Country\": \"Equatorial Guinea\", \"Fertility rate (births/woman)\": 5.209, \"Life expectancy at birth (years)\": 55.622, \"GDP (USD)\": 16298542027.9965, \"Population density (people/km2)\": 33.641319073, \"GDP per capita growth (%/yr)\": -12.981689032, \"Income per capita (USD)\": 2673.79031452, \"CO2 emissions (tons per capita)\": 4.958561484, \"cluster_labels_kmeans\": 0}, {\"Country\": \"Lebanon\", \"Fertility rate (births/woman)\": 1.966, \"Life expectancy at birth (years)\": 78.36, \"GDP (USD)\": 38419626533.9967, \"Population density (people/km2)\": 484.170185728, \"GDP per capita growth (%/yr)\": 4.98277532, \"Income per capita (USD)\": 6439.665357545, \"CO2 emissions (tons per capita)\": 4.047494872, \"cluster_labels_kmeans\": 2}, {\"Country\": \"OECD members\", \"Fertility rate (births/woman)\": 1.787003795, \"Life expectancy at birth (years)\": 79.285881167, \"GDP (USD)\": 44705617597884.4, \"Population density (people/km2)\": 36.041450266, \"GDP per capita growth (%/yr)\": 2.260414444, \"Income per capita (USD)\": 29735.501747779, \"CO2 emissions (tons per capita)\": 10.183856089, \"cluster_labels_kmeans\": 1}, {\"Country\": \"New Zealand\", \"Fertility rate (births/woman)\": 2.17, \"Life expectancy at birth (years)\": 80.702439024, \"GDP (USD)\": 146583831538.331, \"Population density (people/km2)\": 16.523109643, \"GDP per capita growth (%/yr)\": 0.416658972, \"Income per capita (USD)\": 26603.756895563, \"CO2 emissions (tons per capita)\": 7.305005861, \"cluster_labels_kmeans\": 1}, {\"Country\": \"Suriname\", \"Fertility rate (births/woman)\": 2.61, \"Life expectancy at birth (years)\": 70.465, \"GDP (USD)\": 4368398047.64333, \"Population density (people/km2)\": 3.391865385, \"GDP per capita growth (%/yr)\": 3.972304211, \"Income per capita (USD)\": 5592.949122797, \"CO2 emissions (tons per capita)\": 4.539301232, \"cluster_labels_kmeans\": 2}, {\"Country\": \"Venezuela, RB\", \"Fertility rate (births/woman)\": 2.471, \"Life expectancy at birth (years)\": 73.134, \"GDP (USD)\": 393192354510.653, \"Population density (people/km2)\": 32.243002097, \"GDP per capita growth (%/yr)\": -2.90526003, \"Income per capita (USD)\": 12662.486015494, \"CO2 emissions (tons per capita)\": 6.648063252, \"cluster_labels_kmeans\": 2}, {\"Country\": \"Chile\", \"Fertility rate (births/woman)\": 1.884, \"Life expectancy at birth (years)\": 78.779, \"GDP (USD)\": 218537551220.071, \"Population density (people/km2)\": 22.947950166, \"GDP per capita growth (%/yr)\": 4.750223814, \"Income per capita (USD)\": 9146.420112834, \"CO2 emissions (tons per capita)\": 4.234476106, \"cluster_labels_kmeans\": 2}, {\"Country\": \"Haiti\", \"Fertility rate (births/woman)\": 3.427, \"Life expectancy at birth (years)\": 60.511, \"GDP (USD)\": 6622541528.56888, \"Population density (people/km2)\": 361.005878084, \"GDP per capita growth (%/yr)\": -4.595384917, \"Income per capita (USD)\": 628.631206304, \"CO2 emissions (tons per capita)\": 0.21376934, \"cluster_labels_kmeans\": 0}, {\"Country\": \"Guatemala\", \"Fertility rate (births/woman)\": 3.375, \"Life expectancy at birth (years)\": 71.481, \"GDP (USD)\": 41338008612.7727, \"Population density (people/km2)\": 136.528714072, \"GDP per capita growth (%/yr)\": 0.660606009, \"Income per capita (USD)\": 2371.279228921, \"CO2 emissions (tons per capita)\": 0.797292859, \"cluster_labels_kmeans\": 2}, {\"Country\": \"Sweden\", \"Fertility rate (births/woman)\": 1.98, \"Life expectancy at birth (years)\": 81.451219512, \"GDP (USD)\": 495328620126.028, \"Population density (people/km2)\": 22.854525515, \"GDP per capita growth (%/yr)\": 5.287589763, \"Income per capita (USD)\": 44707.624712413, \"CO2 emissions (tons per capita)\": 5.547348052, \"cluster_labels_kmeans\": 1}, {\"Country\": \"Mongolia\", \"Fertility rate (births/woman)\": 2.637, \"Life expectancy at birth (years)\": 67.38, \"GDP (USD)\": 7189481824.07288, \"Population density (people/km2)\": 1.750750534, \"GDP per capita growth (%/yr)\": 4.562359683, \"Income per capita (USD)\": 1822.24469162, \"CO2 emissions (tons per capita)\": 5.081415981, \"cluster_labels_kmeans\": 2}, {\"Country\": \"Tonga\", \"Fertility rate (births/woman)\": 3.913, \"Life expectancy at birth (years)\": 70.059, \"GDP (USD)\": 369485198.817979, \"Population density (people/km2)\": 144.425, \"GDP per capita growth (%/yr)\": 3.490026967, \"Income per capita (USD)\": 3346.562594139, \"CO2 emissions (tons per capita)\": 1.1284596, \"cluster_labels_kmeans\": 2}, {\"Country\": \"Egypt, Arab Rep.\", \"Fertility rate (births/woman)\": 3.233, \"Life expectancy at birth (years)\": 70.349, \"GDP (USD)\": 218888324504.753, \"Population density (people/km2)\": 83.139519815, \"GDP per capita growth (%/yr)\": 3.080864616, \"Income per capita (USD)\": 2258.173653432, \"CO2 emissions (tons per capita)\": 2.449400701, \"cluster_labels_kmeans\": 2}, {\"Country\": \"Poland\", \"Fertility rate (births/woman)\": 1.41, \"Life expectancy at birth (years)\": 76.246341463, \"GDP (USD)\": 479321460551.189, \"Population density (people/km2)\": 124.209200731, \"GDP per capita growth (%/yr)\": 3.903262076, \"Income per capita (USD)\": 10719.981164453, \"CO2 emissions (tons per capita)\": 8.313376825, \"cluster_labels_kmeans\": 2}, {\"Country\": \"Low & middle income\", \"Fertility rate (births/woman)\": 2.663668497, \"Life expectancy at birth (years)\": 68.697247531, \"GDP (USD)\": 20698320383429.7, \"Population density (people/km2)\": 62.519794334, \"GDP per capita growth (%/yr)\": 5.969211693, \"Income per capita (USD)\": 2871.130420777, \"CO2 emissions (tons per capita)\": 3.229394471, \"cluster_labels_kmeans\": 2}, {\"Country\": \"Norway\", \"Fertility rate (births/woman)\": 1.95, \"Life expectancy at birth (years)\": 80.997560976, \"GDP (USD)\": 428757038466.841, \"Population density (people/km2)\": 13.386262907, \"GDP per capita growth (%/yr)\": -0.54479433, \"Income per capita (USD)\": 68568.628142844, \"CO2 emissions (tons per capita)\": 12.2934545, \"cluster_labels_kmeans\": 1}, {\"Country\": \"Japan\", \"Fertility rate (births/woman)\": 1.39, \"Life expectancy at birth (years)\": 82.842682927, \"GDP (USD)\": 5700098114744.41, \"Population density (people/km2)\": 351.309834042, \"GDP per capita growth (%/yr)\": 4.173027538, \"Income per capita (USD)\": 35086.78230119, \"CO2 emissions (tons per capita)\": 9.148316038, \"cluster_labels_kmeans\": 1}, {\"Country\": \"European Union\", \"Fertility rate (births/woman)\": 1.611910771, \"Life expectancy at birth (years)\": 79.725637304, \"GDP (USD)\": 17015366700189.5, \"Population density (people/km2)\": 118.910620987, \"GDP per capita growth (%/yr)\": 1.944311354, \"Income per capita (USD)\": 28068.76932753, \"CO2 emissions (tons per capita)\": 7.356304882, \"cluster_labels_kmeans\": 1}, {\"Country\": \"Oman\", \"Fertility rate (births/woman)\": 2.873, \"Life expectancy at birth (years)\": 75.682, \"GDP (USD)\": 58642392717.8153, \"Population density (people/km2)\": 9.826927302, \"GDP per capita growth (%/yr)\": -0.889566128, \"Income per capita (USD)\": 10546.36653708, \"CO2 emissions (tons per capita)\": 15.590664469, \"cluster_labels_kmeans\": 2}, {\"Country\": \"Italy\", \"Fertility rate (births/woman)\": 1.46, \"Life expectancy at birth (years)\": 82.036585366, \"GDP (USD)\": 2134017843247.16, \"Population density (people/km2)\": 201.527901679, \"GDP per capita growth (%/yr)\": 1.400915343, \"Income per capita (USD)\": 29459.533295623, \"CO2 emissions (tons per capita)\": 6.83837457, \"cluster_labels_kmeans\": 1}, {\"Country\": \"Costa Rica\", \"Fertility rate (births/woman)\": 1.885, \"Life expectancy at birth (years)\": 78.769, \"GDP (USD)\": 37268614024.3178, \"Population density (people/km2)\": 89.647042695, \"GDP per capita growth (%/yr)\": 3.653246237, \"Income per capita (USD)\": 7299.732559064, \"CO2 emissions (tons per capita)\": 1.653498575, \"cluster_labels_kmeans\": 2}, {\"Country\": \"United Arab Emirates\", \"Fertility rate (births/woman)\": 1.819, \"Life expectancy at birth (years)\": 76.332, \"GDP (USD)\": 289787338325.391, \"Population density (people/km2)\": 120.388453957, \"GDP per capita growth (%/yr)\": -5.914810324, \"Income per capita (USD)\": 30537.816942303, \"CO2 emissions (tons per capita)\": 18.808519731, \"cluster_labels_kmeans\": 1}, {\"Country\": \"South Asia (IDA & IBRD)\", \"Fertility rate (births/woman)\": 2.745884201, \"Life expectancy at birth (years)\": 66.848768532, \"GDP (USD)\": 2060818677119.47, \"Population density (people/km2)\": 343.448913047, \"GDP per capita growth (%/yr)\": 6.17982409, \"Income per capita (USD)\": 1108.133171447, \"CO2 emissions (tons per capita)\": 1.201634628, \"cluster_labels_kmeans\": 2}, {\"Country\": \"Samoa\", \"Fertility rate (births/woman)\": 4.338, \"Life expectancy at birth (years)\": 71.663, \"GDP (USD)\": 663161528.405016, \"Population density (people/km2)\": 65.706360424, \"GDP per capita growth (%/yr)\": -0.273560947, \"Income per capita (USD)\": 2931.103712721, \"CO2 emissions (tons per capita)\": 1.00574351, \"cluster_labels_kmeans\": 2}, {\"Country\": \"Afghanistan\", \"Fertility rate (births/woman)\": 5.977, \"Life expectancy at birth (years)\": 61.028, \"GDP (USD)\": 15856574731.4411, \"Population density (people/km2)\": 44.704082039, \"GDP per capita growth (%/yr)\": 11.264133238, \"Income per capita (USD)\": 477.307009334, \"CO2 emissions (tons per capita)\": 0.28998763, \"cluster_labels_kmeans\": 0}, {\"Country\": \"Azerbaijan\", \"Fertility rate (births/woman)\": 1.92, \"Life expectancy at birth (years)\": 70.938, \"GDP (USD)\": 52902703376.1056, \"Population density (people/km2)\": 109.54234935, \"GDP per capita growth (%/yr)\": 3.549455657, \"Income per capita (USD)\": 3868.828519903, \"CO2 emissions (tons per capita)\": 3.388225879, \"cluster_labels_kmeans\": 2}, {\"Country\": \"Lower middle income\", \"Fertility rate (births/woman)\": 2.987874564, \"Life expectancy at birth (years)\": 66.094633674, \"GDP (USD)\": 4469300518565.36, \"Population density (people/km2)\": 133.474836932, \"GDP per capita growth (%/yr)\": 5.177544211, \"Income per capita (USD)\": 1383.736955144, \"CO2 emissions (tons per capita)\": 1.331072622, \"cluster_labels_kmeans\": 2}, {\"Country\": \"IDA & IBRD total\", \"Fertility rate (births/woman)\": 2.6562999, \"Life expectancy at birth (years)\": 68.767905631, \"GDP (USD)\": 21461912449022.6, \"Population density (people/km2)\": 62.06753731, \"GDP per capita growth (%/yr)\": 5.857721906, \"Income per capita (USD)\": 2963.439345142, \"CO2 emissions (tons per capita)\": 3.276810871, \"cluster_labels_kmeans\": 2}, {\"Country\": \"Malawi\", \"Fertility rate (births/woman)\": 5.332, \"Life expectancy at birth (years)\": 55.564, \"GDP (USD)\": 6959655570.89098, \"Population density (people/km2)\": 154.217352567, \"GDP per capita growth (%/yr)\": 3.849632629, \"Income per capita (USD)\": 357.975906597, \"CO2 emissions (tons per capita)\": 0.078688757, \"cluster_labels_kmeans\": 0}, {\"Country\": \"Latin America & Caribbean (excluding high income)\", \"Fertility rate (births/woman)\": 2.198628657, \"Life expectancy at birth (years)\": 73.892508897, \"GDP (USD)\": 4904594232667.31, \"Population density (people/km2)\": 29.43363715, \"GDP per capita growth (%/yr)\": 4.816913273, \"Income per capita (USD)\": 7255.187336702, \"CO2 emissions (tons per capita)\": 2.794037559, \"cluster_labels_kmeans\": 2}, {\"Country\": \"Maldives\", \"Fertility rate (births/woman)\": 2.206, \"Life expectancy at birth (years)\": 75.905, \"GDP (USD)\": 2588176054.6875, \"Population density (people/km2)\": 1219.113333333, \"GDP per capita growth (%/yr)\": 3.647137216, \"Income per capita (USD)\": 5396.348597869, \"CO2 emissions (tons per capita)\": 2.556735223, \"cluster_labels_kmeans\": 2}, {\"Country\": \"Cote d'Ivoire\", \"Fertility rate (births/woman)\": 5.088, \"Life expectancy at birth (years)\": 52.964, \"GDP (USD)\": 24884505034.5564, \"Population density (people/km2)\": 64.569025157, \"GDP per capita growth (%/yr)\": -0.336444149, \"Income per capita (USD)\": 1090.91015244, \"CO2 emissions (tons per capita)\": 0.339322893, \"cluster_labels_kmeans\": 0}, {\"Country\": \"Zambia\", \"Fertility rate (births/woman)\": 5.415, \"Life expectancy at birth (years)\": 55.655, \"GDP (USD)\": 20265556273.582, \"Population density (people/km2)\": 18.302619083, \"GDP per capita growth (%/yr)\": 7.129783614, \"Income per capita (USD)\": 999.132232505, \"CO2 emissions (tons per capita)\": 0.197823105, \"cluster_labels_kmeans\": 0}, {\"Country\": \"St. Vincent and the Grenadines\", \"Fertility rate (births/woman)\": 2.07, \"Life expectancy at birth (years)\": 71.776, \"GDP (USD)\": 681225962.962963, \"Population density (people/km2)\": 277.576923077, \"GDP per capita growth (%/yr)\": -3.324957351, \"Income per capita (USD)\": 5355.418168348, \"CO2 emissions (tons per capita)\": 2.032423445, \"cluster_labels_kmeans\": 2}, {\"Country\": \"Botswana\", \"Fertility rate (births/woman)\": 3.022, \"Life expectancy at birth (years)\": 60.211, \"GDP (USD)\": 12786654365.8738, \"Population density (people/km2)\": 3.506264006, \"GDP per capita growth (%/yr)\": 6.72754459, \"Income per capita (USD)\": 4648.767598072, \"CO2 emissions (tons per capita)\": 2.358418906, \"cluster_labels_kmeans\": 0}, {\"Country\": \"Chad\", \"Fertility rate (births/woman)\": 6.592, \"Life expectancy at birth (years)\": 50.89, \"GDP (USD)\": 10657705536.4978, \"Population density (people/km2)\": 9.491848793, \"GDP per capita growth (%/yr)\": 9.826047645, \"Income per capita (USD)\": 670.452945475, \"CO2 emissions (tons per capita)\": 0.043259799, \"cluster_labels_kmeans\": 0}, {\"Country\": \"Sub-Saharan Africa (excluding high income)\", \"Fertility rate (births/woman)\": 5.258351905, \"Life expectancy at birth (years)\": 56.723768306, \"GDP (USD)\": 1370527198887.1, \"Population density (people/km2)\": 40.907166071, \"GDP per capita growth (%/yr)\": 2.741872448, \"Income per capita (USD)\": 1183.920424062, \"CO2 emissions (tons per capita)\": 0.858717285, \"cluster_labels_kmeans\": 0}, {\"Country\": \"Montenegro\", \"Fertility rate (births/woman)\": 1.76, \"Life expectancy at birth (years)\": 75.151, \"GDP (USD)\": 4139192052.98013, \"Population density (people/km2)\": 46.054126394, \"GDP per capita growth (%/yr)\": 2.546263599, \"Income per capita (USD)\": 5867.368607508, \"CO2 emissions (tons per capita)\": 4.167664361, \"cluster_labels_kmeans\": 2}, {\"Country\": \"Armenia\", \"Fertility rate (births/woman)\": 1.722, \"Life expectancy at birth (years)\": 73.331, \"GDP (USD)\": 9260284937.79782, \"Population density (people/km2)\": 101.064945557, \"GDP per capita growth (%/yr)\": 2.582648081, \"Income per capita (USD)\": 2918.101653383, \"CO2 emissions (tons per capita)\": 1.46561782, \"cluster_labels_kmeans\": 2}, {\"Country\": \"Estonia\", \"Fertility rate (births/woman)\": 1.72, \"Life expectancy at birth (years)\": 75.429268293, \"GDP (USD)\": 19685033799.4182, \"Population density (people/km2)\": 31.410120311, \"GDP per capita growth (%/yr)\": 2.941401323, \"Income per capita (USD)\": 11363.220567054, \"CO2 emissions (tons per capita)\": 13.599689067, \"cluster_labels_kmeans\": 2}, {\"Country\": \"Cabo Verde\", \"Fertility rate (births/woman)\": 2.581, \"Life expectancy at birth (years)\": 71.062, \"GDP (USD)\": 1664310769.55229, \"Population density (people/km2)\": 122.246650124, \"GDP per capita growth (%/yr)\": 0.234534183, \"Income per capita (USD)\": 2554.300743153, \"CO2 emissions (tons per capita)\": 1.131390388, \"cluster_labels_kmeans\": 2}, {\"Country\": \"Nicaragua\", \"Fertility rate (births/woman)\": 2.601, \"Life expectancy at birth (years)\": 72.428, \"GDP (USD)\": 8758639096.47693, \"Population density (people/km2)\": 48.396750873, \"GDP per capita growth (%/yr)\": 3.002479462, \"Income per capita (USD)\": 1274.915038599, \"CO2 emissions (tons per capita)\": 0.778851026, \"cluster_labels_kmeans\": 2}, {\"Country\": \"IDA blend\", \"Fertility rate (births/woman)\": 4.506411897, \"Life expectancy at birth (years)\": 59.336633456, \"GDP (USD)\": 717963085057.526, \"Population density (people/km2)\": 77.627364174, \"GDP per capita growth (%/yr)\": 3.694440828, \"Income per capita (USD)\": 1272.141323539, \"CO2 emissions (tons per capita)\": 0.891885613, \"cluster_labels_kmeans\": 0}, {\"Country\": \"Early-demographic dividend\", \"Fertility rate (births/woman)\": 2.772131999, \"Life expectancy at birth (years)\": 68.056457652, \"GDP (USD)\": 8554858798929.54, \"Population density (people/km2)\": 87.839634556, \"GDP per capita growth (%/yr)\": 4.574182035, \"Income per capita (USD)\": 2456.324855192, \"CO2 emissions (tons per capita)\": 2.120645336, \"cluster_labels_kmeans\": 2}, {\"Country\": \"Zimbabwe\", \"Fertility rate (births/woman)\": 4.034, \"Life expectancy at birth (years)\": 50.64, \"GDP (USD)\": 12041655200.0, \"Population density (people/km2)\": 32.823375986, \"GDP per capita growth (%/yr)\": 18.065966898, \"Income per capita (USD)\": 773.958005285, \"CO2 emissions (tons per capita)\": 0.612527695, \"cluster_labels_kmeans\": 0}, {\"Country\": \"Latin America & the Caribbean (IDA & IBRD countries)\", \"Fertility rate (births/woman)\": 2.200647751, \"Life expectancy at birth (years)\": 73.981729674, \"GDP (USD)\": 5152595384307.39, \"Population density (people/km2)\": 28.833081283, \"GDP per capita growth (%/yr)\": 4.834075669, \"Income per capita (USD)\": 7386.954760539, \"CO2 emissions (tons per capita)\": 2.895298972, \"cluster_labels_kmeans\": 2}, {\"Country\": \"Middle East & North Africa (IDA & IBRD countries)\", \"Fertility rate (births/woman)\": 2.903014667, \"Life expectancy at birth (years)\": 72.005801457, \"GDP (USD)\": 1374988166298.78, \"Population density (people/km2)\": 38.09864011, \"GDP per capita growth (%/yr)\": 3.399061048, \"Income per capita (USD)\": 3381.209220636, \"CO2 emissions (tons per capita)\": 3.889102521, \"cluster_labels_kmeans\": 2}, {\"Country\": \"High income\", \"Fertility rate (births/woman)\": 1.705173061, \"Life expectancy at birth (years)\": 79.816672158, \"GDP (USD)\": 45356652360747.1, \"Population density (people/km2)\": 32.950970587, \"GDP per capita growth (%/yr)\": 2.283070449, \"Income per capita (USD)\": 32362.93785516, \"CO2 emissions (tons per capita)\": 11.505288746, \"cluster_labels_kmeans\": 1}, {\"Country\": \"Portugal\", \"Fertility rate (births/woman)\": 1.39, \"Life expectancy at birth (years)\": 79.026829268, \"GDP (USD)\": 237880908317.652, \"Population density (people/km2)\": 115.439458456, \"GDP per capita growth (%/yr)\": 1.690928749, \"Income per capita (USD)\": 17861.823495158, \"CO2 emissions (tons per capita)\": 4.552752646, \"cluster_labels_kmeans\": 1}, {\"Country\": \"Finland\", \"Fertility rate (births/woman)\": 1.87, \"Life expectancy at birth (years)\": 79.870731707, \"GDP (USD)\": 249181190476.369, \"Population density (people/km2)\": 17.648410661, \"GDP per capita growth (%/yr)\": 2.714919864, \"Income per capita (USD)\": 37972.258188891, \"CO2 emissions (tons per capita)\": 11.575281652, \"cluster_labels_kmeans\": 1}, {\"Country\": \"Gambia, The\", \"Fertility rate (births/woman)\": 5.583, \"Life expectancy at birth (years)\": 59.637, \"GDP (USD)\": 1543292392.54605, \"Population density (people/km2)\": 177.193280632, \"GDP per capita growth (%/yr)\": 2.782993457, \"Income per capita (USD)\": 382.646449369, \"CO2 emissions (tons per capita)\": 0.241304353, \"cluster_labels_kmeans\": 0}, {\"Country\": \"Sub-Saharan Africa\", \"Fertility rate (births/woman)\": 5.257987773, \"Life expectancy at birth (years)\": 56.725470043, \"GDP (USD)\": 1371497000323.48, \"Population density (people/km2)\": 40.910506263, \"GDP per capita growth (%/yr)\": 2.742121986, \"Income per capita (USD)\": 1184.741866978, \"CO2 emissions (tons per capita)\": 0.859137333, \"cluster_labels_kmeans\": 0}, {\"Country\": \"Madagascar\", \"Fertility rate (births/woman)\": 4.603, \"Life expectancy at birth (years)\": 63.388, \"GDP (USD)\": 9982711338.11813, \"Population density (people/km2)\": 36.371771503, \"GDP per capita growth (%/yr)\": -2.151846628, \"Income per capita (USD)\": 381.799008898, \"CO2 emissions (tons per capita)\": 0.09257807, \"cluster_labels_kmeans\": 0}, {\"Country\": \"Uganda\", \"Fertility rate (births/woman)\": 6.111, \"Life expectancy at birth (years)\": 57.099, \"GDP (USD)\": 20186496527.1256, \"Population density (people/km2)\": 161.720362059, \"GDP per capita growth (%/yr)\": 2.324401765, \"Income per capita (USD)\": 487.942916077, \"CO2 emissions (tons per capita)\": 0.120883274, \"cluster_labels_kmeans\": 0}, {\"Country\": \"Morocco\", \"Fertility rate (births/woman)\": 2.567, \"Life expectancy at birth (years)\": 74.382, \"GDP (USD)\": 93216746661.5977, \"Population density (people/km2)\": 72.470062738, \"GDP per capita growth (%/yr)\": 2.485646027, \"Income per capita (USD)\": 2472.545212643, \"CO2 emissions (tons per capita)\": 1.730134712, \"cluster_labels_kmeans\": 2}, {\"Country\": \"Kiribati\", \"Fertility rate (births/woman)\": 3.843, \"Life expectancy at birth (years)\": 65.769, \"GDP (USD)\": 156120895.248578, \"Population density (people/km2)\": 127.07037037, \"GDP per capita growth (%/yr)\": -2.846169406, \"Income per capita (USD)\": 2077.419114441, \"CO2 emissions (tons per capita)\": 0.605662265, \"cluster_labels_kmeans\": 0}, {\"Country\": \"Russian Federation\", \"Fertility rate (births/woman)\": 1.567, \"Life expectancy at birth (years)\": 68.841219512, \"GDP (USD)\": 1524917468442.01, \"Population density (people/km2)\": 8.722634362, \"GDP per capita growth (%/yr)\": 4.453103204, \"Income per capita (USD)\": 8426.137374443, \"CO2 emissions (tons per capita)\": 11.694348125, \"cluster_labels_kmeans\": 2}, {\"Country\": \"Vietnam\", \"Fertility rate (births/woman)\": 1.938, \"Life expectancy at birth (years)\": 74.837, \"GDP (USD)\": 115931749697.241, \"Population density (people/km2)\": 283.702554262, \"GDP per capita growth (%/yr)\": 5.364180765, \"Income per capita (USD)\": 1075.56605935, \"CO2 emissions (tons per capita)\": 1.622618922, \"cluster_labels_kmeans\": 2}, {\"Country\": \"France\", \"Fertility rate (births/woman)\": 2.03, \"Life expectancy at birth (years)\": 81.663414634, \"GDP (USD)\": 2642609548930.36, \"Population density (people/km2)\": 118.759339992, \"GDP per capita growth (%/yr)\": 1.44701286, \"Income per capita (USD)\": 34311.517730595, \"CO2 emissions (tons per capita)\": 5.428980862, \"cluster_labels_kmeans\": 1}, {\"Country\": \"Senegal\", \"Fertility rate (births/woman)\": 5.064, \"Life expectancy at birth (years)\": 64.284, \"GDP (USD)\": 16215069255.5883, \"Population density (people/km2)\": 65.850246715, \"GDP per capita growth (%/yr)\": 0.760392106, \"Income per capita (USD)\": 1134.644424994, \"CO2 emissions (tons per capita)\": 0.610870294, \"cluster_labels_kmeans\": 0}, {\"Country\": \"Kuwait\", \"Fertility rate (births/woman)\": 2.234, \"Life expectancy at birth (years)\": 74.358, \"GDP (USD)\": 115419050942.08, \"Population density (people/km2)\": 167.894725028, \"GDP per capita growth (%/yr)\": -7.945279411, \"Income per capita (USD)\": 34443.6354974, \"CO2 emissions (tons per capita)\": 29.956090209, \"cluster_labels_kmeans\": 1}, {\"Country\": \"Brazil\", \"Fertility rate (births/woman)\": 1.796, \"Life expectancy at birth (years)\": 73.619, \"GDP (USD)\": 2208871646202.82, \"Population density (people/km2)\": 23.415931655, \"GDP per capita growth (%/yr)\": 6.524372804, \"Income per capita (USD)\": 9337.194187953, \"CO2 emissions (tons per capita)\": 2.144736395, \"cluster_labels_kmeans\": 2}, {\"Country\": \"IBRD only\", \"Fertility rate (births/woman)\": 2.155773818, \"Life expectancy at birth (years)\": 71.16432299, \"GDP (USD)\": 19991425369315.0, \"Population density (people/km2)\": 63.734730717, \"GDP per capita growth (%/yr)\": 6.258545152, \"Income per capita (USD)\": 3607.727171928, \"CO2 emissions (tons per capita)\": 4.128832646, \"cluster_labels_kmeans\": 2}, {\"Country\": \"Congo, Dem. Rep.\", \"Fertility rate (births/woman)\": 6.544, \"Life expectancy at birth (years)\": 56.909, \"GDP (USD)\": 21565720044.4634, \"Population density (people/km2)\": 28.479236894, \"GDP per capita growth (%/yr)\": 3.598840323, \"Income per capita (USD)\": 242.204683096, \"CO2 emissions (tons per capita)\": 0.031294864, \"cluster_labels_kmeans\": 0}, {\"Country\": \"Croatia\", \"Fertility rate (births/woman)\": 1.55, \"Life expectancy at birth (years)\": 76.475609756, \"GDP (USD)\": 59807966533.2848, \"Population density (people/km2)\": 76.758881344, \"GDP per capita growth (%/yr)\": -1.272578477, \"Income per capita (USD)\": 11183.879846431, \"CO2 emissions (tons per capita)\": 4.696195978, \"cluster_labels_kmeans\": 2}, {\"Country\": \"Fragile and conflict affected situations\", \"Fertility rate (births/woman)\": 4.758845326, \"Life expectancy at birth (years)\": 60.39157326, \"GDP (USD)\": 650133065637.334, \"Population density (people/km2)\": 33.246200637, \"GDP per capita growth (%/yr)\": 4.111259326, \"Income per capita (USD)\": 1164.229580408, \"CO2 emissions (tons per capita)\": 0.84929892, \"cluster_labels_kmeans\": 0}, {\"Country\": \"Namibia\", \"Fertility rate (births/woman)\": 3.631, \"Life expectancy at birth (years)\": 56.665, \"GDP (USD)\": 11282192605.0374, \"Population density (people/km2)\": 2.57366663, \"GDP per capita growth (%/yr)\": 4.146043621, \"Income per capita (USD)\": 4509.129491692, \"CO2 emissions (tons per capita)\": 1.464118206, \"cluster_labels_kmeans\": 0}, {\"Country\": \"Aruba\", \"Fertility rate (births/woman)\": 1.768, \"Life expectancy at birth (years)\": 75.017, \"GDP (USD)\": 2390502793.29609, \"Population density (people/km2)\": 564.827777778, \"GDP per capita growth (%/yr)\": -3.887760046, \"Income per capita (USD)\": 19741.149802523, \"CO2 emissions (tons per capita)\": 24.670528873, \"cluster_labels_kmeans\": 2}, {\"Country\": \"Korea, Rep.\", \"Fertility rate (births/woman)\": 1.226, \"Life expectancy at birth (years)\": 80.117073171, \"GDP (USD)\": 1094499338702.72, \"Population density (people/km2)\": 509.815967078, \"GDP per capita growth (%/yr)\": 5.967519429, \"Income per capita (USD)\": 18160.966051194, \"CO2 emissions (tons per capita)\": 11.436316627, \"cluster_labels_kmeans\": 1}, {\"Country\": \"Canada\", \"Fertility rate (births/woman)\": 1.6269, \"Life expectancy at birth (years)\": 81.246341463, \"GDP (USD)\": 1613542812589.39, \"Population density (people/km2)\": 3.739467928, \"GDP per capita growth (%/yr)\": 1.94962821, \"Income per capita (USD)\": 38427.368031304, \"CO2 emissions (tons per capita)\": 15.723345017, \"cluster_labels_kmeans\": 1}, {\"Country\": \"Pakistan\", \"Fertility rate (births/woman)\": 3.951, \"Life expectancy at birth (years)\": 65.264, \"GDP (USD)\": 177165635077.065, \"Population density (people/km2)\": 232.753010845, \"GDP per capita growth (%/yr)\": -0.60130091, \"Income per capita (USD)\": 946.338448531, \"CO2 emissions (tons per capita)\": 0.899517871, \"cluster_labels_kmeans\": 0}, {\"Country\": \"Europe & Central Asia (excluding high income)\", \"Fertility rate (births/woman)\": 1.851364962, \"Life expectancy at birth (years)\": 70.784694171, \"GDP (USD)\": 3107761082673.34, \"Population density (people/km2)\": 17.627174104, \"GDP per capita growth (%/yr)\": 4.537190018, \"Income per capita (USD)\": 6202.599840098, \"CO2 emissions (tons per capita)\": 7.558245567, \"cluster_labels_kmeans\": 2}, {\"Country\": \"Other small states\", \"Fertility rate (births/woman)\": 3.253772362, \"Life expectancy at birth (years)\": 64.308849349, \"GDP (USD)\": 325713700713.271, \"Population density (people/km2)\": 12.828552719, \"GDP per capita growth (%/yr)\": 5.724578682, \"Income per capita (USD)\": 8392.30583771, \"CO2 emissions (tons per capita)\": 6.618765908, \"cluster_labels_kmeans\": 2}, {\"Country\": \"Kazakhstan\", \"Fertility rate (births/woman)\": 2.6, \"Life expectancy at birth (years)\": 68.295365854, \"GDP (USD)\": 148047348240.643, \"Population density (people/km2)\": 6.045809534, \"GDP per capita growth (%/yr)\": 5.794225111, \"Income per capita (USD)\": 5717.931577953, \"CO2 emissions (tons per capita)\": 15.227987329, \"cluster_labels_kmeans\": 2}, {\"Country\": \"Myanmar\", \"Fertility rate (births/woman)\": 2.359, \"Life expectancy at birth (years)\": 63.525, \"GDP (USD)\": 49540813342.4834, \"Population density (people/km2)\": 77.458926002, \"GDP per capita growth (%/yr)\": 8.875133566, \"Income per capita (USD)\": 942.797631976, \"CO2 emissions (tons per capita)\": 0.247337326, \"cluster_labels_kmeans\": 2}, {\"Country\": \"IDA only\", \"Fertility rate (births/woman)\": 4.392531598, \"Life expectancy at birth (years)\": 61.908574685, \"GDP (USD)\": 750818807154.156, \"Population density (people/km2)\": 50.497497749, \"GDP per capita growth (%/yr)\": 3.857456222, \"Income per capita (USD)\": 693.027795324, \"CO2 emissions (tons per capita)\": 0.336372349, \"cluster_labels_kmeans\": 0}, {\"Country\": \"Peru\", \"Fertility rate (births/woman)\": 2.546, \"Life expectancy at birth (years)\": 74.41, \"GDP (USD)\": 147528937028.778, \"Population density (people/km2)\": 22.677870313, \"GDP per capita growth (%/yr)\": 7.455358648, \"Income per capita (USD)\": 4076.029394366, \"CO2 emissions (tons per capita)\": 1.984103239, \"cluster_labels_kmeans\": 2}, {\"Country\": \"Angola\", \"Fertility rate (births/woman)\": 6.194, \"Life expectancy at birth (years)\": 55.35, \"GDP (USD)\": 83799496611.2004, \"Population density (people/km2)\": 18.734455763, \"GDP per capita growth (%/yr)\": 1.079168937, \"Income per capita (USD)\": 1108.338717, \"CO2 emissions (tons per capita)\": 1.244091538, \"cluster_labels_kmeans\": 0}, {\"Country\": \"Bahrain\", \"Fertility rate (births/woman)\": 2.164, \"Life expectancy at birth (years)\": 76.057, \"GDP (USD)\": 25713271276.5957, \"Population density (people/km2)\": 1628.425262068, \"GDP per capita growth (%/yr)\": -0.35377926, \"Income per capita (USD)\": 16640.902990276, \"CO2 emissions (tons per capita)\": 23.585518914, \"cluster_labels_kmeans\": 2}, {\"Country\": \"East Asia & Pacific (IDA & IBRD countries)\", \"Fertility rate (births/woman)\": 1.868168753, \"Life expectancy at birth (years)\": 73.110464402, \"GDP (USD)\": 7853687810994.79, \"Population density (people/km2)\": 122.922310297, \"GDP per capita growth (%/yr)\": 8.995841137, \"Income per capita (USD)\": 3112.598794599, \"CO2 emissions (tons per capita)\": 5.137189968, \"cluster_labels_kmeans\": 2}, {\"Country\": \"Turkey\", \"Fertility rate (births/woman)\": 2.151, \"Life expectancy at birth (years)\": 74.507, \"GDP (USD)\": 771901768870.083, \"Population density (people/km2)\": 93.976310695, \"GDP per capita growth (%/yr)\": 6.979031877, \"Income per capita (USD)\": 8954.726932751, \"CO2 emissions (tons per capita)\": 4.120210591, \"cluster_labels_kmeans\": 2}, {\"Country\": \"Cuba\", \"Fertility rate (births/woman)\": 1.647, \"Life expectancy at birth (years)\": 78.338, \"GDP (USD)\": 64328000000.0, \"Population density (people/km2)\": 105.466290868, \"GDP per capita growth (%/yr)\": 2.398351377, \"Income per capita (USD)\": 4815.756775662, \"CO2 emissions (tons per capita)\": 3.418468671, \"cluster_labels_kmeans\": 2}, {\"Country\": \"Burundi\", \"Fertility rate (births/woman)\": 6.179, \"Life expectancy at birth (years)\": 57.228, \"GDP (USD)\": 2032135246.50004, \"Population density (people/km2)\": 337.834968847, \"GDP per capita growth (%/yr)\": 1.756376353, \"Income per capita (USD)\": 149.049398763, \"CO2 emissions (tons per capita)\": 0.024515417, \"cluster_labels_kmeans\": 0}, {\"Country\": \"Heavily indebted poor countries (HIPC)\", \"Fertility rate (births/woman)\": 5.367059784, \"Life expectancy at birth (years)\": 58.85894741, \"GDP (USD)\": 477008957175.009, \"Population density (people/km2)\": 35.918992578, \"GDP per capita growth (%/yr)\": 2.991101465, \"Income per capita (USD)\": 590.987078203, \"CO2 emissions (tons per capita)\": 0.223297055, \"cluster_labels_kmeans\": 0}, {\"Country\": \"Paraguay\", \"Fertility rate (births/woman)\": 2.73, \"Life expectancy at birth (years)\": 72.653, \"GDP (USD)\": 27215968615.5548, \"Population density (people/km2)\": 15.726201863, \"GDP per capita growth (%/yr)\": 9.648636754, \"Income per capita (USD)\": 3596.179996427, \"CO2 emissions (tons per capita)\": 0.815799245, \"cluster_labels_kmeans\": 2}, {\"Country\": \"Bolivia\", \"Fertility rate (births/woman)\": 3.213, \"Life expectancy at birth (years)\": 68.007, \"GDP (USD)\": 19649631450.6819, \"Population density (people/km2)\": 9.275906951, \"GDP per capita growth (%/yr)\": 2.42927786, \"Income per capita (USD)\": 1545.671015885, \"CO2 emissions (tons per capita)\": 1.512986598, \"cluster_labels_kmeans\": 2}, {\"Country\": \"Cyprus\", \"Fertility rate (births/woman)\": 1.424, \"Life expectancy at birth (years)\": 79.43, \"GDP (USD)\": 25732432719.0773, \"Population density (people/km2)\": 120.412554113, \"GDP per capita growth (%/yr)\": -1.280429629, \"Income per capita (USD)\": 26205.35840189, \"CO2 emissions (tons per capita)\": 6.92787243, \"cluster_labels_kmeans\": 1}, {\"Country\": \"Small states\", \"Fertility rate (births/woman)\": 3.042611927, \"Life expectancy at birth (years)\": 66.201202465, \"GDP (USD)\": 395420725523.217, \"Population density (people/km2)\": 14.09687649, \"GDP per capita growth (%/yr)\": 4.905227902, \"Income per capita (USD)\": 7819.212358621, \"CO2 emissions (tons per capita)\": 6.804260975, \"cluster_labels_kmeans\": 2}, {\"Country\": \"Uruguay\", \"Fertility rate (births/woman)\": 2.011, \"Life expectancy at birth (years)\": 76.75, \"GDP (USD)\": 40284481653.4343, \"Population density (people/km2)\": 19.193663581, \"GDP per capita growth (%/yr)\": 7.49536553, \"Income per capita (USD)\": 10256.277408754, \"CO2 emissions (tons per capita)\": 1.901575191, \"cluster_labels_kmeans\": 2}, {\"Country\": \"Iran, Islamic Rep.\", \"Fertility rate (births/woman)\": 1.839, \"Life expectancy at birth (years)\": 73.905, \"GDP (USD)\": 487069570463.768, \"Population density (people/km2)\": 45.287531005, \"GDP per capita growth (%/yr)\": 4.596446951, \"Income per capita (USD)\": 5355.085432841, \"CO2 emissions (tons per capita)\": 7.768594359, \"cluster_labels_kmeans\": 2}, {\"Country\": \"Philippines\", \"Fertility rate (births/woman)\": 3.18, \"Life expectancy at birth (years)\": 69.823, \"GDP (USD)\": 199590775190.258, \"Population density (people/km2)\": 315.144984405, \"GDP per capita growth (%/yr)\": 5.853846681, \"Income per capita (USD)\": 2279.916843057, \"CO2 emissions (tons per capita)\": 0.903181401, \"cluster_labels_kmeans\": 2}, {\"Country\": \"Tanzania\", \"Fertility rate (births/woman)\": 5.427, \"Life expectancy at birth (years)\": 58.584, \"GDP (USD)\": 32014249841.4151, \"Population density (people/km2)\": 50.063812373, \"GDP per capita growth (%/yr)\": 3.290252459, \"Income per capita (USD)\": 646.999413145, \"CO2 emissions (tons per capita)\": 0.160252602, \"cluster_labels_kmeans\": 0}, {\"Country\": \"Guinea\", \"Fertility rate (births/woman)\": 5.336, \"Life expectancy at birth (years)\": 56.861, \"GDP (USD)\": 6853467857.61127, \"Population density (people/km2)\": 41.478821423, \"GDP per capita growth (%/yr)\": 2.47169064, \"Income per capita (USD)\": 482.933104295, \"CO2 emissions (tons per capita)\": 0.255447904, \"cluster_labels_kmeans\": 0}, {\"Country\": \"Euro area\", \"Fertility rate (births/woman)\": 1.580367667, \"Life expectancy at birth (years)\": 80.746780985, \"GDP (USD)\": 12628220394708.3, \"Population density (people/km2)\": 125.53879128, \"GDP per capita growth (%/yr)\": 1.893332953, \"Income per capita (USD)\": 31127.800632933, \"CO2 emissions (tons per capita)\": 7.425634147, \"cluster_labels_kmeans\": 1}], \"data-16c8982f23d4dbb05e9d7d68cb37fdc4\": [{\"0\": 4.929362178903227, \"1\": 58.57102771017742, \"2\": 1159.5524212201926}, {\"0\": 1.7530817935789476, \"1\": 79.82980292444736, \"2\": 35208.997766589084}, {\"0\": 2.3089521420084744, \"1\": 72.26280806985594, \"2\": 5447.972732532651}]}}, {\"mode\": \"vega-lite\"});\n",
              "</script>"
            ],
            "text/plain": [
              "alt.LayerChart(...)"
            ]
          },
          "metadata": {},
          "execution_count": 29
        }
      ],
      "source": [
        "# Plot --- try visualizing on different scatterplots\n",
        "df_wdi['cluster_labels_kmeans'] = kmeans_model.labels_\n",
        "\n",
        "wdi_points_plot = alt.Chart(df_wdi).mark_point().encode(\n",
        "  x='Fertility rate (births/woman)', y='Life expectancy at birth (years)', color='cluster_labels_kmeans:N'\n",
        ")\n",
        "wdi_centroid_plot = alt.Chart(pd.DataFrame(unscaled_centroids)).mark_point(shape='diamond',color='black').encode(\n",
        "    x='0:Q', y='1:Q'\n",
        ")\n",
        "(wdi_points_plot + wdi_centroid_plot)"
      ]
    },
    {
      "cell_type": "code",
      "source": [],
      "metadata": {
        "id": "ajACZzspyASJ"
      },
      "execution_count": null,
      "outputs": []
    },
    {
      "cell_type": "markdown",
      "metadata": {
        "id": "jgEHpR86dHgd"
      },
      "source": [
        "# Bonus - Distance Metrics"
      ]
    },
    {
      "cell_type": "code",
      "execution_count": null,
      "metadata": {
        "id": "1C4rayIVdHge"
      },
      "outputs": [],
      "source": [
        "traits = [\n",
        "    ('Alice', ['Accessible', 'Confident', 'Creative', 'Sweet']),\n",
        "    ('Bob', ['Strong', 'Confident', 'Creative','Tidy']),\n",
        "    ('Charlie', ['Confident', 'Strong', 'Accessible', 'Sweet']),\n",
        "    ('Dacy', ['Accessible', 'Strong', 'Tidy', 'Confident']),\n",
        "    ('Emily', ['Reserved', 'Cute', 'Quiet', 'Impassive']),\n",
        "    ('Fred', ['Cute', 'Impassive', 'Gentle','Confident']),\n",
        "    ('George', ['Cute', 'Quiet', 'Reserved', 'Confident'])\n",
        "]"
      ]
    },
    {
      "cell_type": "code",
      "execution_count": null,
      "metadata": {
        "scrolled": true,
        "id": "0fcz7TjidHge",
        "outputId": "efa5b12c-1f29-4af9-a1fb-c1ce8fc9c08c",
        "colab": {
          "base_uri": "https://localhost:8080/",
          "height": 269
        }
      },
      "outputs": [
        {
          "output_type": "execute_result",
          "data": {
            "text/plain": [
              "         Accessible  Confident  Creative  Cute  Gentle  Impassive  Quiet  \\\n",
              "Alice             1          1         1     0       0          0      0   \n",
              "Bob               0          1         1     0       0          0      0   \n",
              "Charlie           1          1         0     0       0          0      0   \n",
              "Dacy              1          1         0     0       0          0      0   \n",
              "Emily             0          0         0     1       0          1      1   \n",
              "Fred              0          1         0     1       1          1      0   \n",
              "George            0          1         0     1       0          0      1   \n",
              "\n",
              "         Reserved  Strong  Sweet  Tidy  \n",
              "Alice           0       0      1     0  \n",
              "Bob             0       1      0     1  \n",
              "Charlie         0       1      1     0  \n",
              "Dacy            0       1      0     1  \n",
              "Emily           1       0      0     0  \n",
              "Fred            0       0      0     0  \n",
              "George          1       0      0     0  "
            ],
            "text/html": [
              "\n",
              "  <div id=\"df-1af0596b-09e0-47f8-805a-7885c2914f67\">\n",
              "    <div class=\"colab-df-container\">\n",
              "      <div>\n",
              "<style scoped>\n",
              "    .dataframe tbody tr th:only-of-type {\n",
              "        vertical-align: middle;\n",
              "    }\n",
              "\n",
              "    .dataframe tbody tr th {\n",
              "        vertical-align: top;\n",
              "    }\n",
              "\n",
              "    .dataframe thead th {\n",
              "        text-align: right;\n",
              "    }\n",
              "</style>\n",
              "<table border=\"1\" class=\"dataframe\">\n",
              "  <thead>\n",
              "    <tr style=\"text-align: right;\">\n",
              "      <th></th>\n",
              "      <th>Accessible</th>\n",
              "      <th>Confident</th>\n",
              "      <th>Creative</th>\n",
              "      <th>Cute</th>\n",
              "      <th>Gentle</th>\n",
              "      <th>Impassive</th>\n",
              "      <th>Quiet</th>\n",
              "      <th>Reserved</th>\n",
              "      <th>Strong</th>\n",
              "      <th>Sweet</th>\n",
              "      <th>Tidy</th>\n",
              "    </tr>\n",
              "  </thead>\n",
              "  <tbody>\n",
              "    <tr>\n",
              "      <th>Alice</th>\n",
              "      <td>1</td>\n",
              "      <td>1</td>\n",
              "      <td>1</td>\n",
              "      <td>0</td>\n",
              "      <td>0</td>\n",
              "      <td>0</td>\n",
              "      <td>0</td>\n",
              "      <td>0</td>\n",
              "      <td>0</td>\n",
              "      <td>1</td>\n",
              "      <td>0</td>\n",
              "    </tr>\n",
              "    <tr>\n",
              "      <th>Bob</th>\n",
              "      <td>0</td>\n",
              "      <td>1</td>\n",
              "      <td>1</td>\n",
              "      <td>0</td>\n",
              "      <td>0</td>\n",
              "      <td>0</td>\n",
              "      <td>0</td>\n",
              "      <td>0</td>\n",
              "      <td>1</td>\n",
              "      <td>0</td>\n",
              "      <td>1</td>\n",
              "    </tr>\n",
              "    <tr>\n",
              "      <th>Charlie</th>\n",
              "      <td>1</td>\n",
              "      <td>1</td>\n",
              "      <td>0</td>\n",
              "      <td>0</td>\n",
              "      <td>0</td>\n",
              "      <td>0</td>\n",
              "      <td>0</td>\n",
              "      <td>0</td>\n",
              "      <td>1</td>\n",
              "      <td>1</td>\n",
              "      <td>0</td>\n",
              "    </tr>\n",
              "    <tr>\n",
              "      <th>Dacy</th>\n",
              "      <td>1</td>\n",
              "      <td>1</td>\n",
              "      <td>0</td>\n",
              "      <td>0</td>\n",
              "      <td>0</td>\n",
              "      <td>0</td>\n",
              "      <td>0</td>\n",
              "      <td>0</td>\n",
              "      <td>1</td>\n",
              "      <td>0</td>\n",
              "      <td>1</td>\n",
              "    </tr>\n",
              "    <tr>\n",
              "      <th>Emily</th>\n",
              "      <td>0</td>\n",
              "      <td>0</td>\n",
              "      <td>0</td>\n",
              "      <td>1</td>\n",
              "      <td>0</td>\n",
              "      <td>1</td>\n",
              "      <td>1</td>\n",
              "      <td>1</td>\n",
              "      <td>0</td>\n",
              "      <td>0</td>\n",
              "      <td>0</td>\n",
              "    </tr>\n",
              "    <tr>\n",
              "      <th>Fred</th>\n",
              "      <td>0</td>\n",
              "      <td>1</td>\n",
              "      <td>0</td>\n",
              "      <td>1</td>\n",
              "      <td>1</td>\n",
              "      <td>1</td>\n",
              "      <td>0</td>\n",
              "      <td>0</td>\n",
              "      <td>0</td>\n",
              "      <td>0</td>\n",
              "      <td>0</td>\n",
              "    </tr>\n",
              "    <tr>\n",
              "      <th>George</th>\n",
              "      <td>0</td>\n",
              "      <td>1</td>\n",
              "      <td>0</td>\n",
              "      <td>1</td>\n",
              "      <td>0</td>\n",
              "      <td>0</td>\n",
              "      <td>1</td>\n",
              "      <td>1</td>\n",
              "      <td>0</td>\n",
              "      <td>0</td>\n",
              "      <td>0</td>\n",
              "    </tr>\n",
              "  </tbody>\n",
              "</table>\n",
              "</div>\n",
              "      <button class=\"colab-df-convert\" onclick=\"convertToInteractive('df-1af0596b-09e0-47f8-805a-7885c2914f67')\"\n",
              "              title=\"Convert this dataframe to an interactive table.\"\n",
              "              style=\"display:none;\">\n",
              "        \n",
              "  <svg xmlns=\"http://www.w3.org/2000/svg\" height=\"24px\"viewBox=\"0 0 24 24\"\n",
              "       width=\"24px\">\n",
              "    <path d=\"M0 0h24v24H0V0z\" fill=\"none\"/>\n",
              "    <path d=\"M18.56 5.44l.94 2.06.94-2.06 2.06-.94-2.06-.94-.94-2.06-.94 2.06-2.06.94zm-11 1L8.5 8.5l.94-2.06 2.06-.94-2.06-.94L8.5 2.5l-.94 2.06-2.06.94zm10 10l.94 2.06.94-2.06 2.06-.94-2.06-.94-.94-2.06-.94 2.06-2.06.94z\"/><path d=\"M17.41 7.96l-1.37-1.37c-.4-.4-.92-.59-1.43-.59-.52 0-1.04.2-1.43.59L10.3 9.45l-7.72 7.72c-.78.78-.78 2.05 0 2.83L4 21.41c.39.39.9.59 1.41.59.51 0 1.02-.2 1.41-.59l7.78-7.78 2.81-2.81c.8-.78.8-2.07 0-2.86zM5.41 20L4 18.59l7.72-7.72 1.47 1.35L5.41 20z\"/>\n",
              "  </svg>\n",
              "      </button>\n",
              "      \n",
              "  <style>\n",
              "    .colab-df-container {\n",
              "      display:flex;\n",
              "      flex-wrap:wrap;\n",
              "      gap: 12px;\n",
              "    }\n",
              "\n",
              "    .colab-df-convert {\n",
              "      background-color: #E8F0FE;\n",
              "      border: none;\n",
              "      border-radius: 50%;\n",
              "      cursor: pointer;\n",
              "      display: none;\n",
              "      fill: #1967D2;\n",
              "      height: 32px;\n",
              "      padding: 0 0 0 0;\n",
              "      width: 32px;\n",
              "    }\n",
              "\n",
              "    .colab-df-convert:hover {\n",
              "      background-color: #E2EBFA;\n",
              "      box-shadow: 0px 1px 2px rgba(60, 64, 67, 0.3), 0px 1px 3px 1px rgba(60, 64, 67, 0.15);\n",
              "      fill: #174EA6;\n",
              "    }\n",
              "\n",
              "    [theme=dark] .colab-df-convert {\n",
              "      background-color: #3B4455;\n",
              "      fill: #D2E3FC;\n",
              "    }\n",
              "\n",
              "    [theme=dark] .colab-df-convert:hover {\n",
              "      background-color: #434B5C;\n",
              "      box-shadow: 0px 1px 3px 1px rgba(0, 0, 0, 0.15);\n",
              "      filter: drop-shadow(0px 1px 2px rgba(0, 0, 0, 0.3));\n",
              "      fill: #FFFFFF;\n",
              "    }\n",
              "  </style>\n",
              "\n",
              "      <script>\n",
              "        const buttonEl =\n",
              "          document.querySelector('#df-1af0596b-09e0-47f8-805a-7885c2914f67 button.colab-df-convert');\n",
              "        buttonEl.style.display =\n",
              "          google.colab.kernel.accessAllowed ? 'block' : 'none';\n",
              "\n",
              "        async function convertToInteractive(key) {\n",
              "          const element = document.querySelector('#df-1af0596b-09e0-47f8-805a-7885c2914f67');\n",
              "          const dataTable =\n",
              "            await google.colab.kernel.invokeFunction('convertToInteractive',\n",
              "                                                     [key], {});\n",
              "          if (!dataTable) return;\n",
              "\n",
              "          const docLinkHtml = 'Like what you see? Visit the ' +\n",
              "            '<a target=\"_blank\" href=https://colab.research.google.com/notebooks/data_table.ipynb>data table notebook</a>'\n",
              "            + ' to learn more about interactive tables.';\n",
              "          element.innerHTML = '';\n",
              "          dataTable['output_type'] = 'display_data';\n",
              "          await google.colab.output.renderOutput(dataTable, element);\n",
              "          const docLink = document.createElement('div');\n",
              "          docLink.innerHTML = docLinkHtml;\n",
              "          element.appendChild(docLink);\n",
              "        }\n",
              "      </script>\n",
              "    </div>\n",
              "  </div>\n",
              "  "
            ]
          },
          "metadata": {},
          "execution_count": 31
        }
      ],
      "source": [
        "# In order to make computation easier, let's create dummy variables \n",
        "# for traits. You should be able to understand what is going on below.\n",
        "\n",
        "# First, obtain a unique list of traits.\n",
        "all_traits = sorted({t for x in traits for t in x[1]})\n",
        "\n",
        "# Second, create dummy variables.\n",
        "traits_dummy = []\n",
        "for name, ts in traits:\n",
        "    tis = [0] * len(all_traits)\n",
        "    for t in ts:\n",
        "        tis[all_traits.index(t)] = 1\n",
        "    traits_dummy.append(tis)\n",
        "\n",
        "# Third, create a DataFrame.\n",
        "names = [x[0] for x in traits]\n",
        "df_traits = pd.DataFrame(traits_dummy, columns=all_traits, index=names)\n",
        "df_traits"
      ]
    },
    {
      "cell_type": "code",
      "execution_count": null,
      "metadata": {
        "id": "8L2jLBoUdHge",
        "outputId": "0b39fc6c-c7cf-4a47-c860-eae96c7f5c7c",
        "colab": {
          "base_uri": "https://localhost:8080/"
        }
      },
      "outputs": [
        {
          "output_type": "execute_result",
          "data": {
            "text/plain": [
              "array([[5.00000000e-01, 1.00000000e+00, 5.00000000e-01, 0.00000000e+00,\n",
              "        0.00000000e+00, 0.00000000e+00, 0.00000000e+00, 0.00000000e+00,\n",
              "        1.00000000e+00, 0.00000000e+00, 1.00000000e+00],\n",
              "       [1.00000000e+00, 1.00000000e+00, 5.00000000e-01, 0.00000000e+00,\n",
              "        0.00000000e+00, 0.00000000e+00, 0.00000000e+00, 0.00000000e+00,\n",
              "        5.00000000e-01, 1.00000000e+00, 0.00000000e+00],\n",
              "       [5.55111512e-17, 6.66666667e-01, 0.00000000e+00, 1.00000000e+00,\n",
              "        3.33333333e-01, 6.66666667e-01, 6.66666667e-01, 6.66666667e-01,\n",
              "        5.55111512e-17, 0.00000000e+00, 0.00000000e+00]])"
            ]
          },
          "metadata": {},
          "execution_count": 32
        }
      ],
      "source": [
        "kmeans_model = skc.KMeans(n_clusters=3)\n",
        "kmeans_model.fit(df_traits)\n",
        "centroids = kmeans_model.cluster_centers_\n",
        "centroids"
      ]
    },
    {
      "cell_type": "code",
      "execution_count": null,
      "metadata": {
        "id": "IcwUdXgMdHge",
        "outputId": "d4e2a5a2-f1f8-4d24-8b73-1c02792c2ff1",
        "colab": {
          "base_uri": "https://localhost:8080/"
        }
      },
      "outputs": [
        {
          "output_type": "execute_result",
          "data": {
            "text/plain": [
              "array([1, 0, 1, 0, 2, 2, 2], dtype=int32)"
            ]
          },
          "metadata": {},
          "execution_count": 33
        }
      ],
      "source": [
        "kmeans_model.labels_"
      ]
    },
    {
      "cell_type": "markdown",
      "metadata": {
        "id": "wgBOpkOKdHge"
      },
      "source": [
        "Let's try different distance measures between Alice and Bob.\n",
        "We've copied their traits down here:\n",
        "\n",
        " ('Alice', ['Accessible', 'Confident', 'Creative', 'Sweet']),\n",
        "\n",
        " ('Bob', ['Strong', 'Confident', 'Creative','Sporting']),\n",
        "\n",
        "Notice they have 4 traits each and they share 2 traits in common."
      ]
    },
    {
      "cell_type": "code",
      "execution_count": null,
      "metadata": {
        "id": "FUAwkz94dHge",
        "outputId": "2f24c7f5-3fc5-4dd8-b500-d2b9fe74492d",
        "colab": {
          "base_uri": "https://localhost:8080/"
        }
      },
      "outputs": [
        {
          "output_type": "execute_result",
          "data": {
            "text/plain": [
              "2.0"
            ]
          },
          "metadata": {},
          "execution_count": 34
        }
      ],
      "source": [
        "# (1) Euclidean distance:\n",
        "#     by definition, this will be sqrt(1^2 + 1^2 + 1^2 + 1^2)\n",
        "spd.euclidean(df_traits.loc['Alice'], df_traits.loc['Bob'])"
      ]
    },
    {
      "cell_type": "code",
      "execution_count": null,
      "metadata": {
        "id": "xfTiZPrRdHge",
        "outputId": "c6596d99-915a-46fb-de67-61749d20f952",
        "colab": {
          "base_uri": "https://localhost:8080/"
        }
      },
      "outputs": [
        {
          "output_type": "execute_result",
          "data": {
            "text/plain": [
              "0.6666666666666666"
            ]
          },
          "metadata": {},
          "execution_count": 35
        }
      ],
      "source": [
        "# (2) Jaccard distance:\n",
        "#     by definition, this will be 1 - (2 / 6)\n",
        "spd.jaccard(df_traits.loc['Alice'], df_traits.loc['Bob'])"
      ]
    },
    {
      "cell_type": "code",
      "execution_count": null,
      "metadata": {
        "id": "6CtKZ0NEdHge",
        "outputId": "29701374-3cab-4370-c227-64b9d35ac68d",
        "colab": {
          "base_uri": "https://localhost:8080/"
        }
      },
      "outputs": [
        {
          "output_type": "execute_result",
          "data": {
            "text/plain": [
              "4"
            ]
          },
          "metadata": {},
          "execution_count": 36
        }
      ],
      "source": [
        "# (3) Manhattan (cityblock) distance:\n",
        "#     by definition, this will be 1 + 1 + 1 + 1\n",
        "spd.cityblock(df_traits.loc['Alice'], df_traits.loc['Bob'])"
      ]
    },
    {
      "cell_type": "code",
      "execution_count": null,
      "metadata": {
        "id": "inhaZNzkdHge",
        "outputId": "1982df2a-7d2f-41a4-abed-c2fd255bf5a1",
        "colab": {
          "base_uri": "https://localhost:8080/"
        }
      },
      "outputs": [
        {
          "output_type": "execute_result",
          "data": {
            "text/plain": [
              "0.5"
            ]
          },
          "metadata": {},
          "execution_count": 37
        }
      ],
      "source": [
        "# (4) Cosine distance\n",
        "#     by definition, this will be 1 - 2 / (2 * 2)\n",
        "spd.cosine(df_traits.loc['Alice'], df_traits.loc['Bob'])"
      ]
    },
    {
      "cell_type": "code",
      "execution_count": null,
      "metadata": {
        "id": "5gu8ReZUdHge",
        "outputId": "08c04a23-a929-484d-aeb6-653a29e73644",
        "colab": {
          "base_uri": "https://localhost:8080/"
        }
      },
      "outputs": [
        {
          "output_type": "execute_result",
          "data": {
            "text/plain": [
              "array([[0.  , 0.5 , 0.25, 0.5 ],\n",
              "       [0.5 , 0.  , 0.5 , 0.25],\n",
              "       [0.25, 0.5 , 0.  , 0.25],\n",
              "       [0.5 , 0.25, 0.25, 0.  ]])"
            ]
          },
          "metadata": {},
          "execution_count": 38
        }
      ],
      "source": [
        "# As we have seen in Section 1, you can compute pairwise distance like\n",
        "# below, using any of the distance measurements. \n",
        "dist_traits = spd.squareform(spd.pdist(df_traits, 'cosine'))\n",
        "dist_traits[:4,:4]  # to save space, only show the top left 4x4 block"
      ]
    }
  ],
  "metadata": {
    "anaconda-cloud": {},
    "kernelspec": {
      "display_name": "Python 3",
      "language": "python",
      "name": "python3"
    },
    "language_info": {
      "codemirror_mode": {
        "name": "ipython",
        "version": 3
      },
      "file_extension": ".py",
      "mimetype": "text/x-python",
      "name": "python",
      "nbconvert_exporter": "python",
      "pygments_lexer": "ipython3",
      "version": "3.8.5"
    },
    "colab": {
      "provenance": []
    }
  },
  "nbformat": 4,
  "nbformat_minor": 0
}