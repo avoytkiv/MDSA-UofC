{
 "cells": [
  {
   "cell_type": "code",
   "execution_count": null,
   "metadata": {
    "collapsed": true
   },
   "outputs": [],
   "source": [
    "import numpy as np\n",
    "import pandas as pd\n",
    "import matplotlib.pyplot as plt\n",
    "import matplotlib.patches as patches\n",
    "import matplotlib.image as mpimg\n",
    "\n",
    "from PIL import Image\n",
    "from matplotlib.offsetbox import OffsetImage, AnnotationBbox\n",
    "\n",
    "import cv2\n",
    "import extcolors\n",
    "\n",
    "from colormap import rgb2hex"
   ]
  },
  {
   "cell_type": "code",
   "execution_count": null,
   "outputs": [],
   "source": [
    "\n",
    "input_name = '<photo location/name>'\n",
    "output_width = 900                   #set the output size\n",
    "img = Image.open(input_name)\n",
    "wpercent = (output_width/float(img.size[0]))\n",
    "hsize = int((float(img.size[1])*float(wpercent)))\n",
    "img = img.resize((output_width,hsize), Image.ANTIALIAS)\n",
    "\n",
    "#save\n",
    "resize_name = 'resize_' + input_name  #the resized image name\n",
    "img.save(resize_name)                 #output location can be specified before resize_name\n",
    "\n",
    "#read\n",
    "plt.figure(figsize=(9, 9))\n",
    "img_url = resize_name\n",
    "img = plt.imread(img_url)\n",
    "plt.imshow(img)\n",
    "plt.axis('off')\n",
    "plt.show()"
   ],
   "metadata": {
    "collapsed": false
   }
  },
  {
   "cell_type": "code",
   "execution_count": null,
   "outputs": [],
   "source": [
    "# Color extraction\n",
    "colors_x = extcolors.extract_from_path(img_url, tolerance = 12, limit = 12)\n",
    "colors_x"
   ],
   "metadata": {
    "collapsed": false
   }
  },
  {
   "cell_type": "code",
   "execution_count": null,
   "outputs": [],
   "source": [
    "# Define a function to convert the RGB values to hex\n",
    "def color_to_df(input):\n",
    "    colors_pre_list = str(input).replace('([(','').split(', (')[0:-1]\n",
    "    df_rgb = [i.split('), ')[0] + ')' for i in colors_pre_list]\n",
    "    df_percent = [i.split('), ')[1].replace(')','') for i in colors_pre_list]\n",
    "\n",
    "    #convert RGB to HEX code\n",
    "    df_color_up = [rgb2hex(int(i.split(\", \")[0].replace(\"(\",\"\")),\n",
    "                           int(i.split(\", \")[1]),\n",
    "                           int(i.split(\", \")[2].replace(\")\",\"\"))) for i in df_rgb]\n",
    "\n",
    "    df = pd.DataFrame(zip(df_color_up, df_percent), columns = ['c_code','occurence'])\n",
    "    return df\n",
    "\n",
    "df_color = color_to_df(colors_x)\n",
    "df_color"
   ],
   "metadata": {
    "collapsed": false
   }
  },
  {
   "cell_type": "code",
   "execution_count": null,
   "outputs": [],
   "source": [
    "# Plot a donut chart to visualize the result.\n",
    "list_color = list(df_color['c_code'])\n",
    "list_precent = [int(i) for i in list(df_color['occurence'])]\n",
    "text_c = [c + ' ' + str(round(p*100/sum(list_precent),1)) +'%' for c, p in zip(list_color,\n",
    "                                                                               list_precent)]\n",
    "fig, ax = plt.subplots(figsize=(90,90),dpi=10)\n",
    "wedges, text = ax.pie(list_precent,\n",
    "                      labels= text_c,\n",
    "                      labeldistance= 1.05,\n",
    "                      colors = list_color,\n",
    "                      textprops={'fontsize': 120, 'color':'black'}\n",
    "                      )\n",
    "plt.setp(wedges, width=0.3)\n",
    "\n",
    "#create space in the center\n",
    "plt.setp(wedges, width=0.36)\n",
    "\n",
    "ax.set_aspect(\"equal\")\n",
    "fig.set_facecolor('white')\n",
    "plt.show()"
   ],
   "metadata": {
    "collapsed": false
   }
  },
  {
   "cell_type": "code",
   "execution_count": null,
   "outputs": [],
   "source": [
    "# Create a color palette and label them with the HEX color codes. If the limit number in the extracting step is set up with more than 12 colors, the X-axis and Y-axis values can be modified to accommodate the result.\n",
    "#create background color\n",
    "fig, ax = plt.subplots(figsize=(192,108),dpi=10)\n",
    "fig.set_facecolor('white')\n",
    "plt.savefig('bg.png')\n",
    "plt.close(fig)\n",
    "\n",
    "#create color palette\n",
    "bg = plt.imread('bg.png')\n",
    "fig = plt.figure(figsize=(90, 90), dpi = 10)\n",
    "ax = fig.add_subplot(1,1,1)\n",
    "\n",
    "x_posi, y_posi, y_posi2 = 320, 25, 25\n",
    "for c in list_color:\n",
    "    if  list_color.index(c) <= 5:\n",
    "        y_posi += 125\n",
    "        rect = patches.Rectangle((x_posi, y_posi), 290, 115, facecolor = c)\n",
    "        ax.add_patch(rect)\n",
    "        ax.text(x = x_posi+360, y = y_posi+80, s = c, fontdict={'fontsize': 150})\n",
    "    else:\n",
    "        y_posi2 += 125\n",
    "        rect = patches.Rectangle((x_posi + 800, y_posi2), 290, 115, facecolor = c)\n",
    "        ax.add_artist(rect)\n",
    "        ax.text(x = x_posi+1160, y = y_posi2+80, s = c, fontdict={'fontsize': 150})\n",
    "\n",
    "ax.axis('off')\n",
    "plt.imshow(bg)\n",
    "plt.tight_layout()"
   ],
   "metadata": {
    "collapsed": false
   }
  },
  {
   "cell_type": "code",
   "execution_count": null,
   "outputs": [],
   "source": [
    "# Combine the code above to create a color palette with the original photo.\n",
    "img = mpimg.imread('<photo location/name>')\n",
    "bg = plt.imread('bg.png')\n",
    "\n",
    "fig, (ax1, ax2) = plt.subplots(1, 2, figsize=(160,120), dpi = 10)\n",
    "\n",
    "#donut plot\n",
    "wedges, text = ax1.pie(list_precent,\n",
    "                       labels= text_c,\n",
    "                       labeldistance= 1.05,\n",
    "                       colors = list_color,\n",
    "                       textprops={'fontsize': 160, 'color':'black'})\n",
    "plt.setp(wedges, width=0.3)\n",
    "\n",
    "#add image in the center of donut plot\n",
    "imagebox = OffsetImage(img, zoom=2.3)\n",
    "ab = AnnotationBbox(imagebox, (0, 0))\n",
    "ax1.add_artist(ab)\n",
    "\n",
    "#color palette\n",
    "x_posi, y_posi, y_posi2 = 160, -170, -170\n",
    "for c in list_color:\n",
    "    if list_color.index(c) <= 5:\n",
    "        y_posi += 180\n",
    "        rect = patches.Rectangle((x_posi, y_posi), 360, 160, facecolor = c)\n",
    "        ax2.add_patch(rect)\n",
    "        ax2.text(x = x_posi+400, y = y_posi+100, s = c, fontdict={'fontsize': 190})\n",
    "    else:\n",
    "        y_posi2 += 180\n",
    "        rect = patches.Rectangle((x_posi + 1000, y_posi2), 360, 160, facecolor = c)\n",
    "        ax2.add_artist(rect)\n",
    "        ax2.text(x = x_posi+1400, y = y_posi2+100, s = c, fontdict={'fontsize': 190})\n",
    "\n",
    "ax2.axis('off')\n",
    "fig.set_facecolor('white')\n",
    "plt.imshow(bg)\n",
    "plt.tight_layout()"
   ],
   "metadata": {
    "collapsed": false
   }
  },
  {
   "cell_type": "code",
   "execution_count": null,
   "outputs": [],
   "source": [
    "# Wrap into a function\n",
    "def exact_color(input_image, resize, tolerance, zoom):\n",
    "    #background\n",
    "    bg = 'bg.png'\n",
    "    fig, ax = plt.subplots(figsize=(192,108),dpi=10)\n",
    "    fig.set_facecolor('white')\n",
    "    plt.savefig(bg)\n",
    "    plt.close(fig)\n",
    "\n",
    "    #resize\n",
    "    output_width = resize\n",
    "    img = Image.open(input_image)\n",
    "    if img.size[0] >= resize:\n",
    "        wpercent = (output_width/float(img.size[0]))\n",
    "        hsize = int((float(img.size[1])*float(wpercent)))\n",
    "        img = img.resize((output_width,hsize), Image.ANTIALIAS)\n",
    "        resize_name = 'resize_'+ input_image\n",
    "        img.save(resize_name)\n",
    "    else:\n",
    "        resize_name = input_image\n",
    "\n",
    "    #crate dataframe\n",
    "    img_url = resize_name\n",
    "    colors_x = extcolors.extract_from_path(img_url, tolerance = tolerance, limit = 13)\n",
    "    df_color = color_to_df(colors_x)\n",
    "\n",
    "    #annotate text\n",
    "    list_color = list(df_color['c_code'])\n",
    "    list_precent = [int(i) for i in list(df_color['occurence'])]\n",
    "    text_c = [c + ' ' + str(round(p*100/sum(list_precent),1)) +'%' for c, p in zip(list_color, list_precent)]\n",
    "    fig, (ax1, ax2) = plt.subplots(1, 2, figsize=(160,120), dpi = 10)\n",
    "\n",
    "    #donut plot\n",
    "    wedges, text = ax1.pie(list_precent,\n",
    "                           labels= text_c,\n",
    "                           labeldistance= 1.05,\n",
    "                           colors = list_color,\n",
    "                           textprops={'fontsize': 150, 'color':'black'})\n",
    "    plt.setp(wedges, width=0.3)\n",
    "\n",
    "    #add image in the center of donut plot\n",
    "    img = mpimg.imread(resize_name)\n",
    "    imagebox = OffsetImage(img, zoom=zoom)\n",
    "    ab = AnnotationBbox(imagebox, (0, 0))\n",
    "    ax1.add_artist(ab)\n",
    "\n",
    "    #color palette\n",
    "    x_posi, y_posi, y_posi2 = 160, -170, -170\n",
    "    for c in list_color:\n",
    "        if list_color.index(c) <= 5:\n",
    "            y_posi += 180\n",
    "            rect = patches.Rectangle((x_posi, y_posi), 360, 160, facecolor = c)\n",
    "            ax2.add_patch(rect)\n",
    "            ax2.text(x = x_posi+400, y = y_posi+100, s = c, fontdict={'fontsize': 190})\n",
    "        else:\n",
    "            y_posi2 += 180\n",
    "            rect = patches.Rectangle((x_posi + 1000, y_posi2), 360, 160, facecolor = c)\n",
    "            ax2.add_artist(rect)\n",
    "            ax2.text(x = x_posi+1400, y = y_posi2+100, s = c, fontdict={'fontsize': 190})\n",
    "\n",
    "    fig.set_facecolor('white')\n",
    "    ax2.axis('off')\n",
    "    bg = plt.imread('bg.png')\n",
    "    plt.imshow(bg)\n",
    "    plt.tight_layout()\n",
    "    return plt.show()"
   ],
   "metadata": {
    "collapsed": false
   }
  },
  {
   "cell_type": "code",
   "execution_count": null,
   "outputs": [],
   "source": [
    "# Apply the function\n",
    "exact_color('image name', resized_width, tolerance, zoom)"
   ],
   "metadata": {
    "collapsed": false
   }
  }
 ],
 "metadata": {
  "kernelspec": {
   "display_name": "Python 3",
   "language": "python",
   "name": "python3"
  },
  "language_info": {
   "codemirror_mode": {
    "name": "ipython",
    "version": 2
   },
   "file_extension": ".py",
   "mimetype": "text/x-python",
   "name": "python",
   "nbconvert_exporter": "python",
   "pygments_lexer": "ipython2",
   "version": "2.7.6"
  }
 },
 "nbformat": 4,
 "nbformat_minor": 0
}
