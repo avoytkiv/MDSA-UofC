{
  "cells": [
    {
      "cell_type": "code",
      "execution_count": 1,
      "metadata": {
        "id": "QJ7d4vRf0eCh"
      },
      "outputs": [],
      "source": [
        "!apt-get install openjdk-8-jdk-headless -qq > /dev/null\n",
        "!wget -q http://archive.apache.org/dist/spark/spark-3.1.1/spark-3.1.1-bin-hadoop3.2.tgz\n",
        "!tar xf spark-3.1.1-bin-hadoop3.2.tgz\n",
        "!pip install -q findspark"
      ]
    },
    {
      "cell_type": "code",
      "source": [],
      "metadata": {
        "id": "1Sg5_0v-g7Wc"
      },
      "execution_count": null,
      "outputs": []
    },
    {
      "cell_type": "code",
      "execution_count": 2,
      "metadata": {
        "id": "T4UHTU9VDObv"
      },
      "outputs": [],
      "source": [
        "import os\n",
        "os.environ[\"JAVA_HOME\"] = \"/usr/lib/jvm/java-8-openjdk-amd64\"\n",
        "os.environ[\"SPARK_HOME\"] = \"/content/spark-3.1.1-bin-hadoop3.2\""
      ]
    },
    {
      "cell_type": "markdown",
      "source": [],
      "metadata": {
        "id": "yKBcbEMwkkvG"
      }
    },
    {
      "cell_type": "code",
      "execution_count": 3,
      "metadata": {
        "colab": {
          "base_uri": "https://localhost:8080/",
          "height": 196
        },
        "id": "Ks5W5XlzF3Ia",
        "outputId": "bcf343c4-39ff-4c53-ddd4-45c970c77782"
      },
      "outputs": [
        {
          "output_type": "execute_result",
          "data": {
            "text/plain": [
              "<SparkContext master=local[*] appName=pyspark-shell>"
            ],
            "text/html": [
              "\n",
              "        <div>\n",
              "            <p><b>SparkContext</b></p>\n",
              "\n",
              "            <p><a href=\"http://83e9c1dcbdf8:4040\">Spark UI</a></p>\n",
              "\n",
              "            <dl>\n",
              "              <dt>Version</dt>\n",
              "                <dd><code>v3.1.1</code></dd>\n",
              "              <dt>Master</dt>\n",
              "                <dd><code>local[*]</code></dd>\n",
              "              <dt>AppName</dt>\n",
              "                <dd><code>pyspark-shell</code></dd>\n",
              "            </dl>\n",
              "        </div>\n",
              "        "
            ]
          },
          "metadata": {},
          "execution_count": 3
        }
      ],
      "source": [
        "import findspark\n",
        "findspark.init()\n",
        "from pyspark import SparkConf\n",
        "from pyspark.context import SparkContext\n",
        "sc = SparkContext.getOrCreate(SparkConf().setMaster(\"local[*]\"))\n",
        "sc"
      ]
    },
    {
      "cell_type": "code",
      "execution_count": 4,
      "metadata": {
        "colab": {
          "base_uri": "https://localhost:8080/"
        },
        "id": "1rYYNJDnJTfC",
        "outputId": "bafefdf4-2ad0-493c-808b-45ed4f29f428"
      },
      "outputs": [
        {
          "output_type": "stream",
          "name": "stdout",
          "text": [
            "Default parallelism: 2\n"
          ]
        }
      ],
      "source": [
        "print(\"Default parallelism:\", sc.defaultParallelism)"
      ]
    },
    {
      "cell_type": "code",
      "source": [
        "rng_nums = sc.parallelize(range(1_000_000))\n",
        "print (rng_nums.getNumPartitions())"
      ],
      "metadata": {
        "colab": {
          "base_uri": "https://localhost:8080/"
        },
        "id": "HlGckJqDiTCt",
        "outputId": "190cc3ee-0581-4f26-a77e-3b127013acf7"
      },
      "execution_count": 5,
      "outputs": [
        {
          "output_type": "stream",
          "name": "stdout",
          "text": [
            "2\n"
          ]
        }
      ]
    },
    {
      "cell_type": "code",
      "source": [
        "rng_nums = sc.parallelize(range(1_000_000), sc.defaultParallelism * 10)\n",
        "print (rng_nums.getNumPartitions())"
      ],
      "metadata": {
        "colab": {
          "base_uri": "https://localhost:8080/"
        },
        "id": "vPP5IOlVimRP",
        "outputId": "2537dc67-24d9-48c5-881e-1fd8aa530d38"
      },
      "execution_count": 6,
      "outputs": [
        {
          "output_type": "stream",
          "name": "stdout",
          "text": [
            "20\n"
          ]
        }
      ]
    },
    {
      "cell_type": "code",
      "source": [],
      "metadata": {
        "id": "V5kHvoK0i6Sw"
      },
      "execution_count": null,
      "outputs": []
    },
    {
      "cell_type": "code",
      "source": [
        "# Calculating squares on an array\n",
        "\n",
        "nums = sc.parallelize( [1,2,3,4,5,6,7,8,9,10])\n",
        "nums = nums.map(lambda x: x*x)\n",
        "nums = nums.collect()\n",
        "print(nums)"
      ],
      "metadata": {
        "colab": {
          "base_uri": "https://localhost:8080/"
        },
        "id": "a-J8SCMyiFKv",
        "outputId": "f69102e6-9c9e-44d2-9fc1-6c019c9857be"
      },
      "execution_count": 7,
      "outputs": [
        {
          "output_type": "stream",
          "name": "stdout",
          "text": [
            "[1, 4, 9, 16, 25, 36, 49, 64, 81, 100]\n"
          ]
        }
      ]
    },
    {
      "cell_type": "code",
      "source": [
        "# Fun with counting prime numbers\n",
        "\n",
        "def is_prime(n):\n",
        "    if n < 2: return False\n",
        "    for div in range(2, int(n**0.5)+1):\n",
        "        if n % div == 0: return False\n",
        "    return True\n",
        "\n",
        "nums = range(1, 2_000_000)"
      ],
      "metadata": {
        "id": "d_atz2z_i7cO"
      },
      "execution_count": 8,
      "outputs": []
    },
    {
      "cell_type": "code",
      "source": [
        "# vanilla python (not Spark)\n",
        "\n",
        "%time n = sum(map(is_prime, nums))\n",
        "print(n)"
      ],
      "metadata": {
        "colab": {
          "base_uri": "https://localhost:8080/"
        },
        "id": "d851VEXpjPp7",
        "outputId": "e4c57372-f144-4ac1-d54a-bb44465789ed"
      },
      "execution_count": 9,
      "outputs": [
        {
          "output_type": "stream",
          "name": "stdout",
          "text": [
            "CPU times: user 15.2 s, sys: 24.5 ms, total: 15.2 s\n",
            "Wall time: 15.4 s\n",
            "148933\n"
          ]
        }
      ]
    },
    {
      "cell_type": "code",
      "source": [
        "# parallelized on Spark (2 partitions)\n",
        "\n",
        "%time res = sc.parallelize( nums) # this creates an RDD \n",
        "%time res = res.filter( is_prime) # we get rid of all non-prime numbers\n",
        "%time res = res.count()           # count the number of items in the filter\n",
        "print(res)"
      ],
      "metadata": {
        "colab": {
          "base_uri": "https://localhost:8080/"
        },
        "id": "USDDyr3bjeh-",
        "outputId": "32c76600-acd1-4e64-d7cc-f11232fafc21"
      },
      "execution_count": 10,
      "outputs": [
        {
          "output_type": "stream",
          "name": "stdout",
          "text": [
            "CPU times: user 1.57 ms, sys: 0 ns, total: 1.57 ms\n",
            "Wall time: 8.45 ms\n",
            "CPU times: user 19 µs, sys: 0 ns, total: 19 µs\n",
            "Wall time: 21.2 µs\n",
            "CPU times: user 71.4 ms, sys: 8.34 ms, total: 79.7 ms\n",
            "Wall time: 13.9 s\n",
            "148933\n"
          ]
        }
      ]
    },
    {
      "cell_type": "code",
      "source": [
        "# Sequential on Spark (1 partition)\n",
        "%time res = sc.parallelize(nums, 1)\n",
        "%time res = res.filter( is_prime)\n",
        "%time res = res.count()\n",
        "print(res)"
      ],
      "metadata": {
        "colab": {
          "base_uri": "https://localhost:8080/"
        },
        "id": "PFyGexobj8_i",
        "outputId": "f42fd470-57a3-4fc4-e4e8-eece2d42412a"
      },
      "execution_count": 11,
      "outputs": [
        {
          "output_type": "stream",
          "name": "stdout",
          "text": [
            "CPU times: user 2.22 ms, sys: 6 µs, total: 2.22 ms\n",
            "Wall time: 9.47 ms\n",
            "CPU times: user 21 µs, sys: 0 ns, total: 21 µs\n",
            "Wall time: 24.6 µs\n",
            "CPU times: user 74 ms, sys: 8.26 ms, total: 82.2 ms\n",
            "Wall time: 14.2 s\n",
            "148933\n"
          ]
        }
      ]
    },
    {
      "cell_type": "code",
      "source": [
        "# many partitions (10x default)\n",
        "%time res = sc.parallelize( nums, sc.defaultParallelism * 10) \n",
        "%time res = res.filter( is_prime)\n",
        "%time res = res.count()          \n",
        "print(res)"
      ],
      "metadata": {
        "colab": {
          "base_uri": "https://localhost:8080/"
        },
        "id": "_9_VweVgkSiX",
        "outputId": "4607be38-a9a4-4bd6-f6ff-91ecfc515dce"
      },
      "execution_count": 12,
      "outputs": [
        {
          "output_type": "stream",
          "name": "stdout",
          "text": [
            "CPU times: user 2.46 ms, sys: 13 µs, total: 2.47 ms\n",
            "Wall time: 11.2 ms\n",
            "CPU times: user 22 µs, sys: 0 ns, total: 22 µs\n",
            "Wall time: 25.7 µs\n",
            "CPU times: user 67.5 ms, sys: 14.3 ms, total: 81.8 ms\n",
            "Wall time: 13.7 s\n",
            "148933\n"
          ]
        }
      ]
    }
  ],
  "metadata": {
    "colab": {
      "provenance": []
    },
    "kernelspec": {
      "display_name": "Python 3",
      "name": "python3"
    },
    "language_info": {
      "name": "python"
    }
  },
  "nbformat": 4,
  "nbformat_minor": 0
}