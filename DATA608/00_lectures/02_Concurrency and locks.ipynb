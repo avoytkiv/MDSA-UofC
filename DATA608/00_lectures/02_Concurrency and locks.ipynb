{
 "cells": [
  {
   "cell_type": "markdown",
   "metadata": {},
   "source": [
    "# Issues with concurrency\n",
    "\n",
    "With multiple tasks executing simultaneously, it's possible for unplanned events to arise. \n",
    "\n",
    "Because these are unplanned events, they can be difficult to diagnose, much less correct, so it's best to avoid them altogether (if possible). \n",
    "\n",
    "These unplanned events arise whenever mutliple tasks are using a shared resource. It is useful to share resources in theory, because then some tasks can be completed more quickly (or differently), but we have to be careful!\n",
    "\n",
    "The code below shows code which may behave unpredictably."
   ]
  },
  {
   "cell_type": "code",
   "execution_count": 9,
   "metadata": {},
   "outputs": [
    {
     "name": "stdout",
     "output_type": "stream",
     "text": [
      "Counter = 0\n"
     ]
    }
   ],
   "source": [
    "from threading import Thread\n",
    "\n",
    "counter = 0\n",
    "n = 10_000 # try bigger/smaller values\n",
    "\n",
    "def inc():\n",
    "   global counter\n",
    "   for i in range(100000):\n",
    "       counter += 1\n",
    "        # read in the value of counter\n",
    "            # read in the value of counter\n",
    "            # change the value of counter\n",
    "        # change the value of counter\n",
    "            # read out the value of counter\n",
    "        # read out the value counter\n",
    "\n",
    "def dec():\n",
    "   global counter\n",
    "   for i in range(100000):\n",
    "       counter -= 1\n",
    "\n",
    "t1 = Thread(target=inc)\n",
    "t2 = Thread(target=dec)\n",
    "t1.start()\n",
    "t2.start()\n",
    "t1.join()\n",
    "t2.join()\n",
    "\n",
    "print( \"Counter =\", counter)\n"
   ]
  },
  {
   "cell_type": "markdown",
   "metadata": {},
   "source": [
    "This happens because there are multiple ways for t1 and t2 to run. They can run in any order, but it is also possible for t1 to be in the middle of running while t2 begins, or vice versa. This can happen with processes as well."
   ]
  },
  {
   "cell_type": "code",
   "execution_count": 11,
   "metadata": {},
   "outputs": [
    {
     "name": "stdout",
     "output_type": "stream",
     "text": [
      "Overwriting my_counter.py\n"
     ]
    }
   ],
   "source": [
    "%%file my_counter.py\n",
    "def load():\n",
    "    try:\n",
    "        with open(\"counter.txt\") as f:\n",
    "            return int(f.read())\n",
    "    except:\n",
    "        return 0\n",
    "\n",
    "def save(num):\n",
    "    with open(\"counter.txt\", \"w\") as f:\n",
    "        f.write(str(num))\n",
    "        \n",
    "def inc():\n",
    "    for i in range(1000):\n",
    "        n = load()\n",
    "        n = n + 1\n",
    "        save(n)\n",
    "\n",
    "def dec():\n",
    "    for i in range(1000):\n",
    "        n = load()\n",
    "        n = n - 1\n",
    "        save(n)"
   ]
  },
  {
   "cell_type": "code",
   "execution_count": 12,
   "metadata": {},
   "outputs": [],
   "source": [
    "# The code in this cell just insures that we don't have to restart the kernel if we modify my_counter.py\n",
    "import importlib\n",
    "\n",
    "try:\n",
    "    importlib.reload(mc)\n",
    "except:\n",
    "    pass"
   ]
  },
  {
   "cell_type": "code",
   "execution_count": 15,
   "metadata": {},
   "outputs": [
    {
     "name": "stdout",
     "output_type": "stream",
     "text": [
      "0\n",
      "1000\n",
      "0\n"
     ]
    }
   ],
   "source": [
    "import my_counter as mc\n",
    "\n",
    "mc.save(0)\n",
    "print(mc.load())\n",
    "mc.inc()\n",
    "print(mc.load())\n",
    "mc.dec()\n",
    "print(mc.load())"
   ]
  },
  {
   "cell_type": "code",
   "execution_count": 19,
   "metadata": {},
   "outputs": [
    {
     "name": "stdout",
     "output_type": "stream",
     "text": [
      "Counter = -39\n"
     ]
    }
   ],
   "source": [
    "from multiprocessing import Process\n",
    "import my_counter as mc\n",
    "\n",
    "mc.save(0)\n",
    "\n",
    "p1 = Process(target=mc.inc)\n",
    "p2 = Process(target=mc.dec)\n",
    "\n",
    "p1.start()\n",
    "p2.start()\n",
    "\n",
    "p1.join()\n",
    "p2.join()\n",
    "\n",
    "print(\"Counter =\", mc.load())\n",
    "\n"
   ]
  },
  {
   "cell_type": "markdown",
   "metadata": {},
   "source": [
    "# Locks"
   ]
  },
  {
   "cell_type": "markdown",
   "metadata": {},
   "source": [
    "One of the mechanisms we use is a **lock**. We can identify all the parts of the program where a shared resource could be accessed, and ensure that these cannot run concurrently. \n",
    "\n",
    "We do this by requiring that each of these parts acquire a lock before running. Any other threads or processes which would like to run, but which doesn't have a lock is blocked from running until the one holding the lock gets through their code."
   ]
  },
  {
   "cell_type": "code",
   "execution_count": 20,
   "metadata": {},
   "outputs": [
    {
     "name": "stdout",
     "output_type": "stream",
     "text": [
      "Counter = 0\n"
     ]
    }
   ],
   "source": [
    "from threading import Lock\n",
    "\n",
    "lock = Lock()\n",
    "counter = 0\n",
    "n = 1000\n",
    "\n",
    "\n",
    "# manual acquisition and release of locks\n",
    "def inc():\n",
    "    global counter\n",
    "    for i in range(n):\n",
    "        lock.acquire()\n",
    "        counter += 1\n",
    "        lock.release() \n",
    "\n",
    "#automatic release of locks\n",
    "def dec():\n",
    "    global counter\n",
    "    for i in range(n):\n",
    "        with lock: \n",
    "            counter -= 1\n",
    "            \n",
    "counter = 0\n",
    "\n",
    "t1 = Thread(target=inc)\n",
    "t2 = Thread(target=dec)\n",
    "\n",
    "t1.start()\n",
    "t2.start()\n",
    "\n",
    "t1.join()\n",
    "t2.join()\n",
    "\n",
    "print (\"Counter =\", counter)"
   ]
  },
  {
   "cell_type": "markdown",
   "metadata": {},
   "source": [
    "Processes and locks"
   ]
  },
  {
   "cell_type": "code",
   "execution_count": 21,
   "metadata": {},
   "outputs": [
    {
     "name": "stdout",
     "output_type": "stream",
     "text": [
      "Overwriting my_counter.py\n"
     ]
    }
   ],
   "source": [
    "%%file my_counter.py\n",
    "\n",
    "def load():\n",
    "    try:\n",
    "        with open(\"counter.txt\") as f:\n",
    "            return int(f.read())\n",
    "    except:\n",
    "        return 0\n",
    "    \n",
    "def save(num):\n",
    "    with open(\"counter.txt\", \"w\") as f:\n",
    "        f.write(str(num))\n",
    "        \n",
    "def inc(lock):\n",
    "    for i in range(1,1000):\n",
    "        with lock:\n",
    "            n = load()\n",
    "            n = n + 1\n",
    "            save(n)\n",
    "\n",
    "def dec(lock):\n",
    "    for i in range(1,1000):\n",
    "        with lock:\n",
    "            n = load()\n",
    "            n = n - 1\n",
    "            save(n)"
   ]
  },
  {
   "cell_type": "code",
   "execution_count": 22,
   "metadata": {},
   "outputs": [
    {
     "name": "stdout",
     "output_type": "stream",
     "text": [
      "counter= 0\n"
     ]
    }
   ],
   "source": [
    "from multiprocessing import Process, Lock\n",
    "import my_counter as mc\n",
    "\n",
    "lock = Lock()\n",
    "mc.save(0)\n",
    "p1 = Process(target = mc.inc, args=(lock,))\n",
    "p2 = Process(target = mc.dec, args=(lock,))\n",
    "\n",
    "p1.start()\n",
    "p2.start()\n",
    "p1.join()\n",
    "p2.join()\n",
    "\n",
    "print(\"counter=\", mc.load())"
   ]
  },
  {
   "cell_type": "markdown",
   "metadata": {},
   "source": [
    "The next thing we consider is what happens when we have separate locks for separate shared resources. Is it possible for these to interact in a way that's undesirable?"
   ]
  },
  {
   "cell_type": "code",
   "execution_count": null,
   "metadata": {},
   "outputs": [],
   "source": [
    "`"
   ]
  }
 ],
 "metadata": {
  "kernelspec": {
   "display_name": "Python 3",
   "language": "python",
   "name": "python3"
  },
  "language_info": {
   "codemirror_mode": {
    "name": "ipython",
    "version": 3
   },
   "file_extension": ".py",
   "mimetype": "text/x-python",
   "name": "python",
   "nbconvert_exporter": "python",
   "pygments_lexer": "ipython3",
   "version": "3.7.4"
  }
 },
 "nbformat": 4,
 "nbformat_minor": 2
}
