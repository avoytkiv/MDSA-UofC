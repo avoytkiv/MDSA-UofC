{
 "cells": [
  {
   "cell_type": "markdown",
   "metadata": {},
   "source": [
    "# Useful utilities and functions for working with data\n",
    "\n",
    "Before we get started on processes on threads, let's quickly review (or learn) some tools which we'll find useful.\n",
    "\n",
    "\n",
    "We can use `timer()` to time our Python code, or ``%%time`` to time code in a cell. \n",
    "\n",
    "## Timing your code"
   ]
  },
  {
   "cell_type": "code",
   "execution_count": 6,
   "outputs": [],
   "source": [
    "import sys\n",
    "sys.set_int_max_str_digits(1000000)"
   ],
   "metadata": {
    "collapsed": false
   }
  },
  {
   "cell_type": "code",
   "execution_count": 7,
   "metadata": {},
   "outputs": [
    {
     "name": "stdout",
     "output_type": "stream",
     "text": [
      "456574\n",
      "4.761s\n"
     ]
    }
   ],
   "source": [
    "# the code below calculates how mnay digits there are in 100000! \n",
    "# Something for you to look up: what is the difference between time.process_time, and time.perf_counter?\n",
    "\n",
    "from time import process_time as timer\n",
    "start = timer()\n",
    "\n",
    "x = 1 \n",
    "for i in range (1, 100001):\n",
    "    x= x * i\n",
    "print (len(str(x)))\n",
    "\n",
    "end = timer()\n",
    "\n",
    "print(\"{:.3f}s\".format(end-start))"
   ]
  },
  {
   "cell_type": "code",
   "execution_count": 8,
   "metadata": {},
   "outputs": [
    {
     "name": "stdout",
     "output_type": "stream",
     "text": [
      "456574\n",
      "CPU times: user 4.9 s, sys: 55.2 ms, total: 4.96 s\n",
      "Wall time: 5.13 s\n"
     ]
    }
   ],
   "source": [
    "%%time\n",
    "# now use %%time in this cell to time the same code!\n",
    "\n",
    "x = 1 \n",
    "for i in range (1, 100001):\n",
    "    x= x * i\n",
    "print (len(str(x)))"
   ]
  },
  {
   "cell_type": "markdown",
   "metadata": {},
   "source": [
    "What is the difference between `%%time and `%timeit`? "
   ]
  },
  {
   "cell_type": "code",
   "execution_count": 9,
   "metadata": {},
   "outputs": [
    {
     "name": "stdout",
     "output_type": "stream",
     "text": [
      "6.01 µs ± 138 ns per loop (mean ± std. dev. of 7 runs, 100,000 loops each)\n"
     ]
    }
   ],
   "source": [
    "def test_fact():\n",
    "    x = 1 \n",
    "    for i in range (1, 101):\n",
    "        x= x * i\n",
    "    #print (len(str(x)))\n",
    "\n",
    "%timeit test_fact()"
   ]
  },
  {
   "cell_type": "markdown",
   "metadata": {},
   "source": [
    "You can also use [the Python profiler](https://docs.python.org/3.7/library/profile.html) to test your code."
   ]
  },
  {
   "cell_type": "code",
   "execution_count": 10,
   "metadata": {},
   "outputs": [
    {
     "name": "stdout",
     "output_type": "stream",
     "text": [
      "456574\n",
      " "
     ]
    }
   ],
   "source": [
    "def test_fact():\n",
    "    x = 1 \n",
    "    for i in range (1, 100001):\n",
    "        x= x * i\n",
    "    print (len(str(x)))\n",
    "    \n",
    "%prun test_fact()"
   ]
  },
  {
   "cell_type": "markdown",
   "metadata": {},
   "source": [
    "## Finding a bunch of filenames\n",
    "\n",
    "The [`glob` library](https://docs.python.org/3/library/glob.html) is one of the most useful utility libraries in Python, as it lets you recursively search through a provided directory for matching folders.\n"
   ]
  },
  {
   "cell_type": "code",
   "execution_count": 11,
   "metadata": {},
   "outputs": [
    {
     "name": "stdout",
     "output_type": "stream",
     "text": [
      "['File Formats.ipynb', 'Concurrency and locks.ipynb', 'Multi-processing (Processes and Threads).ipynb']\n"
     ]
    }
   ],
   "source": [
    "import glob\n",
    "\n",
    "files = glob.glob('*.*py*')\n",
    "\n",
    "print (files)"
   ]
  },
  {
   "cell_type": "markdown",
   "metadata": {},
   "source": [
    "## Measuring memory usage\n",
    "\n",
    "`psutil` can be used to display the current memory usage of a process (There are differences in output between Mac/Linux and Windows due to underlying differences in the operating system)."
   ]
  },
  {
   "cell_type": "code",
   "execution_count": 12,
   "metadata": {},
   "outputs": [
    {
     "name": "stdout",
     "output_type": "stream",
     "text": [
      "65847296 \n",
      "\n",
      " pfullmem(rss=73138176, vms=35177992192, pfaults=32882, pageins=0, uss=65847296)\n"
     ]
    }
   ],
   "source": [
    "# This may also return an  \"Access denied\" error on Windows depending on which account you run it in\n",
    "\n",
    "import psutil\n",
    "p = psutil.Process()\n",
    "mi = p.memory_full_info()\n",
    "print (mi.uss, \"\\n\\n\", mi)"
   ]
  },
  {
   "cell_type": "markdown",
   "metadata": {},
   "source": [
    "##  Memory Profiling\n",
    "\n",
    "You may need to install `memory_profiler` using pip or conda, but you can use this package to collect data about how your code is performing at regular intervals"
   ]
  },
  {
   "cell_type": "code",
   "execution_count": 14,
   "metadata": {},
   "outputs": [
    {
     "name": "stdout",
     "output_type": "stream",
     "text": [
      "[127.25, 127.27734375, 127.27734375, 127.27734375, 127.27734375, 127.27734375, 127.27734375, 127.27734375, 127.27734375, 127.27734375, 127.27734375, 130.33203125, 134.91015625, 134.91015625, 134.91015625, 134.91015625, 134.91015625, 134.91015625, 134.91015625, 134.91015625, 134.91015625, 138.7265625, 138.53515625, 138.53515625, 138.53515625, 138.53515625, 138.53515625, 138.53515625, 138.53515625, 138.53515625, 138.53515625, 138.34375, 138.34375, 138.34375, 138.34375, 138.34375, 138.34375, 138.34375, 138.34375, 138.34375, 138.34375, 138.34765625]\n",
      "Peak observed memory: 11.4765625\n"
     ]
    },
    {
     "data": {
      "text/plain": "<Figure size 640x480 with 1 Axes>",
      "image/png": "[encoded data removed]"
     },
     "metadata": {},
     "output_type": "display_data"
    }
   ],
   "source": [
    "import time\n",
    "import memory_profiler\n",
    "\n",
    "def sleepy_func():\n",
    "    time.sleep(1)\n",
    "    x = [1] * 1_000_000\n",
    "    time.sleep(1)\n",
    "    x = [1] * 500_000\n",
    "    time.sleep(1)\n",
    "    x = []\n",
    "    time.sleep(1)\n",
    "\n",
    "mem = memory_profiler.memory_usage(proc=sleepy_func, interval = 0.1)\n",
    "print (mem)\n",
    "print (\"Peak observed memory:\", max(mem) - min(mem))\n",
    "\n",
    "%matplotlib inline \n",
    "import matplotlib.pyplot as plt\n",
    "plt.plot(mem)\n",
    "plt.show()"
   ]
  },
  {
   "cell_type": "markdown",
   "metadata": {},
   "source": [
    "# Concurrent programming with processes\n",
    "\n",
    "Consider the functions below - we'll use them for the next couple of examples"
   ]
  },
  {
   "cell_type": "code",
   "execution_count": 15,
   "metadata": {},
   "outputs": [
    {
     "name": "stdout",
     "output_type": "stream",
     "text": [
      "func1 pid=99415 ppid=30394\n",
      "func2 pid=99415 ppid=30394\n"
     ]
    }
   ],
   "source": [
    "import os\n",
    "\n",
    "def func1():\n",
    "    pid = os.getpid()  # get unique process ID\n",
    "    ppid = os.getppid()  # get the process ID of the parent\n",
    "    print (\"func1 pid={:d} ppid={:d}\".format(pid, ppid))\n",
    "           \n",
    "def func2():\n",
    "    pid = os.getpid()  # get unique process ID\n",
    "    ppid = os.getppid()  # get the process ID of the parent\n",
    "    print (\"func2 pid={:d} ppid={:d}\".format(pid, ppid))\n",
    "\n",
    "# run both methods sequentially\n",
    "func1()\n",
    "func2()"
   ]
  },
  {
   "cell_type": "markdown",
   "metadata": {},
   "source": [
    "## Using `multiprocessing`\n",
    "\n",
    "We can use the `multiprocessing` module to start each function in its own process"
   ]
  },
  {
   "cell_type": "code",
   "execution_count": 17,
   "metadata": {},
   "outputs": [
    {
     "name": "stdout",
     "output_type": "stream",
     "text": [
      "main pid =99415 ppid=30394\n"
     ]
    },
    {
     "name": "stderr",
     "output_type": "stream",
     "text": [
      "Traceback (most recent call last):\n",
      "  File \"<string>\", line 1, in <module>\n",
      "  File \"/usr/local/Cellar/python@3.9/3.9.16/Frameworks/Python.framework/Versions/3.9/lib/python3.9/multiprocessing/spawn.py\", line 116, in spawn_main\n",
      "    exitcode = _main(fd, parent_sentinel)\n",
      "  File \"/usr/local/Cellar/python@3.9/3.9.16/Frameworks/Python.framework/Versions/3.9/lib/python3.9/multiprocessing/spawn.py\", line 126, in _main\n",
      "    self = reduction.pickle.load(from_parent)\n",
      "AttributeError: Can't get attribute 'func1' on <module '__main__' (built-in)>\n",
      "Traceback (most recent call last):\n",
      "  File \"<string>\", line 1, in <module>\n",
      "  File \"/usr/local/Cellar/python@3.9/3.9.16/Frameworks/Python.framework/Versions/3.9/lib/python3.9/multiprocessing/spawn.py\", line 116, in spawn_main\n",
      "    exitcode = _main(fd, parent_sentinel)\n",
      "  File \"/usr/local/Cellar/python@3.9/3.9.16/Frameworks/Python.framework/Versions/3.9/lib/python3.9/multiprocessing/spawn.py\", line 126, in _main\n",
      "    self = reduction.pickle.load(from_parent)\n",
      "AttributeError: Can't get attribute 'func2' on <module '__main__' (built-in)>\n"
     ]
    }
   ],
   "source": [
    "# if you're on Windows, wait! You'll notice func1 and func2 don't actually seem to produce output\n",
    "\n",
    "from multiprocessing import Process\n",
    "\n",
    "# These lines prepare a Process for each function, but doesn't start it\n",
    "\n",
    "p1 = Process(target = func1)\n",
    "p2 = Process(target = func2)\n",
    "\n",
    "p1.start()\n",
    "p2.start()\n",
    "\n",
    "# We now have three processes: main, p1, and p2\n",
    "print (\"main pid ={:d} ppid={:d}\".format(os.getpid(), os.getppid()))\n",
    "\n",
    "# Wait for each process to finish\n",
    "p1.join()\n",
    "p2.join()"
   ]
  },
  {
   "cell_type": "markdown",
   "metadata": {},
   "source": [
    "### Windows and Jupyter\n",
    "\n",
    "You'll notice that we didn't get the expected output, if you were on Windows\n",
    "* Output from `print()` doesn't seem to show up (fix: export to file)\n",
    "* Newly spawned processes can't execute functions defined in the same notebook\n",
    "    * We'll write our functions to a different file (though we'll still see it in the same notebook)\n",
    "    * use `%%file`"
   ]
  },
  {
   "cell_type": "code",
   "execution_count": 18,
   "metadata": {},
   "outputs": [
    {
     "name": "stdout",
     "output_type": "stream",
     "text": [
      "Writing funcs_12.py\n"
     ]
    }
   ],
   "source": [
    "%%file funcs_12.py\n",
    "\n",
    "import os\n",
    "\n",
    "def func1():\n",
    "    pid = os.getpid()\n",
    "    ppid = os.getppid()\n",
    "    str = \"func1 pid={:d} ppid={:d}\".format(pid, ppid)\n",
    "    open(\"func1.txt\", \"w\").write(str) # instead of print\n",
    "\n",
    "def func2():\n",
    "    pid = os.getpid()\n",
    "    ppid = os.getppid()\n",
    "    str = \"func2 pid={:d} ppid={:d}\".format(pid, ppid)\n",
    "    open(\"func2.txt\", \"w\").write(str)\n"
   ]
  },
  {
   "cell_type": "code",
   "execution_count": 19,
   "metadata": {},
   "outputs": [
    {
     "name": "stdout",
     "output_type": "stream",
     "text": [
      "main pid =99415 ppid=30394\n",
      "func1 pid=523 ppid=99415\n",
      "func2 pid=524 ppid=99415\n"
     ]
    }
   ],
   "source": [
    "# We can try our code again, but we have to import func1 and func2\n",
    "\n",
    "from multiprocessing import Process\n",
    "from funcs_12 import func1, func2\n",
    "\n",
    "# These lines prepare a Process for each function, but doesn't start it\n",
    "\n",
    "p1 = Process(target = func1)\n",
    "p2 = Process(target = func2)\n",
    "\n",
    "p1.start()\n",
    "p2.start()\n",
    "\n",
    "# We now have three processes: main, p1, and p2\n",
    "print (\"main pid ={:d} ppid={:d}\".format(os.getpid(), os.getppid()))\n",
    "\n",
    "# Wait for each process to finish\n",
    "p1.join()\n",
    "p2.join()\n",
    "\n",
    "# and print the output from func1.txt and funct2.txt\n",
    "print(open(\"func1.txt\").read(), open (\"func2.txt\").read(), sep=\"\\n\")"
   ]
  },
  {
   "cell_type": "markdown",
   "metadata": {},
   "source": [
    "## Using `Threading`\n",
    "\n",
    "Next, we'll investigate the differences between processes and threads. First, let's set up a couple of functions to play with.\n"
   ]
  },
  {
   "cell_type": "code",
   "execution_count": 20,
   "metadata": {},
   "outputs": [
    {
     "name": "stdout",
     "output_type": "stream",
     "text": [
      "Writing my_sums.py\n"
     ]
    }
   ],
   "source": [
    "%%file my_sums.py\n",
    "\n",
    "sum1 = 0\n",
    "sum2 = 0\n",
    "\n",
    "def do_sum1(a):\n",
    "    global sum1\n",
    "    sum1 = 0\n",
    "    for x in a:\n",
    "        sum1 += x;\n",
    "\n",
    "def do_sum2(a):\n",
    "    global sum2\n",
    "    sum2 = sum(a)\n"
   ]
  },
  {
   "cell_type": "markdown",
   "metadata": {},
   "source": [
    "Note that if we use processes to run these methods, these methods cannot interact \"as planned\" since processes do not share anything (especially memory). The process running `do_sum1()` would not be able to share `sum1` even if it's defined as global with the process running `do_sum2()`, and the same holds true for `sum2`.\n",
    "\n",
    "However, we can use threading instead."
   ]
  },
  {
   "cell_type": "code",
   "execution_count": 21,
   "metadata": {},
   "outputs": [
    {
     "name": "stdout",
     "output_type": "stream",
     "text": [
      "total = 190 expected:  190\n"
     ]
    }
   ],
   "source": [
    "from threading import Thread\n",
    "import my_sums\n",
    "\n",
    "evens = [i*2 for i in range(10)]\n",
    "odds = [i*2+1 for i in range(10)]\n",
    "\n",
    "p1 = Thread(target=my_sums.do_sum1,args=(evens,))\n",
    "p2 = Thread(target=my_sums.do_sum2,args=(odds,))\n",
    "p1.start()\n",
    "p2.start()\n",
    "p1.join()\n",
    "p2.join()\n",
    "total = my_sums.sum1 + my_sums.sum2\n",
    "\n",
    "print(\"total =\", total, \"expected: \", sum(range(10 * 2)))\n"
   ]
  },
  {
   "cell_type": "markdown",
   "metadata": {},
   "source": [
    "Next, time the code below to investigate how using multithreading affects your runtime"
   ]
  },
  {
   "cell_type": "code",
   "execution_count": 22,
   "metadata": {},
   "outputs": [
    {
     "name": "stdout",
     "output_type": "stream",
     "text": [
      "CPU times: user 2.48 s, sys: 4.72 s, total: 7.2 s\n",
      "Wall time: 7.85 s\n"
     ]
    }
   ],
   "source": [
    "%%time\n",
    "\n",
    "import numpy as np\n",
    "from threading import Thread\n",
    "\n",
    "n = 320_000_000\n",
    "evens = np.arange(0, n*2, 2)\n",
    "odds = np.arange(1,n*2, 2)\n",
    "\n",
    "def do_sum1(a):\n",
    "    global sum1\n",
    "    sum1 = np.sum(a)\n",
    "\n",
    "def do_sum2(a):\n",
    "    global sum2\n",
    "    sum2 = np.sum(a)\n",
    "\n",
    "do_sum1(evens)\n",
    "do_sum2 (odds)"
   ]
  },
  {
   "cell_type": "code",
   "execution_count": 24,
   "metadata": {},
   "outputs": [],
   "source": [
    "p1 = Thread(target=do_sum1,args=(evens,))\n",
    "p2 = Thread(target=do_sum2,args=(odds,))\n",
    "p1.start()\n",
    "p2.start()\n",
    "p1.join()\n",
    "p2.join()\n"
   ]
  },
  {
   "cell_type": "markdown",
   "metadata": {},
   "source": [
    "Exercise: try implementing this with processes and time it"
   ]
  },
  {
   "cell_type": "markdown",
   "metadata": {},
   "source": [
    "## Thread pools\n",
    "\n",
    "Next, we'll use `ThreadPool` to more economically execute our tasks. Try timing the block of code below.\n",
    "\n",
    "How many threads did we spin off?"
   ]
  },
  {
   "cell_type": "code",
   "execution_count": 44,
   "metadata": {},
   "outputs": [
    {
     "name": "stdout",
     "output_type": "stream",
     "text": [
      "(1000000, 18)\n",
      "Wall time: 10.1 s\n"
     ]
    }
   ],
   "source": [
    "%%time\n",
    "\n",
    "import multiprocessing, os\n",
    "from multiprocessing.pool import ThreadPool\n",
    "import pandas as pd\n",
    "\n",
    "# We'll use this global to store results\n",
    "results = []\n",
    "\n",
    "def read_csv(path):\n",
    "    results.append(pd.read_csv(path))\n",
    "    \n",
    "# remember that pandas can read file names directly from a URL as well\n",
    "paths_fmt = \"taxi-1mil-rows/taxi-1mil-{:03d}.csv\"\n",
    "paths = [paths_fmt.format(i) for i in range(30)]\n",
    "\n",
    "pool = ThreadPool(processes=multiprocessing.cpu_count())\n",
    "res = pool.map(read_csv,paths)\n",
    "\n",
    "df = pd.concat(results)\n",
    "print(df.shape)"
   ]
  },
  {
   "cell_type": "code",
   "execution_count": 41,
   "metadata": {},
   "outputs": [
    {
     "name": "stdout",
     "output_type": "stream",
     "text": [
      "8\n"
     ]
    }
   ],
   "source": [
    "print(multiprocessing.cpu_count())"
   ]
  },
  {
   "cell_type": "markdown",
   "metadata": {},
   "source": [
    "Now let's try this using processes."
   ]
  },
  {
   "cell_type": "code",
   "execution_count": 42,
   "metadata": {},
   "outputs": [
    {
     "name": "stdout",
     "output_type": "stream",
     "text": [
      "Overwriting read_csv.py\n"
     ]
    }
   ],
   "source": [
    "%%file read_csv.py\n",
    "import pandas as pd\n",
    "def read_csv(path):\n",
    "    return pd.read_csv(path)\n"
   ]
  },
  {
   "cell_type": "code",
   "execution_count": 45,
   "metadata": {},
   "outputs": [
    {
     "name": "stdout",
     "output_type": "stream",
     "text": [
      "Wall time: 18.7 s\n"
     ]
    },
    {
     "data": {
      "text/html": [
       "<div>\n",
       "<style scoped>\n",
       "    .dataframe tbody tr th:only-of-type {\n",
       "        vertical-align: middle;\n",
       "    }\n",
       "\n",
       "    .dataframe tbody tr th {\n",
       "        vertical-align: top;\n",
       "    }\n",
       "\n",
       "    .dataframe thead th {\n",
       "        text-align: right;\n",
       "    }\n",
       "</style>\n",
       "<table border=\"1\" class=\"dataframe\">\n",
       "  <thead>\n",
       "    <tr style=\"text-align: right;\">\n",
       "      <th></th>\n",
       "      <th>vendor_id</th>\n",
       "      <th>pickup_datetime</th>\n",
       "      <th>dropoff_datetime</th>\n",
       "      <th>passenger_count</th>\n",
       "      <th>trip_distance</th>\n",
       "      <th>pickup_longitude</th>\n",
       "      <th>pickup_latitude</th>\n",
       "      <th>rate_code</th>\n",
       "      <th>store_and_fwd_flag</th>\n",
       "      <th>dropoff_longitude</th>\n",
       "      <th>dropoff_latitude</th>\n",
       "      <th>payment_type</th>\n",
       "      <th>fare_amount</th>\n",
       "      <th>surcharge</th>\n",
       "      <th>mta_tax</th>\n",
       "      <th>tip_amount</th>\n",
       "      <th>tolls_amount</th>\n",
       "      <th>total_amount</th>\n",
       "    </tr>\n",
       "  </thead>\n",
       "  <tbody>\n",
       "    <tr>\n",
       "      <td>0</td>\n",
       "      <td>VTS</td>\n",
       "      <td>2014-12-12 18:16:00</td>\n",
       "      <td>2014-12-12 18:35:00</td>\n",
       "      <td>3</td>\n",
       "      <td>4.03</td>\n",
       "      <td>-74.014050</td>\n",
       "      <td>40.711707</td>\n",
       "      <td>1</td>\n",
       "      <td>NaN</td>\n",
       "      <td>-73.995627</td>\n",
       "      <td>40.759462</td>\n",
       "      <td>CSH</td>\n",
       "      <td>16.0</td>\n",
       "      <td>1.0</td>\n",
       "      <td>0.5</td>\n",
       "      <td>0.0</td>\n",
       "      <td>0.0</td>\n",
       "      <td>17.5</td>\n",
       "    </tr>\n",
       "    <tr>\n",
       "      <td>1</td>\n",
       "      <td>VTS</td>\n",
       "      <td>2014-12-12 18:18:00</td>\n",
       "      <td>2014-12-12 18:36:00</td>\n",
       "      <td>1</td>\n",
       "      <td>4.10</td>\n",
       "      <td>-73.945877</td>\n",
       "      <td>40.780525</td>\n",
       "      <td>1</td>\n",
       "      <td>NaN</td>\n",
       "      <td>-73.972558</td>\n",
       "      <td>40.740458</td>\n",
       "      <td>CRD</td>\n",
       "      <td>15.0</td>\n",
       "      <td>1.0</td>\n",
       "      <td>0.5</td>\n",
       "      <td>4.0</td>\n",
       "      <td>0.0</td>\n",
       "      <td>20.5</td>\n",
       "    </tr>\n",
       "    <tr>\n",
       "      <td>2</td>\n",
       "      <td>VTS</td>\n",
       "      <td>2014-12-12 18:31:00</td>\n",
       "      <td>2014-12-12 18:35:00</td>\n",
       "      <td>1</td>\n",
       "      <td>0.96</td>\n",
       "      <td>-73.961450</td>\n",
       "      <td>40.796260</td>\n",
       "      <td>1</td>\n",
       "      <td>NaN</td>\n",
       "      <td>-73.955630</td>\n",
       "      <td>40.787760</td>\n",
       "      <td>CSH</td>\n",
       "      <td>5.5</td>\n",
       "      <td>1.0</td>\n",
       "      <td>0.5</td>\n",
       "      <td>0.0</td>\n",
       "      <td>0.0</td>\n",
       "      <td>7.0</td>\n",
       "    </tr>\n",
       "    <tr>\n",
       "      <td>3</td>\n",
       "      <td>VTS</td>\n",
       "      <td>2014-12-08 01:53:00</td>\n",
       "      <td>2014-12-08 01:55:00</td>\n",
       "      <td>5</td>\n",
       "      <td>0.76</td>\n",
       "      <td>-73.955280</td>\n",
       "      <td>40.768675</td>\n",
       "      <td>1</td>\n",
       "      <td>NaN</td>\n",
       "      <td>-73.948977</td>\n",
       "      <td>40.777362</td>\n",
       "      <td>CRD</td>\n",
       "      <td>4.5</td>\n",
       "      <td>0.5</td>\n",
       "      <td>0.5</td>\n",
       "      <td>1.0</td>\n",
       "      <td>0.0</td>\n",
       "      <td>6.5</td>\n",
       "    </tr>\n",
       "    <tr>\n",
       "      <td>4</td>\n",
       "      <td>VTS</td>\n",
       "      <td>2014-12-12 17:58:00</td>\n",
       "      <td>2014-12-12 18:34:00</td>\n",
       "      <td>1</td>\n",
       "      <td>11.19</td>\n",
       "      <td>-73.862690</td>\n",
       "      <td>40.768960</td>\n",
       "      <td>1</td>\n",
       "      <td>NaN</td>\n",
       "      <td>-73.745810</td>\n",
       "      <td>40.766700</td>\n",
       "      <td>CSH</td>\n",
       "      <td>35.0</td>\n",
       "      <td>1.0</td>\n",
       "      <td>0.5</td>\n",
       "      <td>0.0</td>\n",
       "      <td>0.0</td>\n",
       "      <td>36.5</td>\n",
       "    </tr>\n",
       "  </tbody>\n",
       "</table>\n",
       "</div>"
      ],
      "text/plain": [
       "  vendor_id      pickup_datetime     dropoff_datetime  passenger_count  \\\n",
       "0       VTS  2014-12-12 18:16:00  2014-12-12 18:35:00                3   \n",
       "1       VTS  2014-12-12 18:18:00  2014-12-12 18:36:00                1   \n",
       "2       VTS  2014-12-12 18:31:00  2014-12-12 18:35:00                1   \n",
       "3       VTS  2014-12-08 01:53:00  2014-12-08 01:55:00                5   \n",
       "4       VTS  2014-12-12 17:58:00  2014-12-12 18:34:00                1   \n",
       "\n",
       "   trip_distance  pickup_longitude  pickup_latitude  rate_code  \\\n",
       "0           4.03        -74.014050        40.711707          1   \n",
       "1           4.10        -73.945877        40.780525          1   \n",
       "2           0.96        -73.961450        40.796260          1   \n",
       "3           0.76        -73.955280        40.768675          1   \n",
       "4          11.19        -73.862690        40.768960          1   \n",
       "\n",
       "  store_and_fwd_flag  dropoff_longitude  dropoff_latitude payment_type  \\\n",
       "0                NaN         -73.995627         40.759462          CSH   \n",
       "1                NaN         -73.972558         40.740458          CRD   \n",
       "2                NaN         -73.955630         40.787760          CSH   \n",
       "3                NaN         -73.948977         40.777362          CRD   \n",
       "4                NaN         -73.745810         40.766700          CSH   \n",
       "\n",
       "   fare_amount  surcharge  mta_tax  tip_amount  tolls_amount  total_amount  \n",
       "0         16.0        1.0      0.5         0.0           0.0          17.5  \n",
       "1         15.0        1.0      0.5         4.0           0.0          20.5  \n",
       "2          5.5        1.0      0.5         0.0           0.0           7.0  \n",
       "3          4.5        0.5      0.5         1.0           0.0           6.5  \n",
       "4         35.0        1.0      0.5         0.0           0.0          36.5  "
      ]
     },
     "execution_count": 45,
     "metadata": {},
     "output_type": "execute_result"
    }
   ],
   "source": [
    "%%time\n",
    "\n",
    "import pandas as pd\n",
    "import multiprocessing\n",
    "from multiprocessing import Pool\n",
    "from read_csv import read_csv\n",
    "\n",
    "paths_fmt = \"taxi-1mil-rows/taxi-1mil-{:03d}.csv\"\n",
    "paths = [paths_fmt.format(i) for i in range(30)]\n",
    "\n",
    "pool = Pool(processes=multiprocessing.cpu_count())\n",
    "dfs = pool.map(read_csv, paths)\n",
    "\n",
    "df = pd.concat(dfs)\n",
    "df.head()\n"
   ]
  },
  {
   "cell_type": "code",
   "execution_count": null,
   "metadata": {},
   "outputs": [],
   "source": []
  }
 ],
 "metadata": {
  "kernelspec": {
   "display_name": "Python 3",
   "language": "python",
   "name": "python3"
  },
  "language_info": {
   "codemirror_mode": {
    "name": "ipython",
    "version": 3
   },
   "file_extension": ".py",
   "mimetype": "text/x-python",
   "name": "python",
   "nbconvert_exporter": "python",
   "pygments_lexer": "ipython3",
   "version": "3.7.4"
  }
 },
 "nbformat": 4,
 "nbformat_minor": 2
}
